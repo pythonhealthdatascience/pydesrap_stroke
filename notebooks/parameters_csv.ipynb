{
 "cells": [
  {
   "cell_type": "markdown",
   "metadata": {},
   "source": [
    "# Using parameters from csv"
   ]
  },
  {
   "cell_type": "code",
   "execution_count": 1,
   "metadata": {},
   "outputs": [],
   "source": [
    "# pylint: disable=missing-module-docstring\n",
    "import time\n",
    "\n",
    "from IPython.display import display\n",
    "import pandas as pd\n",
    "\n",
    "from simulation.parameters import (\n",
    "    ASUArrivals, RehabArrivals, ASULOS, RehabLOS,\n",
    "    ASURouting, RehabRouting, Param\n",
    ")"
   ]
  },
  {
   "cell_type": "code",
   "execution_count": 2,
   "metadata": {},
   "outputs": [],
   "source": [
    "# Start timer\n",
    "start_time = time.time()"
   ]
  },
  {
   "cell_type": "markdown",
   "metadata": {},
   "source": [
    "## Creating parameter class\n",
    "\n",
    "We can set up classes based on CSV, replacing the default inputs with those from the csv.\n",
    "\n",
    "If you were only planning to use parameters from csv, then you could remove the default inputs from the classes in `parameters.py` altogether."
   ]
  },
  {
   "cell_type": "code",
   "execution_count": 3,
   "metadata": {},
   "outputs": [],
   "source": [
    "def init_param_class(df, unit, parameter, param_class):\n",
    "    \"\"\"\n",
    "    Instantiate a parameter class using values from a DataFrame.\n",
    "\n",
    "    Parameters\n",
    "    ----------\n",
    "    df : pd.DataFrame\n",
    "        Dataframe with columns \"unit\", \"parameter\", \"type\", \"mean\" and \"sd\".\n",
    "    unit : str\n",
    "        Unit name to filter by (\"asu\" or \"rehab\").\n",
    "    parameter : str\n",
    "        Parameter name to filter by (\"iat\", \"los\" or \"routing\").\n",
    "    param_class: class\n",
    "        Class to instantiate.\n",
    "\n",
    "    Returns\n",
    "    -------\n",
    "    object\n",
    "        An instance of param_class initialised with parameters from the\n",
    "        DataFrame.\n",
    "    \"\"\"\n",
    "    # Filter data to the specified unit and parameter\n",
    "    df_subset = df[(df[\"unit\"] == unit) & (df[\"parameter\"] == parameter)]\n",
    "\n",
    "    # If all SD values are missing, create a dict: {type: mean}\n",
    "    if df_subset[\"sd\"].isnull().all():\n",
    "        param_dict = df_subset.set_index(\"type\")[\"mean\"].to_dict()\n",
    "    # Otherwise, create a nested dict with mean and SD for each type\n",
    "    else:\n",
    "        param_dict = {}\n",
    "        for _, row in df_subset.iterrows():\n",
    "            param_dict[f\"{row[\"type\"]}_mean\"] = row[\"mean\"]\n",
    "            param_dict[f\"{row[\"type\"]}_sd\"] = row[\"sd\"]\n",
    "\n",
    "    # Instantiate parameter class using dict\n",
    "    return param_class(**param_dict)\n",
    "\n",
    "\n",
    "\n",
    "def setup_param_from_csv(csv_path):\n",
    "    \"\"\"\n",
    "    Create a Param instance using parameter values loaded from a CSV file.\n",
    "\n",
    "    Parameters\n",
    "    ----------\n",
    "    csv_path : str\n",
    "        Path to csv file containing the parameters. Should have columns \"unit\",\n",
    "        \"parameter\", \"type\", \"mean\" and \"sd\". Missing values should be marked\n",
    "        as \"NA\".\n",
    "\n",
    "    Returns\n",
    "    -------\n",
    "    Param\n",
    "        An instance of Param initialised with the parameters from the CSV file.\n",
    "    \"\"\"\n",
    "    # Load parameter data from CSV, treating \"NA\" as missing values\n",
    "    df = pd.read_csv(csv_path, na_values=[\"NA\"])\n",
    "\n",
    "    # Specify mapping of Param() arguments to their corresponding units,\n",
    "    # parameter types, and parameter classes\n",
    "    param_specs = [\n",
    "        (\"asu_arrivals\", \"asu\", \"iat\", ASUArrivals),\n",
    "        (\"rehab_arrivals\", \"rehab\", \"iat\", RehabArrivals),\n",
    "        (\"asu_los\", \"asu\", \"los\", ASULOS),\n",
    "        (\"rehab_los\", \"rehab\", \"los\", RehabLOS),\n",
    "        (\"asu_routing\", \"asu\", \"routing\", ASURouting),\n",
    "        (\"rehab_routing\", \"rehab\", \"routing\", RehabRouting),\n",
    "    ]\n",
    "\n",
    "    # Instantiate each parameter class and store in a dictionary\n",
    "    param_kwargs = {\n",
    "        name: init_param_class(\n",
    "            df=df, unit=unit, parameter=parameter, param_class=param_class)\n",
    "        for name, unit, parameter, param_class in param_specs\n",
    "    }\n",
    "\n",
    "    # Return a Param instance initialised with all parameter classes\n",
    "    return Param(**param_kwargs)"
   ]
  },
  {
   "cell_type": "code",
   "execution_count": 4,
   "metadata": {},
   "outputs": [
    {
     "data": {
      "text/plain": [
       "{'asu_arrivals': <simulation.parameters.ASUArrivals at 0x72fbe5d7e850>,\n",
       " 'rehab_arrivals': <simulation.parameters.RehabArrivals at 0x72fbe5d7e990>,\n",
       " 'asu_los': <simulation.parameters.ASULOS at 0x72fb224c2710>,\n",
       " 'rehab_los': <simulation.parameters.RehabLOS at 0x72fb223ecf50>,\n",
       " 'asu_routing': <simulation.parameters.ASURouting at 0x72fb223ed090>,\n",
       " 'rehab_routing': <simulation.parameters.RehabRouting at 0x72fb223582d0>,\n",
       " 'warm_up_period': 1095,\n",
       " 'data_collection_period': 1825,\n",
       " 'number_of_runs': 150,\n",
       " 'audit_interval': 1,\n",
       " 'cores': 1,\n",
       " 'logger': <simulation.logging.SimLogger at 0x72fb221acad0>,\n",
       " '_initialised': True}"
      ]
     },
     "metadata": {},
     "output_type": "display_data"
    }
   ],
   "source": [
    "display(setup_param_from_csv(csv_path=\"../inputs/parameters.csv\").__dict__)"
   ]
  },
  {
   "cell_type": "markdown",
   "metadata": {},
   "source": [
    "## Run time"
   ]
  },
  {
   "cell_type": "code",
   "execution_count": 5,
   "metadata": {},
   "outputs": [
    {
     "name": "stdout",
     "output_type": "stream",
     "text": [
      "Notebook run time: 0m 0s\n"
     ]
    }
   ],
   "source": [
    "# Get run time in seconds\n",
    "end_time = time.time()\n",
    "runtime = round(end_time - start_time)\n",
    "\n",
    "# Display converted to minutes and seconds\n",
    "print(f'Notebook run time: {runtime // 60}m {runtime % 60}s')"
   ]
  }
 ],
 "metadata": {
  "kernelspec": {
   "display_name": "stroke-rap-python",
   "language": "python",
   "name": "python3"
  },
  "language_info": {
   "codemirror_mode": {
    "name": "ipython",
    "version": 3
   },
   "file_extension": ".py",
   "mimetype": "text/x-python",
   "name": "python",
   "nbconvert_exporter": "python",
   "pygments_lexer": "ipython3",
   "version": "3.13.1"
  }
 },
 "nbformat": 4,
 "nbformat_minor": 2
}
