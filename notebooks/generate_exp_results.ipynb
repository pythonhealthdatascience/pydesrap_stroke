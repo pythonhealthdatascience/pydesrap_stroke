{
 "cells": [
  {
   "cell_type": "markdown",
   "metadata": {},
   "source": [
    "# Generate expected results for back tests\n",
    "\n",
    "They save results to `.csv` and use these to verify that the model produces consistent results."
   ]
  },
  {
   "cell_type": "code",
   "execution_count": 1,
   "metadata": {},
   "outputs": [],
   "source": [
    "# pylint: disable=missing-module-docstring\n",
    "%load_ext autoreload\n",
    "%autoreload 1\n",
    "%aimport simulation\n",
    "\n",
    "# pylint: disable=wrong-import-position\n",
    "import os\n",
    "import time\n",
    "\n",
    "from IPython.display import display\n",
    "import pandas as pd\n",
    "\n",
    "from simulation import Model, Param, Runner"
   ]
  },
  {
   "cell_type": "code",
   "execution_count": 2,
   "metadata": {},
   "outputs": [],
   "source": [
    "# Start timer\n",
    "start_time = time.time()"
   ]
  },
  {
   "cell_type": "code",
   "execution_count": 3,
   "metadata": {},
   "outputs": [],
   "source": [
    "# Define path to folder for expected results for tests\n",
    "TESTS = \"../tests/exp_results/\""
   ]
  },
  {
   "cell_type": "markdown",
   "metadata": {},
   "source": [
    "The raw `audit_list` from a single run of the model (converted to a dataframe)."
   ]
  },
  {
   "cell_type": "code",
   "execution_count": 4,
   "metadata": {},
   "outputs": [
    {
     "data": {
      "text/html": [
       "<div>\n",
       "<style scoped>\n",
       "    .dataframe tbody tr th:only-of-type {\n",
       "        vertical-align: middle;\n",
       "    }\n",
       "\n",
       "    .dataframe tbody tr th {\n",
       "        vertical-align: top;\n",
       "    }\n",
       "\n",
       "    .dataframe thead th {\n",
       "        text-align: right;\n",
       "    }\n",
       "</style>\n",
       "<table border=\"1\" class=\"dataframe\">\n",
       "  <thead>\n",
       "    <tr style=\"text-align: right;\">\n",
       "      <th></th>\n",
       "      <th>time</th>\n",
       "      <th>asu_occupancy</th>\n",
       "      <th>rehab_occupancy</th>\n",
       "    </tr>\n",
       "  </thead>\n",
       "  <tbody>\n",
       "    <tr>\n",
       "      <th>0</th>\n",
       "      <td>1095</td>\n",
       "      <td>8</td>\n",
       "      <td>16</td>\n",
       "    </tr>\n",
       "    <tr>\n",
       "      <th>1</th>\n",
       "      <td>1096</td>\n",
       "      <td>7</td>\n",
       "      <td>16</td>\n",
       "    </tr>\n",
       "    <tr>\n",
       "      <th>2</th>\n",
       "      <td>1097</td>\n",
       "      <td>5</td>\n",
       "      <td>16</td>\n",
       "    </tr>\n",
       "    <tr>\n",
       "      <th>3</th>\n",
       "      <td>1098</td>\n",
       "      <td>3</td>\n",
       "      <td>15</td>\n",
       "    </tr>\n",
       "    <tr>\n",
       "      <th>4</th>\n",
       "      <td>1099</td>\n",
       "      <td>6</td>\n",
       "      <td>15</td>\n",
       "    </tr>\n",
       "  </tbody>\n",
       "</table>\n",
       "</div>"
      ],
      "text/plain": [
       "   time  asu_occupancy  rehab_occupancy\n",
       "0  1095              8               16\n",
       "1  1096              7               16\n",
       "2  1097              5               16\n",
       "3  1098              3               15\n",
       "4  1099              6               15"
      ]
     },
     "metadata": {},
     "output_type": "display_data"
    }
   ],
   "source": [
    "# Run model\n",
    "model = Model(param=Param(), run_number=0)\n",
    "model.run()\n",
    "\n",
    "# Convert audit list to dataframe and preview\n",
    "audit_list = pd.DataFrame(model.audit_list)\n",
    "display(audit_list.head())\n",
    "\n",
    "# Save to csv\n",
    "audit_list.to_csv(os.path.join(TESTS, \"audit_list.csv\"), index=False)"
   ]
  },
  {
   "cell_type": "markdown",
   "metadata": {},
   "source": [
    "The dataframes returned by `run_single()` from `Runner`, from a single replication."
   ]
  },
  {
   "cell_type": "code",
   "execution_count": 5,
   "metadata": {},
   "outputs": [
    {
     "data": {
      "text/html": [
       "<div>\n",
       "<style scoped>\n",
       "    .dataframe tbody tr th:only-of-type {\n",
       "        vertical-align: middle;\n",
       "    }\n",
       "\n",
       "    .dataframe tbody tr th {\n",
       "        vertical-align: top;\n",
       "    }\n",
       "\n",
       "    .dataframe thead th {\n",
       "        text-align: right;\n",
       "    }\n",
       "</style>\n",
       "<table border=\"1\" class=\"dataframe\">\n",
       "  <thead>\n",
       "    <tr style=\"text-align: right;\">\n",
       "      <th></th>\n",
       "      <th>beds</th>\n",
       "      <th>freq</th>\n",
       "      <th>pct</th>\n",
       "      <th>c_pct</th>\n",
       "      <th>prob_delay</th>\n",
       "      <th>1_in_n_delay</th>\n",
       "    </tr>\n",
       "  </thead>\n",
       "  <tbody>\n",
       "    <tr>\n",
       "      <th>0</th>\n",
       "      <td>1</td>\n",
       "      <td>2</td>\n",
       "      <td>0.001096</td>\n",
       "      <td>0.001096</td>\n",
       "      <td>1.000000</td>\n",
       "      <td>1.0</td>\n",
       "    </tr>\n",
       "    <tr>\n",
       "      <th>1</th>\n",
       "      <td>2</td>\n",
       "      <td>14</td>\n",
       "      <td>0.007671</td>\n",
       "      <td>0.008767</td>\n",
       "      <td>0.875000</td>\n",
       "      <td>1.0</td>\n",
       "    </tr>\n",
       "    <tr>\n",
       "      <th>2</th>\n",
       "      <td>3</td>\n",
       "      <td>72</td>\n",
       "      <td>0.039452</td>\n",
       "      <td>0.048219</td>\n",
       "      <td>0.818182</td>\n",
       "      <td>1.0</td>\n",
       "    </tr>\n",
       "    <tr>\n",
       "      <th>3</th>\n",
       "      <td>4</td>\n",
       "      <td>101</td>\n",
       "      <td>0.055342</td>\n",
       "      <td>0.103562</td>\n",
       "      <td>0.534392</td>\n",
       "      <td>2.0</td>\n",
       "    </tr>\n",
       "    <tr>\n",
       "      <th>4</th>\n",
       "      <td>5</td>\n",
       "      <td>185</td>\n",
       "      <td>0.101370</td>\n",
       "      <td>0.204932</td>\n",
       "      <td>0.494652</td>\n",
       "      <td>2.0</td>\n",
       "    </tr>\n",
       "  </tbody>\n",
       "</table>\n",
       "</div>"
      ],
      "text/plain": [
       "   beds  freq       pct     c_pct  prob_delay  1_in_n_delay\n",
       "0     1     2  0.001096  0.001096    1.000000           1.0\n",
       "1     2    14  0.007671  0.008767    0.875000           1.0\n",
       "2     3    72  0.039452  0.048219    0.818182           1.0\n",
       "3     4   101  0.055342  0.103562    0.534392           2.0\n",
       "4     5   185  0.101370  0.204932    0.494652           2.0"
      ]
     },
     "metadata": {},
     "output_type": "display_data"
    },
    {
     "data": {
      "text/html": [
       "<div>\n",
       "<style scoped>\n",
       "    .dataframe tbody tr th:only-of-type {\n",
       "        vertical-align: middle;\n",
       "    }\n",
       "\n",
       "    .dataframe tbody tr th {\n",
       "        vertical-align: top;\n",
       "    }\n",
       "\n",
       "    .dataframe thead th {\n",
       "        text-align: right;\n",
       "    }\n",
       "</style>\n",
       "<table border=\"1\" class=\"dataframe\">\n",
       "  <thead>\n",
       "    <tr style=\"text-align: right;\">\n",
       "      <th></th>\n",
       "      <th>beds</th>\n",
       "      <th>freq</th>\n",
       "      <th>pct</th>\n",
       "      <th>c_pct</th>\n",
       "      <th>prob_delay</th>\n",
       "      <th>1_in_n_delay</th>\n",
       "    </tr>\n",
       "  </thead>\n",
       "  <tbody>\n",
       "    <tr>\n",
       "      <th>0</th>\n",
       "      <td>1</td>\n",
       "      <td>7</td>\n",
       "      <td>0.003836</td>\n",
       "      <td>0.003836</td>\n",
       "      <td>1.000000</td>\n",
       "      <td>1.0</td>\n",
       "    </tr>\n",
       "    <tr>\n",
       "      <th>1</th>\n",
       "      <td>2</td>\n",
       "      <td>5</td>\n",
       "      <td>0.002740</td>\n",
       "      <td>0.006575</td>\n",
       "      <td>0.416667</td>\n",
       "      <td>2.0</td>\n",
       "    </tr>\n",
       "    <tr>\n",
       "      <th>2</th>\n",
       "      <td>3</td>\n",
       "      <td>26</td>\n",
       "      <td>0.014247</td>\n",
       "      <td>0.020822</td>\n",
       "      <td>0.684211</td>\n",
       "      <td>1.0</td>\n",
       "    </tr>\n",
       "    <tr>\n",
       "      <th>3</th>\n",
       "      <td>4</td>\n",
       "      <td>64</td>\n",
       "      <td>0.035068</td>\n",
       "      <td>0.055890</td>\n",
       "      <td>0.627451</td>\n",
       "      <td>2.0</td>\n",
       "    </tr>\n",
       "    <tr>\n",
       "      <th>4</th>\n",
       "      <td>5</td>\n",
       "      <td>113</td>\n",
       "      <td>0.061918</td>\n",
       "      <td>0.117808</td>\n",
       "      <td>0.525581</td>\n",
       "      <td>2.0</td>\n",
       "    </tr>\n",
       "  </tbody>\n",
       "</table>\n",
       "</div>"
      ],
      "text/plain": [
       "   beds  freq       pct     c_pct  prob_delay  1_in_n_delay\n",
       "0     1     7  0.003836  0.003836    1.000000           1.0\n",
       "1     2     5  0.002740  0.006575    0.416667           2.0\n",
       "2     3    26  0.014247  0.020822    0.684211           1.0\n",
       "3     4    64  0.035068  0.055890    0.627451           2.0\n",
       "4     5   113  0.061918  0.117808    0.525581           2.0"
      ]
     },
     "metadata": {},
     "output_type": "display_data"
    }
   ],
   "source": [
    "# Run model\n",
    "runner = Runner(param=Param())\n",
    "runner_df = runner.run_single(run=0)\n",
    "\n",
    "# Preview the dataframes\n",
    "display(runner_df[\"asu\"].head())\n",
    "display(runner_df[\"rehab\"].head())\n",
    "\n",
    "# Save to csv\n",
    "runner_df[\"asu\"].to_csv(os.path.join(TESTS, \"asu_occupancy.csv\"), index=False)\n",
    "runner_df[\"rehab\"].to_csv(os.path.join(TESTS, \"rehab_occupancy.csv\"),\n",
    "                          index=False)"
   ]
  },
  {
   "cell_type": "markdown",
   "metadata": {},
   "source": [
    "## Run time"
   ]
  },
  {
   "cell_type": "code",
   "execution_count": 6,
   "metadata": {},
   "outputs": [
    {
     "name": "stdout",
     "output_type": "stream",
     "text": [
      "Notebook run time: 0m 0s\n"
     ]
    }
   ],
   "source": [
    "# Get run time in seconds\n",
    "end_time = time.time()\n",
    "runtime = round(end_time - start_time)\n",
    "\n",
    "# Display converted to minutes and seconds\n",
    "print(f'Notebook run time: {runtime // 60}m {runtime % 60}s')"
   ]
  }
 ],
 "metadata": {
  "kernelspec": {
   "display_name": "pydesrapstroke",
   "language": "python",
   "name": "python3"
  },
  "language_info": {
   "codemirror_mode": {
    "name": "ipython",
    "version": 3
   },
   "file_extension": ".py",
   "mimetype": "text/x-python",
   "name": "python",
   "nbconvert_exporter": "python",
   "pygments_lexer": "ipython3",
   "version": "3.13.1"
  }
 },
 "nbformat": 4,
 "nbformat_minor": 2
}
