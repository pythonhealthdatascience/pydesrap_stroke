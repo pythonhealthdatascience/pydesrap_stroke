{
 "cells": [
  {
   "cell_type": "markdown",
   "metadata": {},
   "source": [
    "# Logs\n",
    "\n",
    "This notebook provides an example run of the model with logging enabled, so you can easily see what the logs look like."
   ]
  },
  {
   "cell_type": "code",
   "execution_count": 1,
   "metadata": {},
   "outputs": [],
   "source": [
    "# pylint: disable=missing-module-docstring\n",
    "import time\n",
    "\n",
    "from simulation import Param, Runner"
   ]
  },
  {
   "cell_type": "code",
   "execution_count": 2,
   "metadata": {},
   "outputs": [],
   "source": [
    "# Start timer\n",
    "start_time = time.time()"
   ]
  },
  {
   "cell_type": "markdown",
   "metadata": {},
   "source": [
    "## Example run with logs"
   ]
  },
  {
   "cell_type": "code",
   "execution_count": 3,
   "metadata": {},
   "outputs": [
    {
     "name": "stdout",
     "output_type": "stream",
     "text": [
      "\u001b[1;36m0.000\u001b[0m: Initialise model:                                                                                           \n",
      "                                                                                                                   \n"
     ]
    },
    {
     "name": "stdout",
     "output_type": "stream",
     "text": [
      "\u001b[1m{\u001b[0m   \u001b[32m'asu_occupancy'\u001b[0m: \u001b[1;36m0\u001b[0m,                                                                                            \n",
      "    \u001b[32m'audit_interval'\u001b[0m: \u001b[1;36m1\u001b[0m,                                                                                           \n",
      "    \u001b[32m'audit_list'\u001b[0m: \u001b[1m[\u001b[0m\u001b[1m]\u001b[0m,                                                                                              \n",
      "    \u001b[32m'dist'\u001b[0m: \u001b[1m{\u001b[0m   \u001b[32m'arrival'\u001b[0m: \u001b[1m{\u001b[0m   \u001b[32m'asu'\u001b[0m: \u001b[1m{\u001b[0m   \u001b[32m'neuro'\u001b[0m: \u001b[1;35mExponential\u001b[0m\u001b[1m(\u001b[0m\u001b[33mmean\u001b[0m=\u001b[1;36m3\u001b[0m\u001b[1;36m.6\u001b[0m\u001b[1m)\u001b[0m,                                          \n",
      "                                          \u001b[32m'other'\u001b[0m: \u001b[1;35mExponential\u001b[0m\u001b[1m(\u001b[0m\u001b[33mmean\u001b[0m=\u001b[1;36m3\u001b[0m\u001b[1;36m.2\u001b[0m\u001b[1m)\u001b[0m,                                          \n",
      "                                          \u001b[32m'stroke'\u001b[0m: \u001b[1;35mExponential\u001b[0m\u001b[1m(\u001b[0m\u001b[33mmean\u001b[0m=\u001b[1;36m1\u001b[0m\u001b[1;36m.2\u001b[0m\u001b[1m)\u001b[0m,                                         \n",
      "                                          \u001b[32m'tia'\u001b[0m: \u001b[1;35mExponential\u001b[0m\u001b[1m(\u001b[0m\u001b[33mmean\u001b[0m=\u001b[1;36m9\u001b[0m\u001b[1;36m.3\u001b[0m\u001b[1m)\u001b[0m\u001b[1m}\u001b[0m,                                           \n",
      "                               \u001b[32m'rehab'\u001b[0m: \u001b[1m{\u001b[0m   \u001b[32m'neuro'\u001b[0m: \u001b[1;35mExponential\u001b[0m\u001b[1m(\u001b[0m\u001b[33mmean\u001b[0m=\u001b[1;36m31\u001b[0m\u001b[1;36m.7\u001b[0m\u001b[1m)\u001b[0m,                                       \n",
      "                                            \u001b[32m'other'\u001b[0m: \u001b[1;35mExponential\u001b[0m\u001b[1m(\u001b[0m\u001b[33mmean\u001b[0m=\u001b[1;36m28\u001b[0m\u001b[1;36m.6\u001b[0m\u001b[1m)\u001b[0m,                                       \n",
      "                                            \u001b[32m'stroke'\u001b[0m: \u001b[1;35mExponential\u001b[0m\u001b[1m(\u001b[0m\u001b[33mmean\u001b[0m=\u001b[1;36m21\u001b[0m\u001b[1;36m.8\u001b[0m\u001b[1m)\u001b[0m\u001b[1m}\u001b[0m\u001b[1m}\u001b[0m,                                    \n",
      "                \u001b[32m'los'\u001b[0m: \u001b[1m{\u001b[0m   \u001b[32m'asu'\u001b[0m: \u001b[1m{\u001b[0m   \u001b[32m'neuro'\u001b[0m: \u001b[1;35mLognormal\u001b[0m\u001b[1m(\u001b[0m\u001b[33mmean\u001b[0m=\u001b[1;36m4\u001b[0m\u001b[1;36m.0\u001b[0m, \u001b[33mstdev\u001b[0m=\u001b[1;36m5\u001b[0m\u001b[1;36m.0\u001b[0m\u001b[1m)\u001b[0m,                                     \n",
      "                                      \u001b[32m'other'\u001b[0m: \u001b[1;35mLognormal\u001b[0m\u001b[1m(\u001b[0m\u001b[33mmean\u001b[0m=\u001b[1;36m3\u001b[0m\u001b[1;36m.8\u001b[0m, \u001b[33mstdev\u001b[0m=\u001b[1;36m5\u001b[0m\u001b[1;36m.2\u001b[0m\u001b[1m)\u001b[0m,                                     \n",
      "                                      \u001b[32m'stroke_esd'\u001b[0m: \u001b[1;35mLognormal\u001b[0m\u001b[1m(\u001b[0m\u001b[33mmean\u001b[0m=\u001b[1;36m4\u001b[0m\u001b[1;36m.6\u001b[0m, \u001b[33mstdev\u001b[0m=\u001b[1;36m4\u001b[0m\u001b[1;36m.8\u001b[0m\u001b[1m)\u001b[0m,                                \n",
      "                                      \u001b[32m'stroke_mortality'\u001b[0m: \u001b[1;35mLognormal\u001b[0m\u001b[1m(\u001b[0m\u001b[33mmean\u001b[0m=\u001b[1;36m7\u001b[0m\u001b[1;36m.0\u001b[0m, \u001b[33mstdev\u001b[0m=\u001b[1;36m8\u001b[0m\u001b[1;36m.7\u001b[0m\u001b[1m)\u001b[0m,                          \n",
      "                                      \u001b[32m'stroke_noesd'\u001b[0m: \u001b[1;35mLognormal\u001b[0m\u001b[1m(\u001b[0m\u001b[33mmean\u001b[0m=\u001b[1;36m7\u001b[0m\u001b[1;36m.4\u001b[0m, \u001b[33mstdev\u001b[0m=\u001b[1;36m8\u001b[0m\u001b[1;36m.61\u001b[0m\u001b[1m)\u001b[0m,                             \n",
      "                                      \u001b[32m'tia'\u001b[0m: \u001b[1;35mLognormal\u001b[0m\u001b[1m(\u001b[0m\u001b[33mmean\u001b[0m=\u001b[1;36m1\u001b[0m\u001b[1;36m.8\u001b[0m, \u001b[33mstdev\u001b[0m=\u001b[1;36m2\u001b[0m\u001b[1;36m.3\u001b[0m\u001b[1m)\u001b[0m\u001b[1m}\u001b[0m,                                      \n",
      "                           \u001b[32m'rehab'\u001b[0m: \u001b[1m{\u001b[0m   \u001b[32m'neuro'\u001b[0m: \u001b[1;35mLognormal\u001b[0m\u001b[1m(\u001b[0m\u001b[33mmean\u001b[0m=\u001b[1;36m27\u001b[0m\u001b[1;36m.6\u001b[0m, \u001b[33mstdev\u001b[0m=\u001b[1;36m28\u001b[0m\u001b[1;36m.4\u001b[0m\u001b[1m)\u001b[0m,                                 \n",
      "                                        \u001b[32m'other'\u001b[0m: \u001b[1;35mLognormal\u001b[0m\u001b[1m(\u001b[0m\u001b[33mmean\u001b[0m=\u001b[1;36m16\u001b[0m\u001b[1;36m.1\u001b[0m, \u001b[33mstdev\u001b[0m=\u001b[1;36m14\u001b[0m\u001b[1;36m.1\u001b[0m\u001b[1m)\u001b[0m,                                 \n",
      "                                        \u001b[32m'stroke_esd'\u001b[0m: \u001b[1;35mLognormal\u001b[0m\u001b[1m(\u001b[0m\u001b[33mmean\u001b[0m=\u001b[1;36m30\u001b[0m\u001b[1;36m.3\u001b[0m, \u001b[33mstdev\u001b[0m=\u001b[1;36m23\u001b[0m\u001b[1;36m.1\u001b[0m\u001b[1m)\u001b[0m,                            \n",
      "                                        \u001b[32m'stroke_noesd'\u001b[0m: \u001b[1;35mLognormal\u001b[0m\u001b[1m(\u001b[0m\u001b[33mmean\u001b[0m=\u001b[1;36m28\u001b[0m\u001b[1;36m.4\u001b[0m, \u001b[33mstdev\u001b[0m=\u001b[1;36m27\u001b[0m\u001b[1;36m.2\u001b[0m\u001b[1m)\u001b[0m,                          \n",
      "                                        \u001b[32m'tia'\u001b[0m: \u001b[1;35mLognormal\u001b[0m\u001b[1m(\u001b[0m\u001b[33mmean\u001b[0m=\u001b[1;36m18\u001b[0m\u001b[1;36m.7\u001b[0m, \u001b[33mstdev\u001b[0m=\u001b[1;36m23\u001b[0m\u001b[1;36m.5\u001b[0m\u001b[1m)\u001b[0m\u001b[1m}\u001b[0m\u001b[1m}\u001b[0m,                                 \n",
      "                \u001b[32m'routing'\u001b[0m: \u001b[1m{\u001b[0m   \u001b[32m'asu'\u001b[0m: \u001b[1m{\u001b[0m   \u001b[32m'neuro'\u001b[0m: \u001b[1;35mDiscrete\u001b[0m\u001b[1m(\u001b[0m\u001b[33mvalues\u001b[0m=\u001b[1m[\u001b[0m\u001b[32m'rehab'\u001b[0m, \u001b[32m'esd'\u001b[0m, \u001b[32m'other'\u001b[0m\u001b[1m]\u001b[0m, \u001b[33mfreq\u001b[0m=\u001b[1m[\u001b[0m\u001b[1;36m0.11\u001b[0m, \u001b[1;36m0.05\u001b[0m,    \n",
      "\u001b[1;36m0.84\u001b[0m\u001b[1m]\u001b[0m\u001b[1m)\u001b[0m,                                                                                                            \n",
      "                                          \u001b[32m'other'\u001b[0m: \u001b[1;35mDiscrete\u001b[0m\u001b[1m(\u001b[0m\u001b[33mvalues\u001b[0m=\u001b[1m[\u001b[0m\u001b[32m'rehab'\u001b[0m, \u001b[32m'esd'\u001b[0m, \u001b[32m'other'\u001b[0m\u001b[1m]\u001b[0m, \u001b[33mfreq\u001b[0m=\u001b[1m[\u001b[0m\u001b[1;36m0.05\u001b[0m, \u001b[1;36m0.1\u001b[0m,     \n",
      "\u001b[1;36m0.85\u001b[0m\u001b[1m]\u001b[0m\u001b[1m)\u001b[0m,                                                                                                            \n",
      "                                          \u001b[32m'stroke'\u001b[0m: \u001b[1;35mDiscrete\u001b[0m\u001b[1m(\u001b[0m\u001b[33mvalues\u001b[0m=\u001b[1m[\u001b[0m\u001b[32m'rehab'\u001b[0m, \u001b[32m'esd'\u001b[0m, \u001b[32m'other'\u001b[0m\u001b[1m]\u001b[0m, \u001b[33mfreq\u001b[0m=\u001b[1m[\u001b[0m\u001b[1;36m0.24\u001b[0m, \u001b[1;36m0.13\u001b[0m,   \n",
      "\u001b[1;36m0.63\u001b[0m\u001b[1m]\u001b[0m\u001b[1m)\u001b[0m,                                                                                                            \n",
      "                                          \u001b[32m'tia'\u001b[0m: \u001b[1;35mDiscrete\u001b[0m\u001b[1m(\u001b[0m\u001b[33mvalues\u001b[0m=\u001b[1m[\u001b[0m\u001b[32m'rehab'\u001b[0m, \u001b[32m'esd'\u001b[0m, \u001b[32m'other'\u001b[0m\u001b[1m]\u001b[0m, \u001b[33mfreq\u001b[0m=\u001b[1m[\u001b[0m\u001b[1;36m0.01\u001b[0m, \u001b[1;36m0.01\u001b[0m,      \n",
      "\u001b[1;36m0.98\u001b[0m\u001b[1m]\u001b[0m\u001b[1m)\u001b[0m\u001b[1m}\u001b[0m,                                                                                                           \n",
      "                               \u001b[32m'rehab'\u001b[0m: \u001b[1m{\u001b[0m   \u001b[32m'neuro'\u001b[0m: \u001b[1;35mDiscrete\u001b[0m\u001b[1m(\u001b[0m\u001b[33mvalues\u001b[0m=\u001b[1m[\u001b[0m\u001b[32m'esd'\u001b[0m, \u001b[32m'other'\u001b[0m\u001b[1m]\u001b[0m, \u001b[33mfreq\u001b[0m=\u001b[1m[\u001b[0m\u001b[1;36m0.09\u001b[0m, \u001b[1;36m0.91\u001b[0m\u001b[1m]\u001b[0m\u001b[1m)\u001b[0m,         \n",
      "                                            \u001b[32m'other'\u001b[0m: \u001b[1;35mDiscrete\u001b[0m\u001b[1m(\u001b[0m\u001b[33mvalues\u001b[0m=\u001b[1m[\u001b[0m\u001b[32m'esd'\u001b[0m, \u001b[32m'other'\u001b[0m\u001b[1m]\u001b[0m, \u001b[33mfreq\u001b[0m=\u001b[1m[\u001b[0m\u001b[1;36m0.13\u001b[0m, \u001b[1;36m0.88\u001b[0m\u001b[1m]\u001b[0m\u001b[1m)\u001b[0m,         \n",
      "                                            \u001b[32m'stroke'\u001b[0m: \u001b[1;35mDiscrete\u001b[0m\u001b[1m(\u001b[0m\u001b[33mvalues\u001b[0m=\u001b[1m[\u001b[0m\u001b[32m'esd'\u001b[0m, \u001b[32m'other'\u001b[0m\u001b[1m]\u001b[0m, \u001b[33mfreq\u001b[0m=\u001b[1m[\u001b[0m\u001b[1;36m0.4\u001b[0m, \u001b[1;36m0.6\u001b[0m\u001b[1m]\u001b[0m\u001b[1m)\u001b[0m,          \n",
      "                                            \u001b[32m'tia'\u001b[0m: \u001b[1;35mDiscrete\u001b[0m\u001b[1m(\u001b[0m\u001b[33mvalues\u001b[0m=\u001b[1m[\u001b[0m\u001b[32m'other'\u001b[0m\u001b[1m]\u001b[0m, \u001b[33mfreq\u001b[0m=\u001b[1m[\u001b[0m\u001b[1;36m1.0\u001b[0m\u001b[1m]\u001b[0m\u001b[1m)\u001b[0m\u001b[1m}\u001b[0m\u001b[1m}\u001b[0m\u001b[1m}\u001b[0m,                      \n",
      "    \u001b[32m'env'\u001b[0m: \u001b[1m<\u001b[0m\u001b[1;95msimpy.core.Environment\u001b[0m\u001b[39m object at \u001b[0m\u001b[1;36m0x73560a6756a0\u001b[0m\u001b[39m>,\u001b[0m                                                      \n",
      "\u001b[39m    \u001b[0m\u001b[32m'param'\u001b[0m\u001b[39m: <simulation.parameters.Param object at \u001b[0m\u001b[1;36m0x7356cadaeba0\u001b[0m\u001b[1m>\u001b[0m,                                               \n",
      "    \u001b[32m'patients'\u001b[0m: \u001b[1m[\u001b[0m\u001b[1m]\u001b[0m,                                                                                                \n",
      "    \u001b[32m'rehab_occupancy'\u001b[0m: \u001b[1;36m0\u001b[0m,                                                                                          \n",
      "    \u001b[32m'run_number'\u001b[0m: \u001b[1;36m0\u001b[0m\u001b[1m}\u001b[0m                                                                                               \n"
     ]
    },
    {
     "name": "stdout",
     "output_type": "stream",
     "text": [
      "Parameters:                                                                                                        \n",
      "                                                                                                                   \n"
     ]
    },
    {
     "name": "stdout",
     "output_type": "stream",
     "text": [
      "\u001b[1m{\u001b[0m   \u001b[32m'_initialised'\u001b[0m: \u001b[3;92mTrue\u001b[0m,                                                                                          \n",
      "    \u001b[32m'audit_interval'\u001b[0m: \u001b[1;36m1\u001b[0m,                                                                                           \n",
      "    \u001b[32m'cores'\u001b[0m: \u001b[1;36m1\u001b[0m,                                                                                                    \n",
      "    \u001b[32m'data_collection_period'\u001b[0m: \u001b[1;36m40\u001b[0m,                                                                                  \n",
      "    \u001b[32m'dist_config'\u001b[0m: \u001b[1m{\u001b[0m   \u001b[32m'asu_arrival_neuro'\u001b[0m: \u001b[1m{\u001b[0m   \u001b[32m'class_name'\u001b[0m: \u001b[32m'Exponential'\u001b[0m,                                       \n",
      "                                                \u001b[32m'params'\u001b[0m: \u001b[1m{\u001b[0m\u001b[32m'mean'\u001b[0m: \u001b[1;36m3.6\u001b[0m\u001b[1m}\u001b[0m\u001b[1m}\u001b[0m,                                          \n",
      "                       \u001b[32m'asu_arrival_other'\u001b[0m: \u001b[1m{\u001b[0m   \u001b[32m'class_name'\u001b[0m: \u001b[32m'Exponential'\u001b[0m,                                       \n",
      "                                                \u001b[32m'params'\u001b[0m: \u001b[1m{\u001b[0m\u001b[32m'mean'\u001b[0m: \u001b[1;36m3.2\u001b[0m\u001b[1m}\u001b[0m\u001b[1m}\u001b[0m,                                          \n",
      "                       \u001b[32m'asu_arrival_stroke'\u001b[0m: \u001b[1m{\u001b[0m   \u001b[32m'class_name'\u001b[0m: \u001b[32m'Exponential'\u001b[0m,                                      \n",
      "                                                 \u001b[32m'params'\u001b[0m: \u001b[1m{\u001b[0m\u001b[32m'mean'\u001b[0m: \u001b[1;36m1.2\u001b[0m\u001b[1m}\u001b[0m\u001b[1m}\u001b[0m,                                         \n",
      "                       \u001b[32m'asu_arrival_tia'\u001b[0m: \u001b[1m{\u001b[0m   \u001b[32m'class_name'\u001b[0m: \u001b[32m'Exponential'\u001b[0m,                                         \n",
      "                                              \u001b[32m'params'\u001b[0m: \u001b[1m{\u001b[0m\u001b[32m'mean'\u001b[0m: \u001b[1;36m9.3\u001b[0m\u001b[1m}\u001b[0m\u001b[1m}\u001b[0m,                                            \n",
      "                       \u001b[32m'asu_los_neuro'\u001b[0m: \u001b[1m{\u001b[0m   \u001b[32m'class_name'\u001b[0m: \u001b[32m'Lognormal'\u001b[0m,                                             \n",
      "                                            \u001b[32m'params'\u001b[0m: \u001b[1m{\u001b[0m   \u001b[32m'mean'\u001b[0m: \u001b[1;36m4.0\u001b[0m,                                             \n",
      "                                                          \u001b[32m'stdev'\u001b[0m: \u001b[1;36m5.0\u001b[0m\u001b[1m}\u001b[0m\u001b[1m}\u001b[0m,                                          \n",
      "                       \u001b[32m'asu_los_other'\u001b[0m: \u001b[1m{\u001b[0m   \u001b[32m'class_name'\u001b[0m: \u001b[32m'Lognormal'\u001b[0m,                                             \n",
      "                                            \u001b[32m'params'\u001b[0m: \u001b[1m{\u001b[0m   \u001b[32m'mean'\u001b[0m: \u001b[1;36m3.8\u001b[0m,                                             \n",
      "                                                          \u001b[32m'stdev'\u001b[0m: \u001b[1;36m5.2\u001b[0m\u001b[1m}\u001b[0m\u001b[1m}\u001b[0m,                                          \n",
      "                       \u001b[32m'asu_los_stroke_esd'\u001b[0m: \u001b[1m{\u001b[0m   \u001b[32m'class_name'\u001b[0m: \u001b[32m'Lognormal'\u001b[0m,                                        \n",
      "                                                 \u001b[32m'params'\u001b[0m: \u001b[1m{\u001b[0m   \u001b[32m'mean'\u001b[0m: \u001b[1;36m4.6\u001b[0m,                                        \n",
      "                                                               \u001b[32m'stdev'\u001b[0m: \u001b[1;36m4.8\u001b[0m\u001b[1m}\u001b[0m\u001b[1m}\u001b[0m,                                     \n",
      "                       \u001b[32m'asu_los_stroke_mortality'\u001b[0m: \u001b[1m{\u001b[0m   \u001b[32m'class_name'\u001b[0m: \u001b[32m'Lognormal'\u001b[0m,                                  \n",
      "                                                       \u001b[32m'params'\u001b[0m: \u001b[1m{\u001b[0m   \u001b[32m'mean'\u001b[0m: \u001b[1;36m7.0\u001b[0m,                                  \n",
      "                                                                     \u001b[32m'stdev'\u001b[0m: \u001b[1;36m8.7\u001b[0m\u001b[1m}\u001b[0m\u001b[1m}\u001b[0m,                               \n",
      "                       \u001b[32m'asu_los_stroke_noesd'\u001b[0m: \u001b[1m{\u001b[0m   \u001b[32m'class_name'\u001b[0m: \u001b[32m'Lognormal'\u001b[0m,                                      \n",
      "                                                   \u001b[32m'params'\u001b[0m: \u001b[1m{\u001b[0m   \u001b[32m'mean'\u001b[0m: \u001b[1;36m7.4\u001b[0m,                                      \n",
      "                                                                 \u001b[32m'stdev'\u001b[0m: \u001b[1;36m8.61\u001b[0m\u001b[1m}\u001b[0m\u001b[1m}\u001b[0m,                                  \n",
      "                       \u001b[32m'asu_los_tia'\u001b[0m: \u001b[1m{\u001b[0m   \u001b[32m'class_name'\u001b[0m: \u001b[32m'Lognormal'\u001b[0m,                                               \n",
      "                                          \u001b[32m'params'\u001b[0m: \u001b[1m{\u001b[0m   \u001b[32m'mean'\u001b[0m: \u001b[1;36m1.8\u001b[0m,                                               \n",
      "                                                        \u001b[32m'stdev'\u001b[0m: \u001b[1;36m2.3\u001b[0m\u001b[1m}\u001b[0m\u001b[1m}\u001b[0m,                                            \n",
      "                       \u001b[32m'asu_routing_neuro'\u001b[0m: \u001b[1m{\u001b[0m   \u001b[32m'class_name'\u001b[0m: \u001b[32m'DiscreteEmpirical'\u001b[0m,                                 \n",
      "                                                \u001b[32m'params'\u001b[0m: \u001b[1m{\u001b[0m   \u001b[32m'freq'\u001b[0m: \u001b[1m[\u001b[0m   \u001b[1;36m0.11\u001b[0m,                                    \n",
      "                                                                          \u001b[1;36m0.05\u001b[0m,                                    \n",
      "                                                                          \u001b[1;36m0.84\u001b[0m\u001b[1m]\u001b[0m,                                   \n",
      "                                                              \u001b[32m'values'\u001b[0m: \u001b[1m[\u001b[0m   \u001b[32m'rehab'\u001b[0m,                               \n",
      "                                                                            \u001b[32m'esd'\u001b[0m,                                 \n",
      "                                                                            \u001b[32m'other'\u001b[0m\u001b[1m]\u001b[0m\u001b[1m}\u001b[0m\u001b[1m}\u001b[0m,                            \n",
      "                       \u001b[32m'asu_routing_other'\u001b[0m: \u001b[1m{\u001b[0m   \u001b[32m'class_name'\u001b[0m: \u001b[32m'DiscreteEmpirical'\u001b[0m,                                 \n",
      "                                                \u001b[32m'params'\u001b[0m: \u001b[1m{\u001b[0m   \u001b[32m'freq'\u001b[0m: \u001b[1m[\u001b[0m   \u001b[1;36m0.05\u001b[0m,                                    \n",
      "                                                                          \u001b[1;36m0.1\u001b[0m,                                     \n",
      "                                                                          \u001b[1;36m0.85\u001b[0m\u001b[1m]\u001b[0m,                                   \n",
      "                                                              \u001b[32m'values'\u001b[0m: \u001b[1m[\u001b[0m   \u001b[32m'rehab'\u001b[0m,                               \n",
      "                                                                            \u001b[32m'esd'\u001b[0m,                                 \n",
      "                                                                            \u001b[32m'other'\u001b[0m\u001b[1m]\u001b[0m\u001b[1m}\u001b[0m\u001b[1m}\u001b[0m,                            \n",
      "                       \u001b[32m'asu_routing_stroke'\u001b[0m: \u001b[1m{\u001b[0m   \u001b[32m'class_name'\u001b[0m: \u001b[32m'DiscreteEmpirical'\u001b[0m,                                \n",
      "                                                 \u001b[32m'params'\u001b[0m: \u001b[1m{\u001b[0m   \u001b[32m'freq'\u001b[0m: \u001b[1m[\u001b[0m   \u001b[1;36m0.24\u001b[0m,                                   \n",
      "                                                                           \u001b[1;36m0.13\u001b[0m,                                   \n",
      "                                                                           \u001b[1;36m0.63\u001b[0m\u001b[1m]\u001b[0m,                                  \n",
      "                                                               \u001b[32m'values'\u001b[0m: \u001b[1m[\u001b[0m   \u001b[32m'rehab'\u001b[0m,                              \n",
      "                                                                             \u001b[32m'esd'\u001b[0m,                                \n",
      "                                                                             \u001b[32m'other'\u001b[0m\u001b[1m]\u001b[0m\u001b[1m}\u001b[0m\u001b[1m}\u001b[0m,                           \n",
      "                       \u001b[32m'asu_routing_tia'\u001b[0m: \u001b[1m{\u001b[0m   \u001b[32m'class_name'\u001b[0m: \u001b[32m'DiscreteEmpirical'\u001b[0m,                                   \n",
      "                                              \u001b[32m'params'\u001b[0m: \u001b[1m{\u001b[0m   \u001b[32m'freq'\u001b[0m: \u001b[1m[\u001b[0m   \u001b[1;36m0.01\u001b[0m,                                      \n",
      "                                                                        \u001b[1;36m0.01\u001b[0m,                                      \n",
      "                                                                        \u001b[1;36m0.98\u001b[0m\u001b[1m]\u001b[0m,                                     \n",
      "                                                            \u001b[32m'values'\u001b[0m: \u001b[1m[\u001b[0m   \u001b[32m'rehab'\u001b[0m,                                 \n",
      "                                                                          \u001b[32m'esd'\u001b[0m,                                   \n",
      "                                                                          \u001b[32m'other'\u001b[0m\u001b[1m]\u001b[0m\u001b[1m}\u001b[0m\u001b[1m}\u001b[0m,                              \n",
      "                       \u001b[32m'rehab_arrival_neuro'\u001b[0m: \u001b[1m{\u001b[0m   \u001b[32m'class_name'\u001b[0m: \u001b[32m'Exponential'\u001b[0m,                                     \n",
      "                                                  \u001b[32m'params'\u001b[0m: \u001b[1m{\u001b[0m\u001b[32m'mean'\u001b[0m: \u001b[1;36m31.7\u001b[0m\u001b[1m}\u001b[0m\u001b[1m}\u001b[0m,                                       \n",
      "                       \u001b[32m'rehab_arrival_other'\u001b[0m: \u001b[1m{\u001b[0m   \u001b[32m'class_name'\u001b[0m: \u001b[32m'Exponential'\u001b[0m,                                     \n",
      "                                                  \u001b[32m'params'\u001b[0m: \u001b[1m{\u001b[0m\u001b[32m'mean'\u001b[0m: \u001b[1;36m28.6\u001b[0m\u001b[1m}\u001b[0m\u001b[1m}\u001b[0m,                                       \n",
      "                       \u001b[32m'rehab_arrival_stroke'\u001b[0m: \u001b[1m{\u001b[0m   \u001b[32m'class_name'\u001b[0m: \u001b[32m'Exponential'\u001b[0m,                                    \n",
      "                                                   \u001b[32m'params'\u001b[0m: \u001b[1m{\u001b[0m\u001b[32m'mean'\u001b[0m: \u001b[1;36m21.8\u001b[0m\u001b[1m}\u001b[0m\u001b[1m}\u001b[0m,                                      \n",
      "                       \u001b[32m'rehab_los_neuro'\u001b[0m: \u001b[1m{\u001b[0m   \u001b[32m'class_name'\u001b[0m: \u001b[32m'Lognormal'\u001b[0m,                                           \n",
      "                                              \u001b[32m'params'\u001b[0m: \u001b[1m{\u001b[0m   \u001b[32m'mean'\u001b[0m: \u001b[1;36m27.6\u001b[0m,                                          \n",
      "                                                            \u001b[32m'stdev'\u001b[0m: \u001b[1;36m28.4\u001b[0m\u001b[1m}\u001b[0m\u001b[1m}\u001b[0m,                                       \n",
      "                       \u001b[32m'rehab_los_other'\u001b[0m: \u001b[1m{\u001b[0m   \u001b[32m'class_name'\u001b[0m: \u001b[32m'Lognormal'\u001b[0m,                                           \n",
      "                                              \u001b[32m'params'\u001b[0m: \u001b[1m{\u001b[0m   \u001b[32m'mean'\u001b[0m: \u001b[1;36m16.1\u001b[0m,                                          \n",
      "                                                            \u001b[32m'stdev'\u001b[0m: \u001b[1;36m14.1\u001b[0m\u001b[1m}\u001b[0m\u001b[1m}\u001b[0m,                                       \n",
      "                       \u001b[32m'rehab_los_stroke_esd'\u001b[0m: \u001b[1m{\u001b[0m   \u001b[32m'class_name'\u001b[0m: \u001b[32m'Lognormal'\u001b[0m,                                      \n",
      "                                                   \u001b[32m'params'\u001b[0m: \u001b[1m{\u001b[0m   \u001b[32m'mean'\u001b[0m: \u001b[1;36m30.3\u001b[0m,                                     \n",
      "                                                                 \u001b[32m'stdev'\u001b[0m: \u001b[1;36m23.1\u001b[0m\u001b[1m}\u001b[0m\u001b[1m}\u001b[0m,                                  \n",
      "                       \u001b[32m'rehab_los_stroke_noesd'\u001b[0m: \u001b[1m{\u001b[0m   \u001b[32m'class_name'\u001b[0m: \u001b[32m'Lognormal'\u001b[0m,                                    \n",
      "                                                     \u001b[32m'params'\u001b[0m: \u001b[1m{\u001b[0m   \u001b[32m'mean'\u001b[0m: \u001b[1;36m28.4\u001b[0m,                                   \n",
      "                                                                   \u001b[32m'stdev'\u001b[0m: \u001b[1;36m27.2\u001b[0m\u001b[1m}\u001b[0m\u001b[1m}\u001b[0m,                                \n",
      "                       \u001b[32m'rehab_los_tia'\u001b[0m: \u001b[1m{\u001b[0m   \u001b[32m'class_name'\u001b[0m: \u001b[32m'Lognormal'\u001b[0m,                                             \n",
      "                                            \u001b[32m'params'\u001b[0m: \u001b[1m{\u001b[0m   \u001b[32m'mean'\u001b[0m: \u001b[1;36m18.7\u001b[0m,                                            \n",
      "                                                          \u001b[32m'stdev'\u001b[0m: \u001b[1;36m23.5\u001b[0m\u001b[1m}\u001b[0m\u001b[1m}\u001b[0m,                                         \n",
      "                       \u001b[32m'rehab_routing_neuro'\u001b[0m: \u001b[1m{\u001b[0m   \u001b[32m'class_name'\u001b[0m: \u001b[32m'DiscreteEmpirical'\u001b[0m,                               \n",
      "                                                  \u001b[32m'params'\u001b[0m: \u001b[1m{\u001b[0m   \u001b[32m'freq'\u001b[0m: \u001b[1m[\u001b[0m   \u001b[1;36m0.09\u001b[0m,                                  \n",
      "                                                                            \u001b[1;36m0.91\u001b[0m\u001b[1m]\u001b[0m,                                 \n",
      "                                                                \u001b[32m'values'\u001b[0m: \u001b[1m[\u001b[0m   \u001b[32m'esd'\u001b[0m,                               \n",
      "                                                                              \u001b[32m'other'\u001b[0m\u001b[1m]\u001b[0m\u001b[1m}\u001b[0m\u001b[1m}\u001b[0m,                          \n",
      "                       \u001b[32m'rehab_routing_other'\u001b[0m: \u001b[1m{\u001b[0m   \u001b[32m'class_name'\u001b[0m: \u001b[32m'DiscreteEmpirical'\u001b[0m,                               \n",
      "                                                  \u001b[32m'params'\u001b[0m: \u001b[1m{\u001b[0m   \u001b[32m'freq'\u001b[0m: \u001b[1m[\u001b[0m   \u001b[1;36m0.13\u001b[0m,                                  \n",
      "                                                                            \u001b[1;36m0.88\u001b[0m\u001b[1m]\u001b[0m,                                 \n",
      "                                                                \u001b[32m'values'\u001b[0m: \u001b[1m[\u001b[0m   \u001b[32m'esd'\u001b[0m,                               \n",
      "                                                                              \u001b[32m'other'\u001b[0m\u001b[1m]\u001b[0m\u001b[1m}\u001b[0m\u001b[1m}\u001b[0m,                          \n",
      "                       \u001b[32m'rehab_routing_stroke'\u001b[0m: \u001b[1m{\u001b[0m   \u001b[32m'class_name'\u001b[0m: \u001b[32m'DiscreteEmpirical'\u001b[0m,                              \n",
      "                                                   \u001b[32m'params'\u001b[0m: \u001b[1m{\u001b[0m   \u001b[32m'freq'\u001b[0m: \u001b[1m[\u001b[0m   \u001b[1;36m0.4\u001b[0m,                                  \n",
      "                                                                             \u001b[1;36m0.6\u001b[0m\u001b[1m]\u001b[0m,                                 \n",
      "                                                                 \u001b[32m'values'\u001b[0m: \u001b[1m[\u001b[0m   \u001b[32m'esd'\u001b[0m,                              \n",
      "                                                                               \u001b[32m'other'\u001b[0m\u001b[1m]\u001b[0m\u001b[1m}\u001b[0m\u001b[1m}\u001b[0m,                         \n",
      "                       \u001b[32m'rehab_routing_tia'\u001b[0m: \u001b[1m{\u001b[0m   \u001b[32m'class_name'\u001b[0m: \u001b[32m'DiscreteEmpirical'\u001b[0m,                                 \n",
      "                                                \u001b[32m'params'\u001b[0m: \u001b[1m{\u001b[0m   \u001b[32m'freq'\u001b[0m: \u001b[1m[\u001b[0m\u001b[1;36m1.0\u001b[0m\u001b[1m]\u001b[0m,                                       \n",
      "                                                              \u001b[32m'values'\u001b[0m: \u001b[1m[\u001b[0m   \u001b[32m'other'\u001b[0m\u001b[1m]\u001b[0m\u001b[1m}\u001b[0m\u001b[1m}\u001b[0m\u001b[1m}\u001b[0m,                           \n",
      "    \u001b[32m'logger'\u001b[0m: \u001b[1m<\u001b[0m\u001b[1;95msimulation.logging.SimLogger\u001b[0m\u001b[39m object at \u001b[0m\u001b[1;36m0x73560a8eb0e0\u001b[0m\u001b[1m>\u001b[0m,                                             \n",
      "    \u001b[32m'number_of_runs'\u001b[0m: \u001b[1;36m150\u001b[0m,                                                                                         \n",
      "    \u001b[32m'warm_up_period'\u001b[0m: \u001b[1;36m15\u001b[0m\u001b[1m}\u001b[0m                                                                                          \n"
     ]
    },
    {
     "name": "stdout",
     "output_type": "stream",
     "text": [
      "Logger:                                                                                                            \n",
      "                                                                                                                   \n"
     ]
    },
    {
     "name": "stdout",
     "output_type": "stream",
     "text": [
      "\u001b[1m{\u001b[0m   \u001b[32m'file_path'\u001b[0m: \u001b[32m'../outputs/logs/log_example.log'\u001b[0m,                                                                \n",
      "    \u001b[32m'log_to_console'\u001b[0m: \u001b[3;92mTrue\u001b[0m,                                                                                        \n",
      "    \u001b[32m'log_to_file'\u001b[0m: \u001b[3;92mTrue\u001b[0m,                                                                                           \n",
      "    \u001b[32m'logger'\u001b[0m: \u001b[1m<\u001b[0m\u001b[1;95mLogger\u001b[0m\u001b[39m simulation.logging \u001b[0m\u001b[1;39m(\u001b[0m\u001b[39mINFO\u001b[0m\u001b[1;39m)\u001b[0m\u001b[1m>\u001b[0m,                                                                  \n",
      "    \u001b[32m'sanitise'\u001b[0m: \u001b[3;91mFalse\u001b[0m\u001b[1m}\u001b[0m                                                                                             \n"
     ]
    },
    {
     "name": "stdout",
     "output_type": "stream",
     "text": [
      "\u001b[1;36m1.836\u001b[0m: Patient \u001b[1;36m1\u001b[0m \u001b[1m(\u001b[0mstroke\u001b[1m)\u001b[0m arrive at ASU.                                                                           \n"
     ]
    },
    {
     "name": "stdout",
     "output_type": "stream",
     "text": [
      "\u001b[1;36m1.836\u001b[0m: Patient \u001b[1;36m1\u001b[0m \u001b[1m(\u001b[0mstroke\u001b[1m)\u001b[0m post-ASU: other                                                                          \n"
     ]
    },
    {
     "name": "stdout",
     "output_type": "stream",
     "text": [
      "\u001b[1;36m1.836\u001b[0m: Patient \u001b[1;36m1\u001b[0m \u001b[1m(\u001b[0mstroke\u001b[1m)\u001b[0m LOS on ASU: \u001b[1;36m3.007\u001b[0m                                                                        \n"
     ]
    },
    {
     "name": "stdout",
     "output_type": "stream",
     "text": [
      "\u001b[1;36m1.974\u001b[0m: Patient \u001b[1;36m2\u001b[0m \u001b[1m(\u001b[0mstroke\u001b[1m)\u001b[0m arrive at ASU.                                                                           \n"
     ]
    },
    {
     "name": "stdout",
     "output_type": "stream",
     "text": [
      "\u001b[1;36m1.974\u001b[0m: Patient \u001b[1;36m2\u001b[0m \u001b[1m(\u001b[0mstroke\u001b[1m)\u001b[0m post-ASU: esd                                                                            \n"
     ]
    },
    {
     "name": "stdout",
     "output_type": "stream",
     "text": [
      "\u001b[1;36m1.974\u001b[0m: Patient \u001b[1;36m2\u001b[0m \u001b[1m(\u001b[0mstroke\u001b[1m)\u001b[0m LOS on ASU: \u001b[1;36m31.512\u001b[0m                                                                       \n"
     ]
    },
    {
     "name": "stdout",
     "output_type": "stream",
     "text": [
      "\u001b[1;36m2.570\u001b[0m: Patient \u001b[1;36m3\u001b[0m \u001b[1m(\u001b[0mother\u001b[1m)\u001b[0m arrive at ASU.                                                                            \n"
     ]
    },
    {
     "name": "stdout",
     "output_type": "stream",
     "text": [
      "\u001b[1;36m2.570\u001b[0m: Patient \u001b[1;36m3\u001b[0m \u001b[1m(\u001b[0mother\u001b[1m)\u001b[0m post-ASU: esd                                                                             \n"
     ]
    },
    {
     "name": "stdout",
     "output_type": "stream",
     "text": [
      "\u001b[1;36m2.570\u001b[0m: Patient \u001b[1;36m3\u001b[0m \u001b[1m(\u001b[0mother\u001b[1m)\u001b[0m LOS on ASU: \u001b[1;36m2.130\u001b[0m                                                                         \n"
     ]
    },
    {
     "name": "stdout",
     "output_type": "stream",
     "text": [
      "\u001b[1;36m3.388\u001b[0m: Patient \u001b[1;36m4\u001b[0m \u001b[1m(\u001b[0mstroke\u001b[1m)\u001b[0m arrive at ASU.                                                                           \n"
     ]
    },
    {
     "name": "stdout",
     "output_type": "stream",
     "text": [
      "\u001b[1;36m3.388\u001b[0m: Patient \u001b[1;36m4\u001b[0m \u001b[1m(\u001b[0mstroke\u001b[1m)\u001b[0m post-ASU: other                                                                          \n"
     ]
    },
    {
     "name": "stdout",
     "output_type": "stream",
     "text": [
      "\u001b[1;36m3.388\u001b[0m: Patient \u001b[1;36m4\u001b[0m \u001b[1m(\u001b[0mstroke\u001b[1m)\u001b[0m LOS on ASU: \u001b[1;36m4.097\u001b[0m                                                                        \n"
     ]
    },
    {
     "name": "stdout",
     "output_type": "stream",
     "text": [
      "\u001b[1;36m3.792\u001b[0m: Patient \u001b[1;36m5\u001b[0m \u001b[1m(\u001b[0mother\u001b[1m)\u001b[0m arrive at ASU.                                                                            \n"
     ]
    },
    {
     "name": "stdout",
     "output_type": "stream",
     "text": [
      "\u001b[1;36m3.792\u001b[0m: Patient \u001b[1;36m5\u001b[0m \u001b[1m(\u001b[0mother\u001b[1m)\u001b[0m post-ASU: other                                                                           \n"
     ]
    },
    {
     "name": "stdout",
     "output_type": "stream",
     "text": [
      "\u001b[1;36m3.792\u001b[0m: Patient \u001b[1;36m5\u001b[0m \u001b[1m(\u001b[0mother\u001b[1m)\u001b[0m LOS on ASU: \u001b[1;36m0.597\u001b[0m                                                                         \n"
     ]
    },
    {
     "name": "stdout",
     "output_type": "stream",
     "text": [
      "\u001b[1;36m4.958\u001b[0m: Patient \u001b[1;36m6\u001b[0m \u001b[1m(\u001b[0mother\u001b[1m)\u001b[0m arrive at ASU.                                                                            \n"
     ]
    },
    {
     "name": "stdout",
     "output_type": "stream",
     "text": [
      "\u001b[1;36m4.958\u001b[0m: Patient \u001b[1;36m6\u001b[0m \u001b[1m(\u001b[0mother\u001b[1m)\u001b[0m post-ASU: other                                                                           \n"
     ]
    },
    {
     "name": "stdout",
     "output_type": "stream",
     "text": [
      "\u001b[1;36m4.958\u001b[0m: Patient \u001b[1;36m6\u001b[0m \u001b[1m(\u001b[0mother\u001b[1m)\u001b[0m LOS on ASU: \u001b[1;36m0.714\u001b[0m                                                                         \n"
     ]
    },
    {
     "name": "stdout",
     "output_type": "stream",
     "text": [
      "\u001b[1;36m5.984\u001b[0m: Patient \u001b[1;36m7\u001b[0m \u001b[1m(\u001b[0mstroke\u001b[1m)\u001b[0m arrive at ASU.                                                                           \n"
     ]
    },
    {
     "name": "stdout",
     "output_type": "stream",
     "text": [
      "\u001b[1;36m5.984\u001b[0m: Patient \u001b[1;36m7\u001b[0m \u001b[1m(\u001b[0mstroke\u001b[1m)\u001b[0m post-ASU: other                                                                          \n"
     ]
    },
    {
     "name": "stdout",
     "output_type": "stream",
     "text": [
      "\u001b[1;36m5.984\u001b[0m: Patient \u001b[1;36m7\u001b[0m \u001b[1m(\u001b[0mstroke\u001b[1m)\u001b[0m LOS on ASU: \u001b[1;36m0.934\u001b[0m                                                                        \n"
     ]
    },
    {
     "name": "stdout",
     "output_type": "stream",
     "text": [
      "\u001b[1;36m6.445\u001b[0m: Patient \u001b[1;36m8\u001b[0m \u001b[1m(\u001b[0mstroke\u001b[1m)\u001b[0m arrive at ASU.                                                                           \n"
     ]
    },
    {
     "name": "stdout",
     "output_type": "stream",
     "text": [
      "\u001b[1;36m6.445\u001b[0m: Patient \u001b[1;36m8\u001b[0m \u001b[1m(\u001b[0mstroke\u001b[1m)\u001b[0m post-ASU: rehab                                                                          \n"
     ]
    },
    {
     "name": "stdout",
     "output_type": "stream",
     "text": [
      "\u001b[1;36m6.445\u001b[0m: Patient \u001b[1;36m8\u001b[0m \u001b[1m(\u001b[0mstroke\u001b[1m)\u001b[0m LOS on ASU: \u001b[1;36m19.183\u001b[0m                                                                       \n"
     ]
    },
    {
     "name": "stdout",
     "output_type": "stream",
     "text": [
      "\u001b[1;36m6.652\u001b[0m: Patient \u001b[1;36m9\u001b[0m \u001b[1m(\u001b[0mother\u001b[1m)\u001b[0m arrive at ASU.                                                                            \n"
     ]
    },
    {
     "name": "stdout",
     "output_type": "stream",
     "text": [
      "\u001b[1;36m6.652\u001b[0m: Patient \u001b[1;36m9\u001b[0m \u001b[1m(\u001b[0mother\u001b[1m)\u001b[0m post-ASU: other                                                                           \n"
     ]
    },
    {
     "name": "stdout",
     "output_type": "stream",
     "text": [
      "\u001b[1;36m6.652\u001b[0m: Patient \u001b[1;36m9\u001b[0m \u001b[1m(\u001b[0mother\u001b[1m)\u001b[0m LOS on ASU: \u001b[1;36m2.329\u001b[0m                                                                         \n"
     ]
    },
    {
     "name": "stdout",
     "output_type": "stream",
     "text": [
      "\u001b[1;36m7.044\u001b[0m: Patient \u001b[1;36m10\u001b[0m \u001b[1m(\u001b[0mstroke\u001b[1m)\u001b[0m arrive at ASU.                                                                          \n"
     ]
    },
    {
     "name": "stdout",
     "output_type": "stream",
     "text": [
      "\u001b[1;36m7.044\u001b[0m: Patient \u001b[1;36m10\u001b[0m \u001b[1m(\u001b[0mstroke\u001b[1m)\u001b[0m post-ASU: rehab                                                                         \n"
     ]
    },
    {
     "name": "stdout",
     "output_type": "stream",
     "text": [
      "\u001b[1;36m7.044\u001b[0m: Patient \u001b[1;36m10\u001b[0m \u001b[1m(\u001b[0mstroke\u001b[1m)\u001b[0m LOS on ASU: \u001b[1;36m7.705\u001b[0m                                                                       \n"
     ]
    },
    {
     "name": "stdout",
     "output_type": "stream",
     "text": [
      "\u001b[1;36m7.452\u001b[0m: Patient \u001b[1;36m11\u001b[0m \u001b[1m(\u001b[0mstroke\u001b[1m)\u001b[0m arrive at ASU.                                                                          \n"
     ]
    },
    {
     "name": "stdout",
     "output_type": "stream",
     "text": [
      "\u001b[1;36m7.452\u001b[0m: Patient \u001b[1;36m11\u001b[0m \u001b[1m(\u001b[0mstroke\u001b[1m)\u001b[0m post-ASU: other                                                                         \n"
     ]
    },
    {
     "name": "stdout",
     "output_type": "stream",
     "text": [
      "\u001b[1;36m7.452\u001b[0m: Patient \u001b[1;36m11\u001b[0m \u001b[1m(\u001b[0mstroke\u001b[1m)\u001b[0m LOS on ASU: \u001b[1;36m3.258\u001b[0m                                                                       \n"
     ]
    },
    {
     "name": "stdout",
     "output_type": "stream",
     "text": [
      "\u001b[1;36m8.593\u001b[0m: Patient \u001b[1;36m12\u001b[0m \u001b[1m(\u001b[0mstroke\u001b[1m)\u001b[0m arrive at ASU.                                                                          \n"
     ]
    },
    {
     "name": "stdout",
     "output_type": "stream",
     "text": [
      "\u001b[1;36m8.593\u001b[0m: Patient \u001b[1;36m12\u001b[0m \u001b[1m(\u001b[0mstroke\u001b[1m)\u001b[0m post-ASU: rehab                                                                         \n"
     ]
    },
    {
     "name": "stdout",
     "output_type": "stream",
     "text": [
      "\u001b[1;36m8.593\u001b[0m: Patient \u001b[1;36m12\u001b[0m \u001b[1m(\u001b[0mstroke\u001b[1m)\u001b[0m LOS on ASU: \u001b[1;36m13.352\u001b[0m                                                                      \n"
     ]
    },
    {
     "name": "stdout",
     "output_type": "stream",
     "text": [
      "\u001b[1;36m9.668\u001b[0m: Patient \u001b[1;36m13\u001b[0m \u001b[1m(\u001b[0mstroke\u001b[1m)\u001b[0m arrive at ASU.                                                                          \n"
     ]
    },
    {
     "name": "stdout",
     "output_type": "stream",
     "text": [
      "\u001b[1;36m9.668\u001b[0m: Patient \u001b[1;36m13\u001b[0m \u001b[1m(\u001b[0mstroke\u001b[1m)\u001b[0m post-ASU: esd                                                                           \n"
     ]
    },
    {
     "name": "stdout",
     "output_type": "stream",
     "text": [
      "\u001b[1;36m9.668\u001b[0m: Patient \u001b[1;36m13\u001b[0m \u001b[1m(\u001b[0mstroke\u001b[1m)\u001b[0m LOS on ASU: \u001b[1;36m3.429\u001b[0m                                                                       \n"
     ]
    },
    {
     "name": "stdout",
     "output_type": "stream",
     "text": [
      "\u001b[1;36m9.961\u001b[0m: Patient \u001b[1;36m14\u001b[0m \u001b[1m(\u001b[0mstroke\u001b[1m)\u001b[0m arrive at ASU.                                                                          \n"
     ]
    },
    {
     "name": "stdout",
     "output_type": "stream",
     "text": [
      "\u001b[1;36m9.961\u001b[0m: Patient \u001b[1;36m14\u001b[0m \u001b[1m(\u001b[0mstroke\u001b[1m)\u001b[0m post-ASU: rehab                                                                         \n"
     ]
    },
    {
     "name": "stdout",
     "output_type": "stream",
     "text": [
      "\u001b[1;36m9.961\u001b[0m: Patient \u001b[1;36m14\u001b[0m \u001b[1m(\u001b[0mstroke\u001b[1m)\u001b[0m LOS on ASU: \u001b[1;36m2.821\u001b[0m                                                                       \n"
     ]
    },
    {
     "name": "stdout",
     "output_type": "stream",
     "text": [
      "\u001b[1;36m9.970\u001b[0m: Patient \u001b[1;36m15\u001b[0m \u001b[1m(\u001b[0mstroke\u001b[1m)\u001b[0m arrive at ASU.                                                                          \n"
     ]
    },
    {
     "name": "stdout",
     "output_type": "stream",
     "text": [
      "\u001b[1;36m9.970\u001b[0m: Patient \u001b[1;36m15\u001b[0m \u001b[1m(\u001b[0mstroke\u001b[1m)\u001b[0m post-ASU: rehab                                                                         \n"
     ]
    },
    {
     "name": "stdout",
     "output_type": "stream",
     "text": [
      "\u001b[1;36m9.970\u001b[0m: Patient \u001b[1;36m15\u001b[0m \u001b[1m(\u001b[0mstroke\u001b[1m)\u001b[0m LOS on ASU: \u001b[1;36m4.992\u001b[0m                                                                       \n"
     ]
    },
    {
     "name": "stdout",
     "output_type": "stream",
     "text": [
      "\u001b[1;36m10.476\u001b[0m: Patient \u001b[1;36m16\u001b[0m \u001b[1m(\u001b[0mstroke\u001b[1m)\u001b[0m arrive at ASU.                                                                         \n"
     ]
    },
    {
     "name": "stdout",
     "output_type": "stream",
     "text": [
      "\u001b[1;36m10.476\u001b[0m: Patient \u001b[1;36m16\u001b[0m \u001b[1m(\u001b[0mstroke\u001b[1m)\u001b[0m post-ASU: other                                                                        \n"
     ]
    },
    {
     "name": "stdout",
     "output_type": "stream",
     "text": [
      "\u001b[1;36m10.476\u001b[0m: Patient \u001b[1;36m16\u001b[0m \u001b[1m(\u001b[0mstroke\u001b[1m)\u001b[0m LOS on ASU: \u001b[1;36m5.733\u001b[0m                                                                      \n"
     ]
    },
    {
     "name": "stdout",
     "output_type": "stream",
     "text": [
      "\u001b[1;36m11.511\u001b[0m: Patient \u001b[1;36m17\u001b[0m \u001b[1m(\u001b[0mstroke\u001b[1m)\u001b[0m arrive at ASU.                                                                         \n"
     ]
    },
    {
     "name": "stdout",
     "output_type": "stream",
     "text": [
      "\u001b[1;36m11.511\u001b[0m: Patient \u001b[1;36m17\u001b[0m \u001b[1m(\u001b[0mstroke\u001b[1m)\u001b[0m post-ASU: rehab                                                                        \n"
     ]
    },
    {
     "name": "stdout",
     "output_type": "stream",
     "text": [
      "\u001b[1;36m11.511\u001b[0m: Patient \u001b[1;36m17\u001b[0m \u001b[1m(\u001b[0mstroke\u001b[1m)\u001b[0m LOS on ASU: \u001b[1;36m1.189\u001b[0m                                                                      \n"
     ]
    },
    {
     "name": "stdout",
     "output_type": "stream",
     "text": [
      "\u001b[1;36m11.857\u001b[0m: Patient \u001b[1;36m18\u001b[0m \u001b[1m(\u001b[0mneuro\u001b[1m)\u001b[0m arrive at ASU.                                                                          \n"
     ]
    },
    {
     "name": "stdout",
     "output_type": "stream",
     "text": [
      "\u001b[1;36m11.857\u001b[0m: Patient \u001b[1;36m18\u001b[0m \u001b[1m(\u001b[0mneuro\u001b[1m)\u001b[0m post-ASU: other                                                                         \n"
     ]
    },
    {
     "name": "stdout",
     "output_type": "stream",
     "text": [
      "\u001b[1;36m11.857\u001b[0m: Patient \u001b[1;36m18\u001b[0m \u001b[1m(\u001b[0mneuro\u001b[1m)\u001b[0m LOS on ASU: \u001b[1;36m2.989\u001b[0m                                                                       \n"
     ]
    },
    {
     "name": "stdout",
     "output_type": "stream",
     "text": [
      "\u001b[1;36m12.144\u001b[0m: Patient \u001b[1;36m19\u001b[0m \u001b[1m(\u001b[0mstroke\u001b[1m)\u001b[0m arrive at ASU.                                                                         \n"
     ]
    },
    {
     "name": "stdout",
     "output_type": "stream",
     "text": [
      "\u001b[1;36m12.144\u001b[0m: Patient \u001b[1;36m19\u001b[0m \u001b[1m(\u001b[0mstroke\u001b[1m)\u001b[0m post-ASU: other                                                                        \n"
     ]
    },
    {
     "name": "stdout",
     "output_type": "stream",
     "text": [
      "\u001b[1;36m12.144\u001b[0m: Patient \u001b[1;36m19\u001b[0m \u001b[1m(\u001b[0mstroke\u001b[1m)\u001b[0m LOS on ASU: \u001b[1;36m0.491\u001b[0m                                                                      \n"
     ]
    },
    {
     "name": "stdout",
     "output_type": "stream",
     "text": [
      "\u001b[1;36m12.700\u001b[0m: Patient \u001b[1;36m17\u001b[0m \u001b[1m(\u001b[0mstroke\u001b[1m)\u001b[0m arrive at rehab.                                                                       \n"
     ]
    },
    {
     "name": "stdout",
     "output_type": "stream",
     "text": [
      "\u001b[1;36m12.700\u001b[0m: Patient \u001b[1;36m17\u001b[0m \u001b[1m(\u001b[0mstroke\u001b[1m)\u001b[0m post-rehab: other                                                                      \n"
     ]
    },
    {
     "name": "stdout",
     "output_type": "stream",
     "text": [
      "\u001b[1;36m12.700\u001b[0m: Patient \u001b[1;36m17\u001b[0m \u001b[1m(\u001b[0mstroke\u001b[1m)\u001b[0m LOS on rehab unit: \u001b[1;36m18.910\u001b[0m                                                              \n"
     ]
    },
    {
     "name": "stdout",
     "output_type": "stream",
     "text": [
      "\u001b[1;36m12.782\u001b[0m: Patient \u001b[1;36m14\u001b[0m \u001b[1m(\u001b[0mstroke\u001b[1m)\u001b[0m arrive at rehab.                                                                       \n"
     ]
    },
    {
     "name": "stdout",
     "output_type": "stream",
     "text": [
      "\u001b[1;36m12.782\u001b[0m: Patient \u001b[1;36m14\u001b[0m \u001b[1m(\u001b[0mstroke\u001b[1m)\u001b[0m post-rehab: other                                                                      \n"
     ]
    },
    {
     "name": "stdout",
     "output_type": "stream",
     "text": [
      "\u001b[1;36m12.782\u001b[0m: Patient \u001b[1;36m14\u001b[0m \u001b[1m(\u001b[0mstroke\u001b[1m)\u001b[0m LOS on rehab unit: \u001b[1;36m27.797\u001b[0m                                                              \n"
     ]
    },
    {
     "name": "stdout",
     "output_type": "stream",
     "text": [
      "\u001b[1;36m13.471\u001b[0m: Patient \u001b[1;36m20\u001b[0m \u001b[1m(\u001b[0mtia\u001b[1m)\u001b[0m arrive at ASU.                                                                            \n"
     ]
    },
    {
     "name": "stdout",
     "output_type": "stream",
     "text": [
      "\u001b[1;36m13.471\u001b[0m: Patient \u001b[1;36m20\u001b[0m \u001b[1m(\u001b[0mtia\u001b[1m)\u001b[0m post-ASU: other                                                                           \n"
     ]
    },
    {
     "name": "stdout",
     "output_type": "stream",
     "text": [
      "\u001b[1;36m13.471\u001b[0m: Patient \u001b[1;36m20\u001b[0m \u001b[1m(\u001b[0mtia\u001b[1m)\u001b[0m LOS on ASU: \u001b[1;36m0.761\u001b[0m                                                                         \n"
     ]
    },
    {
     "name": "stdout",
     "output_type": "stream",
     "text": [
      "\u001b[1;36m13.921\u001b[0m: Patient \u001b[1;36m21\u001b[0m \u001b[1m(\u001b[0mstroke\u001b[1m)\u001b[0m arrive at ASU.                                                                         \n"
     ]
    },
    {
     "name": "stdout",
     "output_type": "stream",
     "text": [
      "\u001b[1;36m13.921\u001b[0m: Patient \u001b[1;36m21\u001b[0m \u001b[1m(\u001b[0mstroke\u001b[1m)\u001b[0m post-ASU: other                                                                        \n"
     ]
    },
    {
     "name": "stdout",
     "output_type": "stream",
     "text": [
      "\u001b[1;36m13.921\u001b[0m: Patient \u001b[1;36m21\u001b[0m \u001b[1m(\u001b[0mstroke\u001b[1m)\u001b[0m LOS on ASU: \u001b[1;36m6.463\u001b[0m                                                                      \n"
     ]
    },
    {
     "name": "stdout",
     "output_type": "stream",
     "text": [
      "\u001b[1;36m14.261\u001b[0m: Patient \u001b[1;36m22\u001b[0m \u001b[1m(\u001b[0mstroke\u001b[1m)\u001b[0m arrive at ASU.                                                                         \n"
     ]
    },
    {
     "name": "stdout",
     "output_type": "stream",
     "text": [
      "\u001b[1;36m14.261\u001b[0m: Patient \u001b[1;36m22\u001b[0m \u001b[1m(\u001b[0mstroke\u001b[1m)\u001b[0m post-ASU: other                                                                        \n"
     ]
    },
    {
     "name": "stdout",
     "output_type": "stream",
     "text": [
      "\u001b[1;36m14.261\u001b[0m: Patient \u001b[1;36m22\u001b[0m \u001b[1m(\u001b[0mstroke\u001b[1m)\u001b[0m LOS on ASU: \u001b[1;36m11.640\u001b[0m                                                                     \n"
     ]
    },
    {
     "name": "stdout",
     "output_type": "stream",
     "text": [
      "\u001b[1;36m14.374\u001b[0m: Patient \u001b[1;36m23\u001b[0m \u001b[1m(\u001b[0mtia\u001b[1m)\u001b[0m arrive at ASU.                                                                            \n"
     ]
    },
    {
     "name": "stdout",
     "output_type": "stream",
     "text": [
      "\u001b[1;36m14.374\u001b[0m: Patient \u001b[1;36m23\u001b[0m \u001b[1m(\u001b[0mtia\u001b[1m)\u001b[0m post-ASU: other                                                                           \n"
     ]
    },
    {
     "name": "stdout",
     "output_type": "stream",
     "text": [
      "\u001b[1;36m14.374\u001b[0m: Patient \u001b[1;36m23\u001b[0m \u001b[1m(\u001b[0mtia\u001b[1m)\u001b[0m LOS on ASU: \u001b[1;36m1.125\u001b[0m                                                                         \n"
     ]
    },
    {
     "name": "stdout",
     "output_type": "stream",
     "text": [
      "\u001b[1;36m14.604\u001b[0m: Patient \u001b[1;36m24\u001b[0m \u001b[1m(\u001b[0mneuro\u001b[1m)\u001b[0m arrive at ASU.                                                                          \n"
     ]
    },
    {
     "name": "stdout",
     "output_type": "stream",
     "text": [
      "\u001b[1;36m14.604\u001b[0m: Patient \u001b[1;36m24\u001b[0m \u001b[1m(\u001b[0mneuro\u001b[1m)\u001b[0m post-ASU: other                                                                         \n"
     ]
    },
    {
     "name": "stdout",
     "output_type": "stream",
     "text": [
      "\u001b[1;36m14.604\u001b[0m: Patient \u001b[1;36m24\u001b[0m \u001b[1m(\u001b[0mneuro\u001b[1m)\u001b[0m LOS on ASU: \u001b[1;36m0.643\u001b[0m                                                                       \n"
     ]
    },
    {
     "name": "stdout",
     "output_type": "stream",
     "text": [
      "\u001b[1;36m14.748\u001b[0m: Patient \u001b[1;36m10\u001b[0m \u001b[1m(\u001b[0mstroke\u001b[1m)\u001b[0m arrive at rehab.                                                                       \n"
     ]
    },
    {
     "name": "stdout",
     "output_type": "stream",
     "text": [
      "\u001b[1;36m14.748\u001b[0m: Patient \u001b[1;36m10\u001b[0m \u001b[1m(\u001b[0mstroke\u001b[1m)\u001b[0m post-rehab: other                                                                      \n"
     ]
    },
    {
     "name": "stdout",
     "output_type": "stream",
     "text": [
      "\u001b[1;36m14.748\u001b[0m: Patient \u001b[1;36m10\u001b[0m \u001b[1m(\u001b[0mstroke\u001b[1m)\u001b[0m LOS on rehab unit: \u001b[1;36m17.002\u001b[0m                                                              \n"
     ]
    },
    {
     "name": "stdout",
     "output_type": "stream",
     "text": [
      "\u001b[1;36m14.962\u001b[0m: Patient \u001b[1;36m15\u001b[0m \u001b[1m(\u001b[0mstroke\u001b[1m)\u001b[0m arrive at rehab.                                                                       \n"
     ]
    },
    {
     "name": "stdout",
     "output_type": "stream",
     "text": [
      "\u001b[1;36m14.962\u001b[0m: Patient \u001b[1;36m15\u001b[0m \u001b[1m(\u001b[0mstroke\u001b[1m)\u001b[0m post-rehab: other                                                                      \n"
     ]
    },
    {
     "name": "stdout",
     "output_type": "stream",
     "text": [
      "\u001b[1;36m14.962\u001b[0m: Patient \u001b[1;36m15\u001b[0m \u001b[1m(\u001b[0mstroke\u001b[1m)\u001b[0m LOS on rehab unit: \u001b[1;36m17.096\u001b[0m                                                              \n"
     ]
    },
    {
     "name": "stdout",
     "output_type": "stream",
     "text": [
      "\u001b[1;36m15.000\u001b[0m: ──────────                                                                                                 \n"
     ]
    },
    {
     "name": "stdout",
     "output_type": "stream",
     "text": [
      "\u001b[1;36m15.000\u001b[0m: Warm up complete.                                                                                          \n"
     ]
    },
    {
     "name": "stdout",
     "output_type": "stream",
     "text": [
      "\u001b[1;36m15.000\u001b[0m: ──────────                                                                                                 \n"
     ]
    },
    {
     "name": "stdout",
     "output_type": "stream",
     "text": [
      "\u001b[1;36m15.575\u001b[0m: Patient \u001b[1;36m1\u001b[0m \u001b[1m(\u001b[0mother\u001b[1m)\u001b[0m arrive at ASU.                                                                           \n"
     ]
    },
    {
     "name": "stdout",
     "output_type": "stream",
     "text": [
      "\u001b[1;36m15.575\u001b[0m: Patient \u001b[1;36m1\u001b[0m \u001b[1m(\u001b[0mother\u001b[1m)\u001b[0m post-ASU: other                                                                          \n"
     ]
    },
    {
     "name": "stdout",
     "output_type": "stream",
     "text": [
      "\u001b[1;36m15.575\u001b[0m: Patient \u001b[1;36m1\u001b[0m \u001b[1m(\u001b[0mother\u001b[1m)\u001b[0m LOS on ASU: \u001b[1;36m9.067\u001b[0m                                                                        \n"
     ]
    },
    {
     "name": "stdout",
     "output_type": "stream",
     "text": [
      "\u001b[1;36m16.305\u001b[0m: Patient \u001b[1;36m2\u001b[0m \u001b[1m(\u001b[0mstroke\u001b[1m)\u001b[0m arrive at ASU.                                                                          \n"
     ]
    },
    {
     "name": "stdout",
     "output_type": "stream",
     "text": [
      "\u001b[1;36m16.305\u001b[0m: Patient \u001b[1;36m2\u001b[0m \u001b[1m(\u001b[0mstroke\u001b[1m)\u001b[0m post-ASU: other                                                                         \n"
     ]
    },
    {
     "name": "stdout",
     "output_type": "stream",
     "text": [
      "\u001b[1;36m16.305\u001b[0m: Patient \u001b[1;36m2\u001b[0m \u001b[1m(\u001b[0mstroke\u001b[1m)\u001b[0m LOS on ASU: \u001b[1;36m7.992\u001b[0m                                                                       \n"
     ]
    },
    {
     "name": "stdout",
     "output_type": "stream",
     "text": [
      "\u001b[1;36m16.344\u001b[0m: Patient \u001b[1;36m3\u001b[0m \u001b[1m(\u001b[0mstroke\u001b[1m)\u001b[0m arrive at rehab.                                                                        \n"
     ]
    },
    {
     "name": "stdout",
     "output_type": "stream",
     "text": [
      "\u001b[1;36m16.344\u001b[0m: Patient \u001b[1;36m3\u001b[0m \u001b[1m(\u001b[0mstroke\u001b[1m)\u001b[0m post-rehab: esd                                                                         \n"
     ]
    },
    {
     "name": "stdout",
     "output_type": "stream",
     "text": [
      "\u001b[1;36m16.344\u001b[0m: Patient \u001b[1;36m3\u001b[0m \u001b[1m(\u001b[0mstroke\u001b[1m)\u001b[0m LOS on rehab unit: \u001b[1;36m8.934\u001b[0m                                                                \n"
     ]
    },
    {
     "name": "stdout",
     "output_type": "stream",
     "text": [
      "\u001b[1;36m17.393\u001b[0m: Patient \u001b[1;36m4\u001b[0m \u001b[1m(\u001b[0mstroke\u001b[1m)\u001b[0m arrive at ASU.                                                                          \n"
     ]
    },
    {
     "name": "stdout",
     "output_type": "stream",
     "text": [
      "\u001b[1;36m17.393\u001b[0m: Patient \u001b[1;36m4\u001b[0m \u001b[1m(\u001b[0mstroke\u001b[1m)\u001b[0m post-ASU: other                                                                         \n"
     ]
    },
    {
     "name": "stdout",
     "output_type": "stream",
     "text": [
      "\u001b[1;36m17.393\u001b[0m: Patient \u001b[1;36m4\u001b[0m \u001b[1m(\u001b[0mstroke\u001b[1m)\u001b[0m LOS on ASU: \u001b[1;36m1.182\u001b[0m                                                                       \n"
     ]
    },
    {
     "name": "stdout",
     "output_type": "stream",
     "text": [
      "\u001b[1;36m19.112\u001b[0m: Patient \u001b[1;36m5\u001b[0m \u001b[1m(\u001b[0mneuro\u001b[1m)\u001b[0m arrive at ASU.                                                                           \n"
     ]
    },
    {
     "name": "stdout",
     "output_type": "stream",
     "text": [
      "\u001b[1;36m19.112\u001b[0m: Patient \u001b[1;36m5\u001b[0m \u001b[1m(\u001b[0mneuro\u001b[1m)\u001b[0m post-ASU: other                                                                          \n"
     ]
    },
    {
     "name": "stdout",
     "output_type": "stream",
     "text": [
      "\u001b[1;36m19.112\u001b[0m: Patient \u001b[1;36m5\u001b[0m \u001b[1m(\u001b[0mneuro\u001b[1m)\u001b[0m LOS on ASU: \u001b[1;36m4.792\u001b[0m                                                                        \n"
     ]
    },
    {
     "name": "stdout",
     "output_type": "stream",
     "text": [
      "\u001b[1;36m19.926\u001b[0m: Patient \u001b[1;36m6\u001b[0m \u001b[1m(\u001b[0mneuro\u001b[1m)\u001b[0m arrive at ASU.                                                                           \n"
     ]
    },
    {
     "name": "stdout",
     "output_type": "stream",
     "text": [
      "\u001b[1;36m19.926\u001b[0m: Patient \u001b[1;36m6\u001b[0m \u001b[1m(\u001b[0mneuro\u001b[1m)\u001b[0m post-ASU: other                                                                          \n"
     ]
    },
    {
     "name": "stdout",
     "output_type": "stream",
     "text": [
      "\u001b[1;36m19.926\u001b[0m: Patient \u001b[1;36m6\u001b[0m \u001b[1m(\u001b[0mneuro\u001b[1m)\u001b[0m LOS on ASU: \u001b[1;36m0.403\u001b[0m                                                                        \n"
     ]
    },
    {
     "name": "stdout",
     "output_type": "stream",
     "text": [
      "\u001b[1;36m20.721\u001b[0m: Patient \u001b[1;36m7\u001b[0m \u001b[1m(\u001b[0mneuro\u001b[1m)\u001b[0m arrive at ASU.                                                                           \n"
     ]
    },
    {
     "name": "stdout",
     "output_type": "stream",
     "text": [
      "\u001b[1;36m20.721\u001b[0m: Patient \u001b[1;36m7\u001b[0m \u001b[1m(\u001b[0mneuro\u001b[1m)\u001b[0m post-ASU: other                                                                          \n"
     ]
    },
    {
     "name": "stdout",
     "output_type": "stream",
     "text": [
      "\u001b[1;36m20.721\u001b[0m: Patient \u001b[1;36m7\u001b[0m \u001b[1m(\u001b[0mneuro\u001b[1m)\u001b[0m LOS on ASU: \u001b[1;36m4.662\u001b[0m                                                                        \n"
     ]
    },
    {
     "name": "stdout",
     "output_type": "stream",
     "text": [
      "\u001b[1;36m21.850\u001b[0m: Patient \u001b[1;36m8\u001b[0m \u001b[1m(\u001b[0mother\u001b[1m)\u001b[0m arrive at ASU.                                                                           \n"
     ]
    },
    {
     "name": "stdout",
     "output_type": "stream",
     "text": [
      "\u001b[1;36m21.850\u001b[0m: Patient \u001b[1;36m8\u001b[0m \u001b[1m(\u001b[0mother\u001b[1m)\u001b[0m post-ASU: rehab                                                                          \n"
     ]
    },
    {
     "name": "stdout",
     "output_type": "stream",
     "text": [
      "\u001b[1;36m21.850\u001b[0m: Patient \u001b[1;36m8\u001b[0m \u001b[1m(\u001b[0mother\u001b[1m)\u001b[0m LOS on ASU: \u001b[1;36m1.690\u001b[0m                                                                        \n"
     ]
    },
    {
     "name": "stdout",
     "output_type": "stream",
     "text": [
      "\u001b[1;36m21.945\u001b[0m: Patient \u001b[1;36m12\u001b[0m \u001b[1m(\u001b[0mstroke\u001b[1m)\u001b[0m arrive at rehab.                                                                       \n"
     ]
    },
    {
     "name": "stdout",
     "output_type": "stream",
     "text": [
      "\u001b[1;36m21.945\u001b[0m: Patient \u001b[1;36m12\u001b[0m \u001b[1m(\u001b[0mstroke\u001b[1m)\u001b[0m post-rehab: other                                                                      \n"
     ]
    },
    {
     "name": "stdout",
     "output_type": "stream",
     "text": [
      "\u001b[1;36m21.945\u001b[0m: Patient \u001b[1;36m12\u001b[0m \u001b[1m(\u001b[0mstroke\u001b[1m)\u001b[0m LOS on rehab unit: \u001b[1;36m57.854\u001b[0m                                                              \n"
     ]
    },
    {
     "name": "stdout",
     "output_type": "stream",
     "text": [
      "\u001b[1;36m22.650\u001b[0m: Patient \u001b[1;36m9\u001b[0m \u001b[1m(\u001b[0mstroke\u001b[1m)\u001b[0m arrive at ASU.                                                                          \n"
     ]
    },
    {
     "name": "stdout",
     "output_type": "stream",
     "text": [
      "\u001b[1;36m22.650\u001b[0m: Patient \u001b[1;36m9\u001b[0m \u001b[1m(\u001b[0mstroke\u001b[1m)\u001b[0m post-ASU: esd                                                                           \n"
     ]
    },
    {
     "name": "stdout",
     "output_type": "stream",
     "text": [
      "\u001b[1;36m22.650\u001b[0m: Patient \u001b[1;36m9\u001b[0m \u001b[1m(\u001b[0mstroke\u001b[1m)\u001b[0m LOS on ASU: \u001b[1;36m3.327\u001b[0m                                                                       \n"
     ]
    },
    {
     "name": "stdout",
     "output_type": "stream",
     "text": [
      "\u001b[1;36m22.881\u001b[0m: Patient \u001b[1;36m10\u001b[0m \u001b[1m(\u001b[0mstroke\u001b[1m)\u001b[0m arrive at ASU.                                                                         \n"
     ]
    },
    {
     "name": "stdout",
     "output_type": "stream",
     "text": [
      "\u001b[1;36m22.881\u001b[0m: Patient \u001b[1;36m10\u001b[0m \u001b[1m(\u001b[0mstroke\u001b[1m)\u001b[0m post-ASU: other                                                                        \n"
     ]
    },
    {
     "name": "stdout",
     "output_type": "stream",
     "text": [
      "\u001b[1;36m22.881\u001b[0m: Patient \u001b[1;36m10\u001b[0m \u001b[1m(\u001b[0mstroke\u001b[1m)\u001b[0m LOS on ASU: \u001b[1;36m8.521\u001b[0m                                                                      \n"
     ]
    },
    {
     "name": "stdout",
     "output_type": "stream",
     "text": [
      "\u001b[1;36m23.232\u001b[0m: Patient \u001b[1;36m11\u001b[0m \u001b[1m(\u001b[0mstroke\u001b[1m)\u001b[0m arrive at ASU.                                                                         \n"
     ]
    },
    {
     "name": "stdout",
     "output_type": "stream",
     "text": [
      "\u001b[1;36m23.232\u001b[0m: Patient \u001b[1;36m11\u001b[0m \u001b[1m(\u001b[0mstroke\u001b[1m)\u001b[0m post-ASU: other                                                                        \n"
     ]
    },
    {
     "name": "stdout",
     "output_type": "stream",
     "text": [
      "\u001b[1;36m23.232\u001b[0m: Patient \u001b[1;36m11\u001b[0m \u001b[1m(\u001b[0mstroke\u001b[1m)\u001b[0m LOS on ASU: \u001b[1;36m6.847\u001b[0m                                                                      \n"
     ]
    },
    {
     "name": "stdout",
     "output_type": "stream",
     "text": [
      "\u001b[1;36m23.265\u001b[0m: Patient \u001b[1;36m12\u001b[0m \u001b[1m(\u001b[0mstroke\u001b[1m)\u001b[0m arrive at ASU.                                                                         \n"
     ]
    },
    {
     "name": "stdout",
     "output_type": "stream",
     "text": [
      "\u001b[1;36m23.265\u001b[0m: Patient \u001b[1;36m12\u001b[0m \u001b[1m(\u001b[0mstroke\u001b[1m)\u001b[0m post-ASU: other                                                                        \n"
     ]
    },
    {
     "name": "stdout",
     "output_type": "stream",
     "text": [
      "\u001b[1;36m23.265\u001b[0m: Patient \u001b[1;36m12\u001b[0m \u001b[1m(\u001b[0mstroke\u001b[1m)\u001b[0m LOS on ASU: \u001b[1;36m3.668\u001b[0m                                                                      \n"
     ]
    },
    {
     "name": "stdout",
     "output_type": "stream",
     "text": [
      "\u001b[1;36m23.540\u001b[0m: Patient \u001b[1;36m8\u001b[0m \u001b[1m(\u001b[0mother\u001b[1m)\u001b[0m arrive at rehab.                                                                         \n"
     ]
    },
    {
     "name": "stdout",
     "output_type": "stream",
     "text": [
      "\u001b[1;36m23.540\u001b[0m: Patient \u001b[1;36m8\u001b[0m \u001b[1m(\u001b[0mother\u001b[1m)\u001b[0m post-rehab: other                                                                        \n"
     ]
    },
    {
     "name": "stdout",
     "output_type": "stream",
     "text": [
      "\u001b[1;36m23.540\u001b[0m: Patient \u001b[1;36m8\u001b[0m \u001b[1m(\u001b[0mother\u001b[1m)\u001b[0m LOS on rehab unit: \u001b[1;36m8.140\u001b[0m                                                                 \n"
     ]
    },
    {
     "name": "stdout",
     "output_type": "stream",
     "text": [
      "\u001b[1;36m24.034\u001b[0m: Patient \u001b[1;36m13\u001b[0m \u001b[1m(\u001b[0mstroke\u001b[1m)\u001b[0m arrive at ASU.                                                                         \n"
     ]
    },
    {
     "name": "stdout",
     "output_type": "stream",
     "text": [
      "\u001b[1;36m24.034\u001b[0m: Patient \u001b[1;36m13\u001b[0m \u001b[1m(\u001b[0mstroke\u001b[1m)\u001b[0m post-ASU: other                                                                        \n"
     ]
    },
    {
     "name": "stdout",
     "output_type": "stream",
     "text": [
      "\u001b[1;36m24.034\u001b[0m: Patient \u001b[1;36m13\u001b[0m \u001b[1m(\u001b[0mstroke\u001b[1m)\u001b[0m LOS on ASU: \u001b[1;36m3.320\u001b[0m                                                                      \n"
     ]
    },
    {
     "name": "stdout",
     "output_type": "stream",
     "text": [
      "\u001b[1;36m24.887\u001b[0m: Patient \u001b[1;36m14\u001b[0m \u001b[1m(\u001b[0mother\u001b[1m)\u001b[0m arrive at ASU.                                                                          \n"
     ]
    },
    {
     "name": "stdout",
     "output_type": "stream",
     "text": [
      "\u001b[1;36m24.887\u001b[0m: Patient \u001b[1;36m14\u001b[0m \u001b[1m(\u001b[0mother\u001b[1m)\u001b[0m post-ASU: other                                                                         \n"
     ]
    },
    {
     "name": "stdout",
     "output_type": "stream",
     "text": [
      "\u001b[1;36m24.887\u001b[0m: Patient \u001b[1;36m14\u001b[0m \u001b[1m(\u001b[0mother\u001b[1m)\u001b[0m LOS on ASU: \u001b[1;36m7.381\u001b[0m                                                                       \n"
     ]
    },
    {
     "name": "stdout",
     "output_type": "stream",
     "text": [
      "\u001b[1;36m25.628\u001b[0m: Patient \u001b[1;36m8\u001b[0m \u001b[1m(\u001b[0mstroke\u001b[1m)\u001b[0m arrive at rehab.                                                                        \n"
     ]
    },
    {
     "name": "stdout",
     "output_type": "stream",
     "text": [
      "\u001b[1;36m25.628\u001b[0m: Patient \u001b[1;36m8\u001b[0m \u001b[1m(\u001b[0mstroke\u001b[1m)\u001b[0m post-rehab: other                                                                       \n"
     ]
    },
    {
     "name": "stdout",
     "output_type": "stream",
     "text": [
      "\u001b[1;36m25.628\u001b[0m: Patient \u001b[1;36m8\u001b[0m \u001b[1m(\u001b[0mstroke\u001b[1m)\u001b[0m LOS on rehab unit: \u001b[1;36m20.442\u001b[0m                                                               \n"
     ]
    },
    {
     "name": "stdout",
     "output_type": "stream",
     "text": [
      "\u001b[1;36m26.491\u001b[0m: Patient \u001b[1;36m15\u001b[0m \u001b[1m(\u001b[0mtia\u001b[1m)\u001b[0m arrive at ASU.                                                                            \n"
     ]
    },
    {
     "name": "stdout",
     "output_type": "stream",
     "text": [
      "\u001b[1;36m26.491\u001b[0m: Patient \u001b[1;36m15\u001b[0m \u001b[1m(\u001b[0mtia\u001b[1m)\u001b[0m post-ASU: other                                                                           \n"
     ]
    },
    {
     "name": "stdout",
     "output_type": "stream",
     "text": [
      "\u001b[1;36m26.491\u001b[0m: Patient \u001b[1;36m15\u001b[0m \u001b[1m(\u001b[0mtia\u001b[1m)\u001b[0m LOS on ASU: \u001b[1;36m0.913\u001b[0m                                                                         \n"
     ]
    },
    {
     "name": "stdout",
     "output_type": "stream",
     "text": [
      "\u001b[1;36m27.156\u001b[0m: Patient \u001b[1;36m16\u001b[0m \u001b[1m(\u001b[0mtia\u001b[1m)\u001b[0m arrive at ASU.                                                                            \n"
     ]
    },
    {
     "name": "stdout",
     "output_type": "stream",
     "text": [
      "\u001b[1;36m27.156\u001b[0m: Patient \u001b[1;36m16\u001b[0m \u001b[1m(\u001b[0mtia\u001b[1m)\u001b[0m post-ASU: other                                                                           \n"
     ]
    },
    {
     "name": "stdout",
     "output_type": "stream",
     "text": [
      "\u001b[1;36m27.156\u001b[0m: Patient \u001b[1;36m16\u001b[0m \u001b[1m(\u001b[0mtia\u001b[1m)\u001b[0m LOS on ASU: \u001b[1;36m0.611\u001b[0m                                                                         \n"
     ]
    },
    {
     "name": "stdout",
     "output_type": "stream",
     "text": [
      "\u001b[1;36m27.165\u001b[0m: Patient \u001b[1;36m17\u001b[0m \u001b[1m(\u001b[0mstroke\u001b[1m)\u001b[0m arrive at ASU.                                                                         \n"
     ]
    },
    {
     "name": "stdout",
     "output_type": "stream",
     "text": [
      "\u001b[1;36m27.165\u001b[0m: Patient \u001b[1;36m17\u001b[0m \u001b[1m(\u001b[0mstroke\u001b[1m)\u001b[0m post-ASU: rehab                                                                        \n"
     ]
    },
    {
     "name": "stdout",
     "output_type": "stream",
     "text": [
      "\u001b[1;36m27.165\u001b[0m: Patient \u001b[1;36m17\u001b[0m \u001b[1m(\u001b[0mstroke\u001b[1m)\u001b[0m LOS on ASU: \u001b[1;36m10.474\u001b[0m                                                                     \n"
     ]
    },
    {
     "name": "stdout",
     "output_type": "stream",
     "text": [
      "\u001b[1;36m27.200\u001b[0m: Patient \u001b[1;36m18\u001b[0m \u001b[1m(\u001b[0mneuro\u001b[1m)\u001b[0m arrive at ASU.                                                                          \n"
     ]
    },
    {
     "name": "stdout",
     "output_type": "stream",
     "text": [
      "\u001b[1;36m27.200\u001b[0m: Patient \u001b[1;36m18\u001b[0m \u001b[1m(\u001b[0mneuro\u001b[1m)\u001b[0m post-ASU: rehab                                                                         \n"
     ]
    },
    {
     "name": "stdout",
     "output_type": "stream",
     "text": [
      "\u001b[1;36m27.200\u001b[0m: Patient \u001b[1;36m18\u001b[0m \u001b[1m(\u001b[0mneuro\u001b[1m)\u001b[0m LOS on ASU: \u001b[1;36m1.272\u001b[0m                                                                       \n"
     ]
    },
    {
     "name": "stdout",
     "output_type": "stream",
     "text": [
      "\u001b[1;36m27.438\u001b[0m: Patient \u001b[1;36m19\u001b[0m \u001b[1m(\u001b[0mneuro\u001b[1m)\u001b[0m arrive at ASU.                                                                          \n"
     ]
    },
    {
     "name": "stdout",
     "output_type": "stream",
     "text": [
      "\u001b[1;36m27.438\u001b[0m: Patient \u001b[1;36m19\u001b[0m \u001b[1m(\u001b[0mneuro\u001b[1m)\u001b[0m post-ASU: other                                                                         \n"
     ]
    },
    {
     "name": "stdout",
     "output_type": "stream",
     "text": [
      "\u001b[1;36m27.438\u001b[0m: Patient \u001b[1;36m19\u001b[0m \u001b[1m(\u001b[0mneuro\u001b[1m)\u001b[0m LOS on ASU: \u001b[1;36m22.218\u001b[0m                                                                      \n"
     ]
    },
    {
     "name": "stdout",
     "output_type": "stream",
     "text": [
      "\u001b[1;36m28.472\u001b[0m: Patient \u001b[1;36m18\u001b[0m \u001b[1m(\u001b[0mneuro\u001b[1m)\u001b[0m arrive at rehab.                                                                        \n"
     ]
    },
    {
     "name": "stdout",
     "output_type": "stream",
     "text": [
      "\u001b[1;36m28.472\u001b[0m: Patient \u001b[1;36m18\u001b[0m \u001b[1m(\u001b[0mneuro\u001b[1m)\u001b[0m post-rehab: other                                                                       \n"
     ]
    },
    {
     "name": "stdout",
     "output_type": "stream",
     "text": [
      "\u001b[1;36m28.472\u001b[0m: Patient \u001b[1;36m18\u001b[0m \u001b[1m(\u001b[0mneuro\u001b[1m)\u001b[0m LOS on rehab unit: \u001b[1;36m12.227\u001b[0m                                                               \n"
     ]
    },
    {
     "name": "stdout",
     "output_type": "stream",
     "text": [
      "\u001b[1;36m28.573\u001b[0m: Patient \u001b[1;36m20\u001b[0m \u001b[1m(\u001b[0mtia\u001b[1m)\u001b[0m arrive at ASU.                                                                            \n"
     ]
    },
    {
     "name": "stdout",
     "output_type": "stream",
     "text": [
      "\u001b[1;36m28.573\u001b[0m: Patient \u001b[1;36m20\u001b[0m \u001b[1m(\u001b[0mtia\u001b[1m)\u001b[0m post-ASU: other                                                                           \n"
     ]
    },
    {
     "name": "stdout",
     "output_type": "stream",
     "text": [
      "\u001b[1;36m28.573\u001b[0m: Patient \u001b[1;36m20\u001b[0m \u001b[1m(\u001b[0mtia\u001b[1m)\u001b[0m LOS on ASU: \u001b[1;36m1.315\u001b[0m                                                                         \n"
     ]
    },
    {
     "name": "stdout",
     "output_type": "stream",
     "text": [
      "\u001b[1;36m29.643\u001b[0m: Patient \u001b[1;36m21\u001b[0m \u001b[1m(\u001b[0mstroke\u001b[1m)\u001b[0m arrive at ASU.                                                                         \n"
     ]
    },
    {
     "name": "stdout",
     "output_type": "stream",
     "text": [
      "\u001b[1;36m29.643\u001b[0m: Patient \u001b[1;36m21\u001b[0m \u001b[1m(\u001b[0mstroke\u001b[1m)\u001b[0m post-ASU: esd                                                                          \n"
     ]
    },
    {
     "name": "stdout",
     "output_type": "stream",
     "text": [
      "\u001b[1;36m29.643\u001b[0m: Patient \u001b[1;36m21\u001b[0m \u001b[1m(\u001b[0mstroke\u001b[1m)\u001b[0m LOS on ASU: \u001b[1;36m0.740\u001b[0m                                                                      \n"
     ]
    },
    {
     "name": "stdout",
     "output_type": "stream",
     "text": [
      "\u001b[1;36m29.924\u001b[0m: Patient \u001b[1;36m22\u001b[0m \u001b[1m(\u001b[0mstroke\u001b[1m)\u001b[0m arrive at ASU.                                                                         \n"
     ]
    },
    {
     "name": "stdout",
     "output_type": "stream",
     "text": [
      "\u001b[1;36m29.924\u001b[0m: Patient \u001b[1;36m22\u001b[0m \u001b[1m(\u001b[0mstroke\u001b[1m)\u001b[0m post-ASU: other                                                                        \n"
     ]
    },
    {
     "name": "stdout",
     "output_type": "stream",
     "text": [
      "\u001b[1;36m29.924\u001b[0m: Patient \u001b[1;36m22\u001b[0m \u001b[1m(\u001b[0mstroke\u001b[1m)\u001b[0m LOS on ASU: \u001b[1;36m5.570\u001b[0m                                                                      \n"
     ]
    },
    {
     "name": "stdout",
     "output_type": "stream",
     "text": [
      "\u001b[1;36m30.341\u001b[0m: Patient \u001b[1;36m23\u001b[0m \u001b[1m(\u001b[0mtia\u001b[1m)\u001b[0m arrive at ASU.                                                                            \n"
     ]
    },
    {
     "name": "stdout",
     "output_type": "stream",
     "text": [
      "\u001b[1;36m30.341\u001b[0m: Patient \u001b[1;36m23\u001b[0m \u001b[1m(\u001b[0mtia\u001b[1m)\u001b[0m post-ASU: other                                                                           \n"
     ]
    },
    {
     "name": "stdout",
     "output_type": "stream",
     "text": [
      "\u001b[1;36m30.341\u001b[0m: Patient \u001b[1;36m23\u001b[0m \u001b[1m(\u001b[0mtia\u001b[1m)\u001b[0m LOS on ASU: \u001b[1;36m1.819\u001b[0m                                                                         \n"
     ]
    },
    {
     "name": "stdout",
     "output_type": "stream",
     "text": [
      "\u001b[1;36m30.350\u001b[0m: Patient \u001b[1;36m24\u001b[0m \u001b[1m(\u001b[0mstroke\u001b[1m)\u001b[0m arrive at ASU.                                                                         \n"
     ]
    },
    {
     "name": "stdout",
     "output_type": "stream",
     "text": [
      "\u001b[1;36m30.350\u001b[0m: Patient \u001b[1;36m24\u001b[0m \u001b[1m(\u001b[0mstroke\u001b[1m)\u001b[0m post-ASU: other                                                                        \n"
     ]
    },
    {
     "name": "stdout",
     "output_type": "stream",
     "text": [
      "\u001b[1;36m30.350\u001b[0m: Patient \u001b[1;36m24\u001b[0m \u001b[1m(\u001b[0mstroke\u001b[1m)\u001b[0m LOS on ASU: \u001b[1;36m1.364\u001b[0m                                                                      \n"
     ]
    },
    {
     "name": "stdout",
     "output_type": "stream",
     "text": [
      "\u001b[1;36m30.680\u001b[0m: Patient \u001b[1;36m25\u001b[0m \u001b[1m(\u001b[0mneuro\u001b[1m)\u001b[0m arrive at ASU.                                                                          \n"
     ]
    },
    {
     "name": "stdout",
     "output_type": "stream",
     "text": [
      "\u001b[1;36m30.680\u001b[0m: Patient \u001b[1;36m25\u001b[0m \u001b[1m(\u001b[0mneuro\u001b[1m)\u001b[0m post-ASU: other                                                                         \n"
     ]
    },
    {
     "name": "stdout",
     "output_type": "stream",
     "text": [
      "\u001b[1;36m30.680\u001b[0m: Patient \u001b[1;36m25\u001b[0m \u001b[1m(\u001b[0mneuro\u001b[1m)\u001b[0m LOS on ASU: \u001b[1;36m5.272\u001b[0m                                                                       \n"
     ]
    },
    {
     "name": "stdout",
     "output_type": "stream",
     "text": [
      "\u001b[1;36m31.743\u001b[0m: Patient \u001b[1;36m26\u001b[0m \u001b[1m(\u001b[0mneuro\u001b[1m)\u001b[0m arrive at ASU.                                                                          \n"
     ]
    },
    {
     "name": "stdout",
     "output_type": "stream",
     "text": [
      "\u001b[1;36m31.743\u001b[0m: Patient \u001b[1;36m26\u001b[0m \u001b[1m(\u001b[0mneuro\u001b[1m)\u001b[0m post-ASU: rehab                                                                         \n"
     ]
    },
    {
     "name": "stdout",
     "output_type": "stream",
     "text": [
      "\u001b[1;36m31.743\u001b[0m: Patient \u001b[1;36m26\u001b[0m \u001b[1m(\u001b[0mneuro\u001b[1m)\u001b[0m LOS on ASU: \u001b[1;36m6.138\u001b[0m                                                                       \n"
     ]
    },
    {
     "name": "stdout",
     "output_type": "stream",
     "text": [
      "\u001b[1;36m32.085\u001b[0m: Patient \u001b[1;36m27\u001b[0m \u001b[1m(\u001b[0mstroke\u001b[1m)\u001b[0m arrive at ASU.                                                                         \n"
     ]
    },
    {
     "name": "stdout",
     "output_type": "stream",
     "text": [
      "\u001b[1;36m32.085\u001b[0m: Patient \u001b[1;36m27\u001b[0m \u001b[1m(\u001b[0mstroke\u001b[1m)\u001b[0m post-ASU: rehab                                                                        \n"
     ]
    },
    {
     "name": "stdout",
     "output_type": "stream",
     "text": [
      "\u001b[1;36m32.085\u001b[0m: Patient \u001b[1;36m27\u001b[0m \u001b[1m(\u001b[0mstroke\u001b[1m)\u001b[0m LOS on ASU: \u001b[1;36m5.326\u001b[0m                                                                      \n"
     ]
    },
    {
     "name": "stdout",
     "output_type": "stream",
     "text": [
      "\u001b[1;36m33.475\u001b[0m: Patient \u001b[1;36m28\u001b[0m \u001b[1m(\u001b[0mstroke\u001b[1m)\u001b[0m arrive at ASU.                                                                         \n"
     ]
    },
    {
     "name": "stdout",
     "output_type": "stream",
     "text": [
      "\u001b[1;36m33.475\u001b[0m: Patient \u001b[1;36m28\u001b[0m \u001b[1m(\u001b[0mstroke\u001b[1m)\u001b[0m post-ASU: other                                                                        \n"
     ]
    },
    {
     "name": "stdout",
     "output_type": "stream",
     "text": [
      "\u001b[1;36m33.475\u001b[0m: Patient \u001b[1;36m28\u001b[0m \u001b[1m(\u001b[0mstroke\u001b[1m)\u001b[0m LOS on ASU: \u001b[1;36m3.993\u001b[0m                                                                      \n"
     ]
    },
    {
     "name": "stdout",
     "output_type": "stream",
     "text": [
      "\u001b[1;36m37.411\u001b[0m: Patient \u001b[1;36m27\u001b[0m \u001b[1m(\u001b[0mstroke\u001b[1m)\u001b[0m arrive at rehab.                                                                       \n"
     ]
    },
    {
     "name": "stdout",
     "output_type": "stream",
     "text": [
      "\u001b[1;36m37.411\u001b[0m: Patient \u001b[1;36m27\u001b[0m \u001b[1m(\u001b[0mstroke\u001b[1m)\u001b[0m post-rehab: esd                                                                        \n"
     ]
    },
    {
     "name": "stdout",
     "output_type": "stream",
     "text": [
      "\u001b[1;36m37.411\u001b[0m: Patient \u001b[1;36m27\u001b[0m \u001b[1m(\u001b[0mstroke\u001b[1m)\u001b[0m LOS on rehab unit: \u001b[1;36m21.042\u001b[0m                                                              \n"
     ]
    },
    {
     "name": "stdout",
     "output_type": "stream",
     "text": [
      "\u001b[1;36m37.638\u001b[0m: Patient \u001b[1;36m17\u001b[0m \u001b[1m(\u001b[0mstroke\u001b[1m)\u001b[0m arrive at rehab.                                                                       \n"
     ]
    },
    {
     "name": "stdout",
     "output_type": "stream",
     "text": [
      "\u001b[1;36m37.638\u001b[0m: Patient \u001b[1;36m17\u001b[0m \u001b[1m(\u001b[0mstroke\u001b[1m)\u001b[0m post-rehab: other                                                                      \n"
     ]
    },
    {
     "name": "stdout",
     "output_type": "stream",
     "text": [
      "\u001b[1;36m37.638\u001b[0m: Patient \u001b[1;36m17\u001b[0m \u001b[1m(\u001b[0mstroke\u001b[1m)\u001b[0m LOS on rehab unit: \u001b[1;36m22.310\u001b[0m                                                              \n"
     ]
    },
    {
     "name": "stdout",
     "output_type": "stream",
     "text": [
      "\u001b[1;36m37.881\u001b[0m: Patient \u001b[1;36m26\u001b[0m \u001b[1m(\u001b[0mneuro\u001b[1m)\u001b[0m arrive at rehab.                                                                        \n"
     ]
    },
    {
     "name": "stdout",
     "output_type": "stream",
     "text": [
      "\u001b[1;36m37.881\u001b[0m: Patient \u001b[1;36m26\u001b[0m \u001b[1m(\u001b[0mneuro\u001b[1m)\u001b[0m post-rehab: other                                                                       \n"
     ]
    },
    {
     "name": "stdout",
     "output_type": "stream",
     "text": [
      "\u001b[1;36m37.881\u001b[0m: Patient \u001b[1;36m26\u001b[0m \u001b[1m(\u001b[0mneuro\u001b[1m)\u001b[0m LOS on rehab unit: \u001b[1;36m118.211\u001b[0m                                                              \n"
     ]
    },
    {
     "name": "stdout",
     "output_type": "stream",
     "text": [
      "\u001b[1;36m38.220\u001b[0m: Patient \u001b[1;36m29\u001b[0m \u001b[1m(\u001b[0mother\u001b[1m)\u001b[0m arrive at ASU.                                                                          \n"
     ]
    },
    {
     "name": "stdout",
     "output_type": "stream",
     "text": [
      "\u001b[1;36m38.220\u001b[0m: Patient \u001b[1;36m29\u001b[0m \u001b[1m(\u001b[0mother\u001b[1m)\u001b[0m post-ASU: other                                                                         \n"
     ]
    },
    {
     "name": "stdout",
     "output_type": "stream",
     "text": [
      "\u001b[1;36m38.220\u001b[0m: Patient \u001b[1;36m29\u001b[0m \u001b[1m(\u001b[0mother\u001b[1m)\u001b[0m LOS on ASU: \u001b[1;36m3.916\u001b[0m                                                                       \n"
     ]
    },
    {
     "name": "stdout",
     "output_type": "stream",
     "text": [
      "\u001b[1;36m39.150\u001b[0m: Patient \u001b[1;36m30\u001b[0m \u001b[1m(\u001b[0mstroke\u001b[1m)\u001b[0m arrive at ASU.                                                                         \n"
     ]
    },
    {
     "name": "stdout",
     "output_type": "stream",
     "text": [
      "\u001b[1;36m39.150\u001b[0m: Patient \u001b[1;36m30\u001b[0m \u001b[1m(\u001b[0mstroke\u001b[1m)\u001b[0m post-ASU: esd                                                                          \n"
     ]
    },
    {
     "name": "stdout",
     "output_type": "stream",
     "text": [
      "\u001b[1;36m39.150\u001b[0m: Patient \u001b[1;36m30\u001b[0m \u001b[1m(\u001b[0mstroke\u001b[1m)\u001b[0m LOS on ASU: \u001b[1;36m16.195\u001b[0m                                                                     \n"
     ]
    },
    {
     "name": "stdout",
     "output_type": "stream",
     "text": [
      "\u001b[1;36m39.412\u001b[0m: Patient \u001b[1;36m31\u001b[0m \u001b[1m(\u001b[0mstroke\u001b[1m)\u001b[0m arrive at ASU.                                                                         \n"
     ]
    },
    {
     "name": "stdout",
     "output_type": "stream",
     "text": [
      "\u001b[1;36m39.412\u001b[0m: Patient \u001b[1;36m31\u001b[0m \u001b[1m(\u001b[0mstroke\u001b[1m)\u001b[0m post-ASU: other                                                                        \n"
     ]
    },
    {
     "name": "stdout",
     "output_type": "stream",
     "text": [
      "\u001b[1;36m39.412\u001b[0m: Patient \u001b[1;36m31\u001b[0m \u001b[1m(\u001b[0mstroke\u001b[1m)\u001b[0m LOS on ASU: \u001b[1;36m2.613\u001b[0m                                                                      \n"
     ]
    },
    {
     "name": "stdout",
     "output_type": "stream",
     "text": [
      "\u001b[1;36m39.788\u001b[0m: Patient \u001b[1;36m32\u001b[0m \u001b[1m(\u001b[0mstroke\u001b[1m)\u001b[0m arrive at ASU.                                                                         \n"
     ]
    },
    {
     "name": "stdout",
     "output_type": "stream",
     "text": [
      "\u001b[1;36m39.788\u001b[0m: Patient \u001b[1;36m32\u001b[0m \u001b[1m(\u001b[0mstroke\u001b[1m)\u001b[0m post-ASU: esd                                                                          \n"
     ]
    },
    {
     "name": "stdout",
     "output_type": "stream",
     "text": [
      "\u001b[1;36m39.788\u001b[0m: Patient \u001b[1;36m32\u001b[0m \u001b[1m(\u001b[0mstroke\u001b[1m)\u001b[0m LOS on ASU: \u001b[1;36m26.878\u001b[0m                                                                     \n"
     ]
    },
    {
     "name": "stdout",
     "output_type": "stream",
     "text": [
      "\u001b[1;36m40.023\u001b[0m: Patient \u001b[1;36m33\u001b[0m \u001b[1m(\u001b[0mneuro\u001b[1m)\u001b[0m arrive at ASU.                                                                          \n"
     ]
    },
    {
     "name": "stdout",
     "output_type": "stream",
     "text": [
      "\u001b[1;36m40.023\u001b[0m: Patient \u001b[1;36m33\u001b[0m \u001b[1m(\u001b[0mneuro\u001b[1m)\u001b[0m post-ASU: other                                                                         \n"
     ]
    },
    {
     "name": "stdout",
     "output_type": "stream",
     "text": [
      "\u001b[1;36m40.023\u001b[0m: Patient \u001b[1;36m33\u001b[0m \u001b[1m(\u001b[0mneuro\u001b[1m)\u001b[0m LOS on ASU: \u001b[1;36m2.265\u001b[0m                                                                       \n"
     ]
    },
    {
     "name": "stdout",
     "output_type": "stream",
     "text": [
      "\u001b[1;36m40.100\u001b[0m: Patient \u001b[1;36m34\u001b[0m \u001b[1m(\u001b[0mother\u001b[1m)\u001b[0m arrive at ASU.                                                                          \n"
     ]
    },
    {
     "name": "stdout",
     "output_type": "stream",
     "text": [
      "\u001b[1;36m40.100\u001b[0m: Patient \u001b[1;36m34\u001b[0m \u001b[1m(\u001b[0mother\u001b[1m)\u001b[0m post-ASU: other                                                                         \n"
     ]
    },
    {
     "name": "stdout",
     "output_type": "stream",
     "text": [
      "\u001b[1;36m40.100\u001b[0m: Patient \u001b[1;36m34\u001b[0m \u001b[1m(\u001b[0mother\u001b[1m)\u001b[0m LOS on ASU: \u001b[1;36m5.739\u001b[0m                                                                       \n"
     ]
    },
    {
     "name": "stdout",
     "output_type": "stream",
     "text": [
      "\u001b[1;36m41.177\u001b[0m: Patient \u001b[1;36m35\u001b[0m \u001b[1m(\u001b[0mstroke\u001b[1m)\u001b[0m arrive at ASU.                                                                         \n"
     ]
    },
    {
     "name": "stdout",
     "output_type": "stream",
     "text": [
      "\u001b[1;36m41.177\u001b[0m: Patient \u001b[1;36m35\u001b[0m \u001b[1m(\u001b[0mstroke\u001b[1m)\u001b[0m post-ASU: other                                                                        \n"
     ]
    },
    {
     "name": "stdout",
     "output_type": "stream",
     "text": [
      "\u001b[1;36m41.177\u001b[0m: Patient \u001b[1;36m35\u001b[0m \u001b[1m(\u001b[0mstroke\u001b[1m)\u001b[0m LOS on ASU: \u001b[1;36m3.195\u001b[0m                                                                      \n"
     ]
    },
    {
     "name": "stdout",
     "output_type": "stream",
     "text": [
      "\u001b[1;36m42.937\u001b[0m: Patient \u001b[1;36m36\u001b[0m \u001b[1m(\u001b[0mstroke\u001b[1m)\u001b[0m arrive at ASU.                                                                         \n"
     ]
    },
    {
     "name": "stdout",
     "output_type": "stream",
     "text": [
      "\u001b[1;36m42.937\u001b[0m: Patient \u001b[1;36m36\u001b[0m \u001b[1m(\u001b[0mstroke\u001b[1m)\u001b[0m post-ASU: other                                                                        \n"
     ]
    },
    {
     "name": "stdout",
     "output_type": "stream",
     "text": [
      "\u001b[1;36m42.937\u001b[0m: Patient \u001b[1;36m36\u001b[0m \u001b[1m(\u001b[0mstroke\u001b[1m)\u001b[0m LOS on ASU: \u001b[1;36m6.028\u001b[0m                                                                      \n"
     ]
    },
    {
     "name": "stdout",
     "output_type": "stream",
     "text": [
      "\u001b[1;36m46.714\u001b[0m: Patient \u001b[1;36m37\u001b[0m \u001b[1m(\u001b[0mneuro\u001b[1m)\u001b[0m arrive at ASU.                                                                          \n"
     ]
    },
    {
     "name": "stdout",
     "output_type": "stream",
     "text": [
      "\u001b[1;36m46.714\u001b[0m: Patient \u001b[1;36m37\u001b[0m \u001b[1m(\u001b[0mneuro\u001b[1m)\u001b[0m post-ASU: other                                                                         \n"
     ]
    },
    {
     "name": "stdout",
     "output_type": "stream",
     "text": [
      "\u001b[1;36m46.714\u001b[0m: Patient \u001b[1;36m37\u001b[0m \u001b[1m(\u001b[0mneuro\u001b[1m)\u001b[0m LOS on ASU: \u001b[1;36m3.221\u001b[0m                                                                       \n"
     ]
    },
    {
     "name": "stdout",
     "output_type": "stream",
     "text": [
      "\u001b[1;36m46.767\u001b[0m: Patient \u001b[1;36m38\u001b[0m \u001b[1m(\u001b[0mneuro\u001b[1m)\u001b[0m arrive at ASU.                                                                          \n"
     ]
    },
    {
     "name": "stdout",
     "output_type": "stream",
     "text": [
      "\u001b[1;36m46.767\u001b[0m: Patient \u001b[1;36m38\u001b[0m \u001b[1m(\u001b[0mneuro\u001b[1m)\u001b[0m post-ASU: other                                                                         \n"
     ]
    },
    {
     "name": "stdout",
     "output_type": "stream",
     "text": [
      "\u001b[1;36m46.767\u001b[0m: Patient \u001b[1;36m38\u001b[0m \u001b[1m(\u001b[0mneuro\u001b[1m)\u001b[0m LOS on ASU: \u001b[1;36m7.771\u001b[0m                                                                       \n"
     ]
    },
    {
     "name": "stdout",
     "output_type": "stream",
     "text": [
      "\u001b[1;36m47.236\u001b[0m: Patient \u001b[1;36m39\u001b[0m \u001b[1m(\u001b[0mstroke\u001b[1m)\u001b[0m arrive at ASU.                                                                         \n"
     ]
    },
    {
     "name": "stdout",
     "output_type": "stream",
     "text": [
      "\u001b[1;36m47.236\u001b[0m: Patient \u001b[1;36m39\u001b[0m \u001b[1m(\u001b[0mstroke\u001b[1m)\u001b[0m post-ASU: other                                                                        \n"
     ]
    },
    {
     "name": "stdout",
     "output_type": "stream",
     "text": [
      "\u001b[1;36m47.236\u001b[0m: Patient \u001b[1;36m39\u001b[0m \u001b[1m(\u001b[0mstroke\u001b[1m)\u001b[0m LOS on ASU: \u001b[1;36m2.514\u001b[0m                                                                      \n"
     ]
    },
    {
     "name": "stdout",
     "output_type": "stream",
     "text": [
      "\u001b[1;36m47.902\u001b[0m: Patient \u001b[1;36m40\u001b[0m \u001b[1m(\u001b[0mstroke\u001b[1m)\u001b[0m arrive at ASU.                                                                         \n"
     ]
    },
    {
     "name": "stdout",
     "output_type": "stream",
     "text": [
      "\u001b[1;36m47.902\u001b[0m: Patient \u001b[1;36m40\u001b[0m \u001b[1m(\u001b[0mstroke\u001b[1m)\u001b[0m post-ASU: rehab                                                                        \n"
     ]
    },
    {
     "name": "stdout",
     "output_type": "stream",
     "text": [
      "\u001b[1;36m47.902\u001b[0m: Patient \u001b[1;36m40\u001b[0m \u001b[1m(\u001b[0mstroke\u001b[1m)\u001b[0m LOS on ASU: \u001b[1;36m5.220\u001b[0m                                                                      \n"
     ]
    },
    {
     "name": "stdout",
     "output_type": "stream",
     "text": [
      "\u001b[1;36m49.022\u001b[0m: Patient \u001b[1;36m41\u001b[0m \u001b[1m(\u001b[0mother\u001b[1m)\u001b[0m arrive at ASU.                                                                          \n"
     ]
    },
    {
     "name": "stdout",
     "output_type": "stream",
     "text": [
      "\u001b[1;36m49.022\u001b[0m: Patient \u001b[1;36m41\u001b[0m \u001b[1m(\u001b[0mother\u001b[1m)\u001b[0m post-ASU: other                                                                         \n"
     ]
    },
    {
     "name": "stdout",
     "output_type": "stream",
     "text": [
      "\u001b[1;36m49.022\u001b[0m: Patient \u001b[1;36m41\u001b[0m \u001b[1m(\u001b[0mother\u001b[1m)\u001b[0m LOS on ASU: \u001b[1;36m1.885\u001b[0m                                                                       \n"
     ]
    },
    {
     "name": "stdout",
     "output_type": "stream",
     "text": [
      "\u001b[1;36m49.181\u001b[0m: Patient \u001b[1;36m42\u001b[0m \u001b[1m(\u001b[0mstroke\u001b[1m)\u001b[0m arrive at ASU.                                                                         \n"
     ]
    },
    {
     "name": "stdout",
     "output_type": "stream",
     "text": [
      "\u001b[1;36m49.181\u001b[0m: Patient \u001b[1;36m42\u001b[0m \u001b[1m(\u001b[0mstroke\u001b[1m)\u001b[0m post-ASU: other                                                                        \n"
     ]
    },
    {
     "name": "stdout",
     "output_type": "stream",
     "text": [
      "\u001b[1;36m49.181\u001b[0m: Patient \u001b[1;36m42\u001b[0m \u001b[1m(\u001b[0mstroke\u001b[1m)\u001b[0m LOS on ASU: \u001b[1;36m9.292\u001b[0m                                                                      \n"
     ]
    },
    {
     "name": "stdout",
     "output_type": "stream",
     "text": [
      "\u001b[1;36m49.838\u001b[0m: Patient \u001b[1;36m43\u001b[0m \u001b[1m(\u001b[0mstroke\u001b[1m)\u001b[0m arrive at ASU.                                                                         \n"
     ]
    },
    {
     "name": "stdout",
     "output_type": "stream",
     "text": [
      "\u001b[1;36m49.838\u001b[0m: Patient \u001b[1;36m43\u001b[0m \u001b[1m(\u001b[0mstroke\u001b[1m)\u001b[0m post-ASU: other                                                                        \n"
     ]
    },
    {
     "name": "stdout",
     "output_type": "stream",
     "text": [
      "\u001b[1;36m49.838\u001b[0m: Patient \u001b[1;36m43\u001b[0m \u001b[1m(\u001b[0mstroke\u001b[1m)\u001b[0m LOS on ASU: \u001b[1;36m7.459\u001b[0m                                                                      \n"
     ]
    },
    {
     "name": "stdout",
     "output_type": "stream",
     "text": [
      "\u001b[1;36m53.122\u001b[0m: Patient \u001b[1;36m40\u001b[0m \u001b[1m(\u001b[0mstroke\u001b[1m)\u001b[0m arrive at rehab.                                                                       \n"
     ]
    },
    {
     "name": "stdout",
     "output_type": "stream",
     "text": [
      "\u001b[1;36m53.122\u001b[0m: Patient \u001b[1;36m40\u001b[0m \u001b[1m(\u001b[0mstroke\u001b[1m)\u001b[0m post-rehab: esd                                                                        \n"
     ]
    },
    {
     "name": "stdout",
     "output_type": "stream",
     "text": [
      "\u001b[1;36m53.122\u001b[0m: Patient \u001b[1;36m40\u001b[0m \u001b[1m(\u001b[0mstroke\u001b[1m)\u001b[0m LOS on rehab unit: \u001b[1;36m26.316\u001b[0m                                                              \n"
     ]
    }
   ],
   "source": [
    "param = Param(log_to_console=True, log_to_file=True,\n",
    "              log_file_path=\"../outputs/logs/log_example.log\",\n",
    "              warm_up_period=15, data_collection_period=40)\n",
    "_ = Runner(param).run_single(run=0)"
   ]
  },
  {
   "cell_type": "markdown",
   "metadata": {},
   "source": [
    "## Run time"
   ]
  },
  {
   "cell_type": "code",
   "execution_count": 4,
   "metadata": {},
   "outputs": [
    {
     "name": "stdout",
     "output_type": "stream",
     "text": [
      "Notebook run time: 0m 0s\n"
     ]
    }
   ],
   "source": [
    "# Get run time in seconds\n",
    "end_time = time.time()\n",
    "runtime = round(end_time - start_time)\n",
    "\n",
    "# Display converted to minutes and seconds\n",
    "print(f'Notebook run time: {runtime // 60}m {runtime % 60}s')"
   ]
  }
 ],
 "metadata": {
  "kernelspec": {
   "display_name": "pydesrapstroke",
   "language": "python",
   "name": "python3"
  },
  "language_info": {
   "codemirror_mode": {
    "name": "ipython",
    "version": 3
   },
   "file_extension": ".py",
   "mimetype": "text/x-python",
   "name": "python",
   "nbconvert_exporter": "python",
   "pygments_lexer": "ipython3",
   "version": "3.13.1"
  }
 },
 "nbformat": 4,
 "nbformat_minor": 2
}
