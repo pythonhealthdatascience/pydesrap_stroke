{
 "cells": [
  {
   "cell_type": "markdown",
   "metadata": {},
   "source": [
    "# Logs\n",
    "\n",
    "This notebook provides an example run of the model with logging enabled, so you can easily see what the logs look like."
   ]
  },
  {
   "cell_type": "code",
   "execution_count": 1,
   "metadata": {},
   "outputs": [],
   "source": [
    "# pylint: disable=missing-module-docstring\n",
    "import time\n",
    "\n",
    "from simulation.parameters import Param\n",
    "from simulation.runner import Runner"
   ]
  },
  {
   "cell_type": "code",
   "execution_count": 2,
   "metadata": {},
   "outputs": [],
   "source": [
    "# Start timer\n",
    "start_time = time.time()"
   ]
  },
  {
   "cell_type": "markdown",
   "metadata": {},
   "source": [
    "## Example run with logs"
   ]
  },
  {
   "cell_type": "code",
   "execution_count": 3,
   "metadata": {},
   "outputs": [
    {
     "name": "stdout",
     "output_type": "stream",
     "text": [
      "\u001b[1;36m0.000\u001b[0m: Initialise model:                                                                                           \n",
      "                                                                                                                   \n"
     ]
    },
    {
     "name": "stdout",
     "output_type": "stream",
     "text": [
      "\u001b[1m{\u001b[0m   \u001b[32m'asu_occupancy'\u001b[0m: \u001b[1;36m0\u001b[0m,                                                                                            \n",
      "    \u001b[32m'audit_interval'\u001b[0m: \u001b[1;36m1\u001b[0m,                                                                                           \n",
      "    \u001b[32m'audit_list'\u001b[0m: \u001b[1m[\u001b[0m\u001b[1m]\u001b[0m,                                                                                              \n",
      "    \u001b[32m'dist'\u001b[0m: \u001b[1m{\u001b[0m   \u001b[32m'arrival'\u001b[0m: \u001b[1m{\u001b[0m   \u001b[32m'asu'\u001b[0m: \u001b[1m{\u001b[0m   \u001b[32m'neuro'\u001b[0m: \u001b[1;35mExponential\u001b[0m\u001b[1m(\u001b[0m\u001b[33mmean\u001b[0m=\u001b[1;36m3\u001b[0m\u001b[1;36m.6\u001b[0m\u001b[1m)\u001b[0m,                                          \n",
      "                                          \u001b[32m'other'\u001b[0m: \u001b[1;35mExponential\u001b[0m\u001b[1m(\u001b[0m\u001b[33mmean\u001b[0m=\u001b[1;36m3\u001b[0m\u001b[1;36m.2\u001b[0m\u001b[1m)\u001b[0m,                                          \n",
      "                                          \u001b[32m'stroke'\u001b[0m: \u001b[1;35mExponential\u001b[0m\u001b[1m(\u001b[0m\u001b[33mmean\u001b[0m=\u001b[1;36m1\u001b[0m\u001b[1;36m.2\u001b[0m\u001b[1m)\u001b[0m,                                         \n",
      "                                          \u001b[32m'tia'\u001b[0m: \u001b[1;35mExponential\u001b[0m\u001b[1m(\u001b[0m\u001b[33mmean\u001b[0m=\u001b[1;36m9\u001b[0m\u001b[1;36m.3\u001b[0m\u001b[1m)\u001b[0m\u001b[1m}\u001b[0m,                                           \n",
      "                               \u001b[32m'rehab'\u001b[0m: \u001b[1m{\u001b[0m   \u001b[32m'neuro'\u001b[0m: \u001b[1;35mExponential\u001b[0m\u001b[1m(\u001b[0m\u001b[33mmean\u001b[0m=\u001b[1;36m31\u001b[0m\u001b[1;36m.7\u001b[0m\u001b[1m)\u001b[0m,                                       \n",
      "                                            \u001b[32m'other'\u001b[0m: \u001b[1;35mExponential\u001b[0m\u001b[1m(\u001b[0m\u001b[33mmean\u001b[0m=\u001b[1;36m28\u001b[0m\u001b[1;36m.6\u001b[0m\u001b[1m)\u001b[0m,                                       \n",
      "                                            \u001b[32m'stroke'\u001b[0m: \u001b[1;35mExponential\u001b[0m\u001b[1m(\u001b[0m\u001b[33mmean\u001b[0m=\u001b[1;36m21\u001b[0m\u001b[1;36m.8\u001b[0m\u001b[1m)\u001b[0m\u001b[1m}\u001b[0m\u001b[1m}\u001b[0m,                                    \n",
      "                \u001b[32m'los'\u001b[0m: \u001b[1m{\u001b[0m   \u001b[32m'asu'\u001b[0m: \u001b[1m{\u001b[0m   \u001b[32m'neuro'\u001b[0m: \u001b[1;35mLognormal\u001b[0m\u001b[1m(\u001b[0m\u001b[33mmean\u001b[0m=\u001b[1;36m4\u001b[0m\u001b[1;36m.0\u001b[0m, \u001b[33mstdev\u001b[0m=\u001b[1;36m5\u001b[0m\u001b[1;36m.0\u001b[0m\u001b[1m)\u001b[0m,                                     \n",
      "                                      \u001b[32m'other'\u001b[0m: \u001b[1;35mLognormal\u001b[0m\u001b[1m(\u001b[0m\u001b[33mmean\u001b[0m=\u001b[1;36m3\u001b[0m\u001b[1;36m.8\u001b[0m, \u001b[33mstdev\u001b[0m=\u001b[1;36m5\u001b[0m\u001b[1;36m.2\u001b[0m\u001b[1m)\u001b[0m,                                     \n",
      "                                      \u001b[32m'stroke_esd'\u001b[0m: \u001b[1;35mLognormal\u001b[0m\u001b[1m(\u001b[0m\u001b[33mmean\u001b[0m=\u001b[1;36m4\u001b[0m\u001b[1;36m.6\u001b[0m, \u001b[33mstdev\u001b[0m=\u001b[1;36m4\u001b[0m\u001b[1;36m.8\u001b[0m\u001b[1m)\u001b[0m,                                \n",
      "                                      \u001b[32m'stroke_mortality'\u001b[0m: \u001b[1;35mLognormal\u001b[0m\u001b[1m(\u001b[0m\u001b[33mmean\u001b[0m=\u001b[1;36m7\u001b[0m\u001b[1;36m.0\u001b[0m, \u001b[33mstdev\u001b[0m=\u001b[1;36m8\u001b[0m\u001b[1;36m.7\u001b[0m\u001b[1m)\u001b[0m,                          \n",
      "                                      \u001b[32m'stroke_noesd'\u001b[0m: \u001b[1;35mLognormal\u001b[0m\u001b[1m(\u001b[0m\u001b[33mmean\u001b[0m=\u001b[1;36m7\u001b[0m\u001b[1;36m.4\u001b[0m, \u001b[33mstdev\u001b[0m=\u001b[1;36m8\u001b[0m\u001b[1;36m.61\u001b[0m\u001b[1m)\u001b[0m,                             \n",
      "                                      \u001b[32m'tia'\u001b[0m: \u001b[1;35mLognormal\u001b[0m\u001b[1m(\u001b[0m\u001b[33mmean\u001b[0m=\u001b[1;36m1\u001b[0m\u001b[1;36m.8\u001b[0m, \u001b[33mstdev\u001b[0m=\u001b[1;36m2\u001b[0m\u001b[1;36m.3\u001b[0m\u001b[1m)\u001b[0m\u001b[1m}\u001b[0m,                                      \n",
      "                           \u001b[32m'rehab'\u001b[0m: \u001b[1m{\u001b[0m   \u001b[32m'neuro'\u001b[0m: \u001b[1;35mLognormal\u001b[0m\u001b[1m(\u001b[0m\u001b[33mmean\u001b[0m=\u001b[1;36m27\u001b[0m\u001b[1;36m.6\u001b[0m, \u001b[33mstdev\u001b[0m=\u001b[1;36m28\u001b[0m\u001b[1;36m.4\u001b[0m\u001b[1m)\u001b[0m,                                 \n",
      "                                        \u001b[32m'other'\u001b[0m: \u001b[1;35mLognormal\u001b[0m\u001b[1m(\u001b[0m\u001b[33mmean\u001b[0m=\u001b[1;36m16\u001b[0m\u001b[1;36m.1\u001b[0m, \u001b[33mstdev\u001b[0m=\u001b[1;36m14\u001b[0m\u001b[1;36m.1\u001b[0m\u001b[1m)\u001b[0m,                                 \n",
      "                                        \u001b[32m'stroke_esd'\u001b[0m: \u001b[1;35mLognormal\u001b[0m\u001b[1m(\u001b[0m\u001b[33mmean\u001b[0m=\u001b[1;36m30\u001b[0m\u001b[1;36m.3\u001b[0m, \u001b[33mstdev\u001b[0m=\u001b[1;36m23\u001b[0m\u001b[1;36m.1\u001b[0m\u001b[1m)\u001b[0m,                            \n",
      "                                        \u001b[32m'stroke_noesd'\u001b[0m: \u001b[1;35mLognormal\u001b[0m\u001b[1m(\u001b[0m\u001b[33mmean\u001b[0m=\u001b[1;36m28\u001b[0m\u001b[1;36m.4\u001b[0m, \u001b[33mstdev\u001b[0m=\u001b[1;36m27\u001b[0m\u001b[1;36m.2\u001b[0m\u001b[1m)\u001b[0m,                          \n",
      "                                        \u001b[32m'tia'\u001b[0m: \u001b[1;35mLognormal\u001b[0m\u001b[1m(\u001b[0m\u001b[33mmean\u001b[0m=\u001b[1;36m18\u001b[0m\u001b[1;36m.7\u001b[0m, \u001b[33mstdev\u001b[0m=\u001b[1;36m23\u001b[0m\u001b[1;36m.5\u001b[0m\u001b[1m)\u001b[0m\u001b[1m}\u001b[0m\u001b[1m}\u001b[0m,                                 \n",
      "                \u001b[32m'routing'\u001b[0m: \u001b[1m{\u001b[0m   \u001b[32m'asu'\u001b[0m: \u001b[1m{\u001b[0m   \u001b[32m'neuro'\u001b[0m: \u001b[1;35mDiscrete\u001b[0m\u001b[1m(\u001b[0m\u001b[33mvalues\u001b[0m=\u001b[1m[\u001b[0m\u001b[32m'rehab'\u001b[0m, \u001b[32m'esd'\u001b[0m, \u001b[32m'other'\u001b[0m\u001b[1m]\u001b[0m, \u001b[33mfreq\u001b[0m=\u001b[1m[\u001b[0m\u001b[1;36m0.11\u001b[0m, \u001b[1;36m0.05\u001b[0m,    \n",
      "\u001b[1;36m0.84\u001b[0m\u001b[1m]\u001b[0m\u001b[1m)\u001b[0m,                                                                                                            \n",
      "                                          \u001b[32m'other'\u001b[0m: \u001b[1;35mDiscrete\u001b[0m\u001b[1m(\u001b[0m\u001b[33mvalues\u001b[0m=\u001b[1m[\u001b[0m\u001b[32m'rehab'\u001b[0m, \u001b[32m'esd'\u001b[0m, \u001b[32m'other'\u001b[0m\u001b[1m]\u001b[0m, \u001b[33mfreq\u001b[0m=\u001b[1m[\u001b[0m\u001b[1;36m0.05\u001b[0m, \u001b[1;36m0.1\u001b[0m,     \n",
      "\u001b[1;36m0.85\u001b[0m\u001b[1m]\u001b[0m\u001b[1m)\u001b[0m,                                                                                                            \n",
      "                                          \u001b[32m'stroke'\u001b[0m: \u001b[1;35mDiscrete\u001b[0m\u001b[1m(\u001b[0m\u001b[33mvalues\u001b[0m=\u001b[1m[\u001b[0m\u001b[32m'rehab'\u001b[0m, \u001b[32m'esd'\u001b[0m, \u001b[32m'other'\u001b[0m\u001b[1m]\u001b[0m, \u001b[33mfreq\u001b[0m=\u001b[1m[\u001b[0m\u001b[1;36m0.24\u001b[0m, \u001b[1;36m0.13\u001b[0m,   \n",
      "\u001b[1;36m0.63\u001b[0m\u001b[1m]\u001b[0m\u001b[1m)\u001b[0m,                                                                                                            \n",
      "                                          \u001b[32m'tia'\u001b[0m: \u001b[1;35mDiscrete\u001b[0m\u001b[1m(\u001b[0m\u001b[33mvalues\u001b[0m=\u001b[1m[\u001b[0m\u001b[32m'rehab'\u001b[0m, \u001b[32m'esd'\u001b[0m, \u001b[32m'other'\u001b[0m\u001b[1m]\u001b[0m, \u001b[33mfreq\u001b[0m=\u001b[1m[\u001b[0m\u001b[1;36m0.01\u001b[0m, \u001b[1;36m0.01\u001b[0m,      \n",
      "\u001b[1;36m0.98\u001b[0m\u001b[1m]\u001b[0m\u001b[1m)\u001b[0m\u001b[1m}\u001b[0m,                                                                                                           \n",
      "                               \u001b[32m'rehab'\u001b[0m: \u001b[1m{\u001b[0m   \u001b[32m'neuro'\u001b[0m: \u001b[1;35mDiscrete\u001b[0m\u001b[1m(\u001b[0m\u001b[33mvalues\u001b[0m=\u001b[1m[\u001b[0m\u001b[32m'esd'\u001b[0m, \u001b[32m'other'\u001b[0m\u001b[1m]\u001b[0m, \u001b[33mfreq\u001b[0m=\u001b[1m[\u001b[0m\u001b[1;36m0.09\u001b[0m, \u001b[1;36m0.91\u001b[0m\u001b[1m]\u001b[0m\u001b[1m)\u001b[0m,         \n",
      "                                            \u001b[32m'other'\u001b[0m: \u001b[1;35mDiscrete\u001b[0m\u001b[1m(\u001b[0m\u001b[33mvalues\u001b[0m=\u001b[1m[\u001b[0m\u001b[32m'esd'\u001b[0m, \u001b[32m'other'\u001b[0m\u001b[1m]\u001b[0m, \u001b[33mfreq\u001b[0m=\u001b[1m[\u001b[0m\u001b[1;36m0.13\u001b[0m, \u001b[1;36m0.88\u001b[0m\u001b[1m]\u001b[0m\u001b[1m)\u001b[0m,         \n",
      "                                            \u001b[32m'stroke'\u001b[0m: \u001b[1;35mDiscrete\u001b[0m\u001b[1m(\u001b[0m\u001b[33mvalues\u001b[0m=\u001b[1m[\u001b[0m\u001b[32m'esd'\u001b[0m, \u001b[32m'other'\u001b[0m\u001b[1m]\u001b[0m, \u001b[33mfreq\u001b[0m=\u001b[1m[\u001b[0m\u001b[1;36m0.4\u001b[0m, \u001b[1;36m0.6\u001b[0m\u001b[1m]\u001b[0m\u001b[1m)\u001b[0m,          \n",
      "                                            \u001b[32m'tia'\u001b[0m: \u001b[1;35mDiscrete\u001b[0m\u001b[1m(\u001b[0m\u001b[33mvalues\u001b[0m=\u001b[1m[\u001b[0m\u001b[32m'other'\u001b[0m\u001b[1m]\u001b[0m, \u001b[33mfreq\u001b[0m=\u001b[1m[\u001b[0m\u001b[1;36m1.0\u001b[0m\u001b[1m]\u001b[0m\u001b[1m)\u001b[0m\u001b[1m}\u001b[0m\u001b[1m}\u001b[0m\u001b[1m}\u001b[0m,                      \n",
      "    \u001b[32m'env'\u001b[0m: \u001b[1m<\u001b[0m\u001b[1;95msimpy.core.Environment\u001b[0m\u001b[39m object at \u001b[0m\u001b[1;36m0x7f73a84b9550\u001b[0m\u001b[39m>,\u001b[0m                                                      \n",
      "\u001b[39m    \u001b[0m\u001b[32m'param'\u001b[0m\u001b[39m: <simulation.parameters.Param object at \u001b[0m\u001b[1;36m0x7f748020aba0\u001b[0m\u001b[1m>\u001b[0m,                                               \n",
      "    \u001b[32m'patients'\u001b[0m: \u001b[1m[\u001b[0m\u001b[1m]\u001b[0m,                                                                                                \n",
      "    \u001b[32m'rehab_occupancy'\u001b[0m: \u001b[1;36m0\u001b[0m,                                                                                          \n",
      "    \u001b[32m'run_number'\u001b[0m: \u001b[1;36m0\u001b[0m\u001b[1m}\u001b[0m                                                                                               \n"
     ]
    },
    {
     "name": "stdout",
     "output_type": "stream",
     "text": [
      "Parameters:                                                                                                        \n",
      "                                                                                                                   \n"
     ]
    },
    {
     "name": "stdout",
     "output_type": "stream",
     "text": [
      "\u001b[1m{\u001b[0m   \u001b[32m'_initialised'\u001b[0m: \u001b[3;92mTrue\u001b[0m,                                                                                          \n",
      "    \u001b[32m'audit_interval'\u001b[0m: \u001b[1;36m1\u001b[0m,                                                                                           \n",
      "    \u001b[32m'cores'\u001b[0m: \u001b[1;36m1\u001b[0m,                                                                                                    \n",
      "    \u001b[32m'data_collection_period'\u001b[0m: \u001b[1;36m40\u001b[0m,                                                                                  \n",
      "    \u001b[32m'dist_config'\u001b[0m: \u001b[1m{\u001b[0m   \u001b[32m'asu_arrival_neuro'\u001b[0m: \u001b[1m{\u001b[0m   \u001b[32m'class_name'\u001b[0m: \u001b[32m'Exponential'\u001b[0m,                                       \n",
      "                                                \u001b[32m'params'\u001b[0m: \u001b[1m{\u001b[0m\u001b[32m'mean'\u001b[0m: \u001b[1;36m3.6\u001b[0m\u001b[1m}\u001b[0m\u001b[1m}\u001b[0m,                                          \n",
      "                       \u001b[32m'asu_arrival_other'\u001b[0m: \u001b[1m{\u001b[0m   \u001b[32m'class_name'\u001b[0m: \u001b[32m'Exponential'\u001b[0m,                                       \n",
      "                                                \u001b[32m'params'\u001b[0m: \u001b[1m{\u001b[0m\u001b[32m'mean'\u001b[0m: \u001b[1;36m3.2\u001b[0m\u001b[1m}\u001b[0m\u001b[1m}\u001b[0m,                                          \n",
      "                       \u001b[32m'asu_arrival_stroke'\u001b[0m: \u001b[1m{\u001b[0m   \u001b[32m'class_name'\u001b[0m: \u001b[32m'Exponential'\u001b[0m,                                      \n",
      "                                                 \u001b[32m'params'\u001b[0m: \u001b[1m{\u001b[0m\u001b[32m'mean'\u001b[0m: \u001b[1;36m1.2\u001b[0m\u001b[1m}\u001b[0m\u001b[1m}\u001b[0m,                                         \n",
      "                       \u001b[32m'asu_arrival_tia'\u001b[0m: \u001b[1m{\u001b[0m   \u001b[32m'class_name'\u001b[0m: \u001b[32m'Exponential'\u001b[0m,                                         \n",
      "                                              \u001b[32m'params'\u001b[0m: \u001b[1m{\u001b[0m\u001b[32m'mean'\u001b[0m: \u001b[1;36m9.3\u001b[0m\u001b[1m}\u001b[0m\u001b[1m}\u001b[0m,                                            \n",
      "                       \u001b[32m'asu_los_neuro'\u001b[0m: \u001b[1m{\u001b[0m   \u001b[32m'class_name'\u001b[0m: \u001b[32m'Lognormal'\u001b[0m,                                             \n",
      "                                            \u001b[32m'params'\u001b[0m: \u001b[1m{\u001b[0m   \u001b[32m'mean'\u001b[0m: \u001b[1;36m4.0\u001b[0m,                                             \n",
      "                                                          \u001b[32m'stdev'\u001b[0m: \u001b[1;36m5.0\u001b[0m\u001b[1m}\u001b[0m\u001b[1m}\u001b[0m,                                          \n",
      "                       \u001b[32m'asu_los_other'\u001b[0m: \u001b[1m{\u001b[0m   \u001b[32m'class_name'\u001b[0m: \u001b[32m'Lognormal'\u001b[0m,                                             \n",
      "                                            \u001b[32m'params'\u001b[0m: \u001b[1m{\u001b[0m   \u001b[32m'mean'\u001b[0m: \u001b[1;36m3.8\u001b[0m,                                             \n",
      "                                                          \u001b[32m'stdev'\u001b[0m: \u001b[1;36m5.2\u001b[0m\u001b[1m}\u001b[0m\u001b[1m}\u001b[0m,                                          \n",
      "                       \u001b[32m'asu_los_stroke_esd'\u001b[0m: \u001b[1m{\u001b[0m   \u001b[32m'class_name'\u001b[0m: \u001b[32m'Lognormal'\u001b[0m,                                        \n",
      "                                                 \u001b[32m'params'\u001b[0m: \u001b[1m{\u001b[0m   \u001b[32m'mean'\u001b[0m: \u001b[1;36m4.6\u001b[0m,                                        \n",
      "                                                               \u001b[32m'stdev'\u001b[0m: \u001b[1;36m4.8\u001b[0m\u001b[1m}\u001b[0m\u001b[1m}\u001b[0m,                                     \n",
      "                       \u001b[32m'asu_los_stroke_mortality'\u001b[0m: \u001b[1m{\u001b[0m   \u001b[32m'class_name'\u001b[0m: \u001b[32m'Lognormal'\u001b[0m,                                  \n",
      "                                                       \u001b[32m'params'\u001b[0m: \u001b[1m{\u001b[0m   \u001b[32m'mean'\u001b[0m: \u001b[1;36m7.0\u001b[0m,                                  \n",
      "                                                                     \u001b[32m'stdev'\u001b[0m: \u001b[1;36m8.7\u001b[0m\u001b[1m}\u001b[0m\u001b[1m}\u001b[0m,                               \n",
      "                       \u001b[32m'asu_los_stroke_noesd'\u001b[0m: \u001b[1m{\u001b[0m   \u001b[32m'class_name'\u001b[0m: \u001b[32m'Lognormal'\u001b[0m,                                      \n",
      "                                                   \u001b[32m'params'\u001b[0m: \u001b[1m{\u001b[0m   \u001b[32m'mean'\u001b[0m: \u001b[1;36m7.4\u001b[0m,                                      \n",
      "                                                                 \u001b[32m'stdev'\u001b[0m: \u001b[1;36m8.61\u001b[0m\u001b[1m}\u001b[0m\u001b[1m}\u001b[0m,                                  \n",
      "                       \u001b[32m'asu_los_tia'\u001b[0m: \u001b[1m{\u001b[0m   \u001b[32m'class_name'\u001b[0m: \u001b[32m'Lognormal'\u001b[0m,                                               \n",
      "                                          \u001b[32m'params'\u001b[0m: \u001b[1m{\u001b[0m   \u001b[32m'mean'\u001b[0m: \u001b[1;36m1.8\u001b[0m,                                               \n",
      "                                                        \u001b[32m'stdev'\u001b[0m: \u001b[1;36m2.3\u001b[0m\u001b[1m}\u001b[0m\u001b[1m}\u001b[0m,                                            \n",
      "                       \u001b[32m'asu_routing_neuro'\u001b[0m: \u001b[1m{\u001b[0m   \u001b[32m'class_name'\u001b[0m: \u001b[32m'DiscreteEmpirical'\u001b[0m,                                 \n",
      "                                                \u001b[32m'params'\u001b[0m: \u001b[1m{\u001b[0m   \u001b[32m'freq'\u001b[0m: \u001b[1m[\u001b[0m   \u001b[1;36m0.11\u001b[0m,                                    \n",
      "                                                                          \u001b[1;36m0.05\u001b[0m,                                    \n",
      "                                                                          \u001b[1;36m0.84\u001b[0m\u001b[1m]\u001b[0m,                                   \n",
      "                                                              \u001b[32m'values'\u001b[0m: \u001b[1m[\u001b[0m   \u001b[32m'rehab'\u001b[0m,                               \n",
      "                                                                            \u001b[32m'esd'\u001b[0m,                                 \n",
      "                                                                            \u001b[32m'other'\u001b[0m\u001b[1m]\u001b[0m\u001b[1m}\u001b[0m\u001b[1m}\u001b[0m,                            \n",
      "                       \u001b[32m'asu_routing_other'\u001b[0m: \u001b[1m{\u001b[0m   \u001b[32m'class_name'\u001b[0m: \u001b[32m'DiscreteEmpirical'\u001b[0m,                                 \n",
      "                                                \u001b[32m'params'\u001b[0m: \u001b[1m{\u001b[0m   \u001b[32m'freq'\u001b[0m: \u001b[1m[\u001b[0m   \u001b[1;36m0.05\u001b[0m,                                    \n",
      "                                                                          \u001b[1;36m0.1\u001b[0m,                                     \n",
      "                                                                          \u001b[1;36m0.85\u001b[0m\u001b[1m]\u001b[0m,                                   \n",
      "                                                              \u001b[32m'values'\u001b[0m: \u001b[1m[\u001b[0m   \u001b[32m'rehab'\u001b[0m,                               \n",
      "                                                                            \u001b[32m'esd'\u001b[0m,                                 \n",
      "                                                                            \u001b[32m'other'\u001b[0m\u001b[1m]\u001b[0m\u001b[1m}\u001b[0m\u001b[1m}\u001b[0m,                            \n",
      "                       \u001b[32m'asu_routing_stroke'\u001b[0m: \u001b[1m{\u001b[0m   \u001b[32m'class_name'\u001b[0m: \u001b[32m'DiscreteEmpirical'\u001b[0m,                                \n",
      "                                                 \u001b[32m'params'\u001b[0m: \u001b[1m{\u001b[0m   \u001b[32m'freq'\u001b[0m: \u001b[1m[\u001b[0m   \u001b[1;36m0.24\u001b[0m,                                   \n",
      "                                                                           \u001b[1;36m0.13\u001b[0m,                                   \n",
      "                                                                           \u001b[1;36m0.63\u001b[0m\u001b[1m]\u001b[0m,                                  \n",
      "                                                               \u001b[32m'values'\u001b[0m: \u001b[1m[\u001b[0m   \u001b[32m'rehab'\u001b[0m,                              \n",
      "                                                                             \u001b[32m'esd'\u001b[0m,                                \n",
      "                                                                             \u001b[32m'other'\u001b[0m\u001b[1m]\u001b[0m\u001b[1m}\u001b[0m\u001b[1m}\u001b[0m,                           \n",
      "                       \u001b[32m'asu_routing_tia'\u001b[0m: \u001b[1m{\u001b[0m   \u001b[32m'class_name'\u001b[0m: \u001b[32m'DiscreteEmpirical'\u001b[0m,                                   \n",
      "                                              \u001b[32m'params'\u001b[0m: \u001b[1m{\u001b[0m   \u001b[32m'freq'\u001b[0m: \u001b[1m[\u001b[0m   \u001b[1;36m0.01\u001b[0m,                                      \n",
      "                                                                        \u001b[1;36m0.01\u001b[0m,                                      \n",
      "                                                                        \u001b[1;36m0.98\u001b[0m\u001b[1m]\u001b[0m,                                     \n",
      "                                                            \u001b[32m'values'\u001b[0m: \u001b[1m[\u001b[0m   \u001b[32m'rehab'\u001b[0m,                                 \n",
      "                                                                          \u001b[32m'esd'\u001b[0m,                                   \n",
      "                                                                          \u001b[32m'other'\u001b[0m\u001b[1m]\u001b[0m\u001b[1m}\u001b[0m\u001b[1m}\u001b[0m,                              \n",
      "                       \u001b[32m'rehab_arrival_neuro'\u001b[0m: \u001b[1m{\u001b[0m   \u001b[32m'class_name'\u001b[0m: \u001b[32m'Exponential'\u001b[0m,                                     \n",
      "                                                  \u001b[32m'params'\u001b[0m: \u001b[1m{\u001b[0m\u001b[32m'mean'\u001b[0m: \u001b[1;36m31.7\u001b[0m\u001b[1m}\u001b[0m\u001b[1m}\u001b[0m,                                       \n",
      "                       \u001b[32m'rehab_arrival_other'\u001b[0m: \u001b[1m{\u001b[0m   \u001b[32m'class_name'\u001b[0m: \u001b[32m'Exponential'\u001b[0m,                                     \n",
      "                                                  \u001b[32m'params'\u001b[0m: \u001b[1m{\u001b[0m\u001b[32m'mean'\u001b[0m: \u001b[1;36m28.6\u001b[0m\u001b[1m}\u001b[0m\u001b[1m}\u001b[0m,                                       \n",
      "                       \u001b[32m'rehab_arrival_stroke'\u001b[0m: \u001b[1m{\u001b[0m   \u001b[32m'class_name'\u001b[0m: \u001b[32m'Exponential'\u001b[0m,                                    \n",
      "                                                   \u001b[32m'params'\u001b[0m: \u001b[1m{\u001b[0m\u001b[32m'mean'\u001b[0m: \u001b[1;36m21.8\u001b[0m\u001b[1m}\u001b[0m\u001b[1m}\u001b[0m,                                      \n",
      "                       \u001b[32m'rehab_los_neuro'\u001b[0m: \u001b[1m{\u001b[0m   \u001b[32m'class_name'\u001b[0m: \u001b[32m'Lognormal'\u001b[0m,                                           \n",
      "                                              \u001b[32m'params'\u001b[0m: \u001b[1m{\u001b[0m   \u001b[32m'mean'\u001b[0m: \u001b[1;36m27.6\u001b[0m,                                          \n",
      "                                                            \u001b[32m'stdev'\u001b[0m: \u001b[1;36m28.4\u001b[0m\u001b[1m}\u001b[0m\u001b[1m}\u001b[0m,                                       \n",
      "                       \u001b[32m'rehab_los_other'\u001b[0m: \u001b[1m{\u001b[0m   \u001b[32m'class_name'\u001b[0m: \u001b[32m'Lognormal'\u001b[0m,                                           \n",
      "                                              \u001b[32m'params'\u001b[0m: \u001b[1m{\u001b[0m   \u001b[32m'mean'\u001b[0m: \u001b[1;36m16.1\u001b[0m,                                          \n",
      "                                                            \u001b[32m'stdev'\u001b[0m: \u001b[1;36m14.1\u001b[0m\u001b[1m}\u001b[0m\u001b[1m}\u001b[0m,                                       \n",
      "                       \u001b[32m'rehab_los_stroke_esd'\u001b[0m: \u001b[1m{\u001b[0m   \u001b[32m'class_name'\u001b[0m: \u001b[32m'Lognormal'\u001b[0m,                                      \n",
      "                                                   \u001b[32m'params'\u001b[0m: \u001b[1m{\u001b[0m   \u001b[32m'mean'\u001b[0m: \u001b[1;36m30.3\u001b[0m,                                     \n",
      "                                                                 \u001b[32m'stdev'\u001b[0m: \u001b[1;36m23.1\u001b[0m\u001b[1m}\u001b[0m\u001b[1m}\u001b[0m,                                  \n",
      "                       \u001b[32m'rehab_los_stroke_noesd'\u001b[0m: \u001b[1m{\u001b[0m   \u001b[32m'class_name'\u001b[0m: \u001b[32m'Lognormal'\u001b[0m,                                    \n",
      "                                                     \u001b[32m'params'\u001b[0m: \u001b[1m{\u001b[0m   \u001b[32m'mean'\u001b[0m: \u001b[1;36m28.4\u001b[0m,                                   \n",
      "                                                                   \u001b[32m'stdev'\u001b[0m: \u001b[1;36m27.2\u001b[0m\u001b[1m}\u001b[0m\u001b[1m}\u001b[0m,                                \n",
      "                       \u001b[32m'rehab_los_tia'\u001b[0m: \u001b[1m{\u001b[0m   \u001b[32m'class_name'\u001b[0m: \u001b[32m'Lognormal'\u001b[0m,                                             \n",
      "                                            \u001b[32m'params'\u001b[0m: \u001b[1m{\u001b[0m   \u001b[32m'mean'\u001b[0m: \u001b[1;36m18.7\u001b[0m,                                            \n",
      "                                                          \u001b[32m'stdev'\u001b[0m: \u001b[1;36m23.5\u001b[0m\u001b[1m}\u001b[0m\u001b[1m}\u001b[0m,                                         \n",
      "                       \u001b[32m'rehab_routing_neuro'\u001b[0m: \u001b[1m{\u001b[0m   \u001b[32m'class_name'\u001b[0m: \u001b[32m'DiscreteEmpirical'\u001b[0m,                               \n",
      "                                                  \u001b[32m'params'\u001b[0m: \u001b[1m{\u001b[0m   \u001b[32m'freq'\u001b[0m: \u001b[1m[\u001b[0m   \u001b[1;36m0.09\u001b[0m,                                  \n",
      "                                                                            \u001b[1;36m0.91\u001b[0m\u001b[1m]\u001b[0m,                                 \n",
      "                                                                \u001b[32m'values'\u001b[0m: \u001b[1m[\u001b[0m   \u001b[32m'esd'\u001b[0m,                               \n",
      "                                                                              \u001b[32m'other'\u001b[0m\u001b[1m]\u001b[0m\u001b[1m}\u001b[0m\u001b[1m}\u001b[0m,                          \n",
      "                       \u001b[32m'rehab_routing_other'\u001b[0m: \u001b[1m{\u001b[0m   \u001b[32m'class_name'\u001b[0m: \u001b[32m'DiscreteEmpirical'\u001b[0m,                               \n",
      "                                                  \u001b[32m'params'\u001b[0m: \u001b[1m{\u001b[0m   \u001b[32m'freq'\u001b[0m: \u001b[1m[\u001b[0m   \u001b[1;36m0.13\u001b[0m,                                  \n",
      "                                                                            \u001b[1;36m0.88\u001b[0m\u001b[1m]\u001b[0m,                                 \n",
      "                                                                \u001b[32m'values'\u001b[0m: \u001b[1m[\u001b[0m   \u001b[32m'esd'\u001b[0m,                               \n",
      "                                                                              \u001b[32m'other'\u001b[0m\u001b[1m]\u001b[0m\u001b[1m}\u001b[0m\u001b[1m}\u001b[0m,                          \n",
      "                       \u001b[32m'rehab_routing_stroke'\u001b[0m: \u001b[1m{\u001b[0m   \u001b[32m'class_name'\u001b[0m: \u001b[32m'DiscreteEmpirical'\u001b[0m,                              \n",
      "                                                   \u001b[32m'params'\u001b[0m: \u001b[1m{\u001b[0m   \u001b[32m'freq'\u001b[0m: \u001b[1m[\u001b[0m   \u001b[1;36m0.4\u001b[0m,                                  \n",
      "                                                                             \u001b[1;36m0.6\u001b[0m\u001b[1m]\u001b[0m,                                 \n",
      "                                                                 \u001b[32m'values'\u001b[0m: \u001b[1m[\u001b[0m   \u001b[32m'esd'\u001b[0m,                              \n",
      "                                                                               \u001b[32m'other'\u001b[0m\u001b[1m]\u001b[0m\u001b[1m}\u001b[0m\u001b[1m}\u001b[0m,                         \n",
      "                       \u001b[32m'rehab_routing_tia'\u001b[0m: \u001b[1m{\u001b[0m   \u001b[32m'class_name'\u001b[0m: \u001b[32m'DiscreteEmpirical'\u001b[0m,                                 \n",
      "                                                \u001b[32m'params'\u001b[0m: \u001b[1m{\u001b[0m   \u001b[32m'freq'\u001b[0m: \u001b[1m[\u001b[0m\u001b[1;36m1.0\u001b[0m\u001b[1m]\u001b[0m,                                       \n",
      "                                                              \u001b[32m'values'\u001b[0m: \u001b[1m[\u001b[0m   \u001b[32m'other'\u001b[0m\u001b[1m]\u001b[0m\u001b[1m}\u001b[0m\u001b[1m}\u001b[0m\u001b[1m}\u001b[0m,                           \n",
      "    \u001b[32m'logger'\u001b[0m: \u001b[1m<\u001b[0m\u001b[1;95msimulation.logging.SimLogger\u001b[0m\u001b[39m object at \u001b[0m\u001b[1;36m0x7f748020aa50\u001b[0m\u001b[1m>\u001b[0m,                                             \n",
      "    \u001b[32m'number_of_runs'\u001b[0m: \u001b[1;36m150\u001b[0m,                                                                                         \n",
      "    \u001b[32m'warm_up_period'\u001b[0m: \u001b[1;36m15\u001b[0m\u001b[1m}\u001b[0m                                                                                          \n"
     ]
    },
    {
     "name": "stdout",
     "output_type": "stream",
     "text": [
      "Logger:                                                                                                            \n",
      "                                                                                                                   \n"
     ]
    },
    {
     "name": "stdout",
     "output_type": "stream",
     "text": [
      "\u001b[1m{\u001b[0m   \u001b[32m'file_path'\u001b[0m: \u001b[32m'../outputs/logs/log_example.log'\u001b[0m,                                                                \n",
      "    \u001b[32m'log_to_console'\u001b[0m: \u001b[3;92mTrue\u001b[0m,                                                                                        \n",
      "    \u001b[32m'log_to_file'\u001b[0m: \u001b[3;92mTrue\u001b[0m,                                                                                           \n",
      "    \u001b[32m'logger'\u001b[0m: \u001b[1m<\u001b[0m\u001b[1;95mLogger\u001b[0m\u001b[39m simulation.logging \u001b[0m\u001b[1;39m(\u001b[0m\u001b[39mINFO\u001b[0m\u001b[1;39m)\u001b[0m\u001b[1m>\u001b[0m,                                                                  \n",
      "    \u001b[32m'sanitise'\u001b[0m: \u001b[3;91mFalse\u001b[0m\u001b[1m}\u001b[0m                                                                                             \n"
     ]
    },
    {
     "name": "stdout",
     "output_type": "stream",
     "text": [
      "\u001b[1;36m3.952\u001b[0m: Patient \u001b[1;36m1\u001b[0m \u001b[1m(\u001b[0mstroke\u001b[1m)\u001b[0m arrive at ASU.                                                                           \n"
     ]
    },
    {
     "name": "stdout",
     "output_type": "stream",
     "text": [
      "\u001b[1;36m3.952\u001b[0m: Patient \u001b[1;36m1\u001b[0m \u001b[1m(\u001b[0mstroke\u001b[1m)\u001b[0m post-ASU: rehab                                                                          \n"
     ]
    },
    {
     "name": "stdout",
     "output_type": "stream",
     "text": [
      "\u001b[1;36m3.952\u001b[0m: Patient \u001b[1;36m1\u001b[0m \u001b[1m(\u001b[0mstroke\u001b[1m)\u001b[0m LOS on ASU: \u001b[1;36m3.359\u001b[0m                                                                        \n"
     ]
    },
    {
     "name": "stdout",
     "output_type": "stream",
     "text": [
      "\u001b[1;36m4.635\u001b[0m: Patient \u001b[1;36m2\u001b[0m \u001b[1m(\u001b[0mother\u001b[1m)\u001b[0m arrive at ASU.                                                                            \n"
     ]
    },
    {
     "name": "stdout",
     "output_type": "stream",
     "text": [
      "\u001b[1;36m4.635\u001b[0m: Patient \u001b[1;36m2\u001b[0m \u001b[1m(\u001b[0mother\u001b[1m)\u001b[0m post-ASU: other                                                                           \n"
     ]
    },
    {
     "name": "stdout",
     "output_type": "stream",
     "text": [
      "\u001b[1;36m4.635\u001b[0m: Patient \u001b[1;36m2\u001b[0m \u001b[1m(\u001b[0mother\u001b[1m)\u001b[0m LOS on ASU: \u001b[1;36m3.146\u001b[0m                                                                         \n"
     ]
    },
    {
     "name": "stdout",
     "output_type": "stream",
     "text": [
      "\u001b[1;36m4.868\u001b[0m: Patient \u001b[1;36m3\u001b[0m \u001b[1m(\u001b[0mstroke\u001b[1m)\u001b[0m arrive at ASU.                                                                           \n"
     ]
    },
    {
     "name": "stdout",
     "output_type": "stream",
     "text": [
      "\u001b[1;36m4.868\u001b[0m: Patient \u001b[1;36m3\u001b[0m \u001b[1m(\u001b[0mstroke\u001b[1m)\u001b[0m post-ASU: other                                                                          \n"
     ]
    },
    {
     "name": "stdout",
     "output_type": "stream",
     "text": [
      "\u001b[1;36m4.868\u001b[0m: Patient \u001b[1;36m3\u001b[0m \u001b[1m(\u001b[0mstroke\u001b[1m)\u001b[0m LOS on ASU: \u001b[1;36m3.029\u001b[0m                                                                        \n"
     ]
    },
    {
     "name": "stdout",
     "output_type": "stream",
     "text": [
      "\u001b[1;36m4.946\u001b[0m: Patient \u001b[1;36m4\u001b[0m \u001b[1m(\u001b[0mother\u001b[1m)\u001b[0m arrive at ASU.                                                                            \n"
     ]
    },
    {
     "name": "stdout",
     "output_type": "stream",
     "text": [
      "\u001b[1;36m4.946\u001b[0m: Patient \u001b[1;36m4\u001b[0m \u001b[1m(\u001b[0mother\u001b[1m)\u001b[0m post-ASU: other                                                                           \n"
     ]
    },
    {
     "name": "stdout",
     "output_type": "stream",
     "text": [
      "\u001b[1;36m4.946\u001b[0m: Patient \u001b[1;36m4\u001b[0m \u001b[1m(\u001b[0mother\u001b[1m)\u001b[0m LOS on ASU: \u001b[1;36m1.923\u001b[0m                                                                         \n"
     ]
    },
    {
     "name": "stdout",
     "output_type": "stream",
     "text": [
      "\u001b[1;36m5.509\u001b[0m: Patient \u001b[1;36m5\u001b[0m \u001b[1m(\u001b[0mneuro\u001b[1m)\u001b[0m arrive at ASU.                                                                            \n"
     ]
    },
    {
     "name": "stdout",
     "output_type": "stream",
     "text": [
      "\u001b[1;36m5.509\u001b[0m: Patient \u001b[1;36m5\u001b[0m \u001b[1m(\u001b[0mneuro\u001b[1m)\u001b[0m post-ASU: other                                                                           \n"
     ]
    },
    {
     "name": "stdout",
     "output_type": "stream",
     "text": [
      "\u001b[1;36m5.509\u001b[0m: Patient \u001b[1;36m5\u001b[0m \u001b[1m(\u001b[0mneuro\u001b[1m)\u001b[0m LOS on ASU: \u001b[1;36m1.946\u001b[0m                                                                         \n"
     ]
    },
    {
     "name": "stdout",
     "output_type": "stream",
     "text": [
      "\u001b[1;36m5.923\u001b[0m: Patient \u001b[1;36m6\u001b[0m \u001b[1m(\u001b[0mneuro\u001b[1m)\u001b[0m arrive at ASU.                                                                            \n"
     ]
    },
    {
     "name": "stdout",
     "output_type": "stream",
     "text": [
      "\u001b[1;36m5.923\u001b[0m: Patient \u001b[1;36m6\u001b[0m \u001b[1m(\u001b[0mneuro\u001b[1m)\u001b[0m post-ASU: other                                                                           \n"
     ]
    },
    {
     "name": "stdout",
     "output_type": "stream",
     "text": [
      "\u001b[1;36m5.923\u001b[0m: Patient \u001b[1;36m6\u001b[0m \u001b[1m(\u001b[0mneuro\u001b[1m)\u001b[0m LOS on ASU: \u001b[1;36m2.286\u001b[0m                                                                         \n"
     ]
    },
    {
     "name": "stdout",
     "output_type": "stream",
     "text": [
      "\u001b[1;36m6.371\u001b[0m: Patient \u001b[1;36m7\u001b[0m \u001b[1m(\u001b[0mstroke\u001b[1m)\u001b[0m arrive at ASU.                                                                           \n"
     ]
    },
    {
     "name": "stdout",
     "output_type": "stream",
     "text": [
      "\u001b[1;36m6.371\u001b[0m: Patient \u001b[1;36m7\u001b[0m \u001b[1m(\u001b[0mstroke\u001b[1m)\u001b[0m post-ASU: rehab                                                                          \n"
     ]
    },
    {
     "name": "stdout",
     "output_type": "stream",
     "text": [
      "\u001b[1;36m6.371\u001b[0m: Patient \u001b[1;36m7\u001b[0m \u001b[1m(\u001b[0mstroke\u001b[1m)\u001b[0m LOS on ASU: \u001b[1;36m4.517\u001b[0m                                                                        \n"
     ]
    },
    {
     "name": "stdout",
     "output_type": "stream",
     "text": [
      "\u001b[1;36m6.642\u001b[0m: Patient \u001b[1;36m8\u001b[0m \u001b[1m(\u001b[0mstroke\u001b[1m)\u001b[0m arrive at ASU.                                                                           \n"
     ]
    },
    {
     "name": "stdout",
     "output_type": "stream",
     "text": [
      "\u001b[1;36m6.642\u001b[0m: Patient \u001b[1;36m8\u001b[0m \u001b[1m(\u001b[0mstroke\u001b[1m)\u001b[0m post-ASU: other                                                                          \n"
     ]
    },
    {
     "name": "stdout",
     "output_type": "stream",
     "text": [
      "\u001b[1;36m6.642\u001b[0m: Patient \u001b[1;36m8\u001b[0m \u001b[1m(\u001b[0mstroke\u001b[1m)\u001b[0m LOS on ASU: \u001b[1;36m4.448\u001b[0m                                                                        \n"
     ]
    },
    {
     "name": "stdout",
     "output_type": "stream",
     "text": [
      "\u001b[1;36m6.907\u001b[0m: Patient \u001b[1;36m9\u001b[0m \u001b[1m(\u001b[0mstroke\u001b[1m)\u001b[0m arrive at ASU.                                                                           \n"
     ]
    },
    {
     "name": "stdout",
     "output_type": "stream",
     "text": [
      "\u001b[1;36m6.907\u001b[0m: Patient \u001b[1;36m9\u001b[0m \u001b[1m(\u001b[0mstroke\u001b[1m)\u001b[0m post-ASU: other                                                                          \n"
     ]
    },
    {
     "name": "stdout",
     "output_type": "stream",
     "text": [
      "\u001b[1;36m6.907\u001b[0m: Patient \u001b[1;36m9\u001b[0m \u001b[1m(\u001b[0mstroke\u001b[1m)\u001b[0m LOS on ASU: \u001b[1;36m3.626\u001b[0m                                                                        \n"
     ]
    },
    {
     "name": "stdout",
     "output_type": "stream",
     "text": [
      "\u001b[1;36m7.311\u001b[0m: Patient \u001b[1;36m1\u001b[0m \u001b[1m(\u001b[0mstroke\u001b[1m)\u001b[0m arrive at rehab.                                                                         \n"
     ]
    },
    {
     "name": "stdout",
     "output_type": "stream",
     "text": [
      "\u001b[1;36m7.311\u001b[0m: Patient \u001b[1;36m1\u001b[0m \u001b[1m(\u001b[0mstroke\u001b[1m)\u001b[0m post-rehab: other                                                                        \n"
     ]
    },
    {
     "name": "stdout",
     "output_type": "stream",
     "text": [
      "\u001b[1;36m7.311\u001b[0m: Patient \u001b[1;36m1\u001b[0m \u001b[1m(\u001b[0mstroke\u001b[1m)\u001b[0m LOS on rehab unit: \u001b[1;36m15.766\u001b[0m                                                                \n"
     ]
    },
    {
     "name": "stdout",
     "output_type": "stream",
     "text": [
      "\u001b[1;36m7.469\u001b[0m: Patient \u001b[1;36m10\u001b[0m \u001b[1m(\u001b[0mtia\u001b[1m)\u001b[0m arrive at ASU.                                                                             \n"
     ]
    },
    {
     "name": "stdout",
     "output_type": "stream",
     "text": [
      "\u001b[1;36m7.469\u001b[0m: Patient \u001b[1;36m10\u001b[0m \u001b[1m(\u001b[0mtia\u001b[1m)\u001b[0m post-ASU: other                                                                            \n"
     ]
    },
    {
     "name": "stdout",
     "output_type": "stream",
     "text": [
      "\u001b[1;36m7.469\u001b[0m: Patient \u001b[1;36m10\u001b[0m \u001b[1m(\u001b[0mtia\u001b[1m)\u001b[0m LOS on ASU: \u001b[1;36m1.139\u001b[0m                                                                          \n"
     ]
    },
    {
     "name": "stdout",
     "output_type": "stream",
     "text": [
      "\u001b[1;36m9.067\u001b[0m: Patient \u001b[1;36m11\u001b[0m \u001b[1m(\u001b[0mstroke\u001b[1m)\u001b[0m arrive at ASU.                                                                          \n"
     ]
    },
    {
     "name": "stdout",
     "output_type": "stream",
     "text": [
      "\u001b[1;36m9.067\u001b[0m: Patient \u001b[1;36m11\u001b[0m \u001b[1m(\u001b[0mstroke\u001b[1m)\u001b[0m post-ASU: rehab                                                                         \n"
     ]
    },
    {
     "name": "stdout",
     "output_type": "stream",
     "text": [
      "\u001b[1;36m9.067\u001b[0m: Patient \u001b[1;36m11\u001b[0m \u001b[1m(\u001b[0mstroke\u001b[1m)\u001b[0m LOS on ASU: \u001b[1;36m1.097\u001b[0m                                                                       \n"
     ]
    },
    {
     "name": "stdout",
     "output_type": "stream",
     "text": [
      "\u001b[1;36m9.115\u001b[0m: Patient \u001b[1;36m12\u001b[0m \u001b[1m(\u001b[0mother\u001b[1m)\u001b[0m arrive at ASU.                                                                           \n"
     ]
    },
    {
     "name": "stdout",
     "output_type": "stream",
     "text": [
      "\u001b[1;36m9.115\u001b[0m: Patient \u001b[1;36m12\u001b[0m \u001b[1m(\u001b[0mother\u001b[1m)\u001b[0m post-ASU: esd                                                                            \n"
     ]
    },
    {
     "name": "stdout",
     "output_type": "stream",
     "text": [
      "\u001b[1;36m9.115\u001b[0m: Patient \u001b[1;36m12\u001b[0m \u001b[1m(\u001b[0mother\u001b[1m)\u001b[0m LOS on ASU: \u001b[1;36m4.978\u001b[0m                                                                        \n"
     ]
    },
    {
     "name": "stdout",
     "output_type": "stream",
     "text": [
      "\u001b[1;36m9.146\u001b[0m: Patient \u001b[1;36m13\u001b[0m \u001b[1m(\u001b[0mstroke\u001b[1m)\u001b[0m arrive at ASU.                                                                          \n"
     ]
    },
    {
     "name": "stdout",
     "output_type": "stream",
     "text": [
      "\u001b[1;36m9.146\u001b[0m: Patient \u001b[1;36m13\u001b[0m \u001b[1m(\u001b[0mstroke\u001b[1m)\u001b[0m post-ASU: other                                                                         \n"
     ]
    },
    {
     "name": "stdout",
     "output_type": "stream",
     "text": [
      "\u001b[1;36m9.146\u001b[0m: Patient \u001b[1;36m13\u001b[0m \u001b[1m(\u001b[0mstroke\u001b[1m)\u001b[0m LOS on ASU: \u001b[1;36m2.444\u001b[0m                                                                       \n"
     ]
    },
    {
     "name": "stdout",
     "output_type": "stream",
     "text": [
      "\u001b[1;36m9.344\u001b[0m: Patient \u001b[1;36m14\u001b[0m \u001b[1m(\u001b[0mother\u001b[1m)\u001b[0m arrive at ASU.                                                                           \n"
     ]
    },
    {
     "name": "stdout",
     "output_type": "stream",
     "text": [
      "\u001b[1;36m9.344\u001b[0m: Patient \u001b[1;36m14\u001b[0m \u001b[1m(\u001b[0mother\u001b[1m)\u001b[0m post-ASU: other                                                                          \n"
     ]
    },
    {
     "name": "stdout",
     "output_type": "stream",
     "text": [
      "\u001b[1;36m9.344\u001b[0m: Patient \u001b[1;36m14\u001b[0m \u001b[1m(\u001b[0mother\u001b[1m)\u001b[0m LOS on ASU: \u001b[1;36m20.820\u001b[0m                                                                       \n"
     ]
    },
    {
     "name": "stdout",
     "output_type": "stream",
     "text": [
      "\u001b[1;36m9.832\u001b[0m: Patient \u001b[1;36m15\u001b[0m \u001b[1m(\u001b[0mother\u001b[1m)\u001b[0m arrive at ASU.                                                                           \n"
     ]
    },
    {
     "name": "stdout",
     "output_type": "stream",
     "text": [
      "\u001b[1;36m9.832\u001b[0m: Patient \u001b[1;36m15\u001b[0m \u001b[1m(\u001b[0mother\u001b[1m)\u001b[0m post-ASU: other                                                                          \n"
     ]
    },
    {
     "name": "stdout",
     "output_type": "stream",
     "text": [
      "\u001b[1;36m9.832\u001b[0m: Patient \u001b[1;36m15\u001b[0m \u001b[1m(\u001b[0mother\u001b[1m)\u001b[0m LOS on ASU: \u001b[1;36m0.312\u001b[0m                                                                        \n"
     ]
    },
    {
     "name": "stdout",
     "output_type": "stream",
     "text": [
      "\u001b[1;36m10.163\u001b[0m: Patient \u001b[1;36m11\u001b[0m \u001b[1m(\u001b[0mstroke\u001b[1m)\u001b[0m arrive at rehab.                                                                       \n"
     ]
    },
    {
     "name": "stdout",
     "output_type": "stream",
     "text": [
      "\u001b[1;36m10.163\u001b[0m: Patient \u001b[1;36m11\u001b[0m \u001b[1m(\u001b[0mstroke\u001b[1m)\u001b[0m post-rehab: other                                                                      \n"
     ]
    },
    {
     "name": "stdout",
     "output_type": "stream",
     "text": [
      "\u001b[1;36m10.163\u001b[0m: Patient \u001b[1;36m11\u001b[0m \u001b[1m(\u001b[0mstroke\u001b[1m)\u001b[0m LOS on rehab unit: \u001b[1;36m72.573\u001b[0m                                                              \n"
     ]
    },
    {
     "name": "stdout",
     "output_type": "stream",
     "text": [
      "\u001b[1;36m10.164\u001b[0m: Patient \u001b[1;36m16\u001b[0m \u001b[1m(\u001b[0mneuro\u001b[1m)\u001b[0m arrive at ASU.                                                                          \n"
     ]
    },
    {
     "name": "stdout",
     "output_type": "stream",
     "text": [
      "\u001b[1;36m10.164\u001b[0m: Patient \u001b[1;36m16\u001b[0m \u001b[1m(\u001b[0mneuro\u001b[1m)\u001b[0m post-ASU: other                                                                         \n"
     ]
    },
    {
     "name": "stdout",
     "output_type": "stream",
     "text": [
      "\u001b[1;36m10.164\u001b[0m: Patient \u001b[1;36m16\u001b[0m \u001b[1m(\u001b[0mneuro\u001b[1m)\u001b[0m LOS on ASU: \u001b[1;36m4.549\u001b[0m                                                                       \n"
     ]
    },
    {
     "name": "stdout",
     "output_type": "stream",
     "text": [
      "\u001b[1;36m10.227\u001b[0m: Patient \u001b[1;36m17\u001b[0m \u001b[1m(\u001b[0mstroke\u001b[1m)\u001b[0m arrive at ASU.                                                                         \n"
     ]
    },
    {
     "name": "stdout",
     "output_type": "stream",
     "text": [
      "\u001b[1;36m10.227\u001b[0m: Patient \u001b[1;36m17\u001b[0m \u001b[1m(\u001b[0mstroke\u001b[1m)\u001b[0m post-ASU: other                                                                        \n"
     ]
    },
    {
     "name": "stdout",
     "output_type": "stream",
     "text": [
      "\u001b[1;36m10.227\u001b[0m: Patient \u001b[1;36m17\u001b[0m \u001b[1m(\u001b[0mstroke\u001b[1m)\u001b[0m LOS on ASU: \u001b[1;36m5.184\u001b[0m                                                                      \n"
     ]
    },
    {
     "name": "stdout",
     "output_type": "stream",
     "text": [
      "\u001b[1;36m10.440\u001b[0m: Patient \u001b[1;36m18\u001b[0m \u001b[1m(\u001b[0mother\u001b[1m)\u001b[0m arrive at ASU.                                                                          \n"
     ]
    },
    {
     "name": "stdout",
     "output_type": "stream",
     "text": [
      "\u001b[1;36m10.440\u001b[0m: Patient \u001b[1;36m18\u001b[0m \u001b[1m(\u001b[0mother\u001b[1m)\u001b[0m post-ASU: other                                                                         \n"
     ]
    },
    {
     "name": "stdout",
     "output_type": "stream",
     "text": [
      "\u001b[1;36m10.440\u001b[0m: Patient \u001b[1;36m18\u001b[0m \u001b[1m(\u001b[0mother\u001b[1m)\u001b[0m LOS on ASU: \u001b[1;36m3.021\u001b[0m                                                                       \n"
     ]
    },
    {
     "name": "stdout",
     "output_type": "stream",
     "text": [
      "\u001b[1;36m10.581\u001b[0m: Patient \u001b[1;36m19\u001b[0m \u001b[1m(\u001b[0mstroke\u001b[1m)\u001b[0m arrive at ASU.                                                                         \n"
     ]
    },
    {
     "name": "stdout",
     "output_type": "stream",
     "text": [
      "\u001b[1;36m10.581\u001b[0m: Patient \u001b[1;36m19\u001b[0m \u001b[1m(\u001b[0mstroke\u001b[1m)\u001b[0m post-ASU: rehab                                                                        \n"
     ]
    },
    {
     "name": "stdout",
     "output_type": "stream",
     "text": [
      "\u001b[1;36m10.581\u001b[0m: Patient \u001b[1;36m19\u001b[0m \u001b[1m(\u001b[0mstroke\u001b[1m)\u001b[0m LOS on ASU: \u001b[1;36m3.627\u001b[0m                                                                      \n"
     ]
    },
    {
     "name": "stdout",
     "output_type": "stream",
     "text": [
      "\u001b[1;36m10.864\u001b[0m: Patient \u001b[1;36m20\u001b[0m \u001b[1m(\u001b[0mneuro\u001b[1m)\u001b[0m arrive at rehab.                                                                        \n"
     ]
    },
    {
     "name": "stdout",
     "output_type": "stream",
     "text": [
      "\u001b[1;36m10.864\u001b[0m: Patient \u001b[1;36m20\u001b[0m \u001b[1m(\u001b[0mneuro\u001b[1m)\u001b[0m post-rehab: other                                                                       \n"
     ]
    },
    {
     "name": "stdout",
     "output_type": "stream",
     "text": [
      "\u001b[1;36m10.864\u001b[0m: Patient \u001b[1;36m20\u001b[0m \u001b[1m(\u001b[0mneuro\u001b[1m)\u001b[0m LOS on rehab unit: \u001b[1;36m8.403\u001b[0m                                                                \n"
     ]
    },
    {
     "name": "stdout",
     "output_type": "stream",
     "text": [
      "\u001b[1;36m10.888\u001b[0m: Patient \u001b[1;36m7\u001b[0m \u001b[1m(\u001b[0mstroke\u001b[1m)\u001b[0m arrive at rehab.                                                                        \n"
     ]
    },
    {
     "name": "stdout",
     "output_type": "stream",
     "text": [
      "\u001b[1;36m10.888\u001b[0m: Patient \u001b[1;36m7\u001b[0m \u001b[1m(\u001b[0mstroke\u001b[1m)\u001b[0m post-rehab: esd                                                                         \n"
     ]
    },
    {
     "name": "stdout",
     "output_type": "stream",
     "text": [
      "\u001b[1;36m10.888\u001b[0m: Patient \u001b[1;36m7\u001b[0m \u001b[1m(\u001b[0mstroke\u001b[1m)\u001b[0m LOS on rehab unit: \u001b[1;36m12.702\u001b[0m                                                               \n"
     ]
    },
    {
     "name": "stdout",
     "output_type": "stream",
     "text": [
      "\u001b[1;36m11.021\u001b[0m: Patient \u001b[1;36m21\u001b[0m \u001b[1m(\u001b[0mtia\u001b[1m)\u001b[0m arrive at ASU.                                                                            \n"
     ]
    },
    {
     "name": "stdout",
     "output_type": "stream",
     "text": [
      "\u001b[1;36m11.021\u001b[0m: Patient \u001b[1;36m21\u001b[0m \u001b[1m(\u001b[0mtia\u001b[1m)\u001b[0m post-ASU: other                                                                           \n"
     ]
    },
    {
     "name": "stdout",
     "output_type": "stream",
     "text": [
      "\u001b[1;36m11.021\u001b[0m: Patient \u001b[1;36m21\u001b[0m \u001b[1m(\u001b[0mtia\u001b[1m)\u001b[0m LOS on ASU: \u001b[1;36m1.765\u001b[0m                                                                         \n"
     ]
    },
    {
     "name": "stdout",
     "output_type": "stream",
     "text": [
      "\u001b[1;36m11.649\u001b[0m: Patient \u001b[1;36m22\u001b[0m \u001b[1m(\u001b[0mother\u001b[1m)\u001b[0m arrive at rehab.                                                                        \n"
     ]
    },
    {
     "name": "stdout",
     "output_type": "stream",
     "text": [
      "\u001b[1;36m11.649\u001b[0m: Patient \u001b[1;36m22\u001b[0m \u001b[1m(\u001b[0mother\u001b[1m)\u001b[0m post-rehab: other                                                                       \n"
     ]
    },
    {
     "name": "stdout",
     "output_type": "stream",
     "text": [
      "\u001b[1;36m11.649\u001b[0m: Patient \u001b[1;36m22\u001b[0m \u001b[1m(\u001b[0mother\u001b[1m)\u001b[0m LOS on rehab unit: \u001b[1;36m8.100\u001b[0m                                                                \n"
     ]
    },
    {
     "name": "stdout",
     "output_type": "stream",
     "text": [
      "\u001b[1;36m13.341\u001b[0m: Patient \u001b[1;36m23\u001b[0m \u001b[1m(\u001b[0mstroke\u001b[1m)\u001b[0m arrive at ASU.                                                                         \n"
     ]
    },
    {
     "name": "stdout",
     "output_type": "stream",
     "text": [
      "\u001b[1;36m13.341\u001b[0m: Patient \u001b[1;36m23\u001b[0m \u001b[1m(\u001b[0mstroke\u001b[1m)\u001b[0m post-ASU: other                                                                        \n"
     ]
    },
    {
     "name": "stdout",
     "output_type": "stream",
     "text": [
      "\u001b[1;36m13.341\u001b[0m: Patient \u001b[1;36m23\u001b[0m \u001b[1m(\u001b[0mstroke\u001b[1m)\u001b[0m LOS on ASU: \u001b[1;36m7.131\u001b[0m                                                                      \n"
     ]
    },
    {
     "name": "stdout",
     "output_type": "stream",
     "text": [
      "\u001b[1;36m14.208\u001b[0m: Patient \u001b[1;36m19\u001b[0m \u001b[1m(\u001b[0mstroke\u001b[1m)\u001b[0m arrive at rehab.                                                                       \n"
     ]
    },
    {
     "name": "stdout",
     "output_type": "stream",
     "text": [
      "\u001b[1;36m14.208\u001b[0m: Patient \u001b[1;36m19\u001b[0m \u001b[1m(\u001b[0mstroke\u001b[1m)\u001b[0m post-rehab: esd                                                                        \n"
     ]
    },
    {
     "name": "stdout",
     "output_type": "stream",
     "text": [
      "\u001b[1;36m14.208\u001b[0m: Patient \u001b[1;36m19\u001b[0m \u001b[1m(\u001b[0mstroke\u001b[1m)\u001b[0m LOS on rehab unit: \u001b[1;36m13.151\u001b[0m                                                              \n"
     ]
    },
    {
     "name": "stdout",
     "output_type": "stream",
     "text": [
      "\u001b[1;36m14.408\u001b[0m: Patient \u001b[1;36m24\u001b[0m \u001b[1m(\u001b[0mtia\u001b[1m)\u001b[0m arrive at ASU.                                                                            \n"
     ]
    },
    {
     "name": "stdout",
     "output_type": "stream",
     "text": [
      "\u001b[1;36m14.408\u001b[0m: Patient \u001b[1;36m24\u001b[0m \u001b[1m(\u001b[0mtia\u001b[1m)\u001b[0m post-ASU: other                                                                           \n"
     ]
    },
    {
     "name": "stdout",
     "output_type": "stream",
     "text": [
      "\u001b[1;36m14.408\u001b[0m: Patient \u001b[1;36m24\u001b[0m \u001b[1m(\u001b[0mtia\u001b[1m)\u001b[0m LOS on ASU: \u001b[1;36m3.846\u001b[0m                                                                         \n"
     ]
    },
    {
     "name": "stdout",
     "output_type": "stream",
     "text": [
      "\u001b[1;36m15.000\u001b[0m: ──────────                                                                                                 \n"
     ]
    },
    {
     "name": "stdout",
     "output_type": "stream",
     "text": [
      "\u001b[1;36m15.000\u001b[0m: Warm up complete.                                                                                          \n"
     ]
    },
    {
     "name": "stdout",
     "output_type": "stream",
     "text": [
      "\u001b[1;36m15.000\u001b[0m: ──────────                                                                                                 \n"
     ]
    },
    {
     "name": "stdout",
     "output_type": "stream",
     "text": [
      "\u001b[1;36m15.571\u001b[0m: Patient \u001b[1;36m1\u001b[0m \u001b[1m(\u001b[0mstroke\u001b[1m)\u001b[0m arrive at ASU.                                                                          \n"
     ]
    },
    {
     "name": "stdout",
     "output_type": "stream",
     "text": [
      "\u001b[1;36m15.571\u001b[0m: Patient \u001b[1;36m1\u001b[0m \u001b[1m(\u001b[0mstroke\u001b[1m)\u001b[0m post-ASU: other                                                                         \n"
     ]
    },
    {
     "name": "stdout",
     "output_type": "stream",
     "text": [
      "\u001b[1;36m15.571\u001b[0m: Patient \u001b[1;36m1\u001b[0m \u001b[1m(\u001b[0mstroke\u001b[1m)\u001b[0m LOS on ASU: \u001b[1;36m17.022\u001b[0m                                                                      \n"
     ]
    },
    {
     "name": "stdout",
     "output_type": "stream",
     "text": [
      "\u001b[1;36m15.589\u001b[0m: Patient \u001b[1;36m2\u001b[0m \u001b[1m(\u001b[0mstroke\u001b[1m)\u001b[0m arrive at ASU.                                                                          \n"
     ]
    },
    {
     "name": "stdout",
     "output_type": "stream",
     "text": [
      "\u001b[1;36m15.589\u001b[0m: Patient \u001b[1;36m2\u001b[0m \u001b[1m(\u001b[0mstroke\u001b[1m)\u001b[0m post-ASU: other                                                                         \n"
     ]
    },
    {
     "name": "stdout",
     "output_type": "stream",
     "text": [
      "\u001b[1;36m15.589\u001b[0m: Patient \u001b[1;36m2\u001b[0m \u001b[1m(\u001b[0mstroke\u001b[1m)\u001b[0m LOS on ASU: \u001b[1;36m5.836\u001b[0m                                                                       \n"
     ]
    },
    {
     "name": "stdout",
     "output_type": "stream",
     "text": [
      "\u001b[1;36m17.953\u001b[0m: Patient \u001b[1;36m3\u001b[0m \u001b[1m(\u001b[0mneuro\u001b[1m)\u001b[0m arrive at ASU.                                                                           \n"
     ]
    },
    {
     "name": "stdout",
     "output_type": "stream",
     "text": [
      "\u001b[1;36m17.953\u001b[0m: Patient \u001b[1;36m3\u001b[0m \u001b[1m(\u001b[0mneuro\u001b[1m)\u001b[0m post-ASU: other                                                                          \n"
     ]
    },
    {
     "name": "stdout",
     "output_type": "stream",
     "text": [
      "\u001b[1;36m17.953\u001b[0m: Patient \u001b[1;36m3\u001b[0m \u001b[1m(\u001b[0mneuro\u001b[1m)\u001b[0m LOS on ASU: \u001b[1;36m20.251\u001b[0m                                                                       \n"
     ]
    },
    {
     "name": "stdout",
     "output_type": "stream",
     "text": [
      "\u001b[1;36m19.171\u001b[0m: Patient \u001b[1;36m4\u001b[0m \u001b[1m(\u001b[0mother\u001b[1m)\u001b[0m arrive at ASU.                                                                           \n"
     ]
    },
    {
     "name": "stdout",
     "output_type": "stream",
     "text": [
      "\u001b[1;36m19.171\u001b[0m: Patient \u001b[1;36m4\u001b[0m \u001b[1m(\u001b[0mother\u001b[1m)\u001b[0m post-ASU: other                                                                          \n"
     ]
    },
    {
     "name": "stdout",
     "output_type": "stream",
     "text": [
      "\u001b[1;36m19.171\u001b[0m: Patient \u001b[1;36m4\u001b[0m \u001b[1m(\u001b[0mother\u001b[1m)\u001b[0m LOS on ASU: \u001b[1;36m8.514\u001b[0m                                                                        \n"
     ]
    },
    {
     "name": "stdout",
     "output_type": "stream",
     "text": [
      "\u001b[1;36m19.332\u001b[0m: Patient \u001b[1;36m5\u001b[0m \u001b[1m(\u001b[0mtia\u001b[1m)\u001b[0m arrive at ASU.                                                                             \n"
     ]
    },
    {
     "name": "stdout",
     "output_type": "stream",
     "text": [
      "\u001b[1;36m19.332\u001b[0m: Patient \u001b[1;36m5\u001b[0m \u001b[1m(\u001b[0mtia\u001b[1m)\u001b[0m post-ASU: other                                                                            \n"
     ]
    },
    {
     "name": "stdout",
     "output_type": "stream",
     "text": [
      "\u001b[1;36m19.332\u001b[0m: Patient \u001b[1;36m5\u001b[0m \u001b[1m(\u001b[0mtia\u001b[1m)\u001b[0m LOS on ASU: \u001b[1;36m0.294\u001b[0m                                                                          \n"
     ]
    },
    {
     "name": "stdout",
     "output_type": "stream",
     "text": [
      "\u001b[1;36m19.335\u001b[0m: Patient \u001b[1;36m6\u001b[0m \u001b[1m(\u001b[0mneuro\u001b[1m)\u001b[0m arrive at ASU.                                                                           \n"
     ]
    },
    {
     "name": "stdout",
     "output_type": "stream",
     "text": [
      "\u001b[1;36m19.335\u001b[0m: Patient \u001b[1;36m6\u001b[0m \u001b[1m(\u001b[0mneuro\u001b[1m)\u001b[0m post-ASU: other                                                                          \n"
     ]
    },
    {
     "name": "stdout",
     "output_type": "stream",
     "text": [
      "\u001b[1;36m19.335\u001b[0m: Patient \u001b[1;36m6\u001b[0m \u001b[1m(\u001b[0mneuro\u001b[1m)\u001b[0m LOS on ASU: \u001b[1;36m0.244\u001b[0m                                                                        \n"
     ]
    },
    {
     "name": "stdout",
     "output_type": "stream",
     "text": [
      "\u001b[1;36m21.132\u001b[0m: Patient \u001b[1;36m7\u001b[0m \u001b[1m(\u001b[0mneuro\u001b[1m)\u001b[0m arrive at ASU.                                                                           \n"
     ]
    },
    {
     "name": "stdout",
     "output_type": "stream",
     "text": [
      "\u001b[1;36m21.132\u001b[0m: Patient \u001b[1;36m7\u001b[0m \u001b[1m(\u001b[0mneuro\u001b[1m)\u001b[0m post-ASU: other                                                                          \n"
     ]
    },
    {
     "name": "stdout",
     "output_type": "stream",
     "text": [
      "\u001b[1;36m21.132\u001b[0m: Patient \u001b[1;36m7\u001b[0m \u001b[1m(\u001b[0mneuro\u001b[1m)\u001b[0m LOS on ASU: \u001b[1;36m3.261\u001b[0m                                                                        \n"
     ]
    },
    {
     "name": "stdout",
     "output_type": "stream",
     "text": [
      "\u001b[1;36m22.305\u001b[0m: Patient \u001b[1;36m8\u001b[0m \u001b[1m(\u001b[0mstroke\u001b[1m)\u001b[0m arrive at ASU.                                                                          \n"
     ]
    },
    {
     "name": "stdout",
     "output_type": "stream",
     "text": [
      "\u001b[1;36m22.305\u001b[0m: Patient \u001b[1;36m8\u001b[0m \u001b[1m(\u001b[0mstroke\u001b[1m)\u001b[0m post-ASU: other                                                                         \n"
     ]
    },
    {
     "name": "stdout",
     "output_type": "stream",
     "text": [
      "\u001b[1;36m22.305\u001b[0m: Patient \u001b[1;36m8\u001b[0m \u001b[1m(\u001b[0mstroke\u001b[1m)\u001b[0m LOS on ASU: \u001b[1;36m1.150\u001b[0m                                                                       \n"
     ]
    },
    {
     "name": "stdout",
     "output_type": "stream",
     "text": [
      "\u001b[1;36m22.357\u001b[0m: Patient \u001b[1;36m9\u001b[0m \u001b[1m(\u001b[0mneuro\u001b[1m)\u001b[0m arrive at ASU.                                                                           \n"
     ]
    },
    {
     "name": "stdout",
     "output_type": "stream",
     "text": [
      "\u001b[1;36m22.357\u001b[0m: Patient \u001b[1;36m9\u001b[0m \u001b[1m(\u001b[0mneuro\u001b[1m)\u001b[0m post-ASU: other                                                                          \n"
     ]
    },
    {
     "name": "stdout",
     "output_type": "stream",
     "text": [
      "\u001b[1;36m22.357\u001b[0m: Patient \u001b[1;36m9\u001b[0m \u001b[1m(\u001b[0mneuro\u001b[1m)\u001b[0m LOS on ASU: \u001b[1;36m19.862\u001b[0m                                                                       \n"
     ]
    },
    {
     "name": "stdout",
     "output_type": "stream",
     "text": [
      "\u001b[1;36m23.260\u001b[0m: Patient \u001b[1;36m10\u001b[0m \u001b[1m(\u001b[0mstroke\u001b[1m)\u001b[0m arrive at ASU.                                                                         \n"
     ]
    },
    {
     "name": "stdout",
     "output_type": "stream",
     "text": [
      "\u001b[1;36m23.260\u001b[0m: Patient \u001b[1;36m10\u001b[0m \u001b[1m(\u001b[0mstroke\u001b[1m)\u001b[0m post-ASU: rehab                                                                        \n"
     ]
    },
    {
     "name": "stdout",
     "output_type": "stream",
     "text": [
      "\u001b[1;36m23.260\u001b[0m: Patient \u001b[1;36m10\u001b[0m \u001b[1m(\u001b[0mstroke\u001b[1m)\u001b[0m LOS on ASU: \u001b[1;36m6.230\u001b[0m                                                                      \n"
     ]
    },
    {
     "name": "stdout",
     "output_type": "stream",
     "text": [
      "\u001b[1;36m23.680\u001b[0m: Patient \u001b[1;36m11\u001b[0m \u001b[1m(\u001b[0mstroke\u001b[1m)\u001b[0m arrive at ASU.                                                                         \n"
     ]
    },
    {
     "name": "stdout",
     "output_type": "stream",
     "text": [
      "\u001b[1;36m23.680\u001b[0m: Patient \u001b[1;36m11\u001b[0m \u001b[1m(\u001b[0mstroke\u001b[1m)\u001b[0m post-ASU: other                                                                        \n"
     ]
    },
    {
     "name": "stdout",
     "output_type": "stream",
     "text": [
      "\u001b[1;36m23.680\u001b[0m: Patient \u001b[1;36m11\u001b[0m \u001b[1m(\u001b[0mstroke\u001b[1m)\u001b[0m LOS on ASU: \u001b[1;36m8.540\u001b[0m                                                                      \n"
     ]
    },
    {
     "name": "stdout",
     "output_type": "stream",
     "text": [
      "\u001b[1;36m24.497\u001b[0m: Patient \u001b[1;36m12\u001b[0m \u001b[1m(\u001b[0mstroke\u001b[1m)\u001b[0m arrive at rehab.                                                                       \n"
     ]
    },
    {
     "name": "stdout",
     "output_type": "stream",
     "text": [
      "\u001b[1;36m24.497\u001b[0m: Patient \u001b[1;36m12\u001b[0m \u001b[1m(\u001b[0mstroke\u001b[1m)\u001b[0m post-rehab: other                                                                      \n"
     ]
    },
    {
     "name": "stdout",
     "output_type": "stream",
     "text": [
      "\u001b[1;36m24.497\u001b[0m: Patient \u001b[1;36m12\u001b[0m \u001b[1m(\u001b[0mstroke\u001b[1m)\u001b[0m LOS on rehab unit: \u001b[1;36m25.030\u001b[0m                                                              \n"
     ]
    },
    {
     "name": "stdout",
     "output_type": "stream",
     "text": [
      "\u001b[1;36m25.780\u001b[0m: Patient \u001b[1;36m13\u001b[0m \u001b[1m(\u001b[0mneuro\u001b[1m)\u001b[0m arrive at ASU.                                                                          \n"
     ]
    },
    {
     "name": "stdout",
     "output_type": "stream",
     "text": [
      "\u001b[1;36m25.780\u001b[0m: Patient \u001b[1;36m13\u001b[0m \u001b[1m(\u001b[0mneuro\u001b[1m)\u001b[0m post-ASU: other                                                                         \n"
     ]
    },
    {
     "name": "stdout",
     "output_type": "stream",
     "text": [
      "\u001b[1;36m25.780\u001b[0m: Patient \u001b[1;36m13\u001b[0m \u001b[1m(\u001b[0mneuro\u001b[1m)\u001b[0m LOS on ASU: \u001b[1;36m0.969\u001b[0m                                                                       \n"
     ]
    },
    {
     "name": "stdout",
     "output_type": "stream",
     "text": [
      "\u001b[1;36m26.044\u001b[0m: Patient \u001b[1;36m14\u001b[0m \u001b[1m(\u001b[0mstroke\u001b[1m)\u001b[0m arrive at ASU.                                                                         \n"
     ]
    },
    {
     "name": "stdout",
     "output_type": "stream",
     "text": [
      "\u001b[1;36m26.044\u001b[0m: Patient \u001b[1;36m14\u001b[0m \u001b[1m(\u001b[0mstroke\u001b[1m)\u001b[0m post-ASU: esd                                                                          \n"
     ]
    },
    {
     "name": "stdout",
     "output_type": "stream",
     "text": [
      "\u001b[1;36m26.044\u001b[0m: Patient \u001b[1;36m14\u001b[0m \u001b[1m(\u001b[0mstroke\u001b[1m)\u001b[0m LOS on ASU: \u001b[1;36m11.455\u001b[0m                                                                     \n"
     ]
    },
    {
     "name": "stdout",
     "output_type": "stream",
     "text": [
      "\u001b[1;36m26.815\u001b[0m: Patient \u001b[1;36m15\u001b[0m \u001b[1m(\u001b[0mother\u001b[1m)\u001b[0m arrive at ASU.                                                                          \n"
     ]
    },
    {
     "name": "stdout",
     "output_type": "stream",
     "text": [
      "\u001b[1;36m26.815\u001b[0m: Patient \u001b[1;36m15\u001b[0m \u001b[1m(\u001b[0mother\u001b[1m)\u001b[0m post-ASU: esd                                                                           \n"
     ]
    },
    {
     "name": "stdout",
     "output_type": "stream",
     "text": [
      "\u001b[1;36m26.815\u001b[0m: Patient \u001b[1;36m15\u001b[0m \u001b[1m(\u001b[0mother\u001b[1m)\u001b[0m LOS on ASU: \u001b[1;36m0.819\u001b[0m                                                                       \n"
     ]
    },
    {
     "name": "stdout",
     "output_type": "stream",
     "text": [
      "\u001b[1;36m26.935\u001b[0m: Patient \u001b[1;36m16\u001b[0m \u001b[1m(\u001b[0mstroke\u001b[1m)\u001b[0m arrive at ASU.                                                                         \n"
     ]
    },
    {
     "name": "stdout",
     "output_type": "stream",
     "text": [
      "\u001b[1;36m26.935\u001b[0m: Patient \u001b[1;36m16\u001b[0m \u001b[1m(\u001b[0mstroke\u001b[1m)\u001b[0m post-ASU: rehab                                                                        \n"
     ]
    },
    {
     "name": "stdout",
     "output_type": "stream",
     "text": [
      "\u001b[1;36m26.935\u001b[0m: Patient \u001b[1;36m16\u001b[0m \u001b[1m(\u001b[0mstroke\u001b[1m)\u001b[0m LOS on ASU: \u001b[1;36m0.593\u001b[0m                                                                      \n"
     ]
    },
    {
     "name": "stdout",
     "output_type": "stream",
     "text": [
      "\u001b[1;36m26.942\u001b[0m: Patient \u001b[1;36m17\u001b[0m \u001b[1m(\u001b[0mstroke\u001b[1m)\u001b[0m arrive at ASU.                                                                         \n"
     ]
    },
    {
     "name": "stdout",
     "output_type": "stream",
     "text": [
      "\u001b[1;36m26.942\u001b[0m: Patient \u001b[1;36m17\u001b[0m \u001b[1m(\u001b[0mstroke\u001b[1m)\u001b[0m post-ASU: esd                                                                          \n"
     ]
    },
    {
     "name": "stdout",
     "output_type": "stream",
     "text": [
      "\u001b[1;36m26.942\u001b[0m: Patient \u001b[1;36m17\u001b[0m \u001b[1m(\u001b[0mstroke\u001b[1m)\u001b[0m LOS on ASU: \u001b[1;36m4.915\u001b[0m                                                                      \n"
     ]
    },
    {
     "name": "stdout",
     "output_type": "stream",
     "text": [
      "\u001b[1;36m26.988\u001b[0m: Patient \u001b[1;36m18\u001b[0m \u001b[1m(\u001b[0mother\u001b[1m)\u001b[0m arrive at ASU.                                                                          \n"
     ]
    },
    {
     "name": "stdout",
     "output_type": "stream",
     "text": [
      "\u001b[1;36m26.988\u001b[0m: Patient \u001b[1;36m18\u001b[0m \u001b[1m(\u001b[0mother\u001b[1m)\u001b[0m post-ASU: other                                                                         \n"
     ]
    },
    {
     "name": "stdout",
     "output_type": "stream",
     "text": [
      "\u001b[1;36m26.988\u001b[0m: Patient \u001b[1;36m18\u001b[0m \u001b[1m(\u001b[0mother\u001b[1m)\u001b[0m LOS on ASU: \u001b[1;36m0.668\u001b[0m                                                                       \n"
     ]
    },
    {
     "name": "stdout",
     "output_type": "stream",
     "text": [
      "\u001b[1;36m27.528\u001b[0m: Patient \u001b[1;36m16\u001b[0m \u001b[1m(\u001b[0mstroke\u001b[1m)\u001b[0m arrive at rehab.                                                                       \n"
     ]
    },
    {
     "name": "stdout",
     "output_type": "stream",
     "text": [
      "\u001b[1;36m27.528\u001b[0m: Patient \u001b[1;36m16\u001b[0m \u001b[1m(\u001b[0mstroke\u001b[1m)\u001b[0m post-rehab: other                                                                      \n"
     ]
    },
    {
     "name": "stdout",
     "output_type": "stream",
     "text": [
      "\u001b[1;36m27.528\u001b[0m: Patient \u001b[1;36m16\u001b[0m \u001b[1m(\u001b[0mstroke\u001b[1m)\u001b[0m LOS on rehab unit: \u001b[1;36m13.826\u001b[0m                                                              \n"
     ]
    },
    {
     "name": "stdout",
     "output_type": "stream",
     "text": [
      "\u001b[1;36m27.935\u001b[0m: Patient \u001b[1;36m19\u001b[0m \u001b[1m(\u001b[0mstroke\u001b[1m)\u001b[0m arrive at ASU.                                                                         \n"
     ]
    },
    {
     "name": "stdout",
     "output_type": "stream",
     "text": [
      "\u001b[1;36m27.935\u001b[0m: Patient \u001b[1;36m19\u001b[0m \u001b[1m(\u001b[0mstroke\u001b[1m)\u001b[0m post-ASU: esd                                                                          \n"
     ]
    },
    {
     "name": "stdout",
     "output_type": "stream",
     "text": [
      "\u001b[1;36m27.935\u001b[0m: Patient \u001b[1;36m19\u001b[0m \u001b[1m(\u001b[0mstroke\u001b[1m)\u001b[0m LOS on ASU: \u001b[1;36m8.185\u001b[0m                                                                      \n"
     ]
    },
    {
     "name": "stdout",
     "output_type": "stream",
     "text": [
      "\u001b[1;36m28.679\u001b[0m: Patient \u001b[1;36m20\u001b[0m \u001b[1m(\u001b[0mstroke\u001b[1m)\u001b[0m arrive at ASU.                                                                         \n"
     ]
    },
    {
     "name": "stdout",
     "output_type": "stream",
     "text": [
      "\u001b[1;36m28.679\u001b[0m: Patient \u001b[1;36m20\u001b[0m \u001b[1m(\u001b[0mstroke\u001b[1m)\u001b[0m post-ASU: other                                                                        \n"
     ]
    },
    {
     "name": "stdout",
     "output_type": "stream",
     "text": [
      "\u001b[1;36m28.679\u001b[0m: Patient \u001b[1;36m20\u001b[0m \u001b[1m(\u001b[0mstroke\u001b[1m)\u001b[0m LOS on ASU: \u001b[1;36m4.248\u001b[0m                                                                      \n"
     ]
    },
    {
     "name": "stdout",
     "output_type": "stream",
     "text": [
      "\u001b[1;36m29.004\u001b[0m: Patient \u001b[1;36m21\u001b[0m \u001b[1m(\u001b[0mneuro\u001b[1m)\u001b[0m arrive at ASU.                                                                          \n"
     ]
    },
    {
     "name": "stdout",
     "output_type": "stream",
     "text": [
      "\u001b[1;36m29.004\u001b[0m: Patient \u001b[1;36m21\u001b[0m \u001b[1m(\u001b[0mneuro\u001b[1m)\u001b[0m post-ASU: other                                                                         \n"
     ]
    },
    {
     "name": "stdout",
     "output_type": "stream",
     "text": [
      "\u001b[1;36m29.004\u001b[0m: Patient \u001b[1;36m21\u001b[0m \u001b[1m(\u001b[0mneuro\u001b[1m)\u001b[0m LOS on ASU: \u001b[1;36m0.510\u001b[0m                                                                       \n"
     ]
    },
    {
     "name": "stdout",
     "output_type": "stream",
     "text": [
      "\u001b[1;36m29.406\u001b[0m: Patient \u001b[1;36m22\u001b[0m \u001b[1m(\u001b[0mstroke\u001b[1m)\u001b[0m arrive at ASU.                                                                         \n"
     ]
    },
    {
     "name": "stdout",
     "output_type": "stream",
     "text": [
      "\u001b[1;36m29.406\u001b[0m: Patient \u001b[1;36m22\u001b[0m \u001b[1m(\u001b[0mstroke\u001b[1m)\u001b[0m post-ASU: rehab                                                                        \n"
     ]
    },
    {
     "name": "stdout",
     "output_type": "stream",
     "text": [
      "\u001b[1;36m29.406\u001b[0m: Patient \u001b[1;36m22\u001b[0m \u001b[1m(\u001b[0mstroke\u001b[1m)\u001b[0m LOS on ASU: \u001b[1;36m6.987\u001b[0m                                                                      \n"
     ]
    },
    {
     "name": "stdout",
     "output_type": "stream",
     "text": [
      "\u001b[1;36m29.490\u001b[0m: Patient \u001b[1;36m10\u001b[0m \u001b[1m(\u001b[0mstroke\u001b[1m)\u001b[0m arrive at rehab.                                                                       \n"
     ]
    },
    {
     "name": "stdout",
     "output_type": "stream",
     "text": [
      "\u001b[1;36m29.490\u001b[0m: Patient \u001b[1;36m10\u001b[0m \u001b[1m(\u001b[0mstroke\u001b[1m)\u001b[0m post-rehab: esd                                                                        \n"
     ]
    },
    {
     "name": "stdout",
     "output_type": "stream",
     "text": [
      "\u001b[1;36m29.490\u001b[0m: Patient \u001b[1;36m10\u001b[0m \u001b[1m(\u001b[0mstroke\u001b[1m)\u001b[0m LOS on rehab unit: \u001b[1;36m75.543\u001b[0m                                                              \n"
     ]
    },
    {
     "name": "stdout",
     "output_type": "stream",
     "text": [
      "\u001b[1;36m29.884\u001b[0m: Patient \u001b[1;36m23\u001b[0m \u001b[1m(\u001b[0mneuro\u001b[1m)\u001b[0m arrive at ASU.                                                                          \n"
     ]
    },
    {
     "name": "stdout",
     "output_type": "stream",
     "text": [
      "\u001b[1;36m29.884\u001b[0m: Patient \u001b[1;36m23\u001b[0m \u001b[1m(\u001b[0mneuro\u001b[1m)\u001b[0m post-ASU: other                                                                         \n"
     ]
    },
    {
     "name": "stdout",
     "output_type": "stream",
     "text": [
      "\u001b[1;36m29.884\u001b[0m: Patient \u001b[1;36m23\u001b[0m \u001b[1m(\u001b[0mneuro\u001b[1m)\u001b[0m LOS on ASU: \u001b[1;36m3.903\u001b[0m                                                                       \n"
     ]
    },
    {
     "name": "stdout",
     "output_type": "stream",
     "text": [
      "\u001b[1;36m29.911\u001b[0m: Patient \u001b[1;36m24\u001b[0m \u001b[1m(\u001b[0mneuro\u001b[1m)\u001b[0m arrive at ASU.                                                                          \n"
     ]
    },
    {
     "name": "stdout",
     "output_type": "stream",
     "text": [
      "\u001b[1;36m29.911\u001b[0m: Patient \u001b[1;36m24\u001b[0m \u001b[1m(\u001b[0mneuro\u001b[1m)\u001b[0m post-ASU: other                                                                         \n"
     ]
    },
    {
     "name": "stdout",
     "output_type": "stream",
     "text": [
      "\u001b[1;36m29.911\u001b[0m: Patient \u001b[1;36m24\u001b[0m \u001b[1m(\u001b[0mneuro\u001b[1m)\u001b[0m LOS on ASU: \u001b[1;36m8.592\u001b[0m                                                                       \n"
     ]
    },
    {
     "name": "stdout",
     "output_type": "stream",
     "text": [
      "\u001b[1;36m30.200\u001b[0m: Patient \u001b[1;36m25\u001b[0m \u001b[1m(\u001b[0mother\u001b[1m)\u001b[0m arrive at ASU.                                                                          \n"
     ]
    },
    {
     "name": "stdout",
     "output_type": "stream",
     "text": [
      "\u001b[1;36m30.200\u001b[0m: Patient \u001b[1;36m25\u001b[0m \u001b[1m(\u001b[0mother\u001b[1m)\u001b[0m post-ASU: other                                                                         \n"
     ]
    },
    {
     "name": "stdout",
     "output_type": "stream",
     "text": [
      "\u001b[1;36m30.200\u001b[0m: Patient \u001b[1;36m25\u001b[0m \u001b[1m(\u001b[0mother\u001b[1m)\u001b[0m LOS on ASU: \u001b[1;36m1.908\u001b[0m                                                                       \n"
     ]
    },
    {
     "name": "stdout",
     "output_type": "stream",
     "text": [
      "\u001b[1;36m31.428\u001b[0m: Patient \u001b[1;36m26\u001b[0m \u001b[1m(\u001b[0mneuro\u001b[1m)\u001b[0m arrive at ASU.                                                                          \n"
     ]
    },
    {
     "name": "stdout",
     "output_type": "stream",
     "text": [
      "\u001b[1;36m31.428\u001b[0m: Patient \u001b[1;36m26\u001b[0m \u001b[1m(\u001b[0mneuro\u001b[1m)\u001b[0m post-ASU: rehab                                                                         \n"
     ]
    },
    {
     "name": "stdout",
     "output_type": "stream",
     "text": [
      "\u001b[1;36m31.428\u001b[0m: Patient \u001b[1;36m26\u001b[0m \u001b[1m(\u001b[0mneuro\u001b[1m)\u001b[0m LOS on ASU: \u001b[1;36m2.587\u001b[0m                                                                       \n"
     ]
    },
    {
     "name": "stdout",
     "output_type": "stream",
     "text": [
      "\u001b[1;36m32.814\u001b[0m: Patient \u001b[1;36m27\u001b[0m \u001b[1m(\u001b[0mstroke\u001b[1m)\u001b[0m arrive at ASU.                                                                         \n"
     ]
    },
    {
     "name": "stdout",
     "output_type": "stream",
     "text": [
      "\u001b[1;36m32.814\u001b[0m: Patient \u001b[1;36m27\u001b[0m \u001b[1m(\u001b[0mstroke\u001b[1m)\u001b[0m post-ASU: other                                                                        \n"
     ]
    },
    {
     "name": "stdout",
     "output_type": "stream",
     "text": [
      "\u001b[1;36m32.814\u001b[0m: Patient \u001b[1;36m27\u001b[0m \u001b[1m(\u001b[0mstroke\u001b[1m)\u001b[0m LOS on ASU: \u001b[1;36m6.870\u001b[0m                                                                      \n"
     ]
    },
    {
     "name": "stdout",
     "output_type": "stream",
     "text": [
      "\u001b[1;36m32.884\u001b[0m: Patient \u001b[1;36m28\u001b[0m \u001b[1m(\u001b[0mother\u001b[1m)\u001b[0m arrive at rehab.                                                                        \n"
     ]
    },
    {
     "name": "stdout",
     "output_type": "stream",
     "text": [
      "\u001b[1;36m32.884\u001b[0m: Patient \u001b[1;36m28\u001b[0m \u001b[1m(\u001b[0mother\u001b[1m)\u001b[0m post-rehab: other                                                                       \n"
     ]
    },
    {
     "name": "stdout",
     "output_type": "stream",
     "text": [
      "\u001b[1;36m32.884\u001b[0m: Patient \u001b[1;36m28\u001b[0m \u001b[1m(\u001b[0mother\u001b[1m)\u001b[0m LOS on rehab unit: \u001b[1;36m60.723\u001b[0m                                                               \n"
     ]
    },
    {
     "name": "stdout",
     "output_type": "stream",
     "text": [
      "\u001b[1;36m33.097\u001b[0m: Patient \u001b[1;36m29\u001b[0m \u001b[1m(\u001b[0mstroke\u001b[1m)\u001b[0m arrive at ASU.                                                                         \n"
     ]
    },
    {
     "name": "stdout",
     "output_type": "stream",
     "text": [
      "\u001b[1;36m33.097\u001b[0m: Patient \u001b[1;36m29\u001b[0m \u001b[1m(\u001b[0mstroke\u001b[1m)\u001b[0m post-ASU: other                                                                        \n"
     ]
    },
    {
     "name": "stdout",
     "output_type": "stream",
     "text": [
      "\u001b[1;36m33.097\u001b[0m: Patient \u001b[1;36m29\u001b[0m \u001b[1m(\u001b[0mstroke\u001b[1m)\u001b[0m LOS on ASU: \u001b[1;36m1.270\u001b[0m                                                                      \n"
     ]
    },
    {
     "name": "stdout",
     "output_type": "stream",
     "text": [
      "\u001b[1;36m34.015\u001b[0m: Patient \u001b[1;36m26\u001b[0m \u001b[1m(\u001b[0mneuro\u001b[1m)\u001b[0m arrive at rehab.                                                                        \n"
     ]
    },
    {
     "name": "stdout",
     "output_type": "stream",
     "text": [
      "\u001b[1;36m34.015\u001b[0m: Patient \u001b[1;36m26\u001b[0m \u001b[1m(\u001b[0mneuro\u001b[1m)\u001b[0m post-rehab: other                                                                       \n"
     ]
    },
    {
     "name": "stdout",
     "output_type": "stream",
     "text": [
      "\u001b[1;36m34.015\u001b[0m: Patient \u001b[1;36m26\u001b[0m \u001b[1m(\u001b[0mneuro\u001b[1m)\u001b[0m LOS on rehab unit: \u001b[1;36m13.694\u001b[0m                                                               \n"
     ]
    },
    {
     "name": "stdout",
     "output_type": "stream",
     "text": [
      "\u001b[1;36m34.534\u001b[0m: Patient \u001b[1;36m30\u001b[0m \u001b[1m(\u001b[0mneuro\u001b[1m)\u001b[0m arrive at ASU.                                                                          \n"
     ]
    },
    {
     "name": "stdout",
     "output_type": "stream",
     "text": [
      "\u001b[1;36m34.534\u001b[0m: Patient \u001b[1;36m30\u001b[0m \u001b[1m(\u001b[0mneuro\u001b[1m)\u001b[0m post-ASU: other                                                                         \n"
     ]
    },
    {
     "name": "stdout",
     "output_type": "stream",
     "text": [
      "\u001b[1;36m34.534\u001b[0m: Patient \u001b[1;36m30\u001b[0m \u001b[1m(\u001b[0mneuro\u001b[1m)\u001b[0m LOS on ASU: \u001b[1;36m4.013\u001b[0m                                                                       \n"
     ]
    },
    {
     "name": "stdout",
     "output_type": "stream",
     "text": [
      "\u001b[1;36m36.102\u001b[0m: Patient \u001b[1;36m31\u001b[0m \u001b[1m(\u001b[0mstroke\u001b[1m)\u001b[0m arrive at ASU.                                                                         \n"
     ]
    },
    {
     "name": "stdout",
     "output_type": "stream",
     "text": [
      "\u001b[1;36m36.102\u001b[0m: Patient \u001b[1;36m31\u001b[0m \u001b[1m(\u001b[0mstroke\u001b[1m)\u001b[0m post-ASU: other                                                                        \n"
     ]
    },
    {
     "name": "stdout",
     "output_type": "stream",
     "text": [
      "\u001b[1;36m36.102\u001b[0m: Patient \u001b[1;36m31\u001b[0m \u001b[1m(\u001b[0mstroke\u001b[1m)\u001b[0m LOS on ASU: \u001b[1;36m24.260\u001b[0m                                                                     \n"
     ]
    },
    {
     "name": "stdout",
     "output_type": "stream",
     "text": [
      "\u001b[1;36m36.393\u001b[0m: Patient \u001b[1;36m22\u001b[0m \u001b[1m(\u001b[0mstroke\u001b[1m)\u001b[0m arrive at rehab.                                                                       \n"
     ]
    },
    {
     "name": "stdout",
     "output_type": "stream",
     "text": [
      "\u001b[1;36m36.393\u001b[0m: Patient \u001b[1;36m22\u001b[0m \u001b[1m(\u001b[0mstroke\u001b[1m)\u001b[0m post-rehab: other                                                                      \n"
     ]
    },
    {
     "name": "stdout",
     "output_type": "stream",
     "text": [
      "\u001b[1;36m36.393\u001b[0m: Patient \u001b[1;36m22\u001b[0m \u001b[1m(\u001b[0mstroke\u001b[1m)\u001b[0m LOS on rehab unit: \u001b[1;36m19.051\u001b[0m                                                              \n"
     ]
    },
    {
     "name": "stdout",
     "output_type": "stream",
     "text": [
      "\u001b[1;36m36.433\u001b[0m: Patient \u001b[1;36m32\u001b[0m \u001b[1m(\u001b[0mneuro\u001b[1m)\u001b[0m arrive at ASU.                                                                          \n"
     ]
    },
    {
     "name": "stdout",
     "output_type": "stream",
     "text": [
      "\u001b[1;36m36.433\u001b[0m: Patient \u001b[1;36m32\u001b[0m \u001b[1m(\u001b[0mneuro\u001b[1m)\u001b[0m post-ASU: other                                                                         \n"
     ]
    },
    {
     "name": "stdout",
     "output_type": "stream",
     "text": [
      "\u001b[1;36m36.433\u001b[0m: Patient \u001b[1;36m32\u001b[0m \u001b[1m(\u001b[0mneuro\u001b[1m)\u001b[0m LOS on ASU: \u001b[1;36m3.052\u001b[0m                                                                       \n"
     ]
    },
    {
     "name": "stdout",
     "output_type": "stream",
     "text": [
      "\u001b[1;36m36.493\u001b[0m: Patient \u001b[1;36m33\u001b[0m \u001b[1m(\u001b[0mstroke\u001b[1m)\u001b[0m arrive at ASU.                                                                         \n"
     ]
    },
    {
     "name": "stdout",
     "output_type": "stream",
     "text": [
      "\u001b[1;36m36.493\u001b[0m: Patient \u001b[1;36m33\u001b[0m \u001b[1m(\u001b[0mstroke\u001b[1m)\u001b[0m post-ASU: other                                                                        \n"
     ]
    },
    {
     "name": "stdout",
     "output_type": "stream",
     "text": [
      "\u001b[1;36m36.493\u001b[0m: Patient \u001b[1;36m33\u001b[0m \u001b[1m(\u001b[0mstroke\u001b[1m)\u001b[0m LOS on ASU: \u001b[1;36m19.224\u001b[0m                                                                     \n"
     ]
    },
    {
     "name": "stdout",
     "output_type": "stream",
     "text": [
      "\u001b[1;36m37.456\u001b[0m: Patient \u001b[1;36m34\u001b[0m \u001b[1m(\u001b[0mother\u001b[1m)\u001b[0m arrive at ASU.                                                                          \n"
     ]
    },
    {
     "name": "stdout",
     "output_type": "stream",
     "text": [
      "\u001b[1;36m37.456\u001b[0m: Patient \u001b[1;36m34\u001b[0m \u001b[1m(\u001b[0mother\u001b[1m)\u001b[0m post-ASU: other                                                                         \n"
     ]
    },
    {
     "name": "stdout",
     "output_type": "stream",
     "text": [
      "\u001b[1;36m37.456\u001b[0m: Patient \u001b[1;36m34\u001b[0m \u001b[1m(\u001b[0mother\u001b[1m)\u001b[0m LOS on ASU: \u001b[1;36m7.962\u001b[0m                                                                       \n"
     ]
    },
    {
     "name": "stdout",
     "output_type": "stream",
     "text": [
      "\u001b[1;36m38.034\u001b[0m: Patient \u001b[1;36m35\u001b[0m \u001b[1m(\u001b[0mother\u001b[1m)\u001b[0m arrive at ASU.                                                                          \n"
     ]
    },
    {
     "name": "stdout",
     "output_type": "stream",
     "text": [
      "\u001b[1;36m38.034\u001b[0m: Patient \u001b[1;36m35\u001b[0m \u001b[1m(\u001b[0mother\u001b[1m)\u001b[0m post-ASU: other                                                                         \n"
     ]
    },
    {
     "name": "stdout",
     "output_type": "stream",
     "text": [
      "\u001b[1;36m38.034\u001b[0m: Patient \u001b[1;36m35\u001b[0m \u001b[1m(\u001b[0mother\u001b[1m)\u001b[0m LOS on ASU: \u001b[1;36m3.243\u001b[0m                                                                       \n"
     ]
    },
    {
     "name": "stdout",
     "output_type": "stream",
     "text": [
      "\u001b[1;36m38.348\u001b[0m: Patient \u001b[1;36m36\u001b[0m \u001b[1m(\u001b[0mstroke\u001b[1m)\u001b[0m arrive at ASU.                                                                         \n"
     ]
    },
    {
     "name": "stdout",
     "output_type": "stream",
     "text": [
      "\u001b[1;36m38.348\u001b[0m: Patient \u001b[1;36m36\u001b[0m \u001b[1m(\u001b[0mstroke\u001b[1m)\u001b[0m post-ASU: rehab                                                                        \n"
     ]
    },
    {
     "name": "stdout",
     "output_type": "stream",
     "text": [
      "\u001b[1;36m38.348\u001b[0m: Patient \u001b[1;36m36\u001b[0m \u001b[1m(\u001b[0mstroke\u001b[1m)\u001b[0m LOS on ASU: \u001b[1;36m12.273\u001b[0m                                                                     \n"
     ]
    },
    {
     "name": "stdout",
     "output_type": "stream",
     "text": [
      "\u001b[1;36m39.617\u001b[0m: Patient \u001b[1;36m37\u001b[0m \u001b[1m(\u001b[0mstroke\u001b[1m)\u001b[0m arrive at ASU.                                                                         \n"
     ]
    },
    {
     "name": "stdout",
     "output_type": "stream",
     "text": [
      "\u001b[1;36m39.617\u001b[0m: Patient \u001b[1;36m37\u001b[0m \u001b[1m(\u001b[0mstroke\u001b[1m)\u001b[0m post-ASU: rehab                                                                        \n"
     ]
    },
    {
     "name": "stdout",
     "output_type": "stream",
     "text": [
      "\u001b[1;36m39.617\u001b[0m: Patient \u001b[1;36m37\u001b[0m \u001b[1m(\u001b[0mstroke\u001b[1m)\u001b[0m LOS on ASU: \u001b[1;36m8.563\u001b[0m                                                                      \n"
     ]
    },
    {
     "name": "stdout",
     "output_type": "stream",
     "text": [
      "\u001b[1;36m40.085\u001b[0m: Patient \u001b[1;36m38\u001b[0m \u001b[1m(\u001b[0mstroke\u001b[1m)\u001b[0m arrive at ASU.                                                                         \n"
     ]
    },
    {
     "name": "stdout",
     "output_type": "stream",
     "text": [
      "\u001b[1;36m40.085\u001b[0m: Patient \u001b[1;36m38\u001b[0m \u001b[1m(\u001b[0mstroke\u001b[1m)\u001b[0m post-ASU: rehab                                                                        \n"
     ]
    },
    {
     "name": "stdout",
     "output_type": "stream",
     "text": [
      "\u001b[1;36m40.085\u001b[0m: Patient \u001b[1;36m38\u001b[0m \u001b[1m(\u001b[0mstroke\u001b[1m)\u001b[0m LOS on ASU: \u001b[1;36m1.374\u001b[0m                                                                      \n"
     ]
    },
    {
     "name": "stdout",
     "output_type": "stream",
     "text": [
      "\u001b[1;36m40.221\u001b[0m: Patient \u001b[1;36m39\u001b[0m \u001b[1m(\u001b[0mother\u001b[1m)\u001b[0m arrive at ASU.                                                                          \n"
     ]
    },
    {
     "name": "stdout",
     "output_type": "stream",
     "text": [
      "\u001b[1;36m40.221\u001b[0m: Patient \u001b[1;36m39\u001b[0m \u001b[1m(\u001b[0mother\u001b[1m)\u001b[0m post-ASU: other                                                                         \n"
     ]
    },
    {
     "name": "stdout",
     "output_type": "stream",
     "text": [
      "\u001b[1;36m40.221\u001b[0m: Patient \u001b[1;36m39\u001b[0m \u001b[1m(\u001b[0mother\u001b[1m)\u001b[0m LOS on ASU: \u001b[1;36m2.006\u001b[0m                                                                       \n"
     ]
    },
    {
     "name": "stdout",
     "output_type": "stream",
     "text": [
      "\u001b[1;36m40.904\u001b[0m: Patient \u001b[1;36m40\u001b[0m \u001b[1m(\u001b[0mstroke\u001b[1m)\u001b[0m arrive at ASU.                                                                         \n"
     ]
    },
    {
     "name": "stdout",
     "output_type": "stream",
     "text": [
      "\u001b[1;36m40.904\u001b[0m: Patient \u001b[1;36m40\u001b[0m \u001b[1m(\u001b[0mstroke\u001b[1m)\u001b[0m post-ASU: other                                                                        \n"
     ]
    },
    {
     "name": "stdout",
     "output_type": "stream",
     "text": [
      "\u001b[1;36m40.904\u001b[0m: Patient \u001b[1;36m40\u001b[0m \u001b[1m(\u001b[0mstroke\u001b[1m)\u001b[0m LOS on ASU: \u001b[1;36m22.662\u001b[0m                                                                     \n"
     ]
    },
    {
     "name": "stdout",
     "output_type": "stream",
     "text": [
      "\u001b[1;36m41.230\u001b[0m: Patient \u001b[1;36m41\u001b[0m \u001b[1m(\u001b[0mother\u001b[1m)\u001b[0m arrive at ASU.                                                                          \n"
     ]
    },
    {
     "name": "stdout",
     "output_type": "stream",
     "text": [
      "\u001b[1;36m41.230\u001b[0m: Patient \u001b[1;36m41\u001b[0m \u001b[1m(\u001b[0mother\u001b[1m)\u001b[0m post-ASU: other                                                                         \n"
     ]
    },
    {
     "name": "stdout",
     "output_type": "stream",
     "text": [
      "\u001b[1;36m41.230\u001b[0m: Patient \u001b[1;36m41\u001b[0m \u001b[1m(\u001b[0mother\u001b[1m)\u001b[0m LOS on ASU: \u001b[1;36m1.914\u001b[0m                                                                       \n"
     ]
    },
    {
     "name": "stdout",
     "output_type": "stream",
     "text": [
      "\u001b[1;36m41.459\u001b[0m: Patient \u001b[1;36m38\u001b[0m \u001b[1m(\u001b[0mstroke\u001b[1m)\u001b[0m arrive at rehab.                                                                       \n"
     ]
    },
    {
     "name": "stdout",
     "output_type": "stream",
     "text": [
      "\u001b[1;36m41.459\u001b[0m: Patient \u001b[1;36m38\u001b[0m \u001b[1m(\u001b[0mstroke\u001b[1m)\u001b[0m post-rehab: esd                                                                        \n"
     ]
    },
    {
     "name": "stdout",
     "output_type": "stream",
     "text": [
      "\u001b[1;36m41.459\u001b[0m: Patient \u001b[1;36m38\u001b[0m \u001b[1m(\u001b[0mstroke\u001b[1m)\u001b[0m LOS on rehab unit: \u001b[1;36m18.808\u001b[0m                                                              \n"
     ]
    },
    {
     "name": "stdout",
     "output_type": "stream",
     "text": [
      "\u001b[1;36m41.478\u001b[0m: Patient \u001b[1;36m42\u001b[0m \u001b[1m(\u001b[0mother\u001b[1m)\u001b[0m arrive at rehab.                                                                        \n"
     ]
    },
    {
     "name": "stdout",
     "output_type": "stream",
     "text": [
      "\u001b[1;36m41.478\u001b[0m: Patient \u001b[1;36m42\u001b[0m \u001b[1m(\u001b[0mother\u001b[1m)\u001b[0m post-rehab: other                                                                       \n"
     ]
    },
    {
     "name": "stdout",
     "output_type": "stream",
     "text": [
      "\u001b[1;36m41.478\u001b[0m: Patient \u001b[1;36m42\u001b[0m \u001b[1m(\u001b[0mother\u001b[1m)\u001b[0m LOS on rehab unit: \u001b[1;36m6.542\u001b[0m                                                                \n"
     ]
    },
    {
     "name": "stdout",
     "output_type": "stream",
     "text": [
      "\u001b[1;36m41.763\u001b[0m: Patient \u001b[1;36m43\u001b[0m \u001b[1m(\u001b[0mneuro\u001b[1m)\u001b[0m arrive at ASU.                                                                          \n"
     ]
    },
    {
     "name": "stdout",
     "output_type": "stream",
     "text": [
      "\u001b[1;36m41.763\u001b[0m: Patient \u001b[1;36m43\u001b[0m \u001b[1m(\u001b[0mneuro\u001b[1m)\u001b[0m post-ASU: esd                                                                           \n"
     ]
    },
    {
     "name": "stdout",
     "output_type": "stream",
     "text": [
      "\u001b[1;36m41.763\u001b[0m: Patient \u001b[1;36m43\u001b[0m \u001b[1m(\u001b[0mneuro\u001b[1m)\u001b[0m LOS on ASU: \u001b[1;36m0.483\u001b[0m                                                                       \n"
     ]
    },
    {
     "name": "stdout",
     "output_type": "stream",
     "text": [
      "\u001b[1;36m42.784\u001b[0m: Patient \u001b[1;36m44\u001b[0m \u001b[1m(\u001b[0mneuro\u001b[1m)\u001b[0m arrive at ASU.                                                                          \n"
     ]
    },
    {
     "name": "stdout",
     "output_type": "stream",
     "text": [
      "\u001b[1;36m42.784\u001b[0m: Patient \u001b[1;36m44\u001b[0m \u001b[1m(\u001b[0mneuro\u001b[1m)\u001b[0m post-ASU: other                                                                         \n"
     ]
    },
    {
     "name": "stdout",
     "output_type": "stream",
     "text": [
      "\u001b[1;36m42.784\u001b[0m: Patient \u001b[1;36m44\u001b[0m \u001b[1m(\u001b[0mneuro\u001b[1m)\u001b[0m LOS on ASU: \u001b[1;36m3.828\u001b[0m                                                                       \n"
     ]
    },
    {
     "name": "stdout",
     "output_type": "stream",
     "text": [
      "\u001b[1;36m43.243\u001b[0m: Patient \u001b[1;36m45\u001b[0m \u001b[1m(\u001b[0mstroke\u001b[1m)\u001b[0m arrive at ASU.                                                                         \n"
     ]
    },
    {
     "name": "stdout",
     "output_type": "stream",
     "text": [
      "\u001b[1;36m43.243\u001b[0m: Patient \u001b[1;36m45\u001b[0m \u001b[1m(\u001b[0mstroke\u001b[1m)\u001b[0m post-ASU: other                                                                        \n"
     ]
    },
    {
     "name": "stdout",
     "output_type": "stream",
     "text": [
      "\u001b[1;36m43.243\u001b[0m: Patient \u001b[1;36m45\u001b[0m \u001b[1m(\u001b[0mstroke\u001b[1m)\u001b[0m LOS on ASU: \u001b[1;36m3.136\u001b[0m                                                                      \n"
     ]
    },
    {
     "name": "stdout",
     "output_type": "stream",
     "text": [
      "\u001b[1;36m45.264\u001b[0m: Patient \u001b[1;36m46\u001b[0m \u001b[1m(\u001b[0mtia\u001b[1m)\u001b[0m arrive at ASU.                                                                            \n"
     ]
    },
    {
     "name": "stdout",
     "output_type": "stream",
     "text": [
      "\u001b[1;36m45.264\u001b[0m: Patient \u001b[1;36m46\u001b[0m \u001b[1m(\u001b[0mtia\u001b[1m)\u001b[0m post-ASU: other                                                                           \n"
     ]
    },
    {
     "name": "stdout",
     "output_type": "stream",
     "text": [
      "\u001b[1;36m45.264\u001b[0m: Patient \u001b[1;36m46\u001b[0m \u001b[1m(\u001b[0mtia\u001b[1m)\u001b[0m LOS on ASU: \u001b[1;36m1.267\u001b[0m                                                                         \n"
     ]
    },
    {
     "name": "stdout",
     "output_type": "stream",
     "text": [
      "\u001b[1;36m45.922\u001b[0m: Patient \u001b[1;36m47\u001b[0m \u001b[1m(\u001b[0mother\u001b[1m)\u001b[0m arrive at rehab.                                                                        \n"
     ]
    },
    {
     "name": "stdout",
     "output_type": "stream",
     "text": [
      "\u001b[1;36m45.922\u001b[0m: Patient \u001b[1;36m47\u001b[0m \u001b[1m(\u001b[0mother\u001b[1m)\u001b[0m post-rehab: other                                                                       \n"
     ]
    },
    {
     "name": "stdout",
     "output_type": "stream",
     "text": [
      "\u001b[1;36m45.922\u001b[0m: Patient \u001b[1;36m47\u001b[0m \u001b[1m(\u001b[0mother\u001b[1m)\u001b[0m LOS on rehab unit: \u001b[1;36m27.789\u001b[0m                                                               \n"
     ]
    },
    {
     "name": "stdout",
     "output_type": "stream",
     "text": [
      "\u001b[1;36m46.096\u001b[0m: Patient \u001b[1;36m48\u001b[0m \u001b[1m(\u001b[0mstroke\u001b[1m)\u001b[0m arrive at ASU.                                                                         \n"
     ]
    },
    {
     "name": "stdout",
     "output_type": "stream",
     "text": [
      "\u001b[1;36m46.096\u001b[0m: Patient \u001b[1;36m48\u001b[0m \u001b[1m(\u001b[0mstroke\u001b[1m)\u001b[0m post-ASU: rehab                                                                        \n"
     ]
    },
    {
     "name": "stdout",
     "output_type": "stream",
     "text": [
      "\u001b[1;36m46.096\u001b[0m: Patient \u001b[1;36m48\u001b[0m \u001b[1m(\u001b[0mstroke\u001b[1m)\u001b[0m LOS on ASU: \u001b[1;36m9.104\u001b[0m                                                                      \n"
     ]
    },
    {
     "name": "stdout",
     "output_type": "stream",
     "text": [
      "\u001b[1;36m46.285\u001b[0m: Patient \u001b[1;36m49\u001b[0m \u001b[1m(\u001b[0mother\u001b[1m)\u001b[0m arrive at ASU.                                                                          \n"
     ]
    },
    {
     "name": "stdout",
     "output_type": "stream",
     "text": [
      "\u001b[1;36m46.285\u001b[0m: Patient \u001b[1;36m49\u001b[0m \u001b[1m(\u001b[0mother\u001b[1m)\u001b[0m post-ASU: other                                                                         \n"
     ]
    },
    {
     "name": "stdout",
     "output_type": "stream",
     "text": [
      "\u001b[1;36m46.285\u001b[0m: Patient \u001b[1;36m49\u001b[0m \u001b[1m(\u001b[0mother\u001b[1m)\u001b[0m LOS on ASU: \u001b[1;36m2.034\u001b[0m                                                                       \n"
     ]
    },
    {
     "name": "stdout",
     "output_type": "stream",
     "text": [
      "\u001b[1;36m46.634\u001b[0m: Patient \u001b[1;36m50\u001b[0m \u001b[1m(\u001b[0mother\u001b[1m)\u001b[0m arrive at ASU.                                                                          \n"
     ]
    },
    {
     "name": "stdout",
     "output_type": "stream",
     "text": [
      "\u001b[1;36m46.634\u001b[0m: Patient \u001b[1;36m50\u001b[0m \u001b[1m(\u001b[0mother\u001b[1m)\u001b[0m post-ASU: other                                                                         \n"
     ]
    },
    {
     "name": "stdout",
     "output_type": "stream",
     "text": [
      "\u001b[1;36m46.634\u001b[0m: Patient \u001b[1;36m50\u001b[0m \u001b[1m(\u001b[0mother\u001b[1m)\u001b[0m LOS on ASU: \u001b[1;36m12.043\u001b[0m                                                                      \n"
     ]
    },
    {
     "name": "stdout",
     "output_type": "stream",
     "text": [
      "\u001b[1;36m47.097\u001b[0m: Patient \u001b[1;36m51\u001b[0m \u001b[1m(\u001b[0mstroke\u001b[1m)\u001b[0m arrive at ASU.                                                                         \n"
     ]
    },
    {
     "name": "stdout",
     "output_type": "stream",
     "text": [
      "\u001b[1;36m47.097\u001b[0m: Patient \u001b[1;36m51\u001b[0m \u001b[1m(\u001b[0mstroke\u001b[1m)\u001b[0m post-ASU: other                                                                        \n"
     ]
    },
    {
     "name": "stdout",
     "output_type": "stream",
     "text": [
      "\u001b[1;36m47.097\u001b[0m: Patient \u001b[1;36m51\u001b[0m \u001b[1m(\u001b[0mstroke\u001b[1m)\u001b[0m LOS on ASU: \u001b[1;36m8.175\u001b[0m                                                                      \n"
     ]
    },
    {
     "name": "stdout",
     "output_type": "stream",
     "text": [
      "\u001b[1;36m48.179\u001b[0m: Patient \u001b[1;36m37\u001b[0m \u001b[1m(\u001b[0mstroke\u001b[1m)\u001b[0m arrive at rehab.                                                                       \n"
     ]
    },
    {
     "name": "stdout",
     "output_type": "stream",
     "text": [
      "\u001b[1;36m48.179\u001b[0m: Patient \u001b[1;36m37\u001b[0m \u001b[1m(\u001b[0mstroke\u001b[1m)\u001b[0m post-rehab: other                                                                      \n"
     ]
    },
    {
     "name": "stdout",
     "output_type": "stream",
     "text": [
      "\u001b[1;36m48.179\u001b[0m: Patient \u001b[1;36m37\u001b[0m \u001b[1m(\u001b[0mstroke\u001b[1m)\u001b[0m LOS on rehab unit: \u001b[1;36m12.860\u001b[0m                                                              \n"
     ]
    },
    {
     "name": "stdout",
     "output_type": "stream",
     "text": [
      "\u001b[1;36m48.916\u001b[0m: Patient \u001b[1;36m52\u001b[0m \u001b[1m(\u001b[0mneuro\u001b[1m)\u001b[0m arrive at ASU.                                                                          \n"
     ]
    },
    {
     "name": "stdout",
     "output_type": "stream",
     "text": [
      "\u001b[1;36m48.916\u001b[0m: Patient \u001b[1;36m52\u001b[0m \u001b[1m(\u001b[0mneuro\u001b[1m)\u001b[0m post-ASU: other                                                                         \n"
     ]
    },
    {
     "name": "stdout",
     "output_type": "stream",
     "text": [
      "\u001b[1;36m48.916\u001b[0m: Patient \u001b[1;36m52\u001b[0m \u001b[1m(\u001b[0mneuro\u001b[1m)\u001b[0m LOS on ASU: \u001b[1;36m2.062\u001b[0m                                                                       \n"
     ]
    },
    {
     "name": "stdout",
     "output_type": "stream",
     "text": [
      "\u001b[1;36m49.597\u001b[0m: Patient \u001b[1;36m53\u001b[0m \u001b[1m(\u001b[0mstroke\u001b[1m)\u001b[0m arrive at ASU.                                                                         \n"
     ]
    },
    {
     "name": "stdout",
     "output_type": "stream",
     "text": [
      "\u001b[1;36m49.597\u001b[0m: Patient \u001b[1;36m53\u001b[0m \u001b[1m(\u001b[0mstroke\u001b[1m)\u001b[0m post-ASU: other                                                                        \n"
     ]
    },
    {
     "name": "stdout",
     "output_type": "stream",
     "text": [
      "\u001b[1;36m49.597\u001b[0m: Patient \u001b[1;36m53\u001b[0m \u001b[1m(\u001b[0mstroke\u001b[1m)\u001b[0m LOS on ASU: \u001b[1;36m2.952\u001b[0m                                                                      \n"
     ]
    },
    {
     "name": "stdout",
     "output_type": "stream",
     "text": [
      "\u001b[1;36m50.429\u001b[0m: Patient \u001b[1;36m54\u001b[0m \u001b[1m(\u001b[0mstroke\u001b[1m)\u001b[0m arrive at ASU.                                                                         \n"
     ]
    },
    {
     "name": "stdout",
     "output_type": "stream",
     "text": [
      "\u001b[1;36m50.429\u001b[0m: Patient \u001b[1;36m54\u001b[0m \u001b[1m(\u001b[0mstroke\u001b[1m)\u001b[0m post-ASU: other                                                                        \n"
     ]
    },
    {
     "name": "stdout",
     "output_type": "stream",
     "text": [
      "\u001b[1;36m50.429\u001b[0m: Patient \u001b[1;36m54\u001b[0m \u001b[1m(\u001b[0mstroke\u001b[1m)\u001b[0m LOS on ASU: \u001b[1;36m2.426\u001b[0m                                                                      \n"
     ]
    },
    {
     "name": "stdout",
     "output_type": "stream",
     "text": [
      "\u001b[1;36m50.621\u001b[0m: Patient \u001b[1;36m36\u001b[0m \u001b[1m(\u001b[0mstroke\u001b[1m)\u001b[0m arrive at rehab.                                                                       \n"
     ]
    },
    {
     "name": "stdout",
     "output_type": "stream",
     "text": [
      "\u001b[1;36m50.621\u001b[0m: Patient \u001b[1;36m36\u001b[0m \u001b[1m(\u001b[0mstroke\u001b[1m)\u001b[0m post-rehab: other                                                                      \n"
     ]
    },
    {
     "name": "stdout",
     "output_type": "stream",
     "text": [
      "\u001b[1;36m50.621\u001b[0m: Patient \u001b[1;36m36\u001b[0m \u001b[1m(\u001b[0mstroke\u001b[1m)\u001b[0m LOS on rehab unit: \u001b[1;36m20.802\u001b[0m                                                              \n"
     ]
    },
    {
     "name": "stdout",
     "output_type": "stream",
     "text": [
      "\u001b[1;36m50.992\u001b[0m: Patient \u001b[1;36m55\u001b[0m \u001b[1m(\u001b[0mstroke\u001b[1m)\u001b[0m arrive at ASU.                                                                         \n"
     ]
    },
    {
     "name": "stdout",
     "output_type": "stream",
     "text": [
      "\u001b[1;36m50.992\u001b[0m: Patient \u001b[1;36m55\u001b[0m \u001b[1m(\u001b[0mstroke\u001b[1m)\u001b[0m post-ASU: rehab                                                                        \n"
     ]
    },
    {
     "name": "stdout",
     "output_type": "stream",
     "text": [
      "\u001b[1;36m50.992\u001b[0m: Patient \u001b[1;36m55\u001b[0m \u001b[1m(\u001b[0mstroke\u001b[1m)\u001b[0m LOS on ASU: \u001b[1;36m7.385\u001b[0m                                                                      \n"
     ]
    },
    {
     "name": "stdout",
     "output_type": "stream",
     "text": [
      "\u001b[1;36m51.220\u001b[0m: Patient \u001b[1;36m56\u001b[0m \u001b[1m(\u001b[0mother\u001b[1m)\u001b[0m arrive at ASU.                                                                          \n"
     ]
    },
    {
     "name": "stdout",
     "output_type": "stream",
     "text": [
      "\u001b[1;36m51.220\u001b[0m: Patient \u001b[1;36m56\u001b[0m \u001b[1m(\u001b[0mother\u001b[1m)\u001b[0m post-ASU: other                                                                         \n"
     ]
    },
    {
     "name": "stdout",
     "output_type": "stream",
     "text": [
      "\u001b[1;36m51.220\u001b[0m: Patient \u001b[1;36m56\u001b[0m \u001b[1m(\u001b[0mother\u001b[1m)\u001b[0m LOS on ASU: \u001b[1;36m0.913\u001b[0m                                                                       \n"
     ]
    },
    {
     "name": "stdout",
     "output_type": "stream",
     "text": [
      "\u001b[1;36m52.180\u001b[0m: Patient \u001b[1;36m57\u001b[0m \u001b[1m(\u001b[0mneuro\u001b[1m)\u001b[0m arrive at ASU.                                                                          \n"
     ]
    },
    {
     "name": "stdout",
     "output_type": "stream",
     "text": [
      "\u001b[1;36m52.180\u001b[0m: Patient \u001b[1;36m57\u001b[0m \u001b[1m(\u001b[0mneuro\u001b[1m)\u001b[0m post-ASU: rehab                                                                         \n"
     ]
    },
    {
     "name": "stdout",
     "output_type": "stream",
     "text": [
      "\u001b[1;36m52.180\u001b[0m: Patient \u001b[1;36m57\u001b[0m \u001b[1m(\u001b[0mneuro\u001b[1m)\u001b[0m LOS on ASU: \u001b[1;36m1.372\u001b[0m                                                                       \n"
     ]
    },
    {
     "name": "stdout",
     "output_type": "stream",
     "text": [
      "\u001b[1;36m52.441\u001b[0m: Patient \u001b[1;36m58\u001b[0m \u001b[1m(\u001b[0mstroke\u001b[1m)\u001b[0m arrive at ASU.                                                                         \n"
     ]
    },
    {
     "name": "stdout",
     "output_type": "stream",
     "text": [
      "\u001b[1;36m52.441\u001b[0m: Patient \u001b[1;36m58\u001b[0m \u001b[1m(\u001b[0mstroke\u001b[1m)\u001b[0m post-ASU: esd                                                                          \n"
     ]
    },
    {
     "name": "stdout",
     "output_type": "stream",
     "text": [
      "\u001b[1;36m52.441\u001b[0m: Patient \u001b[1;36m58\u001b[0m \u001b[1m(\u001b[0mstroke\u001b[1m)\u001b[0m LOS on ASU: \u001b[1;36m1.935\u001b[0m                                                                      \n"
     ]
    },
    {
     "name": "stdout",
     "output_type": "stream",
     "text": [
      "\u001b[1;36m52.544\u001b[0m: Patient \u001b[1;36m59\u001b[0m \u001b[1m(\u001b[0mstroke\u001b[1m)\u001b[0m arrive at ASU.                                                                         \n"
     ]
    },
    {
     "name": "stdout",
     "output_type": "stream",
     "text": [
      "\u001b[1;36m52.544\u001b[0m: Patient \u001b[1;36m59\u001b[0m \u001b[1m(\u001b[0mstroke\u001b[1m)\u001b[0m post-ASU: other                                                                        \n"
     ]
    },
    {
     "name": "stdout",
     "output_type": "stream",
     "text": [
      "\u001b[1;36m52.544\u001b[0m: Patient \u001b[1;36m59\u001b[0m \u001b[1m(\u001b[0mstroke\u001b[1m)\u001b[0m LOS on ASU: \u001b[1;36m3.531\u001b[0m                                                                      \n"
     ]
    },
    {
     "name": "stdout",
     "output_type": "stream",
     "text": [
      "\u001b[1;36m52.946\u001b[0m: Patient \u001b[1;36m60\u001b[0m \u001b[1m(\u001b[0mstroke\u001b[1m)\u001b[0m arrive at ASU.                                                                         \n"
     ]
    },
    {
     "name": "stdout",
     "output_type": "stream",
     "text": [
      "\u001b[1;36m52.946\u001b[0m: Patient \u001b[1;36m60\u001b[0m \u001b[1m(\u001b[0mstroke\u001b[1m)\u001b[0m post-ASU: other                                                                        \n"
     ]
    },
    {
     "name": "stdout",
     "output_type": "stream",
     "text": [
      "\u001b[1;36m52.946\u001b[0m: Patient \u001b[1;36m60\u001b[0m \u001b[1m(\u001b[0mstroke\u001b[1m)\u001b[0m LOS on ASU: \u001b[1;36m10.057\u001b[0m                                                                     \n"
     ]
    },
    {
     "name": "stdout",
     "output_type": "stream",
     "text": [
      "\u001b[1;36m53.210\u001b[0m: Patient \u001b[1;36m61\u001b[0m \u001b[1m(\u001b[0mother\u001b[1m)\u001b[0m arrive at ASU.                                                                          \n"
     ]
    },
    {
     "name": "stdout",
     "output_type": "stream",
     "text": [
      "\u001b[1;36m53.210\u001b[0m: Patient \u001b[1;36m61\u001b[0m \u001b[1m(\u001b[0mother\u001b[1m)\u001b[0m post-ASU: other                                                                         \n"
     ]
    },
    {
     "name": "stdout",
     "output_type": "stream",
     "text": [
      "\u001b[1;36m53.210\u001b[0m: Patient \u001b[1;36m61\u001b[0m \u001b[1m(\u001b[0mother\u001b[1m)\u001b[0m LOS on ASU: \u001b[1;36m1.259\u001b[0m                                                                       \n"
     ]
    },
    {
     "name": "stdout",
     "output_type": "stream",
     "text": [
      "\u001b[1;36m53.552\u001b[0m: Patient \u001b[1;36m57\u001b[0m \u001b[1m(\u001b[0mneuro\u001b[1m)\u001b[0m arrive at rehab.                                                                        \n"
     ]
    },
    {
     "name": "stdout",
     "output_type": "stream",
     "text": [
      "\u001b[1;36m53.552\u001b[0m: Patient \u001b[1;36m57\u001b[0m \u001b[1m(\u001b[0mneuro\u001b[1m)\u001b[0m post-rehab: other                                                                       \n"
     ]
    },
    {
     "name": "stdout",
     "output_type": "stream",
     "text": [
      "\u001b[1;36m53.552\u001b[0m: Patient \u001b[1;36m57\u001b[0m \u001b[1m(\u001b[0mneuro\u001b[1m)\u001b[0m LOS on rehab unit: \u001b[1;36m49.465\u001b[0m                                                               \n"
     ]
    },
    {
     "name": "stdout",
     "output_type": "stream",
     "text": [
      "\u001b[1;36m54.155\u001b[0m: Patient \u001b[1;36m62\u001b[0m \u001b[1m(\u001b[0mstroke\u001b[1m)\u001b[0m arrive at ASU.                                                                         \n"
     ]
    },
    {
     "name": "stdout",
     "output_type": "stream",
     "text": [
      "\u001b[1;36m54.155\u001b[0m: Patient \u001b[1;36m62\u001b[0m \u001b[1m(\u001b[0mstroke\u001b[1m)\u001b[0m post-ASU: other                                                                        \n"
     ]
    },
    {
     "name": "stdout",
     "output_type": "stream",
     "text": [
      "\u001b[1;36m54.155\u001b[0m: Patient \u001b[1;36m62\u001b[0m \u001b[1m(\u001b[0mstroke\u001b[1m)\u001b[0m LOS on ASU: \u001b[1;36m5.558\u001b[0m                                                                      \n"
     ]
    },
    {
     "name": "stdout",
     "output_type": "stream",
     "text": [
      "\u001b[1;36m54.435\u001b[0m: Patient \u001b[1;36m63\u001b[0m \u001b[1m(\u001b[0mstroke\u001b[1m)\u001b[0m arrive at ASU.                                                                         \n"
     ]
    },
    {
     "name": "stdout",
     "output_type": "stream",
     "text": [
      "\u001b[1;36m54.435\u001b[0m: Patient \u001b[1;36m63\u001b[0m \u001b[1m(\u001b[0mstroke\u001b[1m)\u001b[0m post-ASU: other                                                                        \n"
     ]
    },
    {
     "name": "stdout",
     "output_type": "stream",
     "text": [
      "\u001b[1;36m54.435\u001b[0m: Patient \u001b[1;36m63\u001b[0m \u001b[1m(\u001b[0mstroke\u001b[1m)\u001b[0m LOS on ASU: \u001b[1;36m4.576\u001b[0m                                                                      \n"
     ]
    }
   ],
   "source": [
    "param = Param(log_to_console=True, log_to_file=True,\n",
    "              log_file_path=\"../outputs/logs/log_example.log\",\n",
    "              warm_up_period=15, data_collection_period=40)\n",
    "_ = Runner(param).run_single(run=0)"
   ]
  },
  {
   "cell_type": "markdown",
   "metadata": {},
   "source": [
    "## Run time"
   ]
  },
  {
   "cell_type": "code",
   "execution_count": 4,
   "metadata": {},
   "outputs": [
    {
     "name": "stdout",
     "output_type": "stream",
     "text": [
      "Notebook run time: 0m 0s\n"
     ]
    }
   ],
   "source": [
    "# Get run time in seconds\n",
    "end_time = time.time()\n",
    "runtime = round(end_time - start_time)\n",
    "\n",
    "# Display converted to minutes and seconds\n",
    "print(f'Notebook run time: {runtime // 60}m {runtime % 60}s')"
   ]
  }
 ],
 "metadata": {
  "kernelspec": {
   "display_name": "pydesrapstroke",
   "language": "python",
   "name": "python3"
  },
  "language_info": {
   "codemirror_mode": {
    "name": "ipython",
    "version": 3
   },
   "file_extension": ".py",
   "mimetype": "text/x-python",
   "name": "python",
   "nbconvert_exporter": "python",
   "pygments_lexer": "ipython3",
   "version": "3.13.1"
  }
 },
 "nbformat": 4,
 "nbformat_minor": 2
}
