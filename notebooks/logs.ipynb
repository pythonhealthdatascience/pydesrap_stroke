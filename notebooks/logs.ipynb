{
 "cells": [
  {
   "cell_type": "markdown",
   "metadata": {},
   "source": [
    "# Logs\n",
    "\n",
    "The `SimLogger` class is used to log events during the simulation. These can be print to the console (`log_to_console`) or saved to a file (`log_to_file`).\n",
    "\n",
    "This will output lots of information to the screen - currently set to give information on each patient as they arrive and then see the nurse. Therefore, it is only best used when running the simulation for a short time with few patients.\n",
    "\n",
    "The logs in `model.py` can be altered to print your desired information during the simulation run, which can be helpful during development.\n",
    "\n",
    "## Set-up\n",
    "\n",
    "Load required packages."
   ]
  },
  {
   "cell_type": "code",
   "execution_count": 1,
   "metadata": {},
   "outputs": [],
   "source": [
    "# pylint: disable=missing-module-docstring\n",
    "# To ensure any updates to `simulation/` are fetched without needing to restart\n",
    "# the notebook environment, reload `simulation/` before execution of each cell\n",
    "%load_ext autoreload\n",
    "%autoreload 1\n",
    "%aimport simulation\n",
    "\n",
    "# pylint: disable=wrong-import-position\n",
    "import time\n",
    "from IPython.display import display\n",
    "\n",
    "from simulation.logging import SimLogger\n",
    "from simulation.model import Param, Model"
   ]
  },
  {
   "cell_type": "markdown",
   "metadata": {},
   "source": [
    "Start timer."
   ]
  },
  {
   "cell_type": "code",
   "execution_count": 2,
   "metadata": {},
   "outputs": [],
   "source": [
    "start_time = time.time()"
   ]
  },
  {
   "cell_type": "markdown",
   "metadata": {},
   "source": [
    "## Simulation run with logs"
   ]
  },
  {
   "cell_type": "code",
   "execution_count": 3,
   "metadata": {},
   "outputs": [
    {
     "name": "stdout",
     "output_type": "stream",
     "text": [
      "\u001b[1;36m0.000\u001b[0m: Initialise model:                                                                                           \n",
      "                                                                                                                   \n"
     ]
    },
    {
     "name": "stdout",
     "output_type": "stream",
     "text": [
      "\u001b[1m{\u001b[0m   \u001b[32m'audit_list'\u001b[0m: \u001b[1m[\u001b[0m\u001b[1m]\u001b[0m,                                                                                              \n",
      "    \u001b[32m'env'\u001b[0m: \u001b[32m'\u001b[0m\u001b[32m<\u001b[0m\u001b[32msimpy.core.Environment\u001b[0m\u001b[32m>'\u001b[0m\u001b[39m,\u001b[0m                                                                             \n",
      "\u001b[39m    \u001b[0m\u001b[32m'nurse'\u001b[0m\u001b[39m: \u001b[0m\u001b[32m'<simulation.model.MonitoredResource>'\u001b[0m\u001b[39m,\u001b[0m                                                               \n",
      "\u001b[39m    \u001b[0m\u001b[32m'nurse_consult_count'\u001b[0m\u001b[39m: \u001b[0m\u001b[1;36m0\u001b[0m\u001b[39m,\u001b[0m                                                                                      \n",
      "\u001b[39m    \u001b[0m\u001b[32m'nurse_consult_time_dist'\u001b[0m\u001b[39m: \u001b[0m\u001b[32m'<simulation.model.Exponential>'\u001b[0m\u001b[39m,\u001b[0m                                                   \n",
      "\u001b[39m    \u001b[0m\u001b[32m'nurse_time_used'\u001b[0m\u001b[39m: \u001b[0m\u001b[1;36m0\u001b[0m\u001b[39m,\u001b[0m                                                                                          \n",
      "\u001b[39m    \u001b[0m\u001b[32m'nurse_time_used_correction'\u001b[0m\u001b[39m: \u001b[0m\u001b[1;36m0\u001b[0m\u001b[39m,\u001b[0m                                                                               \n",
      "\u001b[39m    \u001b[0m\u001b[32m'param'\u001b[0m\u001b[39m: \u001b[0m\u001b[32m'<simulation.model.Param>'\u001b[0m\u001b[39m,\u001b[0m                                                                           \n",
      "\u001b[39m    \u001b[0m\u001b[32m'patient_inter_arrival_dist'\u001b[0m\u001b[39m: \u001b[0m\u001b[32m'<simulation.model.Exponential\u001b[0m\u001b[32m>\u001b[0m\u001b[32m'\u001b[0m,                                                \n",
      "    \u001b[32m'patients'\u001b[0m: \u001b[1m[\u001b[0m\u001b[1m]\u001b[0m,                                                                                                \n",
      "    \u001b[32m'results_list'\u001b[0m: \u001b[1m[\u001b[0m\u001b[1m]\u001b[0m,                                                                                            \n",
      "    \u001b[32m'run_number'\u001b[0m: \u001b[1;36m0\u001b[0m,                                                                                               \n",
      "    \u001b[32m'running_mean_nurse_wait'\u001b[0m: \u001b[1;36m0\u001b[0m\u001b[1m}\u001b[0m                                                                                  \n"
     ]
    },
    {
     "name": "stdout",
     "output_type": "stream",
     "text": [
      "\u001b[1;36m0.000\u001b[0m: Parameters:                                                                                                 \n",
      "                                                                                                                   \n"
     ]
    },
    {
     "name": "stdout",
     "output_type": "stream",
     "text": [
      "\u001b[1m{\u001b[0m   \u001b[32m'_initialising'\u001b[0m: \u001b[3;91mFalse\u001b[0m,                                                                                        \n",
      "    \u001b[32m'audit_interval'\u001b[0m: \u001b[1;36m120\u001b[0m,                                                                                         \n",
      "    \u001b[32m'cores'\u001b[0m: \u001b[1;36m1\u001b[0m,                                                                                                    \n",
      "    \u001b[32m'data_collection_period'\u001b[0m: \u001b[1;36m50\u001b[0m,                                                                                  \n",
      "    \u001b[32m'logger'\u001b[0m: \u001b[32m'\u001b[0m\u001b[32m<\u001b[0m\u001b[32msimulation.logging.SimLogger\u001b[0m\u001b[32m>\u001b[0m\u001b[32m'\u001b[0m,                                                                    \n",
      "    \u001b[32m'mean_n_consult_time'\u001b[0m: \u001b[1;36m10\u001b[0m,                                                                                     \n",
      "    \u001b[32m'number_of_nurses'\u001b[0m: \u001b[1;36m1\u001b[0m,                                                                                         \n",
      "    \u001b[32m'number_of_runs'\u001b[0m: \u001b[1;36m1\u001b[0m,                                                                                           \n",
      "    \u001b[32m'patient_inter'\u001b[0m: \u001b[1;36m4\u001b[0m,                                                                                            \n",
      "    \u001b[32m'scenario_name'\u001b[0m: \u001b[1;36m0\u001b[0m,                                                                                            \n",
      "    \u001b[32m'warm_up_period'\u001b[0m: \u001b[1;36m30\u001b[0m\u001b[1m}\u001b[0m                                                                                          \n"
     ]
    },
    {
     "name": "stdout",
     "output_type": "stream",
     "text": [
      "\u001b[1;36m13.174\u001b[0m: 🔸 WU Patient \u001b[1;36m1\u001b[0m arrives at: \u001b[1;36m13.174\u001b[0m.                                                                        \n"
     ]
    },
    {
     "name": "stdout",
     "output_type": "stream",
     "text": [
      "\u001b[1;36m13.174\u001b[0m: 🔶 WU Patient \u001b[1;36m1\u001b[0m is seen by nurse after \u001b[1;36m0.000\u001b[0m. Consultation length: \u001b[1;36m8.031\u001b[0m.                                  \n"
     ]
    },
    {
     "name": "stdout",
     "output_type": "stream",
     "text": [
      "\u001b[1;36m16.227\u001b[0m: 🔸 WU Patient \u001b[1;36m2\u001b[0m arrives at: \u001b[1;36m16.227\u001b[0m.                                                                        \n"
     ]
    },
    {
     "name": "stdout",
     "output_type": "stream",
     "text": [
      "\u001b[1;36m21.205\u001b[0m: 🔶 WU Patient \u001b[1;36m2\u001b[0m is seen by nurse after \u001b[1;36m4.979\u001b[0m. Consultation length: \u001b[1;36m3.820\u001b[0m.                                  \n"
     ]
    },
    {
     "name": "stdout",
     "output_type": "stream",
     "text": [
      "\u001b[1;36m21.236\u001b[0m: 🔸 WU Patient \u001b[1;36m3\u001b[0m arrives at: \u001b[1;36m21.236\u001b[0m.                                                                        \n"
     ]
    },
    {
     "name": "stdout",
     "output_type": "stream",
     "text": [
      "\u001b[1;36m22.140\u001b[0m: 🔸 WU Patient \u001b[1;36m4\u001b[0m arrives at: \u001b[1;36m22.140\u001b[0m.                                                                        \n"
     ]
    },
    {
     "name": "stdout",
     "output_type": "stream",
     "text": [
      "\u001b[1;36m23.023\u001b[0m: 🔸 WU Patient \u001b[1;36m5\u001b[0m arrives at: \u001b[1;36m23.023\u001b[0m.                                                                        \n"
     ]
    },
    {
     "name": "stdout",
     "output_type": "stream",
     "text": [
      "\u001b[1;36m25.025\u001b[0m: 🔶 WU Patient \u001b[1;36m3\u001b[0m is seen by nurse after \u001b[1;36m3.789\u001b[0m. Consultation length: \u001b[1;36m3.642\u001b[0m.                                  \n"
     ]
    },
    {
     "name": "stdout",
     "output_type": "stream",
     "text": [
      "\u001b[1;36m28.667\u001b[0m: 🔶 WU Patient \u001b[1;36m4\u001b[0m is seen by nurse after \u001b[1;36m6.527\u001b[0m. Consultation length: \u001b[1;36m5.295\u001b[0m.                                  \n"
     ]
    },
    {
     "name": "stdout",
     "output_type": "stream",
     "text": [
      "\u001b[1;36m28.667\u001b[0m: 🛠 Patient \u001b[1;36m4\u001b[0m starts consultation with \u001b[1;36m1.333\u001b[0m left of warm-up \u001b[1m(\u001b[0mwhich is \u001b[1;36m30.000\u001b[0m\u001b[1m)\u001b[0m. As their consultation is for \n",
      "\u001b[1;36m5.295\u001b[0m, they will exceed warmup by \u001b[1;36m3.962\u001b[0m, so we correct for this.                                                   \n"
     ]
    },
    {
     "name": "stdout",
     "output_type": "stream",
     "text": [
      "\u001b[1;36m30.000\u001b[0m: ──────────                                                                                                 \n"
     ]
    },
    {
     "name": "stdout",
     "output_type": "stream",
     "text": [
      "\u001b[1;36m30.000\u001b[0m: Warm up complete.                                                                                          \n"
     ]
    },
    {
     "name": "stdout",
     "output_type": "stream",
     "text": [
      "\u001b[1;36m30.000\u001b[0m: ──────────                                                                                                 \n"
     ]
    },
    {
     "name": "stdout",
     "output_type": "stream",
     "text": [
      "\u001b[1;36m30.223\u001b[0m: 🔹 DC Patient \u001b[1;36m1\u001b[0m arrives at: \u001b[1;36m30.223\u001b[0m.                                                                        \n"
     ]
    },
    {
     "name": "stdout",
     "output_type": "stream",
     "text": [
      "\u001b[1;36m30.487\u001b[0m: 🔹 DC Patient \u001b[1;36m2\u001b[0m arrives at: \u001b[1;36m30.487\u001b[0m.                                                                        \n"
     ]
    },
    {
     "name": "stdout",
     "output_type": "stream",
     "text": [
      "\u001b[1;36m33.962\u001b[0m: 🔶 WU Patient \u001b[1;36m5\u001b[0m is seen by nurse after \u001b[1;36m10.939\u001b[0m. Consultation length: \u001b[1;36m27.884\u001b[0m.                                \n"
     ]
    },
    {
     "name": "stdout",
     "output_type": "stream",
     "text": [
      "\u001b[1;36m34.089\u001b[0m: 🔹 DC Patient \u001b[1;36m3\u001b[0m arrives at: \u001b[1;36m34.089\u001b[0m.                                                                        \n"
     ]
    },
    {
     "name": "stdout",
     "output_type": "stream",
     "text": [
      "\u001b[1;36m35.270\u001b[0m: 🔹 DC Patient \u001b[1;36m4\u001b[0m arrives at: \u001b[1;36m35.270\u001b[0m.                                                                        \n"
     ]
    },
    {
     "name": "stdout",
     "output_type": "stream",
     "text": [
      "\u001b[1;36m44.470\u001b[0m: 🔹 DC Patient \u001b[1;36m5\u001b[0m arrives at: \u001b[1;36m44.470\u001b[0m.                                                                        \n"
     ]
    },
    {
     "name": "stdout",
     "output_type": "stream",
     "text": [
      "\u001b[1;36m51.904\u001b[0m: 🔹 DC Patient \u001b[1;36m6\u001b[0m arrives at: \u001b[1;36m51.904\u001b[0m.                                                                        \n"
     ]
    },
    {
     "name": "stdout",
     "output_type": "stream",
     "text": [
      "\u001b[1;36m51.963\u001b[0m: 🔹 DC Patient \u001b[1;36m7\u001b[0m arrives at: \u001b[1;36m51.963\u001b[0m.                                                                        \n"
     ]
    },
    {
     "name": "stdout",
     "output_type": "stream",
     "text": [
      "\u001b[1;36m61.845\u001b[0m: 🔷 DC Patient \u001b[1;36m1\u001b[0m is seen by nurse after \u001b[1;36m31.623\u001b[0m. Consultation length: \u001b[1;36m19.610\u001b[0m.                                \n"
     ]
    },
    {
     "name": "stdout",
     "output_type": "stream",
     "text": [
      "\u001b[1;36m74.349\u001b[0m: 🔹 DC Patient \u001b[1;36m8\u001b[0m arrives at: \u001b[1;36m74.349\u001b[0m.                                                                        \n"
     ]
    },
    {
     "name": "stdout",
     "output_type": "stream",
     "text": [
      "\u001b[1;36m77.534\u001b[0m: 🔹 DC Patient \u001b[1;36m9\u001b[0m arrives at: \u001b[1;36m77.534\u001b[0m.                                                                        \n"
     ]
    },
    {
     "name": "stdout",
     "output_type": "stream",
     "text": [
      "\u001b[1;36m78.932\u001b[0m: 🔹 DC Patient \u001b[1;36m10\u001b[0m arrives at: \u001b[1;36m78.932\u001b[0m.                                                                       \n"
     ]
    }
   ],
   "source": [
    "# Mini run of simulation with logger enabled\n",
    "param = Param(\n",
    "    warm_up_period=30,\n",
    "    data_collection_period=50,\n",
    "    number_of_nurses=1,\n",
    "    number_of_runs=1,\n",
    "    cores=1,\n",
    "    logger=SimLogger(log_to_console=True, log_to_file=True,\n",
    "                     file_path='../outputs/logs/log_example.log',\n",
    "                     sanitise=True)\n",
    ")\n",
    "\n",
    "model = Model(param, run_number=0)\n",
    "model.run()"
   ]
  },
  {
   "cell_type": "markdown",
   "metadata": {},
   "source": [
    "This will align with the recorded results of each patient (though we only save those that arrive after the warm-up period)."
   ]
  },
  {
   "cell_type": "code",
   "execution_count": 4,
   "metadata": {},
   "outputs": [
    {
     "data": {
      "text/plain": [
       "[{'patient_id': 1,\n",
       "  'arrival_time': 30.22259995332274,\n",
       "  'q_time_nurse': 31.622866260876396,\n",
       "  'time_with_nurse': 19.610316954226214},\n",
       " {'patient_id': 2,\n",
       "  'arrival_time': 30.486546917468086,\n",
       "  'q_time_nurse': nan,\n",
       "  'time_with_nurse': nan},\n",
       " {'patient_id': 3,\n",
       "  'arrival_time': 34.08853250025673,\n",
       "  'q_time_nurse': nan,\n",
       "  'time_with_nurse': nan},\n",
       " {'patient_id': 4,\n",
       "  'arrival_time': 35.270388134803824,\n",
       "  'q_time_nurse': nan,\n",
       "  'time_with_nurse': nan},\n",
       " {'patient_id': 5,\n",
       "  'arrival_time': 44.47021063300173,\n",
       "  'q_time_nurse': nan,\n",
       "  'time_with_nurse': nan},\n",
       " {'patient_id': 6,\n",
       "  'arrival_time': 51.90400587259546,\n",
       "  'q_time_nurse': nan,\n",
       "  'time_with_nurse': nan},\n",
       " {'patient_id': 7,\n",
       "  'arrival_time': 51.963434706622714,\n",
       "  'q_time_nurse': nan,\n",
       "  'time_with_nurse': nan},\n",
       " {'patient_id': 8,\n",
       "  'arrival_time': 74.3494580155259,\n",
       "  'q_time_nurse': nan,\n",
       "  'time_with_nurse': nan},\n",
       " {'patient_id': 9,\n",
       "  'arrival_time': 77.53382703300574,\n",
       "  'q_time_nurse': nan,\n",
       "  'time_with_nurse': nan},\n",
       " {'patient_id': 10,\n",
       "  'arrival_time': 78.93233230430721,\n",
       "  'q_time_nurse': nan,\n",
       "  'time_with_nurse': nan}]"
      ]
     },
     "metadata": {},
     "output_type": "display_data"
    }
   ],
   "source": [
    "# Compare to patient-level results\n",
    "display(model.results_list)"
   ]
  },
  {
   "cell_type": "markdown",
   "metadata": {},
   "source": [
    "## Run time"
   ]
  },
  {
   "cell_type": "code",
   "execution_count": 5,
   "metadata": {},
   "outputs": [
    {
     "name": "stdout",
     "output_type": "stream",
     "text": [
      "Notebook run time: 0m 0s\n"
     ]
    }
   ],
   "source": [
    "# Get run time in seconds\n",
    "end_time = time.time()\n",
    "runtime = round(end_time - start_time)\n",
    "\n",
    "# Display converted to minutes and seconds\n",
    "print(f'Notebook run time: {runtime // 60}m {runtime % 60}s')"
   ]
  }
 ],
 "metadata": {
  "kernelspec": {
   "display_name": "template-des",
   "language": "python",
   "name": "python3"
  },
  "language_info": {
   "codemirror_mode": {
    "name": "ipython",
    "version": 3
   },
   "file_extension": ".py",
   "mimetype": "text/x-python",
   "name": "python",
   "nbconvert_exporter": "python",
   "pygments_lexer": "ipython3",
   "version": "3.13.1"
  }
 },
 "nbformat": 4,
 "nbformat_minor": 2
}
