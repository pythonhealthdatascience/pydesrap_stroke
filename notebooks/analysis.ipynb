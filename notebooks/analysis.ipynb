{
 "cells": [
  {
   "cell_type": "code",
   "execution_count": 1,
   "metadata": {},
   "outputs": [],
   "source": [
    "# pylint: disable=missing-module-docstring\n",
    "%load_ext autoreload\n",
    "%autoreload 1\n",
    "%aimport simulation\n",
    "\n",
    "# pylint: disable=wrong-import-position\n",
    "from simulation.parameters import Param\n",
    "from simulation.simulation import Model"
   ]
  },
  {
   "cell_type": "code",
   "execution_count": 2,
   "metadata": {},
   "outputs": [
    {
     "name": "stdout",
     "output_type": "stream",
     "text": [
      "stroke patient arrival at asu: 1.8363299834121842\n",
      "stroke patient arrival at asu: 1.9743678169650352\n",
      "other patient arrival at asu: 2.569934103240965\n",
      "stroke patient arrival at asu: 3.38794282930665\n",
      "other patient arrival at asu: 3.7923395830252455\n",
      "other patient arrival at asu: 4.957702796571509\n",
      "stroke patient arrival at asu: 5.9842644124165965\n",
      "stroke patient arrival at asu: 6.445098118218787\n",
      "other patient arrival at asu: 6.6520207774300815\n",
      "stroke patient arrival at asu: 7.043900632615749\n",
      "stroke patient arrival at asu: 7.452473171227655\n",
      "stroke patient arrival at asu: 8.59342618026359\n",
      "stroke patient arrival at rehab: 8.879197835777973\n",
      "stroke patient arrival at asu: 9.667940702617951\n",
      "other patient arrival at rehab: 9.80202397507623\n",
      "stroke patient arrival at asu: 9.96129265198861\n",
      "stroke patient arrival at asu: 9.97016696680622\n",
      "stroke patient arrival at asu: 10.476123075312099\n",
      "stroke patient arrival at asu: 11.511320121224648\n",
      "neuro patient arrival at asu: 11.85670004691538\n",
      "stroke patient arrival at asu: 12.144466902435695\n",
      "tia patient arrival at asu: 13.470857817085893\n",
      "stroke patient arrival at asu: 13.921070694209979\n",
      "stroke patient arrival at asu: 14.261395167818655\n",
      "tia patient arrival at asu: 14.37419348578647\n",
      "neuro patient arrival at asu: 14.603970704254838\n",
      "other patient arrival at asu: 15.574833616307146\n",
      "stroke patient arrival at asu: 16.305207341437182\n",
      "stroke patient arrival at asu: 17.393245485572375\n",
      "neuro patient arrival at asu: 19.11249234567026\n",
      "neuro patient arrival at asu: 19.9259105341734\n"
     ]
    }
   ],
   "source": [
    "model = Model(param=Param(), run_number=0)\n",
    "model.run()"
   ]
  }
 ],
 "metadata": {
  "kernelspec": {
   "display_name": "stroke-rap-python",
   "language": "python",
   "name": "python3"
  },
  "language_info": {
   "codemirror_mode": {
    "name": "ipython",
    "version": 3
   },
   "file_extension": ".py",
   "mimetype": "text/x-python",
   "name": "python",
   "nbconvert_exporter": "python",
   "pygments_lexer": "ipython3",
   "version": "3.13.1"
  }
 },
 "nbformat": 4,
 "nbformat_minor": 2
}
