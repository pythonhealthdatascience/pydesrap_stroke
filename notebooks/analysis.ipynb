{
 "cells": [
  {
   "cell_type": "code",
   "execution_count": 1,
   "metadata": {},
   "outputs": [],
   "source": [
    "# pylint: disable=missing-module-docstring\n",
    "%load_ext autoreload\n",
    "%autoreload 1\n",
    "%aimport simulation\n",
    "\n",
    "# pylint: disable=wrong-import-position\n",
    "from simulation.parameters import Param\n",
    "from simulation.model import Model"
   ]
  },
  {
   "cell_type": "code",
   "execution_count": 2,
   "metadata": {},
   "outputs": [
    {
     "name": "stdout",
     "output_type": "stream",
     "text": [
      "Patient 1 (stroke) arrive at asu: 1.8363299834121842.\n",
      "Patient 1 post-ASU: other\n",
      "Patient 2 (stroke) arrive at asu: 1.9743678169650352.\n",
      "Patient 2 post-ASU: other\n",
      "Patient 3 (other) arrive at asu: 2.569934103240965.\n",
      "Patient 3 post-ASU: other\n",
      "Patient 4 (stroke) arrive at asu: 3.38794282930665.\n",
      "Patient 4 post-ASU: other\n",
      "Patient 5 (other) arrive at asu: 3.7923395830252455.\n",
      "Patient 5 post-ASU: other\n",
      "Patient 6 (other) arrive at asu: 4.957702796571509.\n",
      "Patient 6 post-ASU: other\n",
      "Patient 7 (stroke) arrive at asu: 5.9842644124165965.\n",
      "Patient 7 post-ASU: other\n",
      "Patient 8 (stroke) arrive at asu: 6.445098118218787.\n",
      "Patient 8 post-ASU: other\n",
      "Patient 9 (other) arrive at asu: 6.6520207774300815.\n",
      "Patient 9 post-ASU: other\n",
      "Patient 10 (stroke) arrive at asu: 7.043900632615749.\n",
      "Patient 10 post-ASU: other\n",
      "Patient 11 (stroke) arrive at asu: 7.452473171227655.\n",
      "Patient 11 post-ASU: other\n",
      "Patient 12 (stroke) arrive at asu: 8.59342618026359.\n",
      "Patient 12 post-ASU: other\n",
      "Patient 13 (stroke) arrive at rehab: 8.879197835777973.\n",
      "rehab\n",
      "Patient 14 (stroke) arrive at asu: 9.667940702617951.\n",
      "Patient 14 post-ASU: other\n",
      "Patient 15 (other) arrive at rehab: 9.80202397507623.\n",
      "rehab\n",
      "Patient 16 (stroke) arrive at asu: 9.96129265198861.\n",
      "Patient 16 post-ASU: other\n",
      "Patient 17 (stroke) arrive at asu: 9.97016696680622.\n",
      "Patient 17 post-ASU: other\n",
      "Patient 18 (stroke) arrive at asu: 10.476123075312099.\n",
      "Patient 18 post-ASU: other\n",
      "Patient 19 (stroke) arrive at asu: 11.511320121224648.\n",
      "Patient 19 post-ASU: esd\n",
      "Patient 20 (neuro) arrive at asu: 11.85670004691538.\n",
      "Patient 20 post-ASU: other\n",
      "Patient 21 (stroke) arrive at asu: 12.144466902435695.\n",
      "Patient 21 post-ASU: other\n",
      "Patient 22 (tia) arrive at asu: 13.470857817085893.\n",
      "Patient 22 post-ASU: other\n",
      "Patient 23 (stroke) arrive at asu: 13.921070694209979.\n",
      "Patient 23 post-ASU: other\n",
      "Patient 24 (stroke) arrive at asu: 14.261395167818655.\n",
      "Patient 24 post-ASU: other\n",
      "Patient 25 (tia) arrive at asu: 14.37419348578647.\n",
      "Patient 25 post-ASU: other\n",
      "Patient 26 (neuro) arrive at asu: 14.603970704254838.\n",
      "Patient 26 post-ASU: rehab\n",
      "Patient 27 (other) arrive at asu: 15.574833616307146.\n",
      "Patient 27 post-ASU: other\n",
      "Patient 28 (stroke) arrive at asu: 16.305207341437182.\n",
      "Patient 28 post-ASU: other\n",
      "Patient 29 (stroke) arrive at asu: 17.393245485572375.\n",
      "Patient 29 post-ASU: esd\n",
      "Patient 30 (neuro) arrive at asu: 19.11249234567026.\n",
      "Patient 30 post-ASU: other\n",
      "Patient 31 (neuro) arrive at asu: 19.9259105341734.\n",
      "Patient 31 post-ASU: esd\n"
     ]
    }
   ],
   "source": [
    "model = Model(param=Param(), run_number=0)\n",
    "model.run()"
   ]
  },
  {
   "cell_type": "code",
   "execution_count": 3,
   "metadata": {},
   "outputs": [
    {
     "data": {
      "text/plain": [
       "{'patient_id': 1,\n",
       " 'patient_type': 'stroke',\n",
       " 'asu_arrival_time': 1.8363299834121842,\n",
       " 'post_asu_destination': 'other',\n",
       " 'asu_los': 2.9630655897183673}"
      ]
     },
     "execution_count": 3,
     "metadata": {},
     "output_type": "execute_result"
    }
   ],
   "source": [
    "vars(model.patients[0])"
   ]
  },
  {
   "cell_type": "code",
   "execution_count": 4,
   "metadata": {},
   "outputs": [
    {
     "data": {
      "text/plain": [
       "{'patient_id': 2,\n",
       " 'patient_type': 'stroke',\n",
       " 'asu_arrival_time': 1.9743678169650352,\n",
       " 'post_asu_destination': 'other',\n",
       " 'asu_los': 4.361324607277014}"
      ]
     },
     "execution_count": 4,
     "metadata": {},
     "output_type": "execute_result"
    }
   ],
   "source": [
    "vars(model.patients[1])"
   ]
  }
 ],
 "metadata": {
  "kernelspec": {
   "display_name": "stroke-rap-python",
   "language": "python",
   "name": "python3"
  },
  "language_info": {
   "codemirror_mode": {
    "name": "ipython",
    "version": 3
   },
   "file_extension": ".py",
   "mimetype": "text/x-python",
   "name": "python",
   "nbconvert_exporter": "python",
   "pygments_lexer": "ipython3",
   "version": "3.13.1"
  }
 },
 "nbformat": 4,
 "nbformat_minor": 2
}
