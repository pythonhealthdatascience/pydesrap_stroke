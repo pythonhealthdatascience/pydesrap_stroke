{
 "cells": [
  {
   "cell_type": "markdown",
   "metadata": {},
   "source": [
    "# Analysis\n",
    "\n",
    "This analysis reproduces the analysis performed in:\n",
    "\n",
    "> Monks T, Worthington D, Allen M, Pitt M, Stein K, James MA. A modelling tool for capacity planning in acute and community stroke services. BMC Health Serv Res. 2016 Sep 29;16(1):530. doi: [10.1186/s12913-016-1789-4](https://doi.org/10.1186/s12913-016-1789-4). PMID: 27688152; PMCID: PMC5043535.\n",
    "\n",
    "It is organised into:\n",
    "\n",
    "* Base case\n",
    "    * Run the model\n",
    "    * Figure 1\n",
    "    * Theory: probability of delay\n",
    "    * Figure 3\n",
    "* Scenario analysis: altering arrivals\n",
    "    * Scenario 1\n",
    "    * Table 2\n",
    "    * Scenario 4\n",
    "    * Supplementary table 1\n",
    "* Scenario analysis: pooling beds\n",
    "    * Theory: pooling beds\n",
    "    * Scenario 2"
   ]
  },
  {
   "cell_type": "code",
   "execution_count": 1,
   "metadata": {},
   "outputs": [],
   "source": [
    "# pylint: disable=missing-module-docstring\n",
    "%load_ext autoreload\n",
    "%autoreload 1\n",
    "%aimport simulation\n",
    "\n",
    "# pylint: disable=wrong-import-position\n",
    "import os\n",
    "import time\n",
    "\n",
    "from IPython.display import display\n",
    "import numpy as np\n",
    "import pandas as pd\n",
    "import plotly.express as px\n",
    "\n",
    "from simulation.parameters import Param, ASUArrivals, RehabArrivals\n",
    "from simulation.runner import Runner"
   ]
  },
  {
   "cell_type": "code",
   "execution_count": 2,
   "metadata": {},
   "outputs": [],
   "source": [
    "# Start timer\n",
    "start_time = time.time()"
   ]
  },
  {
   "cell_type": "code",
   "execution_count": 3,
   "metadata": {},
   "outputs": [],
   "source": [
    "# Path to the outputs folder\n",
    "OUTPUT_DIR = \"../outputs/\""
   ]
  },
  {
   "cell_type": "markdown",
   "metadata": {},
   "source": [
    "## Base case\n",
    "\n",
    "### Run the model"
   ]
  },
  {
   "cell_type": "code",
   "execution_count": 4,
   "metadata": {},
   "outputs": [],
   "source": [
    "# Set up runner to run in parallel with nine cores\n",
    "base_runner = Runner(param=Param(cores=9))\n",
    "\n",
    "# Run the model for 150 replications\n",
    "base_reps, base_overall, base_audit = base_runner.run_reps()"
   ]
  },
  {
   "cell_type": "markdown",
   "metadata": {},
   "source": [
    "### Figure 1\n",
    "\n",
    "**Figure 1.** Simulation probability density function for occupancy of an acute stroke unit."
   ]
  },
  {
   "cell_type": "code",
   "execution_count": 5,
   "metadata": {},
   "outputs": [],
   "source": [
    "def plot_occupancy_freq(df, unit, file, path=OUTPUT_DIR):\n",
    "    \"\"\"\n",
    "    Plot the frequency at which each occupancy level was observed in the audit.\n",
    "\n",
    "    Parameters\n",
    "    ----------\n",
    "    df: pd.DataFrame\n",
    "        Dataframe output by `get_occupancy_freq()` containing the frequency\n",
    "        each occupancy was observed at.\n",
    "    unit: str\n",
    "        Name of unit (\"asu\", \"rehab\")\n",
    "    file: str\n",
    "        Filename to save figure to (e.g. \"figure.png\").\n",
    "    path: str\n",
    "        Path to save file to (excluding filename).\n",
    "    \"\"\"\n",
    "    # Create plot\n",
    "    fig = px.bar(df, x=\"beds\", y=\"pct\", color_discrete_sequence=[\"black\"])\n",
    "\n",
    "    # Specify axis labels, theme and dimensions\n",
    "    if unit == \"asu\":\n",
    "        unit_lab = \"acute\"\n",
    "    elif unit == \"rehab\":\n",
    "        unit_lab = \"rehabilitation\"\n",
    "    else:\n",
    "        raise ValueError(\"unit must be either 'acute' or 'rehab'\")\n",
    "\n",
    "    fig.update_layout(\n",
    "        xaxis_title=f\"No. patients in {unit_lab} unit\",\n",
    "        yaxis_title=\"% observations\",\n",
    "        template=\"plotly_white\",\n",
    "        height=450,\n",
    "        width=800\n",
    "    )\n",
    "\n",
    "    # Add box around figure, and set tick spacing to 1\n",
    "    fig.update_xaxes(linecolor=\"black\", mirror=True, dtick=1)\n",
    "    fig.update_yaxes(linecolor=\"black\", mirror=True, tickformat=\",.0%\")\n",
    "\n",
    "    # Show figure\n",
    "    fig.show()\n",
    "\n",
    "    # Save figure\n",
    "    fig.write_image(os.path.join(path, file))"
   ]
  },
  {
   "cell_type": "markdown",
   "metadata": {},
   "source": [
    "**Generate plots...**\n",
    "\n",
    "(the article just includes a plot for the acute stroke unit)."
   ]
  },
  {
   "cell_type": "code",
   "execution_count": 6,
   "metadata": {},
   "outputs": [
    {
     "data": {
      "application/vnd.plotly.v1+json": {
       "config": {
        "plotlyServerURL": "https://plot.ly"
       },
       "data": [
        {
         "hovertemplate": "beds=%{x}<br>pct=%{y}<extra></extra>",
         "legendgroup": "",
         "marker": {
          "color": "black",
          "pattern": {
           "shape": ""
          }
         },
         "name": "",
         "orientation": "v",
         "showlegend": false,
         "textposition": "auto",
         "type": "bar",
         "x": {
          "bdata": "AAECAwQFBgcICQoLDA0ODxAREhMUFRYXGA==",
          "dtype": "i1"
         },
         "xaxis": "x",
         "y": {
          "bdata": "HoK9nOx5MT88RTIGLeVhP00xGGv8cII/UOespqw7mj8s3TlyTcCqP+bacxjKvrU/yjRAtVnsvT9M8SFU28TBP3gNmsNu/sE/MVFHJ+U1wD9qXnDwf2G6P4CKNMyGaLM/wcH/hWnUqj+fZUbr2lWgP2CQZaM3ZJM/Bjc8t+pbhT8yAMjeIoR1P6OeDaqCTmU/iWNXdAz3VT+jng2qgk5FP66FZ15/9DE/5NXYY2W6HD8m5IBqsKT+PibkgGqwpN4+JuSAarCkzj4=",
          "dtype": "f8"
         },
         "yaxis": "y"
        }
       ],
       "layout": {
        "barmode": "relative",
        "height": 450,
        "legend": {
         "tracegroupgap": 0
        },
        "margin": {
         "t": 60
        },
        "template": {
         "data": {
          "bar": [
           {
            "error_x": {
             "color": "#2a3f5f"
            },
            "error_y": {
             "color": "#2a3f5f"
            },
            "marker": {
             "line": {
              "color": "white",
              "width": 0.5
             },
             "pattern": {
              "fillmode": "overlay",
              "size": 10,
              "solidity": 0.2
             }
            },
            "type": "bar"
           }
          ],
          "barpolar": [
           {
            "marker": {
             "line": {
              "color": "white",
              "width": 0.5
             },
             "pattern": {
              "fillmode": "overlay",
              "size": 10,
              "solidity": 0.2
             }
            },
            "type": "barpolar"
           }
          ],
          "carpet": [
           {
            "aaxis": {
             "endlinecolor": "#2a3f5f",
             "gridcolor": "#C8D4E3",
             "linecolor": "#C8D4E3",
             "minorgridcolor": "#C8D4E3",
             "startlinecolor": "#2a3f5f"
            },
            "baxis": {
             "endlinecolor": "#2a3f5f",
             "gridcolor": "#C8D4E3",
             "linecolor": "#C8D4E3",
             "minorgridcolor": "#C8D4E3",
             "startlinecolor": "#2a3f5f"
            },
            "type": "carpet"
           }
          ],
          "choropleth": [
           {
            "colorbar": {
             "outlinewidth": 0,
             "ticks": ""
            },
            "type": "choropleth"
           }
          ],
          "contour": [
           {
            "colorbar": {
             "outlinewidth": 0,
             "ticks": ""
            },
            "colorscale": [
             [
              0.0,
              "#0d0887"
             ],
             [
              0.1111111111111111,
              "#46039f"
             ],
             [
              0.2222222222222222,
              "#7201a8"
             ],
             [
              0.3333333333333333,
              "#9c179e"
             ],
             [
              0.4444444444444444,
              "#bd3786"
             ],
             [
              0.5555555555555556,
              "#d8576b"
             ],
             [
              0.6666666666666666,
              "#ed7953"
             ],
             [
              0.7777777777777778,
              "#fb9f3a"
             ],
             [
              0.8888888888888888,
              "#fdca26"
             ],
             [
              1.0,
              "#f0f921"
             ]
            ],
            "type": "contour"
           }
          ],
          "contourcarpet": [
           {
            "colorbar": {
             "outlinewidth": 0,
             "ticks": ""
            },
            "type": "contourcarpet"
           }
          ],
          "heatmap": [
           {
            "colorbar": {
             "outlinewidth": 0,
             "ticks": ""
            },
            "colorscale": [
             [
              0.0,
              "#0d0887"
             ],
             [
              0.1111111111111111,
              "#46039f"
             ],
             [
              0.2222222222222222,
              "#7201a8"
             ],
             [
              0.3333333333333333,
              "#9c179e"
             ],
             [
              0.4444444444444444,
              "#bd3786"
             ],
             [
              0.5555555555555556,
              "#d8576b"
             ],
             [
              0.6666666666666666,
              "#ed7953"
             ],
             [
              0.7777777777777778,
              "#fb9f3a"
             ],
             [
              0.8888888888888888,
              "#fdca26"
             ],
             [
              1.0,
              "#f0f921"
             ]
            ],
            "type": "heatmap"
           }
          ],
          "histogram": [
           {
            "marker": {
             "pattern": {
              "fillmode": "overlay",
              "size": 10,
              "solidity": 0.2
             }
            },
            "type": "histogram"
           }
          ],
          "histogram2d": [
           {
            "colorbar": {
             "outlinewidth": 0,
             "ticks": ""
            },
            "colorscale": [
             [
              0.0,
              "#0d0887"
             ],
             [
              0.1111111111111111,
              "#46039f"
             ],
             [
              0.2222222222222222,
              "#7201a8"
             ],
             [
              0.3333333333333333,
              "#9c179e"
             ],
             [
              0.4444444444444444,
              "#bd3786"
             ],
             [
              0.5555555555555556,
              "#d8576b"
             ],
             [
              0.6666666666666666,
              "#ed7953"
             ],
             [
              0.7777777777777778,
              "#fb9f3a"
             ],
             [
              0.8888888888888888,
              "#fdca26"
             ],
             [
              1.0,
              "#f0f921"
             ]
            ],
            "type": "histogram2d"
           }
          ],
          "histogram2dcontour": [
           {
            "colorbar": {
             "outlinewidth": 0,
             "ticks": ""
            },
            "colorscale": [
             [
              0.0,
              "#0d0887"
             ],
             [
              0.1111111111111111,
              "#46039f"
             ],
             [
              0.2222222222222222,
              "#7201a8"
             ],
             [
              0.3333333333333333,
              "#9c179e"
             ],
             [
              0.4444444444444444,
              "#bd3786"
             ],
             [
              0.5555555555555556,
              "#d8576b"
             ],
             [
              0.6666666666666666,
              "#ed7953"
             ],
             [
              0.7777777777777778,
              "#fb9f3a"
             ],
             [
              0.8888888888888888,
              "#fdca26"
             ],
             [
              1.0,
              "#f0f921"
             ]
            ],
            "type": "histogram2dcontour"
           }
          ],
          "mesh3d": [
           {
            "colorbar": {
             "outlinewidth": 0,
             "ticks": ""
            },
            "type": "mesh3d"
           }
          ],
          "parcoords": [
           {
            "line": {
             "colorbar": {
              "outlinewidth": 0,
              "ticks": ""
             }
            },
            "type": "parcoords"
           }
          ],
          "pie": [
           {
            "automargin": true,
            "type": "pie"
           }
          ],
          "scatter": [
           {
            "fillpattern": {
             "fillmode": "overlay",
             "size": 10,
             "solidity": 0.2
            },
            "type": "scatter"
           }
          ],
          "scatter3d": [
           {
            "line": {
             "colorbar": {
              "outlinewidth": 0,
              "ticks": ""
             }
            },
            "marker": {
             "colorbar": {
              "outlinewidth": 0,
              "ticks": ""
             }
            },
            "type": "scatter3d"
           }
          ],
          "scattercarpet": [
           {
            "marker": {
             "colorbar": {
              "outlinewidth": 0,
              "ticks": ""
             }
            },
            "type": "scattercarpet"
           }
          ],
          "scattergeo": [
           {
            "marker": {
             "colorbar": {
              "outlinewidth": 0,
              "ticks": ""
             }
            },
            "type": "scattergeo"
           }
          ],
          "scattergl": [
           {
            "marker": {
             "colorbar": {
              "outlinewidth": 0,
              "ticks": ""
             }
            },
            "type": "scattergl"
           }
          ],
          "scattermap": [
           {
            "marker": {
             "colorbar": {
              "outlinewidth": 0,
              "ticks": ""
             }
            },
            "type": "scattermap"
           }
          ],
          "scattermapbox": [
           {
            "marker": {
             "colorbar": {
              "outlinewidth": 0,
              "ticks": ""
             }
            },
            "type": "scattermapbox"
           }
          ],
          "scatterpolar": [
           {
            "marker": {
             "colorbar": {
              "outlinewidth": 0,
              "ticks": ""
             }
            },
            "type": "scatterpolar"
           }
          ],
          "scatterpolargl": [
           {
            "marker": {
             "colorbar": {
              "outlinewidth": 0,
              "ticks": ""
             }
            },
            "type": "scatterpolargl"
           }
          ],
          "scatterternary": [
           {
            "marker": {
             "colorbar": {
              "outlinewidth": 0,
              "ticks": ""
             }
            },
            "type": "scatterternary"
           }
          ],
          "surface": [
           {
            "colorbar": {
             "outlinewidth": 0,
             "ticks": ""
            },
            "colorscale": [
             [
              0.0,
              "#0d0887"
             ],
             [
              0.1111111111111111,
              "#46039f"
             ],
             [
              0.2222222222222222,
              "#7201a8"
             ],
             [
              0.3333333333333333,
              "#9c179e"
             ],
             [
              0.4444444444444444,
              "#bd3786"
             ],
             [
              0.5555555555555556,
              "#d8576b"
             ],
             [
              0.6666666666666666,
              "#ed7953"
             ],
             [
              0.7777777777777778,
              "#fb9f3a"
             ],
             [
              0.8888888888888888,
              "#fdca26"
             ],
             [
              1.0,
              "#f0f921"
             ]
            ],
            "type": "surface"
           }
          ],
          "table": [
           {
            "cells": {
             "fill": {
              "color": "#EBF0F8"
             },
             "line": {
              "color": "white"
             }
            },
            "header": {
             "fill": {
              "color": "#C8D4E3"
             },
             "line": {
              "color": "white"
             }
            },
            "type": "table"
           }
          ]
         },
         "layout": {
          "annotationdefaults": {
           "arrowcolor": "#2a3f5f",
           "arrowhead": 0,
           "arrowwidth": 1
          },
          "autotypenumbers": "strict",
          "coloraxis": {
           "colorbar": {
            "outlinewidth": 0,
            "ticks": ""
           }
          },
          "colorscale": {
           "diverging": [
            [
             0,
             "#8e0152"
            ],
            [
             0.1,
             "#c51b7d"
            ],
            [
             0.2,
             "#de77ae"
            ],
            [
             0.3,
             "#f1b6da"
            ],
            [
             0.4,
             "#fde0ef"
            ],
            [
             0.5,
             "#f7f7f7"
            ],
            [
             0.6,
             "#e6f5d0"
            ],
            [
             0.7,
             "#b8e186"
            ],
            [
             0.8,
             "#7fbc41"
            ],
            [
             0.9,
             "#4d9221"
            ],
            [
             1,
             "#276419"
            ]
           ],
           "sequential": [
            [
             0.0,
             "#0d0887"
            ],
            [
             0.1111111111111111,
             "#46039f"
            ],
            [
             0.2222222222222222,
             "#7201a8"
            ],
            [
             0.3333333333333333,
             "#9c179e"
            ],
            [
             0.4444444444444444,
             "#bd3786"
            ],
            [
             0.5555555555555556,
             "#d8576b"
            ],
            [
             0.6666666666666666,
             "#ed7953"
            ],
            [
             0.7777777777777778,
             "#fb9f3a"
            ],
            [
             0.8888888888888888,
             "#fdca26"
            ],
            [
             1.0,
             "#f0f921"
            ]
           ],
           "sequentialminus": [
            [
             0.0,
             "#0d0887"
            ],
            [
             0.1111111111111111,
             "#46039f"
            ],
            [
             0.2222222222222222,
             "#7201a8"
            ],
            [
             0.3333333333333333,
             "#9c179e"
            ],
            [
             0.4444444444444444,
             "#bd3786"
            ],
            [
             0.5555555555555556,
             "#d8576b"
            ],
            [
             0.6666666666666666,
             "#ed7953"
            ],
            [
             0.7777777777777778,
             "#fb9f3a"
            ],
            [
             0.8888888888888888,
             "#fdca26"
            ],
            [
             1.0,
             "#f0f921"
            ]
           ]
          },
          "colorway": [
           "#636efa",
           "#EF553B",
           "#00cc96",
           "#ab63fa",
           "#FFA15A",
           "#19d3f3",
           "#FF6692",
           "#B6E880",
           "#FF97FF",
           "#FECB52"
          ],
          "font": {
           "color": "#2a3f5f"
          },
          "geo": {
           "bgcolor": "white",
           "lakecolor": "white",
           "landcolor": "white",
           "showlakes": true,
           "showland": true,
           "subunitcolor": "#C8D4E3"
          },
          "hoverlabel": {
           "align": "left"
          },
          "hovermode": "closest",
          "mapbox": {
           "style": "light"
          },
          "paper_bgcolor": "white",
          "plot_bgcolor": "white",
          "polar": {
           "angularaxis": {
            "gridcolor": "#EBF0F8",
            "linecolor": "#EBF0F8",
            "ticks": ""
           },
           "bgcolor": "white",
           "radialaxis": {
            "gridcolor": "#EBF0F8",
            "linecolor": "#EBF0F8",
            "ticks": ""
           }
          },
          "scene": {
           "xaxis": {
            "backgroundcolor": "white",
            "gridcolor": "#DFE8F3",
            "gridwidth": 2,
            "linecolor": "#EBF0F8",
            "showbackground": true,
            "ticks": "",
            "zerolinecolor": "#EBF0F8"
           },
           "yaxis": {
            "backgroundcolor": "white",
            "gridcolor": "#DFE8F3",
            "gridwidth": 2,
            "linecolor": "#EBF0F8",
            "showbackground": true,
            "ticks": "",
            "zerolinecolor": "#EBF0F8"
           },
           "zaxis": {
            "backgroundcolor": "white",
            "gridcolor": "#DFE8F3",
            "gridwidth": 2,
            "linecolor": "#EBF0F8",
            "showbackground": true,
            "ticks": "",
            "zerolinecolor": "#EBF0F8"
           }
          },
          "shapedefaults": {
           "line": {
            "color": "#2a3f5f"
           }
          },
          "ternary": {
           "aaxis": {
            "gridcolor": "#DFE8F3",
            "linecolor": "#A2B1C6",
            "ticks": ""
           },
           "baxis": {
            "gridcolor": "#DFE8F3",
            "linecolor": "#A2B1C6",
            "ticks": ""
           },
           "bgcolor": "white",
           "caxis": {
            "gridcolor": "#DFE8F3",
            "linecolor": "#A2B1C6",
            "ticks": ""
           }
          },
          "title": {
           "x": 0.05
          },
          "xaxis": {
           "automargin": true,
           "gridcolor": "#EBF0F8",
           "linecolor": "#EBF0F8",
           "ticks": "",
           "title": {
            "standoff": 15
           },
           "zerolinecolor": "#EBF0F8",
           "zerolinewidth": 2
          },
          "yaxis": {
           "automargin": true,
           "gridcolor": "#EBF0F8",
           "linecolor": "#EBF0F8",
           "ticks": "",
           "title": {
            "standoff": 15
           },
           "zerolinecolor": "#EBF0F8",
           "zerolinewidth": 2
          }
         }
        },
        "width": 800,
        "xaxis": {
         "anchor": "y",
         "domain": [
          0.0,
          1.0
         ],
         "dtick": 1,
         "linecolor": "black",
         "mirror": true,
         "title": {
          "text": "No. patients in acute unit"
         }
        },
        "yaxis": {
         "anchor": "x",
         "domain": [
          0.0,
          1.0
         ],
         "linecolor": "black",
         "mirror": true,
         "tickformat": ",.0%",
         "title": {
          "text": "% observations"
         }
        }
       }
      }
     },
     "metadata": {},
     "output_type": "display_data"
    },
    {
     "data": {
      "application/vnd.plotly.v1+json": {
       "config": {
        "plotlyServerURL": "https://plot.ly"
       },
       "data": [
        {
         "hovertemplate": "beds=%{x}<br>pct=%{y}<extra></extra>",
         "legendgroup": "",
         "marker": {
          "color": "black",
          "pattern": {
           "shape": ""
          }
         },
         "name": "",
         "orientation": "v",
         "showlegend": false,
         "textposition": "auto",
         "type": "bar",
         "x": {
          "bdata": "AAECAwQFBgcICQoLDA0ODxAREhMUFRYXGBka",
          "dtype": "i1"
         },
         "xaxis": "x",
         "y": {
          "bdata": "occwXRrQ+j7N3gFI1Ow9P0s7fhSZ22Q/8EXKoUjqgD8sTjRGIMiVP/BpOgCSNqU/84mpuy10sT9gW3jjwSq5P6KAC+5/cL4/qI4qWg1XwD+jwAQ5viLAP/2ulSMKebw/zg48s/vwtj+wHruTXyaxPzSFZ2GzEag/oeugu2Mcnz+MKmkR6a6TP8Iy+lk83IU/WgJCaX70dz+bnYKcXXdpP7DyaSv8/1c/IjOfg04PSD/wvDIYYmA5P3eHPL/IMSI/uZXkxRMcFD+YjpBC7ibzPibkgGqwpN4+",
          "dtype": "f8"
         },
         "yaxis": "y"
        }
       ],
       "layout": {
        "barmode": "relative",
        "height": 450,
        "legend": {
         "tracegroupgap": 0
        },
        "margin": {
         "t": 60
        },
        "template": {
         "data": {
          "bar": [
           {
            "error_x": {
             "color": "#2a3f5f"
            },
            "error_y": {
             "color": "#2a3f5f"
            },
            "marker": {
             "line": {
              "color": "white",
              "width": 0.5
             },
             "pattern": {
              "fillmode": "overlay",
              "size": 10,
              "solidity": 0.2
             }
            },
            "type": "bar"
           }
          ],
          "barpolar": [
           {
            "marker": {
             "line": {
              "color": "white",
              "width": 0.5
             },
             "pattern": {
              "fillmode": "overlay",
              "size": 10,
              "solidity": 0.2
             }
            },
            "type": "barpolar"
           }
          ],
          "carpet": [
           {
            "aaxis": {
             "endlinecolor": "#2a3f5f",
             "gridcolor": "#C8D4E3",
             "linecolor": "#C8D4E3",
             "minorgridcolor": "#C8D4E3",
             "startlinecolor": "#2a3f5f"
            },
            "baxis": {
             "endlinecolor": "#2a3f5f",
             "gridcolor": "#C8D4E3",
             "linecolor": "#C8D4E3",
             "minorgridcolor": "#C8D4E3",
             "startlinecolor": "#2a3f5f"
            },
            "type": "carpet"
           }
          ],
          "choropleth": [
           {
            "colorbar": {
             "outlinewidth": 0,
             "ticks": ""
            },
            "type": "choropleth"
           }
          ],
          "contour": [
           {
            "colorbar": {
             "outlinewidth": 0,
             "ticks": ""
            },
            "colorscale": [
             [
              0.0,
              "#0d0887"
             ],
             [
              0.1111111111111111,
              "#46039f"
             ],
             [
              0.2222222222222222,
              "#7201a8"
             ],
             [
              0.3333333333333333,
              "#9c179e"
             ],
             [
              0.4444444444444444,
              "#bd3786"
             ],
             [
              0.5555555555555556,
              "#d8576b"
             ],
             [
              0.6666666666666666,
              "#ed7953"
             ],
             [
              0.7777777777777778,
              "#fb9f3a"
             ],
             [
              0.8888888888888888,
              "#fdca26"
             ],
             [
              1.0,
              "#f0f921"
             ]
            ],
            "type": "contour"
           }
          ],
          "contourcarpet": [
           {
            "colorbar": {
             "outlinewidth": 0,
             "ticks": ""
            },
            "type": "contourcarpet"
           }
          ],
          "heatmap": [
           {
            "colorbar": {
             "outlinewidth": 0,
             "ticks": ""
            },
            "colorscale": [
             [
              0.0,
              "#0d0887"
             ],
             [
              0.1111111111111111,
              "#46039f"
             ],
             [
              0.2222222222222222,
              "#7201a8"
             ],
             [
              0.3333333333333333,
              "#9c179e"
             ],
             [
              0.4444444444444444,
              "#bd3786"
             ],
             [
              0.5555555555555556,
              "#d8576b"
             ],
             [
              0.6666666666666666,
              "#ed7953"
             ],
             [
              0.7777777777777778,
              "#fb9f3a"
             ],
             [
              0.8888888888888888,
              "#fdca26"
             ],
             [
              1.0,
              "#f0f921"
             ]
            ],
            "type": "heatmap"
           }
          ],
          "histogram": [
           {
            "marker": {
             "pattern": {
              "fillmode": "overlay",
              "size": 10,
              "solidity": 0.2
             }
            },
            "type": "histogram"
           }
          ],
          "histogram2d": [
           {
            "colorbar": {
             "outlinewidth": 0,
             "ticks": ""
            },
            "colorscale": [
             [
              0.0,
              "#0d0887"
             ],
             [
              0.1111111111111111,
              "#46039f"
             ],
             [
              0.2222222222222222,
              "#7201a8"
             ],
             [
              0.3333333333333333,
              "#9c179e"
             ],
             [
              0.4444444444444444,
              "#bd3786"
             ],
             [
              0.5555555555555556,
              "#d8576b"
             ],
             [
              0.6666666666666666,
              "#ed7953"
             ],
             [
              0.7777777777777778,
              "#fb9f3a"
             ],
             [
              0.8888888888888888,
              "#fdca26"
             ],
             [
              1.0,
              "#f0f921"
             ]
            ],
            "type": "histogram2d"
           }
          ],
          "histogram2dcontour": [
           {
            "colorbar": {
             "outlinewidth": 0,
             "ticks": ""
            },
            "colorscale": [
             [
              0.0,
              "#0d0887"
             ],
             [
              0.1111111111111111,
              "#46039f"
             ],
             [
              0.2222222222222222,
              "#7201a8"
             ],
             [
              0.3333333333333333,
              "#9c179e"
             ],
             [
              0.4444444444444444,
              "#bd3786"
             ],
             [
              0.5555555555555556,
              "#d8576b"
             ],
             [
              0.6666666666666666,
              "#ed7953"
             ],
             [
              0.7777777777777778,
              "#fb9f3a"
             ],
             [
              0.8888888888888888,
              "#fdca26"
             ],
             [
              1.0,
              "#f0f921"
             ]
            ],
            "type": "histogram2dcontour"
           }
          ],
          "mesh3d": [
           {
            "colorbar": {
             "outlinewidth": 0,
             "ticks": ""
            },
            "type": "mesh3d"
           }
          ],
          "parcoords": [
           {
            "line": {
             "colorbar": {
              "outlinewidth": 0,
              "ticks": ""
             }
            },
            "type": "parcoords"
           }
          ],
          "pie": [
           {
            "automargin": true,
            "type": "pie"
           }
          ],
          "scatter": [
           {
            "fillpattern": {
             "fillmode": "overlay",
             "size": 10,
             "solidity": 0.2
            },
            "type": "scatter"
           }
          ],
          "scatter3d": [
           {
            "line": {
             "colorbar": {
              "outlinewidth": 0,
              "ticks": ""
             }
            },
            "marker": {
             "colorbar": {
              "outlinewidth": 0,
              "ticks": ""
             }
            },
            "type": "scatter3d"
           }
          ],
          "scattercarpet": [
           {
            "marker": {
             "colorbar": {
              "outlinewidth": 0,
              "ticks": ""
             }
            },
            "type": "scattercarpet"
           }
          ],
          "scattergeo": [
           {
            "marker": {
             "colorbar": {
              "outlinewidth": 0,
              "ticks": ""
             }
            },
            "type": "scattergeo"
           }
          ],
          "scattergl": [
           {
            "marker": {
             "colorbar": {
              "outlinewidth": 0,
              "ticks": ""
             }
            },
            "type": "scattergl"
           }
          ],
          "scattermap": [
           {
            "marker": {
             "colorbar": {
              "outlinewidth": 0,
              "ticks": ""
             }
            },
            "type": "scattermap"
           }
          ],
          "scattermapbox": [
           {
            "marker": {
             "colorbar": {
              "outlinewidth": 0,
              "ticks": ""
             }
            },
            "type": "scattermapbox"
           }
          ],
          "scatterpolar": [
           {
            "marker": {
             "colorbar": {
              "outlinewidth": 0,
              "ticks": ""
             }
            },
            "type": "scatterpolar"
           }
          ],
          "scatterpolargl": [
           {
            "marker": {
             "colorbar": {
              "outlinewidth": 0,
              "ticks": ""
             }
            },
            "type": "scatterpolargl"
           }
          ],
          "scatterternary": [
           {
            "marker": {
             "colorbar": {
              "outlinewidth": 0,
              "ticks": ""
             }
            },
            "type": "scatterternary"
           }
          ],
          "surface": [
           {
            "colorbar": {
             "outlinewidth": 0,
             "ticks": ""
            },
            "colorscale": [
             [
              0.0,
              "#0d0887"
             ],
             [
              0.1111111111111111,
              "#46039f"
             ],
             [
              0.2222222222222222,
              "#7201a8"
             ],
             [
              0.3333333333333333,
              "#9c179e"
             ],
             [
              0.4444444444444444,
              "#bd3786"
             ],
             [
              0.5555555555555556,
              "#d8576b"
             ],
             [
              0.6666666666666666,
              "#ed7953"
             ],
             [
              0.7777777777777778,
              "#fb9f3a"
             ],
             [
              0.8888888888888888,
              "#fdca26"
             ],
             [
              1.0,
              "#f0f921"
             ]
            ],
            "type": "surface"
           }
          ],
          "table": [
           {
            "cells": {
             "fill": {
              "color": "#EBF0F8"
             },
             "line": {
              "color": "white"
             }
            },
            "header": {
             "fill": {
              "color": "#C8D4E3"
             },
             "line": {
              "color": "white"
             }
            },
            "type": "table"
           }
          ]
         },
         "layout": {
          "annotationdefaults": {
           "arrowcolor": "#2a3f5f",
           "arrowhead": 0,
           "arrowwidth": 1
          },
          "autotypenumbers": "strict",
          "coloraxis": {
           "colorbar": {
            "outlinewidth": 0,
            "ticks": ""
           }
          },
          "colorscale": {
           "diverging": [
            [
             0,
             "#8e0152"
            ],
            [
             0.1,
             "#c51b7d"
            ],
            [
             0.2,
             "#de77ae"
            ],
            [
             0.3,
             "#f1b6da"
            ],
            [
             0.4,
             "#fde0ef"
            ],
            [
             0.5,
             "#f7f7f7"
            ],
            [
             0.6,
             "#e6f5d0"
            ],
            [
             0.7,
             "#b8e186"
            ],
            [
             0.8,
             "#7fbc41"
            ],
            [
             0.9,
             "#4d9221"
            ],
            [
             1,
             "#276419"
            ]
           ],
           "sequential": [
            [
             0.0,
             "#0d0887"
            ],
            [
             0.1111111111111111,
             "#46039f"
            ],
            [
             0.2222222222222222,
             "#7201a8"
            ],
            [
             0.3333333333333333,
             "#9c179e"
            ],
            [
             0.4444444444444444,
             "#bd3786"
            ],
            [
             0.5555555555555556,
             "#d8576b"
            ],
            [
             0.6666666666666666,
             "#ed7953"
            ],
            [
             0.7777777777777778,
             "#fb9f3a"
            ],
            [
             0.8888888888888888,
             "#fdca26"
            ],
            [
             1.0,
             "#f0f921"
            ]
           ],
           "sequentialminus": [
            [
             0.0,
             "#0d0887"
            ],
            [
             0.1111111111111111,
             "#46039f"
            ],
            [
             0.2222222222222222,
             "#7201a8"
            ],
            [
             0.3333333333333333,
             "#9c179e"
            ],
            [
             0.4444444444444444,
             "#bd3786"
            ],
            [
             0.5555555555555556,
             "#d8576b"
            ],
            [
             0.6666666666666666,
             "#ed7953"
            ],
            [
             0.7777777777777778,
             "#fb9f3a"
            ],
            [
             0.8888888888888888,
             "#fdca26"
            ],
            [
             1.0,
             "#f0f921"
            ]
           ]
          },
          "colorway": [
           "#636efa",
           "#EF553B",
           "#00cc96",
           "#ab63fa",
           "#FFA15A",
           "#19d3f3",
           "#FF6692",
           "#B6E880",
           "#FF97FF",
           "#FECB52"
          ],
          "font": {
           "color": "#2a3f5f"
          },
          "geo": {
           "bgcolor": "white",
           "lakecolor": "white",
           "landcolor": "white",
           "showlakes": true,
           "showland": true,
           "subunitcolor": "#C8D4E3"
          },
          "hoverlabel": {
           "align": "left"
          },
          "hovermode": "closest",
          "mapbox": {
           "style": "light"
          },
          "paper_bgcolor": "white",
          "plot_bgcolor": "white",
          "polar": {
           "angularaxis": {
            "gridcolor": "#EBF0F8",
            "linecolor": "#EBF0F8",
            "ticks": ""
           },
           "bgcolor": "white",
           "radialaxis": {
            "gridcolor": "#EBF0F8",
            "linecolor": "#EBF0F8",
            "ticks": ""
           }
          },
          "scene": {
           "xaxis": {
            "backgroundcolor": "white",
            "gridcolor": "#DFE8F3",
            "gridwidth": 2,
            "linecolor": "#EBF0F8",
            "showbackground": true,
            "ticks": "",
            "zerolinecolor": "#EBF0F8"
           },
           "yaxis": {
            "backgroundcolor": "white",
            "gridcolor": "#DFE8F3",
            "gridwidth": 2,
            "linecolor": "#EBF0F8",
            "showbackground": true,
            "ticks": "",
            "zerolinecolor": "#EBF0F8"
           },
           "zaxis": {
            "backgroundcolor": "white",
            "gridcolor": "#DFE8F3",
            "gridwidth": 2,
            "linecolor": "#EBF0F8",
            "showbackground": true,
            "ticks": "",
            "zerolinecolor": "#EBF0F8"
           }
          },
          "shapedefaults": {
           "line": {
            "color": "#2a3f5f"
           }
          },
          "ternary": {
           "aaxis": {
            "gridcolor": "#DFE8F3",
            "linecolor": "#A2B1C6",
            "ticks": ""
           },
           "baxis": {
            "gridcolor": "#DFE8F3",
            "linecolor": "#A2B1C6",
            "ticks": ""
           },
           "bgcolor": "white",
           "caxis": {
            "gridcolor": "#DFE8F3",
            "linecolor": "#A2B1C6",
            "ticks": ""
           }
          },
          "title": {
           "x": 0.05
          },
          "xaxis": {
           "automargin": true,
           "gridcolor": "#EBF0F8",
           "linecolor": "#EBF0F8",
           "ticks": "",
           "title": {
            "standoff": 15
           },
           "zerolinecolor": "#EBF0F8",
           "zerolinewidth": 2
          },
          "yaxis": {
           "automargin": true,
           "gridcolor": "#EBF0F8",
           "linecolor": "#EBF0F8",
           "ticks": "",
           "title": {
            "standoff": 15
           },
           "zerolinecolor": "#EBF0F8",
           "zerolinewidth": 2
          }
         }
        },
        "width": 800,
        "xaxis": {
         "anchor": "y",
         "domain": [
          0.0,
          1.0
         ],
         "dtick": 1,
         "linecolor": "black",
         "mirror": true,
         "title": {
          "text": "No. patients in rehabilitation unit"
         }
        },
        "yaxis": {
         "anchor": "x",
         "domain": [
          0.0,
          1.0
         ],
         "linecolor": "black",
         "mirror": true,
         "tickformat": ",.0%",
         "title": {
          "text": "% observations"
         }
        }
       }
      }
     },
     "metadata": {},
     "output_type": "display_data"
    }
   ],
   "source": [
    "# Acute stroke unit\n",
    "plot_occupancy_freq(base_overall[\"asu\"], unit=\"asu\",\n",
    "                    file=\"figure1_asu.png\")\n",
    "\n",
    "# Rehabilitation unit\n",
    "plot_occupancy_freq(base_overall[\"rehab\"], unit=\"rehab\",\n",
    "                    file=\"figure1_rehab.png\")"
   ]
  },
  {
   "cell_type": "markdown",
   "metadata": {},
   "source": [
    "### Theory: probability of delay\n",
    "\n",
    "We can use our frequency and cumulative frequency of occupied beds from the simulation to calculate blocking probability.\n",
    "\n",
    "For example:\n",
    "\n",
    "| Beds | `pct` | `c_pct` | Probability of delay |\n",
    "| - | - | - | - |\n",
    "| 0 | 0.2 | 0.2 | 1.0 |\n",
    "| 1 | 0.3 | 0.5 | 0.6 |\n",
    "| 2 | 0.4 | 0.9 | 0.44 |\n",
    "| 3 | 0.1 | 1.0 | 0.1 |\n",
    "\n",
    "We can interpret...\n",
    "\n",
    "* `pct` as the probability of having exactly x beds occupied.\n",
    "* `c_pct` as the probability of having x or fewer beds occupied.\n",
    "\n",
    "We can then calculate `pct/c_pct`, which is the probability of delay when the system has exactly x beds occupied.\n",
    "\n",
    "Interpretation for 1 bed:\n",
    "\n",
    "* If we **randomly select a day when the occupancy is 1 or fewer beds**, there's a **60%** chance that the occupancy will be **exactly 1 beds (rather than 0 beds)**.\n",
    "\n",
    "This can then be connected to the probability of delay by thinking about system capacity:\n",
    "\n",
    "* If we assume that the unit has a total of 1 beds, then when 1 beds are occupied, the unit is at **full capacity**.\n",
    "* Any new patients arriving when 1 beds are occupied would experience a delay.\n",
    "* So 0.6 represents the probability that, given we're at or below capacity (0 or 1 beds), we're actually at full capacity (1 beds)\n",
    "\n",
    "In other words, `pct/c_pct` is the probability that a new arrival will experience a delay when the system has exactly x beds occupied, given that the capacity of the system is x beds."
   ]
  },
  {
   "cell_type": "markdown",
   "metadata": {},
   "source": [
    "### Figure 3\n",
    "\n",
    "**Figure 3**. Simulated trade-off between the probability that a patient is delayed and the no. of acute beds available."
   ]
  },
  {
   "cell_type": "code",
   "execution_count": 7,
   "metadata": {},
   "outputs": [],
   "source": [
    "def plot_delay_prob(df, unit, file, path=OUTPUT_DIR):\n",
    "    \"\"\"\n",
    "    Plot the simulated trade-off between the probability of delay and the\n",
    "    number of beds available.\n",
    "\n",
    "    Parameters\n",
    "    ----------\n",
    "    df: pd.DataFrame\n",
    "        Dataframe output by `get_occupancy_freq()` containing the frequency\n",
    "        each occupancy was observed at.\n",
    "    unit: str\n",
    "        Name of unit (\"asu\", \"rehab\")\n",
    "    file: str\n",
    "        Filename to save figure to (e.g. \"figure.png\").\n",
    "    path: str\n",
    "        Path to save file to (excluding filename).\n",
    "    \"\"\"\n",
    "    # Create the step plot\n",
    "    fig = px.line(df, x=\"beds\", y=\"prob_delay\",\n",
    "                  color_discrete_sequence=[\"black\"])\n",
    "    fig.update_traces(mode=\"lines\", line_shape=\"hv\")\n",
    "\n",
    "    # Add axis labels, set theme and dimensions\n",
    "    if unit == \"asu\":\n",
    "        unit_lab = \"acute\"\n",
    "    elif unit == \"rehab\":\n",
    "        unit_lab = \"rehabilitation\"\n",
    "    else:\n",
    "        raise ValueError(\"unit must be either 'acute' or 'rehab'\")\n",
    "\n",
    "    fig.update_layout(\n",
    "        xaxis_title=f\"No. of {unit_lab} beds available\",\n",
    "        yaxis_title=\"Probability of delay\",\n",
    "        template=\"simple_white\",\n",
    "        height=450,\n",
    "        width=800\n",
    "    )\n",
    "\n",
    "    # Set tick frequency and adjust axis\n",
    "    fig.update_xaxes(dtick=1)\n",
    "    fig.update_yaxes(dtick=0.1, range=[0, 1])\n",
    "\n",
    "    # Show figure\n",
    "    fig.show()\n",
    "\n",
    "    # Save figure\n",
    "    fig.write_image(os.path.join(path, file))"
   ]
  },
  {
   "cell_type": "code",
   "execution_count": 8,
   "metadata": {},
   "outputs": [
    {
     "data": {
      "application/vnd.plotly.v1+json": {
       "config": {
        "plotlyServerURL": "https://plot.ly"
       },
       "data": [
        {
         "hovertemplate": "beds=%{x}<br>prob_delay=%{y}<extra></extra>",
         "legendgroup": "",
         "line": {
          "color": "black",
          "dash": "solid",
          "shape": "hv"
         },
         "marker": {
          "symbol": "circle"
         },
         "mode": "lines",
         "name": "",
         "orientation": "v",
         "showlegend": false,
         "type": "scatter",
         "x": {
          "bdata": "AAECAwQFBgcICQoLDA0ODxAREhMUFRYXGA==",
          "dtype": "i1"
         },
         "xaxis": "x",
         "y": {
          "bdata": "AAAAAAAA8D94G0jdxITsPyp4OQUvJ+k/QvsLgbQc5j+RX9Yh2LfiP8LQGvMaMt8/uppMGpyx2T++srGRtKnUP1FD/HWsic8/99FI/kZAxz+hkxh7pXvAP3qunp90J7Y/tOxDG6PlrD/2xG0ycQKhP4wWtQsjzZM/zvQqi6WUhT8mT5DT5p91P52/0Xq2W2U/e2XDGRj9VT/4z8ec0lBFP5jty6Ev9TE/HwbEC7G6HD9rd6RsxqT+PrE8icC3pN4+JuSAarCkzj4=",
          "dtype": "f8"
         },
         "yaxis": "y"
        }
       ],
       "layout": {
        "height": 450,
        "legend": {
         "tracegroupgap": 0
        },
        "margin": {
         "t": 60
        },
        "template": {
         "data": {
          "bar": [
           {
            "error_x": {
             "color": "rgb(36,36,36)"
            },
            "error_y": {
             "color": "rgb(36,36,36)"
            },
            "marker": {
             "line": {
              "color": "white",
              "width": 0.5
             },
             "pattern": {
              "fillmode": "overlay",
              "size": 10,
              "solidity": 0.2
             }
            },
            "type": "bar"
           }
          ],
          "barpolar": [
           {
            "marker": {
             "line": {
              "color": "white",
              "width": 0.5
             },
             "pattern": {
              "fillmode": "overlay",
              "size": 10,
              "solidity": 0.2
             }
            },
            "type": "barpolar"
           }
          ],
          "carpet": [
           {
            "aaxis": {
             "endlinecolor": "rgb(36,36,36)",
             "gridcolor": "white",
             "linecolor": "white",
             "minorgridcolor": "white",
             "startlinecolor": "rgb(36,36,36)"
            },
            "baxis": {
             "endlinecolor": "rgb(36,36,36)",
             "gridcolor": "white",
             "linecolor": "white",
             "minorgridcolor": "white",
             "startlinecolor": "rgb(36,36,36)"
            },
            "type": "carpet"
           }
          ],
          "choropleth": [
           {
            "colorbar": {
             "outlinewidth": 1,
             "tickcolor": "rgb(36,36,36)",
             "ticks": "outside"
            },
            "type": "choropleth"
           }
          ],
          "contour": [
           {
            "colorbar": {
             "outlinewidth": 1,
             "tickcolor": "rgb(36,36,36)",
             "ticks": "outside"
            },
            "colorscale": [
             [
              0.0,
              "#440154"
             ],
             [
              0.1111111111111111,
              "#482878"
             ],
             [
              0.2222222222222222,
              "#3e4989"
             ],
             [
              0.3333333333333333,
              "#31688e"
             ],
             [
              0.4444444444444444,
              "#26828e"
             ],
             [
              0.5555555555555556,
              "#1f9e89"
             ],
             [
              0.6666666666666666,
              "#35b779"
             ],
             [
              0.7777777777777778,
              "#6ece58"
             ],
             [
              0.8888888888888888,
              "#b5de2b"
             ],
             [
              1.0,
              "#fde725"
             ]
            ],
            "type": "contour"
           }
          ],
          "contourcarpet": [
           {
            "colorbar": {
             "outlinewidth": 1,
             "tickcolor": "rgb(36,36,36)",
             "ticks": "outside"
            },
            "type": "contourcarpet"
           }
          ],
          "heatmap": [
           {
            "colorbar": {
             "outlinewidth": 1,
             "tickcolor": "rgb(36,36,36)",
             "ticks": "outside"
            },
            "colorscale": [
             [
              0.0,
              "#440154"
             ],
             [
              0.1111111111111111,
              "#482878"
             ],
             [
              0.2222222222222222,
              "#3e4989"
             ],
             [
              0.3333333333333333,
              "#31688e"
             ],
             [
              0.4444444444444444,
              "#26828e"
             ],
             [
              0.5555555555555556,
              "#1f9e89"
             ],
             [
              0.6666666666666666,
              "#35b779"
             ],
             [
              0.7777777777777778,
              "#6ece58"
             ],
             [
              0.8888888888888888,
              "#b5de2b"
             ],
             [
              1.0,
              "#fde725"
             ]
            ],
            "type": "heatmap"
           }
          ],
          "histogram": [
           {
            "marker": {
             "line": {
              "color": "white",
              "width": 0.6
             }
            },
            "type": "histogram"
           }
          ],
          "histogram2d": [
           {
            "colorbar": {
             "outlinewidth": 1,
             "tickcolor": "rgb(36,36,36)",
             "ticks": "outside"
            },
            "colorscale": [
             [
              0.0,
              "#440154"
             ],
             [
              0.1111111111111111,
              "#482878"
             ],
             [
              0.2222222222222222,
              "#3e4989"
             ],
             [
              0.3333333333333333,
              "#31688e"
             ],
             [
              0.4444444444444444,
              "#26828e"
             ],
             [
              0.5555555555555556,
              "#1f9e89"
             ],
             [
              0.6666666666666666,
              "#35b779"
             ],
             [
              0.7777777777777778,
              "#6ece58"
             ],
             [
              0.8888888888888888,
              "#b5de2b"
             ],
             [
              1.0,
              "#fde725"
             ]
            ],
            "type": "histogram2d"
           }
          ],
          "histogram2dcontour": [
           {
            "colorbar": {
             "outlinewidth": 1,
             "tickcolor": "rgb(36,36,36)",
             "ticks": "outside"
            },
            "colorscale": [
             [
              0.0,
              "#440154"
             ],
             [
              0.1111111111111111,
              "#482878"
             ],
             [
              0.2222222222222222,
              "#3e4989"
             ],
             [
              0.3333333333333333,
              "#31688e"
             ],
             [
              0.4444444444444444,
              "#26828e"
             ],
             [
              0.5555555555555556,
              "#1f9e89"
             ],
             [
              0.6666666666666666,
              "#35b779"
             ],
             [
              0.7777777777777778,
              "#6ece58"
             ],
             [
              0.8888888888888888,
              "#b5de2b"
             ],
             [
              1.0,
              "#fde725"
             ]
            ],
            "type": "histogram2dcontour"
           }
          ],
          "mesh3d": [
           {
            "colorbar": {
             "outlinewidth": 1,
             "tickcolor": "rgb(36,36,36)",
             "ticks": "outside"
            },
            "type": "mesh3d"
           }
          ],
          "parcoords": [
           {
            "line": {
             "colorbar": {
              "outlinewidth": 1,
              "tickcolor": "rgb(36,36,36)",
              "ticks": "outside"
             }
            },
            "type": "parcoords"
           }
          ],
          "pie": [
           {
            "automargin": true,
            "type": "pie"
           }
          ],
          "scatter": [
           {
            "fillpattern": {
             "fillmode": "overlay",
             "size": 10,
             "solidity": 0.2
            },
            "type": "scatter"
           }
          ],
          "scatter3d": [
           {
            "line": {
             "colorbar": {
              "outlinewidth": 1,
              "tickcolor": "rgb(36,36,36)",
              "ticks": "outside"
             }
            },
            "marker": {
             "colorbar": {
              "outlinewidth": 1,
              "tickcolor": "rgb(36,36,36)",
              "ticks": "outside"
             }
            },
            "type": "scatter3d"
           }
          ],
          "scattercarpet": [
           {
            "marker": {
             "colorbar": {
              "outlinewidth": 1,
              "tickcolor": "rgb(36,36,36)",
              "ticks": "outside"
             }
            },
            "type": "scattercarpet"
           }
          ],
          "scattergeo": [
           {
            "marker": {
             "colorbar": {
              "outlinewidth": 1,
              "tickcolor": "rgb(36,36,36)",
              "ticks": "outside"
             }
            },
            "type": "scattergeo"
           }
          ],
          "scattergl": [
           {
            "marker": {
             "colorbar": {
              "outlinewidth": 1,
              "tickcolor": "rgb(36,36,36)",
              "ticks": "outside"
             }
            },
            "type": "scattergl"
           }
          ],
          "scattermap": [
           {
            "marker": {
             "colorbar": {
              "outlinewidth": 1,
              "tickcolor": "rgb(36,36,36)",
              "ticks": "outside"
             }
            },
            "type": "scattermap"
           }
          ],
          "scattermapbox": [
           {
            "marker": {
             "colorbar": {
              "outlinewidth": 1,
              "tickcolor": "rgb(36,36,36)",
              "ticks": "outside"
             }
            },
            "type": "scattermapbox"
           }
          ],
          "scatterpolar": [
           {
            "marker": {
             "colorbar": {
              "outlinewidth": 1,
              "tickcolor": "rgb(36,36,36)",
              "ticks": "outside"
             }
            },
            "type": "scatterpolar"
           }
          ],
          "scatterpolargl": [
           {
            "marker": {
             "colorbar": {
              "outlinewidth": 1,
              "tickcolor": "rgb(36,36,36)",
              "ticks": "outside"
             }
            },
            "type": "scatterpolargl"
           }
          ],
          "scatterternary": [
           {
            "marker": {
             "colorbar": {
              "outlinewidth": 1,
              "tickcolor": "rgb(36,36,36)",
              "ticks": "outside"
             }
            },
            "type": "scatterternary"
           }
          ],
          "surface": [
           {
            "colorbar": {
             "outlinewidth": 1,
             "tickcolor": "rgb(36,36,36)",
             "ticks": "outside"
            },
            "colorscale": [
             [
              0.0,
              "#440154"
             ],
             [
              0.1111111111111111,
              "#482878"
             ],
             [
              0.2222222222222222,
              "#3e4989"
             ],
             [
              0.3333333333333333,
              "#31688e"
             ],
             [
              0.4444444444444444,
              "#26828e"
             ],
             [
              0.5555555555555556,
              "#1f9e89"
             ],
             [
              0.6666666666666666,
              "#35b779"
             ],
             [
              0.7777777777777778,
              "#6ece58"
             ],
             [
              0.8888888888888888,
              "#b5de2b"
             ],
             [
              1.0,
              "#fde725"
             ]
            ],
            "type": "surface"
           }
          ],
          "table": [
           {
            "cells": {
             "fill": {
              "color": "rgb(237,237,237)"
             },
             "line": {
              "color": "white"
             }
            },
            "header": {
             "fill": {
              "color": "rgb(217,217,217)"
             },
             "line": {
              "color": "white"
             }
            },
            "type": "table"
           }
          ]
         },
         "layout": {
          "annotationdefaults": {
           "arrowhead": 0,
           "arrowwidth": 1
          },
          "autotypenumbers": "strict",
          "coloraxis": {
           "colorbar": {
            "outlinewidth": 1,
            "tickcolor": "rgb(36,36,36)",
            "ticks": "outside"
           }
          },
          "colorscale": {
           "diverging": [
            [
             0.0,
             "rgb(103,0,31)"
            ],
            [
             0.1,
             "rgb(178,24,43)"
            ],
            [
             0.2,
             "rgb(214,96,77)"
            ],
            [
             0.3,
             "rgb(244,165,130)"
            ],
            [
             0.4,
             "rgb(253,219,199)"
            ],
            [
             0.5,
             "rgb(247,247,247)"
            ],
            [
             0.6,
             "rgb(209,229,240)"
            ],
            [
             0.7,
             "rgb(146,197,222)"
            ],
            [
             0.8,
             "rgb(67,147,195)"
            ],
            [
             0.9,
             "rgb(33,102,172)"
            ],
            [
             1.0,
             "rgb(5,48,97)"
            ]
           ],
           "sequential": [
            [
             0.0,
             "#440154"
            ],
            [
             0.1111111111111111,
             "#482878"
            ],
            [
             0.2222222222222222,
             "#3e4989"
            ],
            [
             0.3333333333333333,
             "#31688e"
            ],
            [
             0.4444444444444444,
             "#26828e"
            ],
            [
             0.5555555555555556,
             "#1f9e89"
            ],
            [
             0.6666666666666666,
             "#35b779"
            ],
            [
             0.7777777777777778,
             "#6ece58"
            ],
            [
             0.8888888888888888,
             "#b5de2b"
            ],
            [
             1.0,
             "#fde725"
            ]
           ],
           "sequentialminus": [
            [
             0.0,
             "#440154"
            ],
            [
             0.1111111111111111,
             "#482878"
            ],
            [
             0.2222222222222222,
             "#3e4989"
            ],
            [
             0.3333333333333333,
             "#31688e"
            ],
            [
             0.4444444444444444,
             "#26828e"
            ],
            [
             0.5555555555555556,
             "#1f9e89"
            ],
            [
             0.6666666666666666,
             "#35b779"
            ],
            [
             0.7777777777777778,
             "#6ece58"
            ],
            [
             0.8888888888888888,
             "#b5de2b"
            ],
            [
             1.0,
             "#fde725"
            ]
           ]
          },
          "colorway": [
           "#1F77B4",
           "#FF7F0E",
           "#2CA02C",
           "#D62728",
           "#9467BD",
           "#8C564B",
           "#E377C2",
           "#7F7F7F",
           "#BCBD22",
           "#17BECF"
          ],
          "font": {
           "color": "rgb(36,36,36)"
          },
          "geo": {
           "bgcolor": "white",
           "lakecolor": "white",
           "landcolor": "white",
           "showlakes": true,
           "showland": true,
           "subunitcolor": "white"
          },
          "hoverlabel": {
           "align": "left"
          },
          "hovermode": "closest",
          "mapbox": {
           "style": "light"
          },
          "paper_bgcolor": "white",
          "plot_bgcolor": "white",
          "polar": {
           "angularaxis": {
            "gridcolor": "rgb(232,232,232)",
            "linecolor": "rgb(36,36,36)",
            "showgrid": false,
            "showline": true,
            "ticks": "outside"
           },
           "bgcolor": "white",
           "radialaxis": {
            "gridcolor": "rgb(232,232,232)",
            "linecolor": "rgb(36,36,36)",
            "showgrid": false,
            "showline": true,
            "ticks": "outside"
           }
          },
          "scene": {
           "xaxis": {
            "backgroundcolor": "white",
            "gridcolor": "rgb(232,232,232)",
            "gridwidth": 2,
            "linecolor": "rgb(36,36,36)",
            "showbackground": true,
            "showgrid": false,
            "showline": true,
            "ticks": "outside",
            "zeroline": false,
            "zerolinecolor": "rgb(36,36,36)"
           },
           "yaxis": {
            "backgroundcolor": "white",
            "gridcolor": "rgb(232,232,232)",
            "gridwidth": 2,
            "linecolor": "rgb(36,36,36)",
            "showbackground": true,
            "showgrid": false,
            "showline": true,
            "ticks": "outside",
            "zeroline": false,
            "zerolinecolor": "rgb(36,36,36)"
           },
           "zaxis": {
            "backgroundcolor": "white",
            "gridcolor": "rgb(232,232,232)",
            "gridwidth": 2,
            "linecolor": "rgb(36,36,36)",
            "showbackground": true,
            "showgrid": false,
            "showline": true,
            "ticks": "outside",
            "zeroline": false,
            "zerolinecolor": "rgb(36,36,36)"
           }
          },
          "shapedefaults": {
           "fillcolor": "black",
           "line": {
            "width": 0
           },
           "opacity": 0.3
          },
          "ternary": {
           "aaxis": {
            "gridcolor": "rgb(232,232,232)",
            "linecolor": "rgb(36,36,36)",
            "showgrid": false,
            "showline": true,
            "ticks": "outside"
           },
           "baxis": {
            "gridcolor": "rgb(232,232,232)",
            "linecolor": "rgb(36,36,36)",
            "showgrid": false,
            "showline": true,
            "ticks": "outside"
           },
           "bgcolor": "white",
           "caxis": {
            "gridcolor": "rgb(232,232,232)",
            "linecolor": "rgb(36,36,36)",
            "showgrid": false,
            "showline": true,
            "ticks": "outside"
           }
          },
          "title": {
           "x": 0.05
          },
          "xaxis": {
           "automargin": true,
           "gridcolor": "rgb(232,232,232)",
           "linecolor": "rgb(36,36,36)",
           "showgrid": false,
           "showline": true,
           "ticks": "outside",
           "title": {
            "standoff": 15
           },
           "zeroline": false,
           "zerolinecolor": "rgb(36,36,36)"
          },
          "yaxis": {
           "automargin": true,
           "gridcolor": "rgb(232,232,232)",
           "linecolor": "rgb(36,36,36)",
           "showgrid": false,
           "showline": true,
           "ticks": "outside",
           "title": {
            "standoff": 15
           },
           "zeroline": false,
           "zerolinecolor": "rgb(36,36,36)"
          }
         }
        },
        "width": 800,
        "xaxis": {
         "anchor": "y",
         "domain": [
          0.0,
          1.0
         ],
         "dtick": 1,
         "title": {
          "text": "No. of acute beds available"
         }
        },
        "yaxis": {
         "anchor": "x",
         "domain": [
          0.0,
          1.0
         ],
         "dtick": 0.1,
         "range": [
          0,
          1
         ],
         "title": {
          "text": "Probability of delay"
         }
        }
       }
      }
     },
     "metadata": {},
     "output_type": "display_data"
    },
    {
     "data": {
      "application/vnd.plotly.v1+json": {
       "config": {
        "plotlyServerURL": "https://plot.ly"
       },
       "data": [
        {
         "hovertemplate": "beds=%{x}<br>prob_delay=%{y}<extra></extra>",
         "legendgroup": "",
         "line": {
          "color": "black",
          "dash": "solid",
          "shape": "hv"
         },
         "marker": {
          "symbol": "circle"
         },
         "mode": "lines",
         "name": "",
         "orientation": "v",
         "showlegend": false,
         "type": "scatter",
         "x": {
          "bdata": "AAECAwQFBgcICQoLDA0ODxAREhMUFRYXGBka",
          "dtype": "i1"
         },
         "xaxis": "x",
         "y": {
          "bdata": "AAAAAAAA8D9ONtlkk03uP8sGMraa5+o/B99OBDZq5z8k2fio9efkPw+aPUoy6+E/KvZn5Ryx3j9HxwzG2SnaP8mroAbBLNU/w/uOU17G0D/NZTWweVHKP3YXjA+ip8M/zOuwo4gvvD87FfBIznezP1SzYUI18Kk/0Qq9oWQ7oD87FPsrrSKUP4JZ/ov4HoY/8CIHNh0ZeD+d3hzM2YlpPziUlzReCFg/vyKV2C0TSD9rycsm82E5P4uzm7hCMiI/9FRLeTUcFD9HLx1u9ybzPibkgGqwpN4+",
          "dtype": "f8"
         },
         "yaxis": "y"
        }
       ],
       "layout": {
        "height": 450,
        "legend": {
         "tracegroupgap": 0
        },
        "margin": {
         "t": 60
        },
        "template": {
         "data": {
          "bar": [
           {
            "error_x": {
             "color": "rgb(36,36,36)"
            },
            "error_y": {
             "color": "rgb(36,36,36)"
            },
            "marker": {
             "line": {
              "color": "white",
              "width": 0.5
             },
             "pattern": {
              "fillmode": "overlay",
              "size": 10,
              "solidity": 0.2
             }
            },
            "type": "bar"
           }
          ],
          "barpolar": [
           {
            "marker": {
             "line": {
              "color": "white",
              "width": 0.5
             },
             "pattern": {
              "fillmode": "overlay",
              "size": 10,
              "solidity": 0.2
             }
            },
            "type": "barpolar"
           }
          ],
          "carpet": [
           {
            "aaxis": {
             "endlinecolor": "rgb(36,36,36)",
             "gridcolor": "white",
             "linecolor": "white",
             "minorgridcolor": "white",
             "startlinecolor": "rgb(36,36,36)"
            },
            "baxis": {
             "endlinecolor": "rgb(36,36,36)",
             "gridcolor": "white",
             "linecolor": "white",
             "minorgridcolor": "white",
             "startlinecolor": "rgb(36,36,36)"
            },
            "type": "carpet"
           }
          ],
          "choropleth": [
           {
            "colorbar": {
             "outlinewidth": 1,
             "tickcolor": "rgb(36,36,36)",
             "ticks": "outside"
            },
            "type": "choropleth"
           }
          ],
          "contour": [
           {
            "colorbar": {
             "outlinewidth": 1,
             "tickcolor": "rgb(36,36,36)",
             "ticks": "outside"
            },
            "colorscale": [
             [
              0.0,
              "#440154"
             ],
             [
              0.1111111111111111,
              "#482878"
             ],
             [
              0.2222222222222222,
              "#3e4989"
             ],
             [
              0.3333333333333333,
              "#31688e"
             ],
             [
              0.4444444444444444,
              "#26828e"
             ],
             [
              0.5555555555555556,
              "#1f9e89"
             ],
             [
              0.6666666666666666,
              "#35b779"
             ],
             [
              0.7777777777777778,
              "#6ece58"
             ],
             [
              0.8888888888888888,
              "#b5de2b"
             ],
             [
              1.0,
              "#fde725"
             ]
            ],
            "type": "contour"
           }
          ],
          "contourcarpet": [
           {
            "colorbar": {
             "outlinewidth": 1,
             "tickcolor": "rgb(36,36,36)",
             "ticks": "outside"
            },
            "type": "contourcarpet"
           }
          ],
          "heatmap": [
           {
            "colorbar": {
             "outlinewidth": 1,
             "tickcolor": "rgb(36,36,36)",
             "ticks": "outside"
            },
            "colorscale": [
             [
              0.0,
              "#440154"
             ],
             [
              0.1111111111111111,
              "#482878"
             ],
             [
              0.2222222222222222,
              "#3e4989"
             ],
             [
              0.3333333333333333,
              "#31688e"
             ],
             [
              0.4444444444444444,
              "#26828e"
             ],
             [
              0.5555555555555556,
              "#1f9e89"
             ],
             [
              0.6666666666666666,
              "#35b779"
             ],
             [
              0.7777777777777778,
              "#6ece58"
             ],
             [
              0.8888888888888888,
              "#b5de2b"
             ],
             [
              1.0,
              "#fde725"
             ]
            ],
            "type": "heatmap"
           }
          ],
          "histogram": [
           {
            "marker": {
             "line": {
              "color": "white",
              "width": 0.6
             }
            },
            "type": "histogram"
           }
          ],
          "histogram2d": [
           {
            "colorbar": {
             "outlinewidth": 1,
             "tickcolor": "rgb(36,36,36)",
             "ticks": "outside"
            },
            "colorscale": [
             [
              0.0,
              "#440154"
             ],
             [
              0.1111111111111111,
              "#482878"
             ],
             [
              0.2222222222222222,
              "#3e4989"
             ],
             [
              0.3333333333333333,
              "#31688e"
             ],
             [
              0.4444444444444444,
              "#26828e"
             ],
             [
              0.5555555555555556,
              "#1f9e89"
             ],
             [
              0.6666666666666666,
              "#35b779"
             ],
             [
              0.7777777777777778,
              "#6ece58"
             ],
             [
              0.8888888888888888,
              "#b5de2b"
             ],
             [
              1.0,
              "#fde725"
             ]
            ],
            "type": "histogram2d"
           }
          ],
          "histogram2dcontour": [
           {
            "colorbar": {
             "outlinewidth": 1,
             "tickcolor": "rgb(36,36,36)",
             "ticks": "outside"
            },
            "colorscale": [
             [
              0.0,
              "#440154"
             ],
             [
              0.1111111111111111,
              "#482878"
             ],
             [
              0.2222222222222222,
              "#3e4989"
             ],
             [
              0.3333333333333333,
              "#31688e"
             ],
             [
              0.4444444444444444,
              "#26828e"
             ],
             [
              0.5555555555555556,
              "#1f9e89"
             ],
             [
              0.6666666666666666,
              "#35b779"
             ],
             [
              0.7777777777777778,
              "#6ece58"
             ],
             [
              0.8888888888888888,
              "#b5de2b"
             ],
             [
              1.0,
              "#fde725"
             ]
            ],
            "type": "histogram2dcontour"
           }
          ],
          "mesh3d": [
           {
            "colorbar": {
             "outlinewidth": 1,
             "tickcolor": "rgb(36,36,36)",
             "ticks": "outside"
            },
            "type": "mesh3d"
           }
          ],
          "parcoords": [
           {
            "line": {
             "colorbar": {
              "outlinewidth": 1,
              "tickcolor": "rgb(36,36,36)",
              "ticks": "outside"
             }
            },
            "type": "parcoords"
           }
          ],
          "pie": [
           {
            "automargin": true,
            "type": "pie"
           }
          ],
          "scatter": [
           {
            "fillpattern": {
             "fillmode": "overlay",
             "size": 10,
             "solidity": 0.2
            },
            "type": "scatter"
           }
          ],
          "scatter3d": [
           {
            "line": {
             "colorbar": {
              "outlinewidth": 1,
              "tickcolor": "rgb(36,36,36)",
              "ticks": "outside"
             }
            },
            "marker": {
             "colorbar": {
              "outlinewidth": 1,
              "tickcolor": "rgb(36,36,36)",
              "ticks": "outside"
             }
            },
            "type": "scatter3d"
           }
          ],
          "scattercarpet": [
           {
            "marker": {
             "colorbar": {
              "outlinewidth": 1,
              "tickcolor": "rgb(36,36,36)",
              "ticks": "outside"
             }
            },
            "type": "scattercarpet"
           }
          ],
          "scattergeo": [
           {
            "marker": {
             "colorbar": {
              "outlinewidth": 1,
              "tickcolor": "rgb(36,36,36)",
              "ticks": "outside"
             }
            },
            "type": "scattergeo"
           }
          ],
          "scattergl": [
           {
            "marker": {
             "colorbar": {
              "outlinewidth": 1,
              "tickcolor": "rgb(36,36,36)",
              "ticks": "outside"
             }
            },
            "type": "scattergl"
           }
          ],
          "scattermap": [
           {
            "marker": {
             "colorbar": {
              "outlinewidth": 1,
              "tickcolor": "rgb(36,36,36)",
              "ticks": "outside"
             }
            },
            "type": "scattermap"
           }
          ],
          "scattermapbox": [
           {
            "marker": {
             "colorbar": {
              "outlinewidth": 1,
              "tickcolor": "rgb(36,36,36)",
              "ticks": "outside"
             }
            },
            "type": "scattermapbox"
           }
          ],
          "scatterpolar": [
           {
            "marker": {
             "colorbar": {
              "outlinewidth": 1,
              "tickcolor": "rgb(36,36,36)",
              "ticks": "outside"
             }
            },
            "type": "scatterpolar"
           }
          ],
          "scatterpolargl": [
           {
            "marker": {
             "colorbar": {
              "outlinewidth": 1,
              "tickcolor": "rgb(36,36,36)",
              "ticks": "outside"
             }
            },
            "type": "scatterpolargl"
           }
          ],
          "scatterternary": [
           {
            "marker": {
             "colorbar": {
              "outlinewidth": 1,
              "tickcolor": "rgb(36,36,36)",
              "ticks": "outside"
             }
            },
            "type": "scatterternary"
           }
          ],
          "surface": [
           {
            "colorbar": {
             "outlinewidth": 1,
             "tickcolor": "rgb(36,36,36)",
             "ticks": "outside"
            },
            "colorscale": [
             [
              0.0,
              "#440154"
             ],
             [
              0.1111111111111111,
              "#482878"
             ],
             [
              0.2222222222222222,
              "#3e4989"
             ],
             [
              0.3333333333333333,
              "#31688e"
             ],
             [
              0.4444444444444444,
              "#26828e"
             ],
             [
              0.5555555555555556,
              "#1f9e89"
             ],
             [
              0.6666666666666666,
              "#35b779"
             ],
             [
              0.7777777777777778,
              "#6ece58"
             ],
             [
              0.8888888888888888,
              "#b5de2b"
             ],
             [
              1.0,
              "#fde725"
             ]
            ],
            "type": "surface"
           }
          ],
          "table": [
           {
            "cells": {
             "fill": {
              "color": "rgb(237,237,237)"
             },
             "line": {
              "color": "white"
             }
            },
            "header": {
             "fill": {
              "color": "rgb(217,217,217)"
             },
             "line": {
              "color": "white"
             }
            },
            "type": "table"
           }
          ]
         },
         "layout": {
          "annotationdefaults": {
           "arrowhead": 0,
           "arrowwidth": 1
          },
          "autotypenumbers": "strict",
          "coloraxis": {
           "colorbar": {
            "outlinewidth": 1,
            "tickcolor": "rgb(36,36,36)",
            "ticks": "outside"
           }
          },
          "colorscale": {
           "diverging": [
            [
             0.0,
             "rgb(103,0,31)"
            ],
            [
             0.1,
             "rgb(178,24,43)"
            ],
            [
             0.2,
             "rgb(214,96,77)"
            ],
            [
             0.3,
             "rgb(244,165,130)"
            ],
            [
             0.4,
             "rgb(253,219,199)"
            ],
            [
             0.5,
             "rgb(247,247,247)"
            ],
            [
             0.6,
             "rgb(209,229,240)"
            ],
            [
             0.7,
             "rgb(146,197,222)"
            ],
            [
             0.8,
             "rgb(67,147,195)"
            ],
            [
             0.9,
             "rgb(33,102,172)"
            ],
            [
             1.0,
             "rgb(5,48,97)"
            ]
           ],
           "sequential": [
            [
             0.0,
             "#440154"
            ],
            [
             0.1111111111111111,
             "#482878"
            ],
            [
             0.2222222222222222,
             "#3e4989"
            ],
            [
             0.3333333333333333,
             "#31688e"
            ],
            [
             0.4444444444444444,
             "#26828e"
            ],
            [
             0.5555555555555556,
             "#1f9e89"
            ],
            [
             0.6666666666666666,
             "#35b779"
            ],
            [
             0.7777777777777778,
             "#6ece58"
            ],
            [
             0.8888888888888888,
             "#b5de2b"
            ],
            [
             1.0,
             "#fde725"
            ]
           ],
           "sequentialminus": [
            [
             0.0,
             "#440154"
            ],
            [
             0.1111111111111111,
             "#482878"
            ],
            [
             0.2222222222222222,
             "#3e4989"
            ],
            [
             0.3333333333333333,
             "#31688e"
            ],
            [
             0.4444444444444444,
             "#26828e"
            ],
            [
             0.5555555555555556,
             "#1f9e89"
            ],
            [
             0.6666666666666666,
             "#35b779"
            ],
            [
             0.7777777777777778,
             "#6ece58"
            ],
            [
             0.8888888888888888,
             "#b5de2b"
            ],
            [
             1.0,
             "#fde725"
            ]
           ]
          },
          "colorway": [
           "#1F77B4",
           "#FF7F0E",
           "#2CA02C",
           "#D62728",
           "#9467BD",
           "#8C564B",
           "#E377C2",
           "#7F7F7F",
           "#BCBD22",
           "#17BECF"
          ],
          "font": {
           "color": "rgb(36,36,36)"
          },
          "geo": {
           "bgcolor": "white",
           "lakecolor": "white",
           "landcolor": "white",
           "showlakes": true,
           "showland": true,
           "subunitcolor": "white"
          },
          "hoverlabel": {
           "align": "left"
          },
          "hovermode": "closest",
          "mapbox": {
           "style": "light"
          },
          "paper_bgcolor": "white",
          "plot_bgcolor": "white",
          "polar": {
           "angularaxis": {
            "gridcolor": "rgb(232,232,232)",
            "linecolor": "rgb(36,36,36)",
            "showgrid": false,
            "showline": true,
            "ticks": "outside"
           },
           "bgcolor": "white",
           "radialaxis": {
            "gridcolor": "rgb(232,232,232)",
            "linecolor": "rgb(36,36,36)",
            "showgrid": false,
            "showline": true,
            "ticks": "outside"
           }
          },
          "scene": {
           "xaxis": {
            "backgroundcolor": "white",
            "gridcolor": "rgb(232,232,232)",
            "gridwidth": 2,
            "linecolor": "rgb(36,36,36)",
            "showbackground": true,
            "showgrid": false,
            "showline": true,
            "ticks": "outside",
            "zeroline": false,
            "zerolinecolor": "rgb(36,36,36)"
           },
           "yaxis": {
            "backgroundcolor": "white",
            "gridcolor": "rgb(232,232,232)",
            "gridwidth": 2,
            "linecolor": "rgb(36,36,36)",
            "showbackground": true,
            "showgrid": false,
            "showline": true,
            "ticks": "outside",
            "zeroline": false,
            "zerolinecolor": "rgb(36,36,36)"
           },
           "zaxis": {
            "backgroundcolor": "white",
            "gridcolor": "rgb(232,232,232)",
            "gridwidth": 2,
            "linecolor": "rgb(36,36,36)",
            "showbackground": true,
            "showgrid": false,
            "showline": true,
            "ticks": "outside",
            "zeroline": false,
            "zerolinecolor": "rgb(36,36,36)"
           }
          },
          "shapedefaults": {
           "fillcolor": "black",
           "line": {
            "width": 0
           },
           "opacity": 0.3
          },
          "ternary": {
           "aaxis": {
            "gridcolor": "rgb(232,232,232)",
            "linecolor": "rgb(36,36,36)",
            "showgrid": false,
            "showline": true,
            "ticks": "outside"
           },
           "baxis": {
            "gridcolor": "rgb(232,232,232)",
            "linecolor": "rgb(36,36,36)",
            "showgrid": false,
            "showline": true,
            "ticks": "outside"
           },
           "bgcolor": "white",
           "caxis": {
            "gridcolor": "rgb(232,232,232)",
            "linecolor": "rgb(36,36,36)",
            "showgrid": false,
            "showline": true,
            "ticks": "outside"
           }
          },
          "title": {
           "x": 0.05
          },
          "xaxis": {
           "automargin": true,
           "gridcolor": "rgb(232,232,232)",
           "linecolor": "rgb(36,36,36)",
           "showgrid": false,
           "showline": true,
           "ticks": "outside",
           "title": {
            "standoff": 15
           },
           "zeroline": false,
           "zerolinecolor": "rgb(36,36,36)"
          },
          "yaxis": {
           "automargin": true,
           "gridcolor": "rgb(232,232,232)",
           "linecolor": "rgb(36,36,36)",
           "showgrid": false,
           "showline": true,
           "ticks": "outside",
           "title": {
            "standoff": 15
           },
           "zeroline": false,
           "zerolinecolor": "rgb(36,36,36)"
          }
         }
        },
        "width": 800,
        "xaxis": {
         "anchor": "y",
         "domain": [
          0.0,
          1.0
         ],
         "dtick": 1,
         "title": {
          "text": "No. of rehabilitation beds available"
         }
        },
        "yaxis": {
         "anchor": "x",
         "domain": [
          0.0,
          1.0
         ],
         "dtick": 0.1,
         "range": [
          0,
          1
         ],
         "title": {
          "text": "Probability of delay"
         }
        }
       }
      }
     },
     "metadata": {},
     "output_type": "display_data"
    }
   ],
   "source": [
    "plot_delay_prob(base_overall[\"asu\"], unit=\"asu\", file=\"figure3_asu.png\")\n",
    "plot_delay_prob(base_overall[\"rehab\"], unit=\"rehab\", file=\"figure3_rehab.png\")"
   ]
  },
  {
   "cell_type": "markdown",
   "metadata": {},
   "source": [
    "## Scenario analysis: altering arrivals\n",
    "\n",
    "### Scenario 1\n",
    "\n",
    "**5% more admissions.** A 5% increase in admissions across all patient subgroups."
   ]
  },
  {
   "cell_type": "code",
   "execution_count": 9,
   "metadata": {},
   "outputs": [
    {
     "name": "stdout",
     "output_type": "stream",
     "text": [
      "{'stroke': 1.14, 'tia': 8.835, 'neuro': 3.42, 'other': 3.04, '_initialised': True}\n",
      "{'stroke': 20.71, 'neuro': 30.115, 'other': 27.17, '_initialised': True}\n"
     ]
    }
   ],
   "source": [
    "def alter_by_5_percent(params_dict):\n",
    "    \"\"\"\n",
    "    Helper function to reduce all attributes of a class by 5%.\n",
    "\n",
    "    Parameters\n",
    "    ----------\n",
    "    params_dict: dict\n",
    "        Dictionary of parameters.\n",
    "    \"\"\"\n",
    "    return {k: v * 0.95 for k, v in params_dict.items() if k != '_initialised'}\n",
    "\n",
    "\n",
    "# Apply 5% increase to inter-arrival parameters\n",
    "s1_param = Param(\n",
    "    asu_arrivals=ASUArrivals(**alter_by_5_percent(vars(ASUArrivals()))),\n",
    "    rehab_arrivals=RehabArrivals(**alter_by_5_percent(vars(RehabArrivals()))),\n",
    "    cores=9\n",
    ")\n",
    "\n",
    "print(vars(s1_param.asu_arrivals))\n",
    "print(vars(s1_param.rehab_arrivals))"
   ]
  },
  {
   "cell_type": "code",
   "execution_count": 10,
   "metadata": {},
   "outputs": [],
   "source": [
    "# Run the model for 150 replications\n",
    "s1_runner = Runner(param=s1_param)\n",
    "s1_reps, s1_overall, s1_audit = s1_runner.run_reps()"
   ]
  },
  {
   "cell_type": "markdown",
   "metadata": {},
   "source": [
    "### Table 2\n",
    "\n",
    "**Table 2** Likelihood of delay. Current admissions versus 5% more admissions.\n",
    "\n",
    "This table presents results from the base case and scenario 1 for acute beds 9-14 and rehab beds 10-16."
   ]
  },
  {
   "cell_type": "code",
   "execution_count": 11,
   "metadata": {},
   "outputs": [],
   "source": [
    "def make_delay_table(\n",
    "    scenario, scenario_name, base, base_name, asu_beds, rehab_beds\n",
    "):\n",
    "    \"\"\"\n",
    "    Create table with the probability of delay and 1 in n patients delayed,\n",
    "    for the base case and a provided scenario.\n",
    "\n",
    "    Parameters\n",
    "    ----------\n",
    "    scenario: dict\n",
    "        Dictionary containing two dataframes: \"asu\" and \"rehab\". These contain\n",
    "        the overall results from a scenario run of the simulation.\n",
    "    scenario_name: str\n",
    "        Name for scenario to use in table labels.\n",
    "    base: dict\n",
    "        Dictionary containing two dataframes: \"asu\" and \"rehab\". These contain\n",
    "        the overall results from the base case run of the simulation.\n",
    "    base_name: str\n",
    "        Name for base case to use in table labels.\n",
    "    asu_beds: list\n",
    "        List of acute stroke unit (ASU) bed numbers to get results for.\n",
    "    rehab_beds: list\n",
    "        List of rehabilitation unit bed numbers to get results for.\n",
    "    \"\"\"\n",
    "    # Create list to store the ASU and rehab dataframes\n",
    "    tab_full = []\n",
    "\n",
    "    # Loop over ASU and rehab units...\n",
    "    for unit_name, unit_beds in {\"asu\": asu_beds, \"rehab\": rehab_beds}.items():\n",
    "\n",
    "        # Create list to store base case and scenario dataframes\n",
    "        tab_segment = []\n",
    "\n",
    "        # Loop over base case and scenario...\n",
    "        for name, df in {base_name: base[unit_name],\n",
    "                         scenario_name: scenario[unit_name]}.items():\n",
    "\n",
    "            # Extract results for specified beds\n",
    "            df = df[df[\"beds\"].isin(unit_beds)][\n",
    "                [\"beds\", \"prob_delay\", \"1_in_n_delay\"]]\n",
    "\n",
    "            # Rename column to be specific to scenario\n",
    "            df = df.rename(columns={\n",
    "                \"prob_delay\": f\"prob_delay_{name}\",\n",
    "                \"1_in_n_delay\": f\"1_in_n_delay_{name}\"})\n",
    "\n",
    "            # Save dataframe to list\n",
    "            tab_segment.append(df)\n",
    "\n",
    "        # Combine into single dataframe\n",
    "        full_df = pd.merge(tab_segment[0], tab_segment[1], on=\"beds\")\n",
    "\n",
    "        # Add column with unit name\n",
    "        full_df.insert(0, \"unit\", unit_name)\n",
    "\n",
    "        # Save dataframe to list\n",
    "        tab_full.append(full_df)\n",
    "\n",
    "    # Combine into a single table\n",
    "    return pd.concat(tab_full).reset_index(drop=True)"
   ]
  },
  {
   "cell_type": "code",
   "execution_count": 12,
   "metadata": {},
   "outputs": [
    {
     "data": {
      "text/html": [
       "<div>\n",
       "<style scoped>\n",
       "    .dataframe tbody tr th:only-of-type {\n",
       "        vertical-align: middle;\n",
       "    }\n",
       "\n",
       "    .dataframe tbody tr th {\n",
       "        vertical-align: top;\n",
       "    }\n",
       "\n",
       "    .dataframe thead th {\n",
       "        text-align: right;\n",
       "    }\n",
       "</style>\n",
       "<table border=\"1\" class=\"dataframe\">\n",
       "  <thead>\n",
       "    <tr style=\"text-align: right;\">\n",
       "      <th></th>\n",
       "      <th>unit</th>\n",
       "      <th>beds</th>\n",
       "      <th>prob_delay_current</th>\n",
       "      <th>1_in_n_delay_current</th>\n",
       "      <th>prob_delay_5%</th>\n",
       "      <th>1_in_n_delay_5%</th>\n",
       "    </tr>\n",
       "  </thead>\n",
       "  <tbody>\n",
       "    <tr>\n",
       "      <th>0</th>\n",
       "      <td>asu</td>\n",
       "      <td>9</td>\n",
       "      <td>0.181649</td>\n",
       "      <td>6.0</td>\n",
       "      <td>0.203707</td>\n",
       "      <td>5.0</td>\n",
       "    </tr>\n",
       "    <tr>\n",
       "      <th>1</th>\n",
       "      <td>asu</td>\n",
       "      <td>10</td>\n",
       "      <td>0.128773</td>\n",
       "      <td>8.0</td>\n",
       "      <td>0.149243</td>\n",
       "      <td>7.0</td>\n",
       "    </tr>\n",
       "    <tr>\n",
       "      <th>2</th>\n",
       "      <td>asu</td>\n",
       "      <td>11</td>\n",
       "      <td>0.086540</td>\n",
       "      <td>12.0</td>\n",
       "      <td>0.104845</td>\n",
       "      <td>10.0</td>\n",
       "    </tr>\n",
       "    <tr>\n",
       "      <th>3</th>\n",
       "      <td>asu</td>\n",
       "      <td>12</td>\n",
       "      <td>0.056439</td>\n",
       "      <td>18.0</td>\n",
       "      <td>0.070083</td>\n",
       "      <td>14.0</td>\n",
       "    </tr>\n",
       "    <tr>\n",
       "      <th>4</th>\n",
       "      <td>asu</td>\n",
       "      <td>13</td>\n",
       "      <td>0.033222</td>\n",
       "      <td>30.0</td>\n",
       "      <td>0.043671</td>\n",
       "      <td>23.0</td>\n",
       "    </tr>\n",
       "    <tr>\n",
       "      <th>5</th>\n",
       "      <td>asu</td>\n",
       "      <td>14</td>\n",
       "      <td>0.019337</td>\n",
       "      <td>52.0</td>\n",
       "      <td>0.025647</td>\n",
       "      <td>39.0</td>\n",
       "    </tr>\n",
       "    <tr>\n",
       "      <th>6</th>\n",
       "      <td>rehab</td>\n",
       "      <td>10</td>\n",
       "      <td>0.205611</td>\n",
       "      <td>5.0</td>\n",
       "      <td>0.227895</td>\n",
       "      <td>4.0</td>\n",
       "    </tr>\n",
       "    <tr>\n",
       "      <th>7</th>\n",
       "      <td>rehab</td>\n",
       "      <td>11</td>\n",
       "      <td>0.153553</td>\n",
       "      <td>7.0</td>\n",
       "      <td>0.174892</td>\n",
       "      <td>6.0</td>\n",
       "    </tr>\n",
       "    <tr>\n",
       "      <th>8</th>\n",
       "      <td>rehab</td>\n",
       "      <td>12</td>\n",
       "      <td>0.110100</td>\n",
       "      <td>9.0</td>\n",
       "      <td>0.129832</td>\n",
       "      <td>8.0</td>\n",
       "    </tr>\n",
       "    <tr>\n",
       "      <th>9</th>\n",
       "      <td>rehab</td>\n",
       "      <td>13</td>\n",
       "      <td>0.076047</td>\n",
       "      <td>13.0</td>\n",
       "      <td>0.092773</td>\n",
       "      <td>11.0</td>\n",
       "    </tr>\n",
       "    <tr>\n",
       "      <th>10</th>\n",
       "      <td>rehab</td>\n",
       "      <td>14</td>\n",
       "      <td>0.050661</td>\n",
       "      <td>20.0</td>\n",
       "      <td>0.064114</td>\n",
       "      <td>16.0</td>\n",
       "    </tr>\n",
       "    <tr>\n",
       "      <th>11</th>\n",
       "      <td>rehab</td>\n",
       "      <td>15</td>\n",
       "      <td>0.031703</td>\n",
       "      <td>32.0</td>\n",
       "      <td>0.041860</td>\n",
       "      <td>24.0</td>\n",
       "    </tr>\n",
       "    <tr>\n",
       "      <th>12</th>\n",
       "      <td>rehab</td>\n",
       "      <td>16</td>\n",
       "      <td>0.019664</td>\n",
       "      <td>51.0</td>\n",
       "      <td>0.027139</td>\n",
       "      <td>37.0</td>\n",
       "    </tr>\n",
       "  </tbody>\n",
       "</table>\n",
       "</div>"
      ],
      "text/plain": [
       "     unit  beds  prob_delay_current  1_in_n_delay_current  prob_delay_5%  \\\n",
       "0     asu     9            0.181649                   6.0       0.203707   \n",
       "1     asu    10            0.128773                   8.0       0.149243   \n",
       "2     asu    11            0.086540                  12.0       0.104845   \n",
       "3     asu    12            0.056439                  18.0       0.070083   \n",
       "4     asu    13            0.033222                  30.0       0.043671   \n",
       "5     asu    14            0.019337                  52.0       0.025647   \n",
       "6   rehab    10            0.205611                   5.0       0.227895   \n",
       "7   rehab    11            0.153553                   7.0       0.174892   \n",
       "8   rehab    12            0.110100                   9.0       0.129832   \n",
       "9   rehab    13            0.076047                  13.0       0.092773   \n",
       "10  rehab    14            0.050661                  20.0       0.064114   \n",
       "11  rehab    15            0.031703                  32.0       0.041860   \n",
       "12  rehab    16            0.019664                  51.0       0.027139   \n",
       "\n",
       "    1_in_n_delay_5%  \n",
       "0               5.0  \n",
       "1               7.0  \n",
       "2              10.0  \n",
       "3              14.0  \n",
       "4              23.0  \n",
       "5              39.0  \n",
       "6               4.0  \n",
       "7               6.0  \n",
       "8               8.0  \n",
       "9              11.0  \n",
       "10             16.0  \n",
       "11             24.0  \n",
       "12             37.0  "
      ]
     },
     "metadata": {},
     "output_type": "display_data"
    }
   ],
   "source": [
    "full_tab2 = make_delay_table(\n",
    "    scenario=s1_overall, scenario_name=\"5%\", base=base_overall,\n",
    "    base_name=\"current\", asu_beds=list(range(9,15)),\n",
    "    rehab_beds=list(range(10,17)))\n",
    "display(full_tab2)"
   ]
  },
  {
   "cell_type": "markdown",
   "metadata": {},
   "source": [
    "These are some adjustments to how table is presented in article...\n",
    "\n",
    "(hiding / dropping some results)\n",
    "\n",
    "The 1 in n delay columns are **rounded to the nearest whole number**, but python doesn't allow NaN or Inf in an int column, so they provided as floats."
   ]
  },
  {
   "cell_type": "code",
   "execution_count": 13,
   "metadata": {},
   "outputs": [
    {
     "data": {
      "text/html": [
       "<div>\n",
       "<style scoped>\n",
       "    .dataframe tbody tr th:only-of-type {\n",
       "        vertical-align: middle;\n",
       "    }\n",
       "\n",
       "    .dataframe tbody tr th {\n",
       "        vertical-align: top;\n",
       "    }\n",
       "\n",
       "    .dataframe thead th {\n",
       "        text-align: right;\n",
       "    }\n",
       "</style>\n",
       "<table border=\"1\" class=\"dataframe\">\n",
       "  <thead>\n",
       "    <tr style=\"text-align: right;\">\n",
       "      <th></th>\n",
       "      <th>unit</th>\n",
       "      <th>beds</th>\n",
       "      <th>prob_delay_current</th>\n",
       "      <th>1_in_n_delay_current</th>\n",
       "      <th>prob_delay_5%</th>\n",
       "      <th>1_in_n_delay_5%</th>\n",
       "    </tr>\n",
       "  </thead>\n",
       "  <tbody>\n",
       "    <tr>\n",
       "      <th>0</th>\n",
       "      <td>asu</td>\n",
       "      <td>9</td>\n",
       "      <td>0.18</td>\n",
       "      <td>6.0</td>\n",
       "      <td>NaN</td>\n",
       "      <td>NaN</td>\n",
       "    </tr>\n",
       "    <tr>\n",
       "      <th>1</th>\n",
       "      <td>asu</td>\n",
       "      <td>10</td>\n",
       "      <td>0.13</td>\n",
       "      <td>8.0</td>\n",
       "      <td>0.15</td>\n",
       "      <td>7.0</td>\n",
       "    </tr>\n",
       "    <tr>\n",
       "      <th>2</th>\n",
       "      <td>asu</td>\n",
       "      <td>11</td>\n",
       "      <td>0.09</td>\n",
       "      <td>12.0</td>\n",
       "      <td>0.10</td>\n",
       "      <td>10.0</td>\n",
       "    </tr>\n",
       "    <tr>\n",
       "      <th>3</th>\n",
       "      <td>asu</td>\n",
       "      <td>12</td>\n",
       "      <td>0.06</td>\n",
       "      <td>18.0</td>\n",
       "      <td>0.07</td>\n",
       "      <td>14.0</td>\n",
       "    </tr>\n",
       "    <tr>\n",
       "      <th>4</th>\n",
       "      <td>asu</td>\n",
       "      <td>13</td>\n",
       "      <td>0.03</td>\n",
       "      <td>30.0</td>\n",
       "      <td>0.04</td>\n",
       "      <td>23.0</td>\n",
       "    </tr>\n",
       "    <tr>\n",
       "      <th>5</th>\n",
       "      <td>asu</td>\n",
       "      <td>14</td>\n",
       "      <td>0.02</td>\n",
       "      <td>52.0</td>\n",
       "      <td>0.03</td>\n",
       "      <td>39.0</td>\n",
       "    </tr>\n",
       "    <tr>\n",
       "      <th>6</th>\n",
       "      <td>rehab</td>\n",
       "      <td>10</td>\n",
       "      <td>0.21</td>\n",
       "      <td>5.0</td>\n",
       "      <td>NaN</td>\n",
       "      <td>NaN</td>\n",
       "    </tr>\n",
       "    <tr>\n",
       "      <th>8</th>\n",
       "      <td>rehab</td>\n",
       "      <td>12</td>\n",
       "      <td>0.11</td>\n",
       "      <td>9.0</td>\n",
       "      <td>0.13</td>\n",
       "      <td>8.0</td>\n",
       "    </tr>\n",
       "    <tr>\n",
       "      <th>9</th>\n",
       "      <td>rehab</td>\n",
       "      <td>13</td>\n",
       "      <td>0.08</td>\n",
       "      <td>13.0</td>\n",
       "      <td>0.09</td>\n",
       "      <td>11.0</td>\n",
       "    </tr>\n",
       "    <tr>\n",
       "      <th>10</th>\n",
       "      <td>rehab</td>\n",
       "      <td>14</td>\n",
       "      <td>0.05</td>\n",
       "      <td>20.0</td>\n",
       "      <td>0.06</td>\n",
       "      <td>16.0</td>\n",
       "    </tr>\n",
       "    <tr>\n",
       "      <th>11</th>\n",
       "      <td>rehab</td>\n",
       "      <td>15</td>\n",
       "      <td>0.03</td>\n",
       "      <td>32.0</td>\n",
       "      <td>0.04</td>\n",
       "      <td>24.0</td>\n",
       "    </tr>\n",
       "    <tr>\n",
       "      <th>12</th>\n",
       "      <td>rehab</td>\n",
       "      <td>16</td>\n",
       "      <td>0.02</td>\n",
       "      <td>51.0</td>\n",
       "      <td>0.03</td>\n",
       "      <td>37.0</td>\n",
       "    </tr>\n",
       "  </tbody>\n",
       "</table>\n",
       "</div>"
      ],
      "text/plain": [
       "     unit  beds  prob_delay_current  1_in_n_delay_current  prob_delay_5%  \\\n",
       "0     asu     9                0.18                   6.0            NaN   \n",
       "1     asu    10                0.13                   8.0           0.15   \n",
       "2     asu    11                0.09                  12.0           0.10   \n",
       "3     asu    12                0.06                  18.0           0.07   \n",
       "4     asu    13                0.03                  30.0           0.04   \n",
       "5     asu    14                0.02                  52.0           0.03   \n",
       "6   rehab    10                0.21                   5.0            NaN   \n",
       "8   rehab    12                0.11                   9.0           0.13   \n",
       "9   rehab    13                0.08                  13.0           0.09   \n",
       "10  rehab    14                0.05                  20.0           0.06   \n",
       "11  rehab    15                0.03                  32.0           0.04   \n",
       "12  rehab    16                0.02                  51.0           0.03   \n",
       "\n",
       "    1_in_n_delay_5%  \n",
       "0               NaN  \n",
       "1               7.0  \n",
       "2              10.0  \n",
       "3              14.0  \n",
       "4              23.0  \n",
       "5              39.0  \n",
       "6               NaN  \n",
       "8               8.0  \n",
       "9              11.0  \n",
       "10             16.0  \n",
       "11             24.0  \n",
       "12             37.0  "
      ]
     },
     "metadata": {},
     "output_type": "display_data"
    }
   ],
   "source": [
    "adj_full_tab_2 = full_tab2.copy()\n",
    "\n",
    "# Round probability of delay to 2 d.p.\n",
    "adj_full_tab_2[\"prob_delay_current\"] = round(\n",
    "    adj_full_tab_2[\"prob_delay_current\"], 2)\n",
    "adj_full_tab_2[\"prob_delay_5%\"] = round(\n",
    "    adj_full_tab_2[\"prob_delay_5%\"], 2)\n",
    "\n",
    "# Drop the result for ASU beds 9 and rehab beds 10 for the scenario\n",
    "adj_full_tab_2.loc[(adj_full_tab_2[\"unit\"] == \"asu\") &\n",
    "                   (adj_full_tab_2[\"beds\"] == 9),\n",
    "                   [\"prob_delay_5%\", \"1_in_n_delay_5%\"]] = None\n",
    "adj_full_tab_2.loc[(adj_full_tab_2[\"unit\"] == \"rehab\") &\n",
    "                   (adj_full_tab_2[\"beds\"] == 10),\n",
    "                   [\"prob_delay_5%\", \"1_in_n_delay_5%\"]] = None\n",
    "\n",
    "# Drop the result for rehab 11 beds\n",
    "adj_full_tab_2 = adj_full_tab_2[\n",
    "    ~((adj_full_tab_2[\"unit\"] == \"rehab\") & (adj_full_tab_2[\"beds\"] == 11))]\n",
    "\n",
    "# Display and save to csv\n",
    "display(adj_full_tab_2)\n",
    "adj_full_tab_2.to_csv(\n",
    "    os.path.join(OUTPUT_DIR, \"table2.csv\"), index=False)"
   ]
  },
  {
   "cell_type": "markdown",
   "metadata": {},
   "source": [
    "### Scenario 4\n",
    "\n",
    "**No complex-neurological cases.** Complex neurological patients are excluded from the pathway in order to assess their impact on bed requirements."
   ]
  },
  {
   "cell_type": "code",
   "execution_count": 14,
   "metadata": {},
   "outputs": [],
   "source": [
    "# Set IAT very high, essentially meaning that we have no neuro arrivals\n",
    "s4_param = Param(\n",
    "    asu_arrivals=ASUArrivals(neuro = 10_000_000_000),\n",
    "    rehab_arrivals=RehabArrivals(neuro=10_000_000_000),\n",
    "    cores=9\n",
    ")"
   ]
  },
  {
   "cell_type": "code",
   "execution_count": 15,
   "metadata": {},
   "outputs": [],
   "source": [
    "# Run the model for 150 replications\n",
    "s4_runner = Runner(param=s4_param)\n",
    "s4_reps, s4_overall, s4_audit = s4_runner.run_reps()"
   ]
  },
  {
   "cell_type": "markdown",
   "metadata": {},
   "source": [
    "### Supplementary table 1\n",
    "\n",
    "**Supplementary Table 1.** Likelihood of delay. Current admissions versus No Complex neurological patients."
   ]
  },
  {
   "cell_type": "code",
   "execution_count": 16,
   "metadata": {},
   "outputs": [
    {
     "data": {
      "text/html": [
       "<div>\n",
       "<style scoped>\n",
       "    .dataframe tbody tr th:only-of-type {\n",
       "        vertical-align: middle;\n",
       "    }\n",
       "\n",
       "    .dataframe tbody tr th {\n",
       "        vertical-align: top;\n",
       "    }\n",
       "\n",
       "    .dataframe thead th {\n",
       "        text-align: right;\n",
       "    }\n",
       "</style>\n",
       "<table border=\"1\" class=\"dataframe\">\n",
       "  <thead>\n",
       "    <tr style=\"text-align: right;\">\n",
       "      <th></th>\n",
       "      <th>unit</th>\n",
       "      <th>beds</th>\n",
       "      <th>prob_delay_current</th>\n",
       "      <th>1_in_n_delay_current</th>\n",
       "      <th>prob_delay_no_complex_neuro</th>\n",
       "      <th>1_in_n_delay_no_complex_neuro</th>\n",
       "    </tr>\n",
       "  </thead>\n",
       "  <tbody>\n",
       "    <tr>\n",
       "      <th>0</th>\n",
       "      <td>asu</td>\n",
       "      <td>10</td>\n",
       "      <td>0.13</td>\n",
       "      <td>8.0</td>\n",
       "      <td>0.08</td>\n",
       "      <td>12.0</td>\n",
       "    </tr>\n",
       "    <tr>\n",
       "      <th>1</th>\n",
       "      <td>asu</td>\n",
       "      <td>11</td>\n",
       "      <td>0.09</td>\n",
       "      <td>12.0</td>\n",
       "      <td>0.05</td>\n",
       "      <td>20.0</td>\n",
       "    </tr>\n",
       "    <tr>\n",
       "      <th>2</th>\n",
       "      <td>asu</td>\n",
       "      <td>12</td>\n",
       "      <td>0.06</td>\n",
       "      <td>18.0</td>\n",
       "      <td>0.03</td>\n",
       "      <td>36.0</td>\n",
       "    </tr>\n",
       "    <tr>\n",
       "      <th>3</th>\n",
       "      <td>asu</td>\n",
       "      <td>13</td>\n",
       "      <td>0.03</td>\n",
       "      <td>30.0</td>\n",
       "      <td>0.01</td>\n",
       "      <td>67.0</td>\n",
       "    </tr>\n",
       "    <tr>\n",
       "      <th>4</th>\n",
       "      <td>asu</td>\n",
       "      <td>14</td>\n",
       "      <td>0.02</td>\n",
       "      <td>52.0</td>\n",
       "      <td>0.01</td>\n",
       "      <td>131.0</td>\n",
       "    </tr>\n",
       "    <tr>\n",
       "      <th>5</th>\n",
       "      <td>asu</td>\n",
       "      <td>15</td>\n",
       "      <td>0.01</td>\n",
       "      <td>95.0</td>\n",
       "      <td>0.00</td>\n",
       "      <td>277.0</td>\n",
       "    </tr>\n",
       "    <tr>\n",
       "      <th>6</th>\n",
       "      <td>rehab</td>\n",
       "      <td>12</td>\n",
       "      <td>0.11</td>\n",
       "      <td>9.0</td>\n",
       "      <td>0.05</td>\n",
       "      <td>19.0</td>\n",
       "    </tr>\n",
       "    <tr>\n",
       "      <th>7</th>\n",
       "      <td>rehab</td>\n",
       "      <td>13</td>\n",
       "      <td>0.08</td>\n",
       "      <td>13.0</td>\n",
       "      <td>0.03</td>\n",
       "      <td>32.0</td>\n",
       "    </tr>\n",
       "    <tr>\n",
       "      <th>8</th>\n",
       "      <td>rehab</td>\n",
       "      <td>14</td>\n",
       "      <td>0.05</td>\n",
       "      <td>20.0</td>\n",
       "      <td>0.02</td>\n",
       "      <td>57.0</td>\n",
       "    </tr>\n",
       "    <tr>\n",
       "      <th>9</th>\n",
       "      <td>rehab</td>\n",
       "      <td>15</td>\n",
       "      <td>0.03</td>\n",
       "      <td>32.0</td>\n",
       "      <td>0.01</td>\n",
       "      <td>110.0</td>\n",
       "    </tr>\n",
       "    <tr>\n",
       "      <th>10</th>\n",
       "      <td>rehab</td>\n",
       "      <td>16</td>\n",
       "      <td>0.02</td>\n",
       "      <td>51.0</td>\n",
       "      <td>0.00</td>\n",
       "      <td>205.0</td>\n",
       "    </tr>\n",
       "  </tbody>\n",
       "</table>\n",
       "</div>"
      ],
      "text/plain": [
       "     unit  beds  prob_delay_current  1_in_n_delay_current  \\\n",
       "0     asu    10                0.13                   8.0   \n",
       "1     asu    11                0.09                  12.0   \n",
       "2     asu    12                0.06                  18.0   \n",
       "3     asu    13                0.03                  30.0   \n",
       "4     asu    14                0.02                  52.0   \n",
       "5     asu    15                0.01                  95.0   \n",
       "6   rehab    12                0.11                   9.0   \n",
       "7   rehab    13                0.08                  13.0   \n",
       "8   rehab    14                0.05                  20.0   \n",
       "9   rehab    15                0.03                  32.0   \n",
       "10  rehab    16                0.02                  51.0   \n",
       "\n",
       "    prob_delay_no_complex_neuro  1_in_n_delay_no_complex_neuro  \n",
       "0                          0.08                           12.0  \n",
       "1                          0.05                           20.0  \n",
       "2                          0.03                           36.0  \n",
       "3                          0.01                           67.0  \n",
       "4                          0.01                          131.0  \n",
       "5                          0.00                          277.0  \n",
       "6                          0.05                           19.0  \n",
       "7                          0.03                           32.0  \n",
       "8                          0.02                           57.0  \n",
       "9                          0.01                          110.0  \n",
       "10                         0.00                          205.0  "
      ]
     },
     "metadata": {},
     "output_type": "display_data"
    }
   ],
   "source": [
    "# Make table\n",
    "sup_tab1 = make_delay_table(scenario=s4_overall,\n",
    "                            scenario_name=\"no_complex_neuro\",\n",
    "                            base=base_overall,\n",
    "                            base_name=\"current\",\n",
    "                            asu_beds=list(range(10,16)),\n",
    "                            rehab_beds=list(range(12,17)))\n",
    "\n",
    "# Round the probability of delay to 2 d.p.\n",
    "sup_tab1[\"prob_delay_current\"] = round(sup_tab1[\"prob_delay_current\"], 2)\n",
    "sup_tab1[\"prob_delay_no_complex_neuro\"] = round(\n",
    "    sup_tab1[\"prob_delay_no_complex_neuro\"], 2)\n",
    "\n",
    "# Display and save to csv\n",
    "display(sup_tab1)\n",
    "sup_tab1.to_csv(os.path.join(OUTPUT_DIR, \"suptable1.csv\"), index=False)"
   ]
  },
  {
   "cell_type": "markdown",
   "metadata": {},
   "source": [
    "## Scenario analysis: pooling beds\n",
    "\n",
    "### Scenario 2\n",
    "\n",
    "Scenario 2: **Pooling of acute and rehab beds.** The acute and rehab wards are co-located at same site. Beds are pooled and can be used by either acute or rehabilitation patients. Pooling of the total bed stock of 22 is compared to the pooling of an increased bed stock of 26."
   ]
  },
  {
   "cell_type": "code",
   "execution_count": 17,
   "metadata": {},
   "outputs": [
    {
     "data": {
      "text/html": [
       "<div>\n",
       "<style scoped>\n",
       "    .dataframe tbody tr th:only-of-type {\n",
       "        vertical-align: middle;\n",
       "    }\n",
       "\n",
       "    .dataframe tbody tr th {\n",
       "        vertical-align: top;\n",
       "    }\n",
       "\n",
       "    .dataframe thead th {\n",
       "        text-align: right;\n",
       "    }\n",
       "</style>\n",
       "<table border=\"1\" class=\"dataframe\">\n",
       "  <thead>\n",
       "    <tr style=\"text-align: right;\">\n",
       "      <th></th>\n",
       "      <th>beds</th>\n",
       "      <th>freq</th>\n",
       "      <th>pct</th>\n",
       "      <th>c_pct</th>\n",
       "      <th>prob_delay</th>\n",
       "      <th>1_in_n_delay</th>\n",
       "    </tr>\n",
       "  </thead>\n",
       "  <tbody>\n",
       "    <tr>\n",
       "      <th>0</th>\n",
       "      <td>3</td>\n",
       "      <td>3</td>\n",
       "      <td>0.000011</td>\n",
       "      <td>0.000011</td>\n",
       "      <td>1.000000</td>\n",
       "      <td>1.0</td>\n",
       "    </tr>\n",
       "    <tr>\n",
       "      <th>1</th>\n",
       "      <td>4</td>\n",
       "      <td>14</td>\n",
       "      <td>0.000051</td>\n",
       "      <td>0.000062</td>\n",
       "      <td>0.823529</td>\n",
       "      <td>1.0</td>\n",
       "    </tr>\n",
       "    <tr>\n",
       "      <th>2</th>\n",
       "      <td>5</td>\n",
       "      <td>51</td>\n",
       "      <td>0.000186</td>\n",
       "      <td>0.000248</td>\n",
       "      <td>0.750000</td>\n",
       "      <td>1.0</td>\n",
       "    </tr>\n",
       "    <tr>\n",
       "      <th>3</th>\n",
       "      <td>6</td>\n",
       "      <td>189</td>\n",
       "      <td>0.000690</td>\n",
       "      <td>0.000939</td>\n",
       "      <td>0.735409</td>\n",
       "      <td>1.0</td>\n",
       "    </tr>\n",
       "    <tr>\n",
       "      <th>4</th>\n",
       "      <td>7</td>\n",
       "      <td>466</td>\n",
       "      <td>0.001702</td>\n",
       "      <td>0.002641</td>\n",
       "      <td>0.644537</td>\n",
       "      <td>2.0</td>\n",
       "    </tr>\n",
       "    <tr>\n",
       "      <th>5</th>\n",
       "      <td>8</td>\n",
       "      <td>1178</td>\n",
       "      <td>0.004303</td>\n",
       "      <td>0.006944</td>\n",
       "      <td>0.619674</td>\n",
       "      <td>2.0</td>\n",
       "    </tr>\n",
       "    <tr>\n",
       "      <th>6</th>\n",
       "      <td>9</td>\n",
       "      <td>2324</td>\n",
       "      <td>0.008489</td>\n",
       "      <td>0.015434</td>\n",
       "      <td>0.550059</td>\n",
       "      <td>2.0</td>\n",
       "    </tr>\n",
       "    <tr>\n",
       "      <th>7</th>\n",
       "      <td>10</td>\n",
       "      <td>4106</td>\n",
       "      <td>0.014999</td>\n",
       "      <td>0.030433</td>\n",
       "      <td>0.492858</td>\n",
       "      <td>2.0</td>\n",
       "    </tr>\n",
       "    <tr>\n",
       "      <th>8</th>\n",
       "      <td>11</td>\n",
       "      <td>6748</td>\n",
       "      <td>0.024650</td>\n",
       "      <td>0.055083</td>\n",
       "      <td>0.447510</td>\n",
       "      <td>2.0</td>\n",
       "    </tr>\n",
       "    <tr>\n",
       "      <th>9</th>\n",
       "      <td>12</td>\n",
       "      <td>10234</td>\n",
       "      <td>0.037384</td>\n",
       "      <td>0.092468</td>\n",
       "      <td>0.404298</td>\n",
       "      <td>2.0</td>\n",
       "    </tr>\n",
       "    <tr>\n",
       "      <th>10</th>\n",
       "      <td>13</td>\n",
       "      <td>14118</td>\n",
       "      <td>0.051573</td>\n",
       "      <td>0.144040</td>\n",
       "      <td>0.358043</td>\n",
       "      <td>3.0</td>\n",
       "    </tr>\n",
       "    <tr>\n",
       "      <th>11</th>\n",
       "      <td>14</td>\n",
       "      <td>18167</td>\n",
       "      <td>0.066363</td>\n",
       "      <td>0.210404</td>\n",
       "      <td>0.315410</td>\n",
       "      <td>3.0</td>\n",
       "    </tr>\n",
       "    <tr>\n",
       "      <th>12</th>\n",
       "      <td>15</td>\n",
       "      <td>21953</td>\n",
       "      <td>0.080194</td>\n",
       "      <td>0.290597</td>\n",
       "      <td>0.275961</td>\n",
       "      <td>4.0</td>\n",
       "    </tr>\n",
       "    <tr>\n",
       "      <th>13</th>\n",
       "      <td>16</td>\n",
       "      <td>24390</td>\n",
       "      <td>0.089096</td>\n",
       "      <td>0.379693</td>\n",
       "      <td>0.234652</td>\n",
       "      <td>4.0</td>\n",
       "    </tr>\n",
       "    <tr>\n",
       "      <th>14</th>\n",
       "      <td>17</td>\n",
       "      <td>25947</td>\n",
       "      <td>0.094784</td>\n",
       "      <td>0.474477</td>\n",
       "      <td>0.199764</td>\n",
       "      <td>5.0</td>\n",
       "    </tr>\n",
       "    <tr>\n",
       "      <th>15</th>\n",
       "      <td>18</td>\n",
       "      <td>25819</td>\n",
       "      <td>0.094316</td>\n",
       "      <td>0.568793</td>\n",
       "      <td>0.165818</td>\n",
       "      <td>6.0</td>\n",
       "    </tr>\n",
       "    <tr>\n",
       "      <th>16</th>\n",
       "      <td>19</td>\n",
       "      <td>24330</td>\n",
       "      <td>0.088877</td>\n",
       "      <td>0.657669</td>\n",
       "      <td>0.135139</td>\n",
       "      <td>7.0</td>\n",
       "    </tr>\n",
       "    <tr>\n",
       "      <th>17</th>\n",
       "      <td>20</td>\n",
       "      <td>21824</td>\n",
       "      <td>0.079722</td>\n",
       "      <td>0.737392</td>\n",
       "      <td>0.108114</td>\n",
       "      <td>9.0</td>\n",
       "    </tr>\n",
       "    <tr>\n",
       "      <th>18</th>\n",
       "      <td>21</td>\n",
       "      <td>18487</td>\n",
       "      <td>0.067532</td>\n",
       "      <td>0.804924</td>\n",
       "      <td>0.083899</td>\n",
       "      <td>12.0</td>\n",
       "    </tr>\n",
       "    <tr>\n",
       "      <th>19</th>\n",
       "      <td>22</td>\n",
       "      <td>14883</td>\n",
       "      <td>0.054367</td>\n",
       "      <td>0.859291</td>\n",
       "      <td>0.063270</td>\n",
       "      <td>16.0</td>\n",
       "    </tr>\n",
       "    <tr>\n",
       "      <th>20</th>\n",
       "      <td>23</td>\n",
       "      <td>11619</td>\n",
       "      <td>0.042444</td>\n",
       "      <td>0.901735</td>\n",
       "      <td>0.047069</td>\n",
       "      <td>21.0</td>\n",
       "    </tr>\n",
       "    <tr>\n",
       "      <th>21</th>\n",
       "      <td>24</td>\n",
       "      <td>8578</td>\n",
       "      <td>0.031335</td>\n",
       "      <td>0.933070</td>\n",
       "      <td>0.033583</td>\n",
       "      <td>30.0</td>\n",
       "    </tr>\n",
       "    <tr>\n",
       "      <th>22</th>\n",
       "      <td>25</td>\n",
       "      <td>6290</td>\n",
       "      <td>0.022977</td>\n",
       "      <td>0.956047</td>\n",
       "      <td>0.024034</td>\n",
       "      <td>42.0</td>\n",
       "    </tr>\n",
       "    <tr>\n",
       "      <th>23</th>\n",
       "      <td>26</td>\n",
       "      <td>4367</td>\n",
       "      <td>0.015953</td>\n",
       "      <td>0.972000</td>\n",
       "      <td>0.016412</td>\n",
       "      <td>61.0</td>\n",
       "    </tr>\n",
       "    <tr>\n",
       "      <th>24</th>\n",
       "      <td>27</td>\n",
       "      <td>2797</td>\n",
       "      <td>0.010217</td>\n",
       "      <td>0.982217</td>\n",
       "      <td>0.010402</td>\n",
       "      <td>96.0</td>\n",
       "    </tr>\n",
       "    <tr>\n",
       "      <th>25</th>\n",
       "      <td>28</td>\n",
       "      <td>1919</td>\n",
       "      <td>0.007010</td>\n",
       "      <td>0.989227</td>\n",
       "      <td>0.007086</td>\n",
       "      <td>141.0</td>\n",
       "    </tr>\n",
       "    <tr>\n",
       "      <th>26</th>\n",
       "      <td>29</td>\n",
       "      <td>1275</td>\n",
       "      <td>0.004658</td>\n",
       "      <td>0.993885</td>\n",
       "      <td>0.004686</td>\n",
       "      <td>213.0</td>\n",
       "    </tr>\n",
       "    <tr>\n",
       "      <th>27</th>\n",
       "      <td>30</td>\n",
       "      <td>724</td>\n",
       "      <td>0.002645</td>\n",
       "      <td>0.996530</td>\n",
       "      <td>0.002654</td>\n",
       "      <td>377.0</td>\n",
       "    </tr>\n",
       "    <tr>\n",
       "      <th>28</th>\n",
       "      <td>31</td>\n",
       "      <td>435</td>\n",
       "      <td>0.001589</td>\n",
       "      <td>0.998119</td>\n",
       "      <td>0.001592</td>\n",
       "      <td>628.0</td>\n",
       "    </tr>\n",
       "    <tr>\n",
       "      <th>29</th>\n",
       "      <td>32</td>\n",
       "      <td>252</td>\n",
       "      <td>0.000921</td>\n",
       "      <td>0.999039</td>\n",
       "      <td>0.000921</td>\n",
       "      <td>1085.0</td>\n",
       "    </tr>\n",
       "    <tr>\n",
       "      <th>30</th>\n",
       "      <td>33</td>\n",
       "      <td>121</td>\n",
       "      <td>0.000442</td>\n",
       "      <td>0.999481</td>\n",
       "      <td>0.000442</td>\n",
       "      <td>2261.0</td>\n",
       "    </tr>\n",
       "    <tr>\n",
       "      <th>31</th>\n",
       "      <td>34</td>\n",
       "      <td>68</td>\n",
       "      <td>0.000248</td>\n",
       "      <td>0.999730</td>\n",
       "      <td>0.000248</td>\n",
       "      <td>4025.0</td>\n",
       "    </tr>\n",
       "    <tr>\n",
       "      <th>32</th>\n",
       "      <td>35</td>\n",
       "      <td>38</td>\n",
       "      <td>0.000139</td>\n",
       "      <td>0.999868</td>\n",
       "      <td>0.000139</td>\n",
       "      <td>7203.0</td>\n",
       "    </tr>\n",
       "    <tr>\n",
       "      <th>33</th>\n",
       "      <td>36</td>\n",
       "      <td>16</td>\n",
       "      <td>0.000058</td>\n",
       "      <td>0.999927</td>\n",
       "      <td>0.000058</td>\n",
       "      <td>17108.0</td>\n",
       "    </tr>\n",
       "    <tr>\n",
       "      <th>34</th>\n",
       "      <td>37</td>\n",
       "      <td>8</td>\n",
       "      <td>0.000029</td>\n",
       "      <td>0.999956</td>\n",
       "      <td>0.000029</td>\n",
       "      <td>34217.0</td>\n",
       "    </tr>\n",
       "    <tr>\n",
       "      <th>35</th>\n",
       "      <td>38</td>\n",
       "      <td>6</td>\n",
       "      <td>0.000022</td>\n",
       "      <td>0.999978</td>\n",
       "      <td>0.000022</td>\n",
       "      <td>45624.0</td>\n",
       "    </tr>\n",
       "    <tr>\n",
       "      <th>36</th>\n",
       "      <td>39</td>\n",
       "      <td>4</td>\n",
       "      <td>0.000015</td>\n",
       "      <td>0.999993</td>\n",
       "      <td>0.000015</td>\n",
       "      <td>68437.0</td>\n",
       "    </tr>\n",
       "    <tr>\n",
       "      <th>37</th>\n",
       "      <td>40</td>\n",
       "      <td>2</td>\n",
       "      <td>0.000007</td>\n",
       "      <td>1.000000</td>\n",
       "      <td>0.000007</td>\n",
       "      <td>136875.0</td>\n",
       "    </tr>\n",
       "  </tbody>\n",
       "</table>\n",
       "</div>"
      ],
      "text/plain": [
       "    beds   freq       pct     c_pct  prob_delay  1_in_n_delay\n",
       "0      3      3  0.000011  0.000011    1.000000           1.0\n",
       "1      4     14  0.000051  0.000062    0.823529           1.0\n",
       "2      5     51  0.000186  0.000248    0.750000           1.0\n",
       "3      6    189  0.000690  0.000939    0.735409           1.0\n",
       "4      7    466  0.001702  0.002641    0.644537           2.0\n",
       "5      8   1178  0.004303  0.006944    0.619674           2.0\n",
       "6      9   2324  0.008489  0.015434    0.550059           2.0\n",
       "7     10   4106  0.014999  0.030433    0.492858           2.0\n",
       "8     11   6748  0.024650  0.055083    0.447510           2.0\n",
       "9     12  10234  0.037384  0.092468    0.404298           2.0\n",
       "10    13  14118  0.051573  0.144040    0.358043           3.0\n",
       "11    14  18167  0.066363  0.210404    0.315410           3.0\n",
       "12    15  21953  0.080194  0.290597    0.275961           4.0\n",
       "13    16  24390  0.089096  0.379693    0.234652           4.0\n",
       "14    17  25947  0.094784  0.474477    0.199764           5.0\n",
       "15    18  25819  0.094316  0.568793    0.165818           6.0\n",
       "16    19  24330  0.088877  0.657669    0.135139           7.0\n",
       "17    20  21824  0.079722  0.737392    0.108114           9.0\n",
       "18    21  18487  0.067532  0.804924    0.083899          12.0\n",
       "19    22  14883  0.054367  0.859291    0.063270          16.0\n",
       "20    23  11619  0.042444  0.901735    0.047069          21.0\n",
       "21    24   8578  0.031335  0.933070    0.033583          30.0\n",
       "22    25   6290  0.022977  0.956047    0.024034          42.0\n",
       "23    26   4367  0.015953  0.972000    0.016412          61.0\n",
       "24    27   2797  0.010217  0.982217    0.010402          96.0\n",
       "25    28   1919  0.007010  0.989227    0.007086         141.0\n",
       "26    29   1275  0.004658  0.993885    0.004686         213.0\n",
       "27    30    724  0.002645  0.996530    0.002654         377.0\n",
       "28    31    435  0.001589  0.998119    0.001592         628.0\n",
       "29    32    252  0.000921  0.999039    0.000921        1085.0\n",
       "30    33    121  0.000442  0.999481    0.000442        2261.0\n",
       "31    34     68  0.000248  0.999730    0.000248        4025.0\n",
       "32    35     38  0.000139  0.999868    0.000139        7203.0\n",
       "33    36     16  0.000058  0.999927    0.000058       17108.0\n",
       "34    37      8  0.000029  0.999956    0.000029       34217.0\n",
       "35    38      6  0.000022  0.999978    0.000022       45624.0\n",
       "36    39      4  0.000015  0.999993    0.000015       68437.0\n",
       "37    40      2  0.000007  1.000000    0.000007      136875.0"
      ]
     },
     "metadata": {},
     "output_type": "display_data"
    }
   ],
   "source": [
    "# Calculate the combined occupancy from each timepoint in the audit\n",
    "combined_audit = [\n",
    "    {\"pooled_occupancy\": b[\"asu_occupancy\"] + b[\"rehab_occupancy\"]}\n",
    "    for b in base_audit\n",
    "]\n",
    "\n",
    "# Hijack the get_occupancy_freq() method from runner to calculate stats\n",
    "pooled_results = base_runner.get_occupancy_freq(combined_audit, unit=\"pooled\")\n",
    "display(pooled_results)"
   ]
  },
  {
   "cell_type": "markdown",
   "metadata": {},
   "source": [
    "Get probability of delay and 1 in every n patients delayed from 22 and 26 pooled beds, to use in Table 3 below."
   ]
  },
  {
   "cell_type": "code",
   "execution_count": 18,
   "metadata": {},
   "outputs": [
    {
     "name": "stdout",
     "output_type": "stream",
     "text": [
      "0.06326972210295412 16.0\n"
     ]
    }
   ],
   "source": [
    "pdelay_pooling_22 = pooled_results[\n",
    "    pooled_results[\"beds\"] == 22][\"prob_delay\"].item()\n",
    "npatients_pooling_22 = pooled_results[\n",
    "    pooled_results[\"beds\"] == 22][\"1_in_n_delay\"].item()\n",
    "print(pdelay_pooling_22, npatients_pooling_22)"
   ]
  },
  {
   "cell_type": "code",
   "execution_count": 19,
   "metadata": {},
   "outputs": [
    {
     "name": "stdout",
     "output_type": "stream",
     "text": [
      "0.01641204878140444 61.0\n"
     ]
    }
   ],
   "source": [
    "pdelay_pooling_26 = pooled_results[\n",
    "    pooled_results[\"beds\"] == 26][\"prob_delay\"].item()\n",
    "npatients_pooling_26 = pooled_results[\n",
    "    pooled_results[\"beds\"] == 26][\"1_in_n_delay\"].item()\n",
    "print(pdelay_pooling_26, npatients_pooling_26)"
   ]
  },
  {
   "cell_type": "markdown",
   "metadata": {},
   "source": [
    "### Scenario 3\n",
    "\n",
    "Scenario 3: **Partial pooling of acute and rehab beds.** The acute and rehab wards are co-located at same site. A subset of the 26 beds are pooled and can be used by either acute or rehab patients."
   ]
  },
  {
   "cell_type": "code",
   "execution_count": 20,
   "metadata": {},
   "outputs": [],
   "source": [
    "class PooledDelay:\n",
    "    \"\"\"\n",
    "    Class to calculate probability of delays in scenarios with partial pooling\n",
    "    of acute and rehab beds.\n",
    "\n",
    "    Attributes\n",
    "    ----------\n",
    "    asu : pd.Series\n",
    "        Frequency distribution of ASU bed occupancies.\n",
    "    rehab : pd.Series\n",
    "        Frequency distribution of rehab bed occupancies.\n",
    "    asu_beds : int or float\n",
    "        Number of dedicated ASU beds (excluding pooled beds).\n",
    "    rehab_beds : int or float\n",
    "        Number of dedicated rehab beds (excluding pooled beds).\n",
    "    pooled_beds : int or float\n",
    "        Number of beds that can be used by either unit.\n",
    "    \"\"\"\n",
    "    def __init__(self, base_results):\n",
    "        \"\"\"\n",
    "        Initialise the PooledDelay object with base simulation results.\n",
    "\n",
    "        Parameters\n",
    "        ----------\n",
    "        base_results: dict\n",
    "            Dictionary containing two dataframes: \"asu\" and \"rehab\". These\n",
    "            contain the overall results from the base run of the simulation.\n",
    "        \"\"\"\n",
    "        # Extract the ASU and rehab frequencies\n",
    "        self.asu = base_results[\"asu\"].set_index(\"beds\")[\"freq\"]\n",
    "        self.rehab = base_results[\"rehab\"].set_index(\"beds\")[\"freq\"]\n",
    "\n",
    "        # To store the bed counts\n",
    "        self.asu_beds = np.nan\n",
    "        self.rehab_beds = np.nan\n",
    "        self.pooled_beds = np.nan\n",
    "\n",
    "    def prob_occupancy(self, occ_freq, threshold, comparison):\n",
    "        \"\"\"\n",
    "        Calculate the probability of an occupancy based on the specified\n",
    "        comparison with a threshold value, using observed frequencies of\n",
    "        different occupancies.\n",
    "\n",
    "        Parameters\n",
    "        ----------\n",
    "        occ_freq : pd.Series\n",
    "            Frequencies of each number of beds, with the index representing the\n",
    "            occupancy.\n",
    "        threshold : int\n",
    "            The threshold number of beds for comparison.\n",
    "        comparison : str\n",
    "            The type of comparison to perform. Options are: \"ge\" (greater than\n",
    "            or equal to, >=), \"eq\" (equal to, =), or \"lt\" (less than, <).\n",
    "\n",
    "        Returns\n",
    "        -------\n",
    "        float\n",
    "            Probability that the occupancy meets the specified comparison\n",
    "            condition.\n",
    "        \"\"\"\n",
    "        # Calculate total frequency\n",
    "        total_freq = occ_freq.sum()\n",
    "\n",
    "        # Calculate the frequency based on the comparison type\n",
    "        if comparison == \"ge\":\n",
    "            # Greater than or equal to\n",
    "            filtered_freq = occ_freq[occ_freq.index >= threshold].sum()\n",
    "        elif comparison == \"eq\":\n",
    "            # Equal to\n",
    "            filtered_freq = occ_freq[occ_freq.index == threshold].sum()\n",
    "        elif comparison == \"lt\":\n",
    "            # Less than\n",
    "            filtered_freq = occ_freq[occ_freq.index < threshold].sum()\n",
    "        else:\n",
    "            raise ValueError(f\"Comparison '{comparison}' not valid.\")\n",
    "\n",
    "        # Calculate and return the probability\n",
    "        return filtered_freq / total_freq\n",
    "\n",
    "    def calculate_only_unit_overflow(self, unit):\n",
    "        \"\"\"\n",
    "        Calculate the probability of only the specified unit having delays.\n",
    "\n",
    "        Parameters\n",
    "        ----------\n",
    "        unit: str\n",
    "            Name of unit to investigate (\"asu\", \"rehab\").\n",
    "\n",
    "        Returns\n",
    "        -------\n",
    "        float\n",
    "            Probability that only the specified unit has delays.\n",
    "        \"\"\"\n",
    "        # Determine name of other unit, depending on which you are focussing on\n",
    "        other_unit = \"rehab\" if unit == \"asu\" else \"asu\"\n",
    "\n",
    "        # Get the counts of available beds for focus unit and other unit\n",
    "        unit_beds = getattr(self, f\"{unit}_beds\")\n",
    "        other_beds = getattr(self, f\"{other_unit}_beds\")\n",
    "\n",
    "        # Only that unit will have delays if they >= dedicated + pooled,\n",
    "        # whilst other unit < dedicated\n",
    "        p_unit = self.prob_occupancy(\n",
    "            occ_freq=getattr(self, unit),\n",
    "            threshold=unit_beds+self.pooled_beds,\n",
    "            comparison=\"ge\"\n",
    "        )\n",
    "        p_other = self.prob_occupancy(\n",
    "            occ_freq=getattr(self, other_unit),\n",
    "            threshold=other_beds,\n",
    "            comparison=\"lt\"\n",
    "        )\n",
    "        return p_unit*p_other\n",
    "\n",
    "    def get_delay_combinations(self, unit):\n",
    "        \"\"\"\n",
    "        Generates a list of dictionaries representing combinations of patients\n",
    "        that would cause delays.\n",
    "\n",
    "        This function calculates all combinations where the number of patients\n",
    "        for a specific unit exceeds its dedicated beds but stays within the\n",
    "        maximum capacity (dedicated + pooled beds).\n",
    "\n",
    "        Parameters\n",
    "        ----------\n",
    "        unit: str\n",
    "            Name of unit to investigate (\"asu\", \"rehab\").\n",
    "\n",
    "        Returns\n",
    "        -------\n",
    "        combinations: list\n",
    "            List of dictionaries containing the asu and rehab bed counts.\n",
    "        \"\"\"\n",
    "        # Determine name of other unit, depending on which you are focussing on\n",
    "        other_unit = \"rehab\" if unit == \"asu\" else \"asu\"\n",
    "\n",
    "        # Get the counts of available beds for focus unit and other unit\n",
    "        unit_beds = getattr(self, f\"{unit}_beds\")\n",
    "        other_beds = getattr(self, f\"{other_unit}_beds\")\n",
    "\n",
    "        # Find max beds for that unit\n",
    "        max_beds = unit_beds + self.pooled_beds\n",
    "\n",
    "        # Get combinations of beds which would cause a delay\n",
    "        combinations = [{unit: i, other_unit: max_beds - i + other_beds}\n",
    "                       for i in range(unit_beds, max_beds + 1)][::-1]\n",
    "\n",
    "        return combinations\n",
    "\n",
    "    def calculate_combination_probability(self, combination):\n",
    "        \"\"\"\n",
    "        Calculate the probability of a set of combinations occurring.\n",
    "\n",
    "        Parameters\n",
    "        ----------\n",
    "        combination: dict\n",
    "            Dictionary with keys \"asu\" and \"rehab\" specifying thresholds.\n",
    "            This must be that output from get_delay_combinations(), which\n",
    "            outputs them in descending order for the unit capacity, which is\n",
    "            important, as the first we check >=, and others ==.\n",
    "\n",
    "        Returns\n",
    "        -------\n",
    "        float\n",
    "            Probability of this combination occurring.\n",
    "        \"\"\"\n",
    "        # List to store results\n",
    "        probabilities = []\n",
    "\n",
    "        # Use a counter to loop through the combinations...\n",
    "        for i, combo in enumerate(combination):\n",
    "\n",
    "            # Extract the primary unit and other unit's name and thresholds\n",
    "            unit_name, other_name = combo.keys()\n",
    "            unit_threshold, other_threshold = combo.values()\n",
    "\n",
    "            # If it's the first combination, then we check unit >= threshold\n",
    "            if i == 0:\n",
    "                p_unit = self.prob_occupancy(\n",
    "                    occ_freq=getattr(self, unit_name),\n",
    "                    threshold=unit_threshold,\n",
    "                    comparison=\"ge\")\n",
    "            # For all other items, we check unit == threshold\n",
    "            else:\n",
    "                p_unit = self.prob_occupancy(\n",
    "                    occ_freq=getattr(self, unit_name),\n",
    "                    threshold=unit_threshold,\n",
    "                    comparison=\"eq\")\n",
    "\n",
    "            # The other unit will always be checking >= threshold\n",
    "            p_other = self.prob_occupancy(\n",
    "                occ_freq=getattr(self, other_name),\n",
    "                threshold=other_threshold,\n",
    "                comparison=\"ge\")\n",
    "\n",
    "            # Multiply probabilities and add to list\n",
    "            probabilities.append(p_unit*p_other)\n",
    "\n",
    "        # Return sum of list\n",
    "        return sum(probabilities)\n",
    "\n",
    "    def calculate_delay(self, asu_beds, rehab_beds, pooled_beds):\n",
    "        \"\"\"\n",
    "        Analyse a bed pooling scenario.\n",
    "\n",
    "        Parameters\n",
    "        ----------\n",
    "        asu_beds: int\n",
    "            Number of dedicated ASU beds (excluding pooled beds).\n",
    "        rehab_beds: int\n",
    "            Number of dedicated rehabilitation beds (excluding pooled beds).\n",
    "        pooled_beds: int\n",
    "            Number of beds that can be used by either unit.\n",
    "\n",
    "        Returns\n",
    "        -------\n",
    "        pool_results: dict\n",
    "            Dictionary containing number of dedicated and pooled beds,\n",
    "            probability of delay for each unit, and 1 in n patients delayed\n",
    "            for each unit.\n",
    "        \"\"\"\n",
    "        # Get counts of dedicated and pooled beds\n",
    "        self.asu_beds = asu_beds\n",
    "        self.rehab_beds = rehab_beds\n",
    "        self.pooled_beds = pooled_beds\n",
    "\n",
    "        # Get probability of only the ASU, or only rehab, having delays\n",
    "        p_asu_only = self.calculate_only_unit_overflow(unit=\"asu\")\n",
    "        #print(f\"p_asu_only {p_asu_only}\")\n",
    "        p_rehab_only = self.calculate_only_unit_overflow(unit=\"rehab\")\n",
    "        #print(f\"p_rehab_only {p_rehab_only}\")\n",
    "\n",
    "        # Find combinations of patients that would cause delays\n",
    "        asu_comb = self.get_delay_combinations(unit=\"asu\")\n",
    "        #print(f\"asu combinations: {asu_comb}\")\n",
    "        rehab_comb = self.get_delay_combinations(unit=\"rehab\")\n",
    "        #print(f\"rehab combinations: {rehab_comb}\")\n",
    "\n",
    "        # Convert those to probabilities\n",
    "        p_asu_comb = self.calculate_combination_probability(asu_comb)\n",
    "        p_rehab_comb = self.calculate_combination_probability(rehab_comb)\n",
    "\n",
    "        # Create dictionary with the bed numbers, and the combined only +\n",
    "        # combination probabilities for each unit\n",
    "        pool_results = {\n",
    "            \"dedicated_acute\": self.asu_beds,\n",
    "            \"dedicated_rehab\": self.rehab_beds,\n",
    "            \"pooled\": self.pooled_beds,\n",
    "            \"pdelay_acute\": p_asu_only + p_asu_comb,\n",
    "            \"pdelay_rehab\": p_rehab_only + p_rehab_comb}\n",
    "\n",
    "        # Calculate 1 in every n patients delays\n",
    "        pool_results[\"1_in_n_delay_acute\"] = (\n",
    "            round(1 / pool_results[\"pdelay_acute\"]))\n",
    "        pool_results[\"1_in_n_delay_rehab\"] = (\n",
    "            round(1 / pool_results[\"pdelay_rehab\"]))\n",
    "\n",
    "        # Round the probability of delay (after calculation, so doesn't impact)\n",
    "        pool_results[\"pdelay_acute\"] = round(pool_results[\"pdelay_acute\"], 3)\n",
    "        pool_results[\"pdelay_rehab\"] = round(pool_results[\"pdelay_rehab\"], 3)\n",
    "\n",
    "        return pool_results"
   ]
  },
  {
   "cell_type": "markdown",
   "metadata": {},
   "source": [
    "Create list with the 22 + 26 pooled bed results."
   ]
  },
  {
   "cell_type": "code",
   "execution_count": 21,
   "metadata": {},
   "outputs": [],
   "source": [
    "def create_pool_result(pooled_value, pdelay_value, npatients_value):\n",
    "    \"\"\"\n",
    "    Create a dictionary representing a pool result entry.\n",
    "\n",
    "    Parameters\n",
    "    ----------\n",
    "    pooled_value : int\n",
    "        The value for the 'pooled' key.\n",
    "    pdelay_value : float or int\n",
    "        The probability of delay (for acute and rehab).\n",
    "    npatients_value : int\n",
    "        1 in every n patients delayed (for acute and rehab).\n",
    "\n",
    "    Returns\n",
    "    -------\n",
    "    dict\n",
    "        A dictionary with keys 'dedicated_acute', 'dedicated_rehab', 'pooled', \n",
    "        'pdelay_acute', and 'pdelay_rehab'.\n",
    "    \"\"\"\n",
    "    return {\n",
    "        \"dedicated_acute\": 0,\n",
    "        \"dedicated_rehab\": 0,\n",
    "        \"pooled\": pooled_value,\n",
    "        \"pdelay_acute\": pdelay_value,\n",
    "        \"pdelay_rehab\": pdelay_value,\n",
    "        \"1_in_n_delay_acute\": npatients_value,\n",
    "        \"1_in_n_delay_rehab\": npatients_value\n",
    "    }\n",
    "\n",
    "\n",
    "pool_result_list = [\n",
    "    create_pool_result(22, pdelay_pooling_22, npatients_pooling_22),\n",
    "    create_pool_result(26, pdelay_pooling_26, npatients_pooling_26)\n",
    "]"
   ]
  },
  {
   "cell_type": "markdown",
   "metadata": {},
   "source": [
    "Add result for 14 acute 12 rehab 0 pooled, as in table 2 above."
   ]
  },
  {
   "cell_type": "code",
   "execution_count": 22,
   "metadata": {},
   "outputs": [],
   "source": [
    "# Extract result for 14 acute and 12 rehab beds\n",
    "acute14 = full_tab2[(full_tab2[\"unit\"] == \"asu\") & (full_tab2[\"beds\"] == 14)]\n",
    "rehab12 = full_tab2[(full_tab2[\"unit\"] == \"rehab\") & (full_tab2[\"beds\"] == 12)]\n",
    "\n",
    "pool_result_list.append({\n",
    "    \"dedicated_acute\": 14,\n",
    "    \"dedicated_rehab\": 12,\n",
    "    \"pooled\": 0,\n",
    "    \"pdelay_acute\": acute14[\"prob_delay_current\"].item(),\n",
    "    \"pdelay_rehab\": rehab12[\"prob_delay_current\"].item(),\n",
    "    \"1_in_n_delay_acute\": acute14[\"1_in_n_delay_current\"].item(),\n",
    "    \"1_in_n_delay_rehab\":rehab12[\"1_in_n_delay_current\"].item()\n",
    "})"
   ]
  },
  {
   "cell_type": "markdown",
   "metadata": {},
   "source": [
    "Calculate results from other pooling scenarios and add to the list, then display as a dataframe."
   ]
  },
  {
   "cell_type": "code",
   "execution_count": 23,
   "metadata": {},
   "outputs": [],
   "source": [
    "# Create instance of class\n",
    "pooled_delay = PooledDelay(base_results=base_overall)\n",
    "\n",
    "# Loop through other pooling scenarios\n",
    "for beds in [(11, 11, 4), (11, 10, 5), (10, 10, 6), (10, 9, 7),\n",
    "             (9, 9, 8), (9, 8, 9)]:\n",
    "    pool_result_list.append(pooled_delay.calculate_delay(\n",
    "        asu_beds=beds[0], rehab_beds=beds[1], pooled_beds=beds[2]))"
   ]
  },
  {
   "cell_type": "markdown",
   "metadata": {},
   "source": [
    "### Table 3"
   ]
  },
  {
   "cell_type": "code",
   "execution_count": 24,
   "metadata": {},
   "outputs": [
    {
     "data": {
      "text/html": [
       "<div>\n",
       "<style scoped>\n",
       "    .dataframe tbody tr th:only-of-type {\n",
       "        vertical-align: middle;\n",
       "    }\n",
       "\n",
       "    .dataframe tbody tr th {\n",
       "        vertical-align: top;\n",
       "    }\n",
       "\n",
       "    .dataframe thead th {\n",
       "        text-align: right;\n",
       "    }\n",
       "</style>\n",
       "<table border=\"1\" class=\"dataframe\">\n",
       "  <thead>\n",
       "    <tr style=\"text-align: right;\">\n",
       "      <th></th>\n",
       "      <th>dedicated_acute</th>\n",
       "      <th>dedicated_rehab</th>\n",
       "      <th>pooled</th>\n",
       "      <th>pdelay_acute</th>\n",
       "      <th>pdelay_rehab</th>\n",
       "      <th>1_in_n_delay_acute</th>\n",
       "      <th>1_in_n_delay_rehab</th>\n",
       "    </tr>\n",
       "  </thead>\n",
       "  <tbody>\n",
       "    <tr>\n",
       "      <th>0</th>\n",
       "      <td>0</td>\n",
       "      <td>0</td>\n",
       "      <td>22</td>\n",
       "      <td>0.063</td>\n",
       "      <td>0.063</td>\n",
       "      <td>16</td>\n",
       "      <td>16</td>\n",
       "    </tr>\n",
       "    <tr>\n",
       "      <th>1</th>\n",
       "      <td>0</td>\n",
       "      <td>0</td>\n",
       "      <td>26</td>\n",
       "      <td>0.016</td>\n",
       "      <td>0.016</td>\n",
       "      <td>61</td>\n",
       "      <td>61</td>\n",
       "    </tr>\n",
       "    <tr>\n",
       "      <th>2</th>\n",
       "      <td>14</td>\n",
       "      <td>12</td>\n",
       "      <td>0</td>\n",
       "      <td>0.019</td>\n",
       "      <td>0.110</td>\n",
       "      <td>52</td>\n",
       "      <td>9</td>\n",
       "    </tr>\n",
       "    <tr>\n",
       "      <th>3</th>\n",
       "      <td>11</td>\n",
       "      <td>11</td>\n",
       "      <td>4</td>\n",
       "      <td>0.044</td>\n",
       "      <td>0.089</td>\n",
       "      <td>23</td>\n",
       "      <td>11</td>\n",
       "    </tr>\n",
       "    <tr>\n",
       "      <th>4</th>\n",
       "      <td>11</td>\n",
       "      <td>10</td>\n",
       "      <td>5</td>\n",
       "      <td>0.037</td>\n",
       "      <td>0.090</td>\n",
       "      <td>27</td>\n",
       "      <td>11</td>\n",
       "    </tr>\n",
       "    <tr>\n",
       "      <th>5</th>\n",
       "      <td>10</td>\n",
       "      <td>10</td>\n",
       "      <td>6</td>\n",
       "      <td>0.041</td>\n",
       "      <td>0.066</td>\n",
       "      <td>24</td>\n",
       "      <td>15</td>\n",
       "    </tr>\n",
       "    <tr>\n",
       "      <th>6</th>\n",
       "      <td>10</td>\n",
       "      <td>9</td>\n",
       "      <td>7</td>\n",
       "      <td>0.039</td>\n",
       "      <td>0.066</td>\n",
       "      <td>26</td>\n",
       "      <td>15</td>\n",
       "    </tr>\n",
       "    <tr>\n",
       "      <th>7</th>\n",
       "      <td>9</td>\n",
       "      <td>9</td>\n",
       "      <td>8</td>\n",
       "      <td>0.042</td>\n",
       "      <td>0.053</td>\n",
       "      <td>24</td>\n",
       "      <td>19</td>\n",
       "    </tr>\n",
       "    <tr>\n",
       "      <th>8</th>\n",
       "      <td>9</td>\n",
       "      <td>8</td>\n",
       "      <td>9</td>\n",
       "      <td>0.041</td>\n",
       "      <td>0.053</td>\n",
       "      <td>25</td>\n",
       "      <td>19</td>\n",
       "    </tr>\n",
       "  </tbody>\n",
       "</table>\n",
       "</div>"
      ],
      "text/plain": [
       "   dedicated_acute  dedicated_rehab  pooled  pdelay_acute  pdelay_rehab  \\\n",
       "0                0                0      22         0.063         0.063   \n",
       "1                0                0      26         0.016         0.016   \n",
       "2               14               12       0         0.019         0.110   \n",
       "3               11               11       4         0.044         0.089   \n",
       "4               11               10       5         0.037         0.090   \n",
       "5               10               10       6         0.041         0.066   \n",
       "6               10                9       7         0.039         0.066   \n",
       "7                9                9       8         0.042         0.053   \n",
       "8                9                8       9         0.041         0.053   \n",
       "\n",
       "   1_in_n_delay_acute  1_in_n_delay_rehab  \n",
       "0                  16                  16  \n",
       "1                  61                  61  \n",
       "2                  52                   9  \n",
       "3                  23                  11  \n",
       "4                  27                  11  \n",
       "5                  24                  15  \n",
       "6                  26                  15  \n",
       "7                  24                  19  \n",
       "8                  25                  19  "
      ]
     },
     "metadata": {},
     "output_type": "display_data"
    }
   ],
   "source": [
    "# Convert to a dataframe\n",
    "tab3 = pd.DataFrame(pool_result_list)\n",
    "\n",
    "for delay_type in [\"acute\", \"rehab\"]:\n",
    "    # Round probabilities to 3 decimal places\n",
    "    tab3[f\"pdelay_{delay_type}\"] = round(tab3[f\"pdelay_{delay_type}\"], 3)\n",
    "    # Convert 1-in-n counts to integers\n",
    "    tab3[f\"1_in_n_delay_{delay_type}\"] = (\n",
    "        tab3[f\"1_in_n_delay_{delay_type}\"].astype(int))\n",
    "\n",
    "# Display and save to csv\n",
    "display(tab3)\n",
    "tab3.to_csv(\n",
    "    os.path.join(OUTPUT_DIR, \"table3.csv\"), index=False)"
   ]
  },
  {
   "cell_type": "markdown",
   "metadata": {},
   "source": [
    "## Run time"
   ]
  },
  {
   "cell_type": "code",
   "execution_count": 25,
   "metadata": {},
   "outputs": [
    {
     "name": "stdout",
     "output_type": "stream",
     "text": [
      "Notebook run time: 0m 14s\n"
     ]
    }
   ],
   "source": [
    "# Get run time in seconds\n",
    "end_time = time.time()\n",
    "runtime = round(end_time - start_time)\n",
    "\n",
    "# Display converted to minutes and seconds\n",
    "print(f'Notebook run time: {runtime // 60}m {runtime % 60}s')"
   ]
  }
 ],
 "metadata": {
  "kernelspec": {
   "display_name": "pydesrapstroke",
   "language": "python",
   "name": "python3"
  },
  "language_info": {
   "codemirror_mode": {
    "name": "ipython",
    "version": 3
   },
   "file_extension": ".py",
   "mimetype": "text/x-python",
   "name": "python",
   "nbconvert_exporter": "python",
   "pygments_lexer": "ipython3",
   "version": "3.13.1"
  }
 },
 "nbformat": 4,
 "nbformat_minor": 2
}
