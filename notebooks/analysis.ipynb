{
 "cells": [
  {
   "cell_type": "markdown",
   "metadata": {},
   "source": [
    "# Analysis\n",
    "\n",
    "This analysis reproduces the analysis performed in:\n",
    "\n",
    "> Monks T, Worthington D, Allen M, Pitt M, Stein K, James MA. A modelling tool for capacity planning in acute and community stroke services. BMC Health Serv Res. 2016 Sep 29;16(1):530. doi: [10.1186/s12913-016-1789-4](https://doi.org/10.1186/s12913-016-1789-4). PMID: 27688152; PMCID: PMC5043535.\n",
    "\n",
    "It is organised into:\n",
    "\n",
    "* Base case\n",
    "    * Run the model\n",
    "    * Figure 1\n",
    "    * Theory: probability of delay\n",
    "    * Figure 3\n",
    "* Scenario analysis: altering arrivals\n",
    "    * Scenario 1\n",
    "    * Table 2\n",
    "    * Scenario 4\n",
    "    * Supplementary table 1\n",
    "* Scenario analysis: pooling beds\n",
    "    * Theory: pooling beds\n",
    "    * Scenario 2"
   ]
  },
  {
   "cell_type": "code",
   "execution_count": 1,
   "metadata": {},
   "outputs": [],
   "source": [
    "# pylint: disable=missing-module-docstring\n",
    "%load_ext autoreload\n",
    "%autoreload 1\n",
    "%aimport simulation\n",
    "\n",
    "# pylint: disable=wrong-import-position\n",
    "import os\n",
    "\n",
    "from IPython.display import display\n",
    "import numpy as np\n",
    "import pandas as pd\n",
    "import plotly.express as px\n",
    "\n",
    "from simulation.parameters import Param, ASUArrivals, RehabArrivals\n",
    "from simulation.model import Model\n",
    "from simulation.runner import Runner"
   ]
  },
  {
   "cell_type": "code",
   "execution_count": 2,
   "metadata": {},
   "outputs": [],
   "source": [
    "# Path to the outputs folder\n",
    "OUTPUT_DIR = \"../outputs/\""
   ]
  },
  {
   "cell_type": "markdown",
   "metadata": {},
   "source": [
    "## Base case\n",
    "\n",
    "### Run the model"
   ]
  },
  {
   "cell_type": "code",
   "execution_count": 3,
   "metadata": {},
   "outputs": [],
   "source": [
    "# Set up runner to run in parallel with nine cores\n",
    "runner = Runner(param=Param(cores=9))\n",
    "\n",
    "# Run the model for 150 replications\n",
    "base_reps, base_overall = runner.run_reps()"
   ]
  },
  {
   "cell_type": "markdown",
   "metadata": {},
   "source": [
    "### Figure 1\n",
    "\n",
    "**Figure 1.** Simulation probability density function for occupancy of an acute stroke unit."
   ]
  },
  {
   "cell_type": "code",
   "execution_count": 4,
   "metadata": {},
   "outputs": [],
   "source": [
    "def plot_occupancy_freq(df, unit, file, path=OUTPUT_DIR):\n",
    "    \"\"\"\n",
    "    Plot the frequency at which each occupancy level was observed in the audit.\n",
    "\n",
    "    Parameters\n",
    "    ----------\n",
    "    df: pd.DataFrame\n",
    "        Dataframe output by `get_occupancy_freq()` containing the frequency\n",
    "        each occupancy was observed at.\n",
    "    unit: str\n",
    "        Name of unit (\"asu\", \"rehab\")\n",
    "    file: str\n",
    "        Filename to save figure to (e.g. \"figure.png\").\n",
    "    path: str\n",
    "        Path to save file to (excluding filename).\n",
    "    \"\"\"\n",
    "    # Create plot\n",
    "    fig = px.bar(df, x=\"beds\", y=\"pct\", color_discrete_sequence=[\"black\"])\n",
    "\n",
    "    # Specify axis labels, theme and dimensions\n",
    "    if unit == \"asu\":\n",
    "        unit_lab = \"acute\"\n",
    "    elif unit == \"rehab\":\n",
    "        unit_lab = \"rehabilitation\"\n",
    "    else:\n",
    "        raise ValueError(\"unit must be either 'acute' or 'rehab'\")\n",
    "\n",
    "    fig.update_layout(\n",
    "        xaxis_title=f\"No. patients in {unit_lab} unit\",\n",
    "        yaxis_title=\"% observations\",\n",
    "        template=\"plotly_white\",\n",
    "        height=450,\n",
    "        width=800\n",
    "    )\n",
    "\n",
    "    # Add box around figure, and set tick spacing to 1\n",
    "    fig.update_xaxes(linecolor=\"black\", mirror=True, dtick=1)\n",
    "    fig.update_yaxes(linecolor=\"black\", mirror=True, tickformat=\",.0%\")\n",
    "\n",
    "    # Show figure\n",
    "    fig.show()\n",
    "\n",
    "    # Save figure\n",
    "    fig.write_image(os.path.join(path, file))"
   ]
  },
  {
   "cell_type": "markdown",
   "metadata": {},
   "source": [
    "**Generate plots...**\n",
    "\n",
    "(the article just includes a plot for the acute stroke unit)."
   ]
  },
  {
   "cell_type": "code",
   "execution_count": 5,
   "metadata": {},
   "outputs": [
    {
     "data": {
      "application/vnd.plotly.v1+json": {
       "config": {
        "plotlyServerURL": "https://plot.ly"
       },
       "data": [
        {
         "hovertemplate": "beds=%{x}<br>pct=%{y}<extra></extra>",
         "legendgroup": "",
         "marker": {
          "color": "black",
          "pattern": {
           "shape": ""
          }
         },
         "name": "",
         "orientation": "v",
         "showlegend": false,
         "textposition": "auto",
         "type": "bar",
         "x": {
          "bdata": "AAECAwQFBgcICQoLDA0ODxAREhMUFRYXGBkaGw==",
          "dtype": "i1"
         },
         "xaxis": "x",
         "y": {
          "bdata": "bHe/VzQKMD//vkgzrA5hP08nssFfBoA/f6Ef0PnDlj913+cr55CnP+223BUFI7Q/RvufnWFgvD+cdR1r2zTBPwmmrrcdzcE/j7VtmmiYwD8cnN/xgoy7P5KDn4ss5bQ/qwY2fjXVrD/2CZbpb8yiPyg+kDoQUZY/uL4HeaudiT8tQxzr4jZ6PxWqVUJfJGs/fnz9vw9RWT/anDhJORFFP41+E9tZ/zA/VYDoO6M8IT9fuYhWz+UIPybkgGqwpO4+JuSAarCk3j4m5IBqsKTOPgAAAAAAAAAAJuSAarCkzj4=",
          "dtype": "f8"
         },
         "yaxis": "y"
        }
       ],
       "layout": {
        "barmode": "relative",
        "height": 450,
        "legend": {
         "tracegroupgap": 0
        },
        "margin": {
         "t": 60
        },
        "template": {
         "data": {
          "bar": [
           {
            "error_x": {
             "color": "#2a3f5f"
            },
            "error_y": {
             "color": "#2a3f5f"
            },
            "marker": {
             "line": {
              "color": "white",
              "width": 0.5
             },
             "pattern": {
              "fillmode": "overlay",
              "size": 10,
              "solidity": 0.2
             }
            },
            "type": "bar"
           }
          ],
          "barpolar": [
           {
            "marker": {
             "line": {
              "color": "white",
              "width": 0.5
             },
             "pattern": {
              "fillmode": "overlay",
              "size": 10,
              "solidity": 0.2
             }
            },
            "type": "barpolar"
           }
          ],
          "carpet": [
           {
            "aaxis": {
             "endlinecolor": "#2a3f5f",
             "gridcolor": "#C8D4E3",
             "linecolor": "#C8D4E3",
             "minorgridcolor": "#C8D4E3",
             "startlinecolor": "#2a3f5f"
            },
            "baxis": {
             "endlinecolor": "#2a3f5f",
             "gridcolor": "#C8D4E3",
             "linecolor": "#C8D4E3",
             "minorgridcolor": "#C8D4E3",
             "startlinecolor": "#2a3f5f"
            },
            "type": "carpet"
           }
          ],
          "choropleth": [
           {
            "colorbar": {
             "outlinewidth": 0,
             "ticks": ""
            },
            "type": "choropleth"
           }
          ],
          "contour": [
           {
            "colorbar": {
             "outlinewidth": 0,
             "ticks": ""
            },
            "colorscale": [
             [
              0,
              "#0d0887"
             ],
             [
              0.1111111111111111,
              "#46039f"
             ],
             [
              0.2222222222222222,
              "#7201a8"
             ],
             [
              0.3333333333333333,
              "#9c179e"
             ],
             [
              0.4444444444444444,
              "#bd3786"
             ],
             [
              0.5555555555555556,
              "#d8576b"
             ],
             [
              0.6666666666666666,
              "#ed7953"
             ],
             [
              0.7777777777777778,
              "#fb9f3a"
             ],
             [
              0.8888888888888888,
              "#fdca26"
             ],
             [
              1,
              "#f0f921"
             ]
            ],
            "type": "contour"
           }
          ],
          "contourcarpet": [
           {
            "colorbar": {
             "outlinewidth": 0,
             "ticks": ""
            },
            "type": "contourcarpet"
           }
          ],
          "heatmap": [
           {
            "colorbar": {
             "outlinewidth": 0,
             "ticks": ""
            },
            "colorscale": [
             [
              0,
              "#0d0887"
             ],
             [
              0.1111111111111111,
              "#46039f"
             ],
             [
              0.2222222222222222,
              "#7201a8"
             ],
             [
              0.3333333333333333,
              "#9c179e"
             ],
             [
              0.4444444444444444,
              "#bd3786"
             ],
             [
              0.5555555555555556,
              "#d8576b"
             ],
             [
              0.6666666666666666,
              "#ed7953"
             ],
             [
              0.7777777777777778,
              "#fb9f3a"
             ],
             [
              0.8888888888888888,
              "#fdca26"
             ],
             [
              1,
              "#f0f921"
             ]
            ],
            "type": "heatmap"
           }
          ],
          "histogram": [
           {
            "marker": {
             "pattern": {
              "fillmode": "overlay",
              "size": 10,
              "solidity": 0.2
             }
            },
            "type": "histogram"
           }
          ],
          "histogram2d": [
           {
            "colorbar": {
             "outlinewidth": 0,
             "ticks": ""
            },
            "colorscale": [
             [
              0,
              "#0d0887"
             ],
             [
              0.1111111111111111,
              "#46039f"
             ],
             [
              0.2222222222222222,
              "#7201a8"
             ],
             [
              0.3333333333333333,
              "#9c179e"
             ],
             [
              0.4444444444444444,
              "#bd3786"
             ],
             [
              0.5555555555555556,
              "#d8576b"
             ],
             [
              0.6666666666666666,
              "#ed7953"
             ],
             [
              0.7777777777777778,
              "#fb9f3a"
             ],
             [
              0.8888888888888888,
              "#fdca26"
             ],
             [
              1,
              "#f0f921"
             ]
            ],
            "type": "histogram2d"
           }
          ],
          "histogram2dcontour": [
           {
            "colorbar": {
             "outlinewidth": 0,
             "ticks": ""
            },
            "colorscale": [
             [
              0,
              "#0d0887"
             ],
             [
              0.1111111111111111,
              "#46039f"
             ],
             [
              0.2222222222222222,
              "#7201a8"
             ],
             [
              0.3333333333333333,
              "#9c179e"
             ],
             [
              0.4444444444444444,
              "#bd3786"
             ],
             [
              0.5555555555555556,
              "#d8576b"
             ],
             [
              0.6666666666666666,
              "#ed7953"
             ],
             [
              0.7777777777777778,
              "#fb9f3a"
             ],
             [
              0.8888888888888888,
              "#fdca26"
             ],
             [
              1,
              "#f0f921"
             ]
            ],
            "type": "histogram2dcontour"
           }
          ],
          "mesh3d": [
           {
            "colorbar": {
             "outlinewidth": 0,
             "ticks": ""
            },
            "type": "mesh3d"
           }
          ],
          "parcoords": [
           {
            "line": {
             "colorbar": {
              "outlinewidth": 0,
              "ticks": ""
             }
            },
            "type": "parcoords"
           }
          ],
          "pie": [
           {
            "automargin": true,
            "type": "pie"
           }
          ],
          "scatter": [
           {
            "fillpattern": {
             "fillmode": "overlay",
             "size": 10,
             "solidity": 0.2
            },
            "type": "scatter"
           }
          ],
          "scatter3d": [
           {
            "line": {
             "colorbar": {
              "outlinewidth": 0,
              "ticks": ""
             }
            },
            "marker": {
             "colorbar": {
              "outlinewidth": 0,
              "ticks": ""
             }
            },
            "type": "scatter3d"
           }
          ],
          "scattercarpet": [
           {
            "marker": {
             "colorbar": {
              "outlinewidth": 0,
              "ticks": ""
             }
            },
            "type": "scattercarpet"
           }
          ],
          "scattergeo": [
           {
            "marker": {
             "colorbar": {
              "outlinewidth": 0,
              "ticks": ""
             }
            },
            "type": "scattergeo"
           }
          ],
          "scattergl": [
           {
            "marker": {
             "colorbar": {
              "outlinewidth": 0,
              "ticks": ""
             }
            },
            "type": "scattergl"
           }
          ],
          "scattermap": [
           {
            "marker": {
             "colorbar": {
              "outlinewidth": 0,
              "ticks": ""
             }
            },
            "type": "scattermap"
           }
          ],
          "scattermapbox": [
           {
            "marker": {
             "colorbar": {
              "outlinewidth": 0,
              "ticks": ""
             }
            },
            "type": "scattermapbox"
           }
          ],
          "scatterpolar": [
           {
            "marker": {
             "colorbar": {
              "outlinewidth": 0,
              "ticks": ""
             }
            },
            "type": "scatterpolar"
           }
          ],
          "scatterpolargl": [
           {
            "marker": {
             "colorbar": {
              "outlinewidth": 0,
              "ticks": ""
             }
            },
            "type": "scatterpolargl"
           }
          ],
          "scatterternary": [
           {
            "marker": {
             "colorbar": {
              "outlinewidth": 0,
              "ticks": ""
             }
            },
            "type": "scatterternary"
           }
          ],
          "surface": [
           {
            "colorbar": {
             "outlinewidth": 0,
             "ticks": ""
            },
            "colorscale": [
             [
              0,
              "#0d0887"
             ],
             [
              0.1111111111111111,
              "#46039f"
             ],
             [
              0.2222222222222222,
              "#7201a8"
             ],
             [
              0.3333333333333333,
              "#9c179e"
             ],
             [
              0.4444444444444444,
              "#bd3786"
             ],
             [
              0.5555555555555556,
              "#d8576b"
             ],
             [
              0.6666666666666666,
              "#ed7953"
             ],
             [
              0.7777777777777778,
              "#fb9f3a"
             ],
             [
              0.8888888888888888,
              "#fdca26"
             ],
             [
              1,
              "#f0f921"
             ]
            ],
            "type": "surface"
           }
          ],
          "table": [
           {
            "cells": {
             "fill": {
              "color": "#EBF0F8"
             },
             "line": {
              "color": "white"
             }
            },
            "header": {
             "fill": {
              "color": "#C8D4E3"
             },
             "line": {
              "color": "white"
             }
            },
            "type": "table"
           }
          ]
         },
         "layout": {
          "annotationdefaults": {
           "arrowcolor": "#2a3f5f",
           "arrowhead": 0,
           "arrowwidth": 1
          },
          "autotypenumbers": "strict",
          "coloraxis": {
           "colorbar": {
            "outlinewidth": 0,
            "ticks": ""
           }
          },
          "colorscale": {
           "diverging": [
            [
             0,
             "#8e0152"
            ],
            [
             0.1,
             "#c51b7d"
            ],
            [
             0.2,
             "#de77ae"
            ],
            [
             0.3,
             "#f1b6da"
            ],
            [
             0.4,
             "#fde0ef"
            ],
            [
             0.5,
             "#f7f7f7"
            ],
            [
             0.6,
             "#e6f5d0"
            ],
            [
             0.7,
             "#b8e186"
            ],
            [
             0.8,
             "#7fbc41"
            ],
            [
             0.9,
             "#4d9221"
            ],
            [
             1,
             "#276419"
            ]
           ],
           "sequential": [
            [
             0,
             "#0d0887"
            ],
            [
             0.1111111111111111,
             "#46039f"
            ],
            [
             0.2222222222222222,
             "#7201a8"
            ],
            [
             0.3333333333333333,
             "#9c179e"
            ],
            [
             0.4444444444444444,
             "#bd3786"
            ],
            [
             0.5555555555555556,
             "#d8576b"
            ],
            [
             0.6666666666666666,
             "#ed7953"
            ],
            [
             0.7777777777777778,
             "#fb9f3a"
            ],
            [
             0.8888888888888888,
             "#fdca26"
            ],
            [
             1,
             "#f0f921"
            ]
           ],
           "sequentialminus": [
            [
             0,
             "#0d0887"
            ],
            [
             0.1111111111111111,
             "#46039f"
            ],
            [
             0.2222222222222222,
             "#7201a8"
            ],
            [
             0.3333333333333333,
             "#9c179e"
            ],
            [
             0.4444444444444444,
             "#bd3786"
            ],
            [
             0.5555555555555556,
             "#d8576b"
            ],
            [
             0.6666666666666666,
             "#ed7953"
            ],
            [
             0.7777777777777778,
             "#fb9f3a"
            ],
            [
             0.8888888888888888,
             "#fdca26"
            ],
            [
             1,
             "#f0f921"
            ]
           ]
          },
          "colorway": [
           "#636efa",
           "#EF553B",
           "#00cc96",
           "#ab63fa",
           "#FFA15A",
           "#19d3f3",
           "#FF6692",
           "#B6E880",
           "#FF97FF",
           "#FECB52"
          ],
          "font": {
           "color": "#2a3f5f"
          },
          "geo": {
           "bgcolor": "white",
           "lakecolor": "white",
           "landcolor": "white",
           "showlakes": true,
           "showland": true,
           "subunitcolor": "#C8D4E3"
          },
          "hoverlabel": {
           "align": "left"
          },
          "hovermode": "closest",
          "mapbox": {
           "style": "light"
          },
          "paper_bgcolor": "white",
          "plot_bgcolor": "white",
          "polar": {
           "angularaxis": {
            "gridcolor": "#EBF0F8",
            "linecolor": "#EBF0F8",
            "ticks": ""
           },
           "bgcolor": "white",
           "radialaxis": {
            "gridcolor": "#EBF0F8",
            "linecolor": "#EBF0F8",
            "ticks": ""
           }
          },
          "scene": {
           "xaxis": {
            "backgroundcolor": "white",
            "gridcolor": "#DFE8F3",
            "gridwidth": 2,
            "linecolor": "#EBF0F8",
            "showbackground": true,
            "ticks": "",
            "zerolinecolor": "#EBF0F8"
           },
           "yaxis": {
            "backgroundcolor": "white",
            "gridcolor": "#DFE8F3",
            "gridwidth": 2,
            "linecolor": "#EBF0F8",
            "showbackground": true,
            "ticks": "",
            "zerolinecolor": "#EBF0F8"
           },
           "zaxis": {
            "backgroundcolor": "white",
            "gridcolor": "#DFE8F3",
            "gridwidth": 2,
            "linecolor": "#EBF0F8",
            "showbackground": true,
            "ticks": "",
            "zerolinecolor": "#EBF0F8"
           }
          },
          "shapedefaults": {
           "line": {
            "color": "#2a3f5f"
           }
          },
          "ternary": {
           "aaxis": {
            "gridcolor": "#DFE8F3",
            "linecolor": "#A2B1C6",
            "ticks": ""
           },
           "baxis": {
            "gridcolor": "#DFE8F3",
            "linecolor": "#A2B1C6",
            "ticks": ""
           },
           "bgcolor": "white",
           "caxis": {
            "gridcolor": "#DFE8F3",
            "linecolor": "#A2B1C6",
            "ticks": ""
           }
          },
          "title": {
           "x": 0.05
          },
          "xaxis": {
           "automargin": true,
           "gridcolor": "#EBF0F8",
           "linecolor": "#EBF0F8",
           "ticks": "",
           "title": {
            "standoff": 15
           },
           "zerolinecolor": "#EBF0F8",
           "zerolinewidth": 2
          },
          "yaxis": {
           "automargin": true,
           "gridcolor": "#EBF0F8",
           "linecolor": "#EBF0F8",
           "ticks": "",
           "title": {
            "standoff": 15
           },
           "zerolinecolor": "#EBF0F8",
           "zerolinewidth": 2
          }
         }
        },
        "width": 800,
        "xaxis": {
         "anchor": "y",
         "domain": [
          0,
          1
         ],
         "dtick": 1,
         "linecolor": "black",
         "mirror": true,
         "title": {
          "text": "No. patients in acute unit"
         }
        },
        "yaxis": {
         "anchor": "x",
         "domain": [
          0,
          1
         ],
         "linecolor": "black",
         "mirror": true,
         "tickformat": ",.0%",
         "title": {
          "text": "% observations"
         }
        }
       }
      }
     },
     "metadata": {},
     "output_type": "display_data"
    },
    {
     "data": {
      "application/vnd.plotly.v1+json": {
       "config": {
        "plotlyServerURL": "https://plot.ly"
       },
       "data": [
        {
         "hovertemplate": "beds=%{x}<br>pct=%{y}<extra></extra>",
         "legendgroup": "",
         "marker": {
          "color": "black",
          "pattern": {
           "shape": ""
          }
         },
         "name": "",
         "orientation": "v",
         "showlegend": false,
         "textposition": "auto",
         "type": "bar",
         "x": {
          "bdata": "AAECAwQFBgcICQoLDA0ODxAREhMUFRYXGBkaGw==",
          "dtype": "i1"
         },
         "xaxis": "x",
         "y": {
          "bdata": "VYDoO6M8ET/6zK9/9oc7P+XhonBDcmE/buomK6BxgD+beRI+FCuVP1Z10OBlq6U/S76wl5AJsj/Tzh74XvW4Pw0+NWdWob4/RstcluJJwD+uKdyK9Mm/PzFl+KUX1Ls/yzXyZvoStz/8so0qYHWxP232+dPVO6g/iLDqhe3Enz+ghAP11WyTP414rtRqo4Y/QzrzBnQEeT/UPZ3IBn9pPxpnATafcVY/xKVhLahDRj92sF9yYLM3P62uihEXdic/NHmUuH1HED+YjpBC7ibzPpiOkELuJvM+JuSAarCkzj4=",
          "dtype": "f8"
         },
         "yaxis": "y"
        }
       ],
       "layout": {
        "barmode": "relative",
        "height": 450,
        "legend": {
         "tracegroupgap": 0
        },
        "margin": {
         "t": 60
        },
        "template": {
         "data": {
          "bar": [
           {
            "error_x": {
             "color": "#2a3f5f"
            },
            "error_y": {
             "color": "#2a3f5f"
            },
            "marker": {
             "line": {
              "color": "white",
              "width": 0.5
             },
             "pattern": {
              "fillmode": "overlay",
              "size": 10,
              "solidity": 0.2
             }
            },
            "type": "bar"
           }
          ],
          "barpolar": [
           {
            "marker": {
             "line": {
              "color": "white",
              "width": 0.5
             },
             "pattern": {
              "fillmode": "overlay",
              "size": 10,
              "solidity": 0.2
             }
            },
            "type": "barpolar"
           }
          ],
          "carpet": [
           {
            "aaxis": {
             "endlinecolor": "#2a3f5f",
             "gridcolor": "#C8D4E3",
             "linecolor": "#C8D4E3",
             "minorgridcolor": "#C8D4E3",
             "startlinecolor": "#2a3f5f"
            },
            "baxis": {
             "endlinecolor": "#2a3f5f",
             "gridcolor": "#C8D4E3",
             "linecolor": "#C8D4E3",
             "minorgridcolor": "#C8D4E3",
             "startlinecolor": "#2a3f5f"
            },
            "type": "carpet"
           }
          ],
          "choropleth": [
           {
            "colorbar": {
             "outlinewidth": 0,
             "ticks": ""
            },
            "type": "choropleth"
           }
          ],
          "contour": [
           {
            "colorbar": {
             "outlinewidth": 0,
             "ticks": ""
            },
            "colorscale": [
             [
              0,
              "#0d0887"
             ],
             [
              0.1111111111111111,
              "#46039f"
             ],
             [
              0.2222222222222222,
              "#7201a8"
             ],
             [
              0.3333333333333333,
              "#9c179e"
             ],
             [
              0.4444444444444444,
              "#bd3786"
             ],
             [
              0.5555555555555556,
              "#d8576b"
             ],
             [
              0.6666666666666666,
              "#ed7953"
             ],
             [
              0.7777777777777778,
              "#fb9f3a"
             ],
             [
              0.8888888888888888,
              "#fdca26"
             ],
             [
              1,
              "#f0f921"
             ]
            ],
            "type": "contour"
           }
          ],
          "contourcarpet": [
           {
            "colorbar": {
             "outlinewidth": 0,
             "ticks": ""
            },
            "type": "contourcarpet"
           }
          ],
          "heatmap": [
           {
            "colorbar": {
             "outlinewidth": 0,
             "ticks": ""
            },
            "colorscale": [
             [
              0,
              "#0d0887"
             ],
             [
              0.1111111111111111,
              "#46039f"
             ],
             [
              0.2222222222222222,
              "#7201a8"
             ],
             [
              0.3333333333333333,
              "#9c179e"
             ],
             [
              0.4444444444444444,
              "#bd3786"
             ],
             [
              0.5555555555555556,
              "#d8576b"
             ],
             [
              0.6666666666666666,
              "#ed7953"
             ],
             [
              0.7777777777777778,
              "#fb9f3a"
             ],
             [
              0.8888888888888888,
              "#fdca26"
             ],
             [
              1,
              "#f0f921"
             ]
            ],
            "type": "heatmap"
           }
          ],
          "histogram": [
           {
            "marker": {
             "pattern": {
              "fillmode": "overlay",
              "size": 10,
              "solidity": 0.2
             }
            },
            "type": "histogram"
           }
          ],
          "histogram2d": [
           {
            "colorbar": {
             "outlinewidth": 0,
             "ticks": ""
            },
            "colorscale": [
             [
              0,
              "#0d0887"
             ],
             [
              0.1111111111111111,
              "#46039f"
             ],
             [
              0.2222222222222222,
              "#7201a8"
             ],
             [
              0.3333333333333333,
              "#9c179e"
             ],
             [
              0.4444444444444444,
              "#bd3786"
             ],
             [
              0.5555555555555556,
              "#d8576b"
             ],
             [
              0.6666666666666666,
              "#ed7953"
             ],
             [
              0.7777777777777778,
              "#fb9f3a"
             ],
             [
              0.8888888888888888,
              "#fdca26"
             ],
             [
              1,
              "#f0f921"
             ]
            ],
            "type": "histogram2d"
           }
          ],
          "histogram2dcontour": [
           {
            "colorbar": {
             "outlinewidth": 0,
             "ticks": ""
            },
            "colorscale": [
             [
              0,
              "#0d0887"
             ],
             [
              0.1111111111111111,
              "#46039f"
             ],
             [
              0.2222222222222222,
              "#7201a8"
             ],
             [
              0.3333333333333333,
              "#9c179e"
             ],
             [
              0.4444444444444444,
              "#bd3786"
             ],
             [
              0.5555555555555556,
              "#d8576b"
             ],
             [
              0.6666666666666666,
              "#ed7953"
             ],
             [
              0.7777777777777778,
              "#fb9f3a"
             ],
             [
              0.8888888888888888,
              "#fdca26"
             ],
             [
              1,
              "#f0f921"
             ]
            ],
            "type": "histogram2dcontour"
           }
          ],
          "mesh3d": [
           {
            "colorbar": {
             "outlinewidth": 0,
             "ticks": ""
            },
            "type": "mesh3d"
           }
          ],
          "parcoords": [
           {
            "line": {
             "colorbar": {
              "outlinewidth": 0,
              "ticks": ""
             }
            },
            "type": "parcoords"
           }
          ],
          "pie": [
           {
            "automargin": true,
            "type": "pie"
           }
          ],
          "scatter": [
           {
            "fillpattern": {
             "fillmode": "overlay",
             "size": 10,
             "solidity": 0.2
            },
            "type": "scatter"
           }
          ],
          "scatter3d": [
           {
            "line": {
             "colorbar": {
              "outlinewidth": 0,
              "ticks": ""
             }
            },
            "marker": {
             "colorbar": {
              "outlinewidth": 0,
              "ticks": ""
             }
            },
            "type": "scatter3d"
           }
          ],
          "scattercarpet": [
           {
            "marker": {
             "colorbar": {
              "outlinewidth": 0,
              "ticks": ""
             }
            },
            "type": "scattercarpet"
           }
          ],
          "scattergeo": [
           {
            "marker": {
             "colorbar": {
              "outlinewidth": 0,
              "ticks": ""
             }
            },
            "type": "scattergeo"
           }
          ],
          "scattergl": [
           {
            "marker": {
             "colorbar": {
              "outlinewidth": 0,
              "ticks": ""
             }
            },
            "type": "scattergl"
           }
          ],
          "scattermap": [
           {
            "marker": {
             "colorbar": {
              "outlinewidth": 0,
              "ticks": ""
             }
            },
            "type": "scattermap"
           }
          ],
          "scattermapbox": [
           {
            "marker": {
             "colorbar": {
              "outlinewidth": 0,
              "ticks": ""
             }
            },
            "type": "scattermapbox"
           }
          ],
          "scatterpolar": [
           {
            "marker": {
             "colorbar": {
              "outlinewidth": 0,
              "ticks": ""
             }
            },
            "type": "scatterpolar"
           }
          ],
          "scatterpolargl": [
           {
            "marker": {
             "colorbar": {
              "outlinewidth": 0,
              "ticks": ""
             }
            },
            "type": "scatterpolargl"
           }
          ],
          "scatterternary": [
           {
            "marker": {
             "colorbar": {
              "outlinewidth": 0,
              "ticks": ""
             }
            },
            "type": "scatterternary"
           }
          ],
          "surface": [
           {
            "colorbar": {
             "outlinewidth": 0,
             "ticks": ""
            },
            "colorscale": [
             [
              0,
              "#0d0887"
             ],
             [
              0.1111111111111111,
              "#46039f"
             ],
             [
              0.2222222222222222,
              "#7201a8"
             ],
             [
              0.3333333333333333,
              "#9c179e"
             ],
             [
              0.4444444444444444,
              "#bd3786"
             ],
             [
              0.5555555555555556,
              "#d8576b"
             ],
             [
              0.6666666666666666,
              "#ed7953"
             ],
             [
              0.7777777777777778,
              "#fb9f3a"
             ],
             [
              0.8888888888888888,
              "#fdca26"
             ],
             [
              1,
              "#f0f921"
             ]
            ],
            "type": "surface"
           }
          ],
          "table": [
           {
            "cells": {
             "fill": {
              "color": "#EBF0F8"
             },
             "line": {
              "color": "white"
             }
            },
            "header": {
             "fill": {
              "color": "#C8D4E3"
             },
             "line": {
              "color": "white"
             }
            },
            "type": "table"
           }
          ]
         },
         "layout": {
          "annotationdefaults": {
           "arrowcolor": "#2a3f5f",
           "arrowhead": 0,
           "arrowwidth": 1
          },
          "autotypenumbers": "strict",
          "coloraxis": {
           "colorbar": {
            "outlinewidth": 0,
            "ticks": ""
           }
          },
          "colorscale": {
           "diverging": [
            [
             0,
             "#8e0152"
            ],
            [
             0.1,
             "#c51b7d"
            ],
            [
             0.2,
             "#de77ae"
            ],
            [
             0.3,
             "#f1b6da"
            ],
            [
             0.4,
             "#fde0ef"
            ],
            [
             0.5,
             "#f7f7f7"
            ],
            [
             0.6,
             "#e6f5d0"
            ],
            [
             0.7,
             "#b8e186"
            ],
            [
             0.8,
             "#7fbc41"
            ],
            [
             0.9,
             "#4d9221"
            ],
            [
             1,
             "#276419"
            ]
           ],
           "sequential": [
            [
             0,
             "#0d0887"
            ],
            [
             0.1111111111111111,
             "#46039f"
            ],
            [
             0.2222222222222222,
             "#7201a8"
            ],
            [
             0.3333333333333333,
             "#9c179e"
            ],
            [
             0.4444444444444444,
             "#bd3786"
            ],
            [
             0.5555555555555556,
             "#d8576b"
            ],
            [
             0.6666666666666666,
             "#ed7953"
            ],
            [
             0.7777777777777778,
             "#fb9f3a"
            ],
            [
             0.8888888888888888,
             "#fdca26"
            ],
            [
             1,
             "#f0f921"
            ]
           ],
           "sequentialminus": [
            [
             0,
             "#0d0887"
            ],
            [
             0.1111111111111111,
             "#46039f"
            ],
            [
             0.2222222222222222,
             "#7201a8"
            ],
            [
             0.3333333333333333,
             "#9c179e"
            ],
            [
             0.4444444444444444,
             "#bd3786"
            ],
            [
             0.5555555555555556,
             "#d8576b"
            ],
            [
             0.6666666666666666,
             "#ed7953"
            ],
            [
             0.7777777777777778,
             "#fb9f3a"
            ],
            [
             0.8888888888888888,
             "#fdca26"
            ],
            [
             1,
             "#f0f921"
            ]
           ]
          },
          "colorway": [
           "#636efa",
           "#EF553B",
           "#00cc96",
           "#ab63fa",
           "#FFA15A",
           "#19d3f3",
           "#FF6692",
           "#B6E880",
           "#FF97FF",
           "#FECB52"
          ],
          "font": {
           "color": "#2a3f5f"
          },
          "geo": {
           "bgcolor": "white",
           "lakecolor": "white",
           "landcolor": "white",
           "showlakes": true,
           "showland": true,
           "subunitcolor": "#C8D4E3"
          },
          "hoverlabel": {
           "align": "left"
          },
          "hovermode": "closest",
          "mapbox": {
           "style": "light"
          },
          "paper_bgcolor": "white",
          "plot_bgcolor": "white",
          "polar": {
           "angularaxis": {
            "gridcolor": "#EBF0F8",
            "linecolor": "#EBF0F8",
            "ticks": ""
           },
           "bgcolor": "white",
           "radialaxis": {
            "gridcolor": "#EBF0F8",
            "linecolor": "#EBF0F8",
            "ticks": ""
           }
          },
          "scene": {
           "xaxis": {
            "backgroundcolor": "white",
            "gridcolor": "#DFE8F3",
            "gridwidth": 2,
            "linecolor": "#EBF0F8",
            "showbackground": true,
            "ticks": "",
            "zerolinecolor": "#EBF0F8"
           },
           "yaxis": {
            "backgroundcolor": "white",
            "gridcolor": "#DFE8F3",
            "gridwidth": 2,
            "linecolor": "#EBF0F8",
            "showbackground": true,
            "ticks": "",
            "zerolinecolor": "#EBF0F8"
           },
           "zaxis": {
            "backgroundcolor": "white",
            "gridcolor": "#DFE8F3",
            "gridwidth": 2,
            "linecolor": "#EBF0F8",
            "showbackground": true,
            "ticks": "",
            "zerolinecolor": "#EBF0F8"
           }
          },
          "shapedefaults": {
           "line": {
            "color": "#2a3f5f"
           }
          },
          "ternary": {
           "aaxis": {
            "gridcolor": "#DFE8F3",
            "linecolor": "#A2B1C6",
            "ticks": ""
           },
           "baxis": {
            "gridcolor": "#DFE8F3",
            "linecolor": "#A2B1C6",
            "ticks": ""
           },
           "bgcolor": "white",
           "caxis": {
            "gridcolor": "#DFE8F3",
            "linecolor": "#A2B1C6",
            "ticks": ""
           }
          },
          "title": {
           "x": 0.05
          },
          "xaxis": {
           "automargin": true,
           "gridcolor": "#EBF0F8",
           "linecolor": "#EBF0F8",
           "ticks": "",
           "title": {
            "standoff": 15
           },
           "zerolinecolor": "#EBF0F8",
           "zerolinewidth": 2
          },
          "yaxis": {
           "automargin": true,
           "gridcolor": "#EBF0F8",
           "linecolor": "#EBF0F8",
           "ticks": "",
           "title": {
            "standoff": 15
           },
           "zerolinecolor": "#EBF0F8",
           "zerolinewidth": 2
          }
         }
        },
        "width": 800,
        "xaxis": {
         "anchor": "y",
         "domain": [
          0,
          1
         ],
         "dtick": 1,
         "linecolor": "black",
         "mirror": true,
         "title": {
          "text": "No. patients in rehabilitation unit"
         }
        },
        "yaxis": {
         "anchor": "x",
         "domain": [
          0,
          1
         ],
         "linecolor": "black",
         "mirror": true,
         "tickformat": ",.0%",
         "title": {
          "text": "% observations"
         }
        }
       }
      }
     },
     "metadata": {},
     "output_type": "display_data"
    }
   ],
   "source": [
    "# Acute stroke unit\n",
    "plot_occupancy_freq(base_overall[\"asu\"], unit=\"asu\",\n",
    "                    file=\"occupancy_freq_asu.png\")\n",
    "\n",
    "# Rehabilitation unit\n",
    "plot_occupancy_freq(base_overall[\"rehab\"], unit=\"rehab\",\n",
    "                    file=\"occupancy_freq_rehab.png\")"
   ]
  },
  {
   "cell_type": "markdown",
   "metadata": {},
   "source": [
    "### Theory: probability of delay\n",
    "\n",
    "We can use our frequency and cumulative frequency of occupied beds from the simulation to calculate blocking probability.\n",
    "\n",
    "For example:\n",
    "\n",
    "| Beds | `pct` | `c_pct` | Probability of delay |\n",
    "| - | - | - | - |\n",
    "| 0 | 0.2 | 0.2 | 1.0 |\n",
    "| 1 | 0.3 | 0.5 | 0.6 |\n",
    "| 2 | 0.4 | 0.9 | 0.44 |\n",
    "| 3 | 0.1 | 1.0 | 0.1 |\n",
    "\n",
    "We can interpret...\n",
    "\n",
    "* `pct` as the probability of having exactly x beds occupied.\n",
    "* `c_pct` as the probability of having x or fewer beds occupied.\n",
    "\n",
    "We can then calculate `pct/c_pct`, which is the probability of delay when the system has exactly x beds occupied.\n",
    "\n",
    "Interpretation for 1 bed:\n",
    "\n",
    "* If we **randomly select a day when the occupancy is 1 or fewer beds**, there's a **60%** chance that the occupancy will be **exactly 1 beds (rather than 0 beds)**.\n",
    "\n",
    "This can then be connected to the probability of delay by thinking about system capacity:\n",
    "\n",
    "* If we assume that the unit has a total of 1 beds, then when 1 beds are occupied, the unit is at **full capacity**.\n",
    "* Any new patients arriving when 1 beds are occupied would experience a delay.\n",
    "* So 0.6 represents the probability that, given we're at or below capacity (0 or 1 beds), we're actually at full capacity (1 beds)\n",
    "\n",
    "In other words, `pct/c_pct` is the probability that a new arrival will experience a delay when the system has exactly x beds occupied, given that the capacity of the system is x beds."
   ]
  },
  {
   "cell_type": "markdown",
   "metadata": {},
   "source": [
    "### Figure 3\n",
    "\n",
    "**Figure 3**. Simulated trade-off between the probability that a patient is delayed and the no. of acute beds available."
   ]
  },
  {
   "cell_type": "code",
   "execution_count": 6,
   "metadata": {},
   "outputs": [],
   "source": [
    "def plot_delay_prob(df, unit, file, path=OUTPUT_DIR):\n",
    "    \"\"\"\n",
    "    Plot the simulated trade-off between the probability of delay and the\n",
    "    number of beds available.\n",
    "\n",
    "    Parameters\n",
    "    ----------\n",
    "    df: pd.DataFrame\n",
    "        Dataframe output by `get_occupancy_freq()` containing the frequency\n",
    "        each occupancy was observed at.\n",
    "    unit: str\n",
    "        Name of unit (\"asu\", \"rehab\")\n",
    "    file: str\n",
    "        Filename to save figure to (e.g. \"figure.png\").\n",
    "    path: str\n",
    "        Path to save file to (excluding filename).\n",
    "    \"\"\"\n",
    "    # Create the step plot\n",
    "    fig = px.line(df, x=\"beds\", y=\"prob_delay\",\n",
    "                  color_discrete_sequence=[\"black\"])\n",
    "    fig.update_traces(mode=\"lines\", line_shape=\"hv\")\n",
    "\n",
    "    # Add axis labels, set theme and dimensions\n",
    "    if unit == \"asu\":\n",
    "        unit_lab = \"acute\"\n",
    "    elif unit == \"rehab\":\n",
    "        unit_lab = \"rehabilitation\"\n",
    "    else:\n",
    "        raise ValueError(\"unit must be either 'acute' or 'rehab'\")\n",
    "\n",
    "    fig.update_layout(\n",
    "        xaxis_title=f\"No. of {unit_lab} beds available\",\n",
    "        yaxis_title=\"Probability of delay\",\n",
    "        template=\"simple_white\",\n",
    "        height=450,\n",
    "        width=800\n",
    "    )\n",
    "\n",
    "    # Set tick frequency and adjust axis\n",
    "    fig.update_xaxes(dtick=1)\n",
    "    fig.update_yaxes(dtick=0.1, range=[0, 1])\n",
    "\n",
    "    # Show figure\n",
    "    fig.show()\n",
    "\n",
    "    # Save figure\n",
    "    fig.write_image(os.path.join(path, file))"
   ]
  },
  {
   "cell_type": "code",
   "execution_count": 7,
   "metadata": {},
   "outputs": [
    {
     "data": {
      "application/vnd.plotly.v1+json": {
       "config": {
        "plotlyServerURL": "https://plot.ly"
       },
       "data": [
        {
         "hovertemplate": "beds=%{x}<br>prob_delay=%{y}<extra></extra>",
         "legendgroup": "",
         "line": {
          "color": "black",
          "dash": "solid",
          "shape": "hv"
         },
         "marker": {
          "symbol": "circle"
         },
         "mode": "lines",
         "name": "",
         "orientation": "v",
         "showlegend": false,
         "type": "scatter",
         "x": {
          "bdata": "AAECAwQFBgcICQoLDA0ODxAREhMUFRYXGBkaGw==",
          "dtype": "i1"
         },
         "xaxis": "x",
         "y": {
          "bdata": "AAAAAAAA8D8CgetuXKLsP4sNV508qug/m06e1vj35T+8CtyeuMjiP42pU0p6BuA/qSXTppl62j9x1FjuBmLVP+9WTb6IcNA/Bq0gv9i6yD8s6bykhLDBPxM5x9fNSbg/wbfHebF0rz9ycuDEB7ijP5ZrLrXP4pY/jWbkEMzviT9z7pcSL196P91PM8TfNms/6TlGSkRYWT8hM8wovxNFP4KVVdlBADE/BwnK5fk8IT9r4g4G/+UIP6FZt8LNpO4+chiVFr+k3j6yPInAt6TOPgAAAAAAAAAAJ+SAarCkzj4=",
          "dtype": "f8"
         },
         "yaxis": "y"
        }
       ],
       "layout": {
        "height": 450,
        "legend": {
         "tracegroupgap": 0
        },
        "margin": {
         "t": 60
        },
        "template": {
         "data": {
          "bar": [
           {
            "error_x": {
             "color": "rgb(36,36,36)"
            },
            "error_y": {
             "color": "rgb(36,36,36)"
            },
            "marker": {
             "line": {
              "color": "white",
              "width": 0.5
             },
             "pattern": {
              "fillmode": "overlay",
              "size": 10,
              "solidity": 0.2
             }
            },
            "type": "bar"
           }
          ],
          "barpolar": [
           {
            "marker": {
             "line": {
              "color": "white",
              "width": 0.5
             },
             "pattern": {
              "fillmode": "overlay",
              "size": 10,
              "solidity": 0.2
             }
            },
            "type": "barpolar"
           }
          ],
          "carpet": [
           {
            "aaxis": {
             "endlinecolor": "rgb(36,36,36)",
             "gridcolor": "white",
             "linecolor": "white",
             "minorgridcolor": "white",
             "startlinecolor": "rgb(36,36,36)"
            },
            "baxis": {
             "endlinecolor": "rgb(36,36,36)",
             "gridcolor": "white",
             "linecolor": "white",
             "minorgridcolor": "white",
             "startlinecolor": "rgb(36,36,36)"
            },
            "type": "carpet"
           }
          ],
          "choropleth": [
           {
            "colorbar": {
             "outlinewidth": 1,
             "tickcolor": "rgb(36,36,36)",
             "ticks": "outside"
            },
            "type": "choropleth"
           }
          ],
          "contour": [
           {
            "colorbar": {
             "outlinewidth": 1,
             "tickcolor": "rgb(36,36,36)",
             "ticks": "outside"
            },
            "colorscale": [
             [
              0,
              "#440154"
             ],
             [
              0.1111111111111111,
              "#482878"
             ],
             [
              0.2222222222222222,
              "#3e4989"
             ],
             [
              0.3333333333333333,
              "#31688e"
             ],
             [
              0.4444444444444444,
              "#26828e"
             ],
             [
              0.5555555555555556,
              "#1f9e89"
             ],
             [
              0.6666666666666666,
              "#35b779"
             ],
             [
              0.7777777777777778,
              "#6ece58"
             ],
             [
              0.8888888888888888,
              "#b5de2b"
             ],
             [
              1,
              "#fde725"
             ]
            ],
            "type": "contour"
           }
          ],
          "contourcarpet": [
           {
            "colorbar": {
             "outlinewidth": 1,
             "tickcolor": "rgb(36,36,36)",
             "ticks": "outside"
            },
            "type": "contourcarpet"
           }
          ],
          "heatmap": [
           {
            "colorbar": {
             "outlinewidth": 1,
             "tickcolor": "rgb(36,36,36)",
             "ticks": "outside"
            },
            "colorscale": [
             [
              0,
              "#440154"
             ],
             [
              0.1111111111111111,
              "#482878"
             ],
             [
              0.2222222222222222,
              "#3e4989"
             ],
             [
              0.3333333333333333,
              "#31688e"
             ],
             [
              0.4444444444444444,
              "#26828e"
             ],
             [
              0.5555555555555556,
              "#1f9e89"
             ],
             [
              0.6666666666666666,
              "#35b779"
             ],
             [
              0.7777777777777778,
              "#6ece58"
             ],
             [
              0.8888888888888888,
              "#b5de2b"
             ],
             [
              1,
              "#fde725"
             ]
            ],
            "type": "heatmap"
           }
          ],
          "histogram": [
           {
            "marker": {
             "line": {
              "color": "white",
              "width": 0.6
             }
            },
            "type": "histogram"
           }
          ],
          "histogram2d": [
           {
            "colorbar": {
             "outlinewidth": 1,
             "tickcolor": "rgb(36,36,36)",
             "ticks": "outside"
            },
            "colorscale": [
             [
              0,
              "#440154"
             ],
             [
              0.1111111111111111,
              "#482878"
             ],
             [
              0.2222222222222222,
              "#3e4989"
             ],
             [
              0.3333333333333333,
              "#31688e"
             ],
             [
              0.4444444444444444,
              "#26828e"
             ],
             [
              0.5555555555555556,
              "#1f9e89"
             ],
             [
              0.6666666666666666,
              "#35b779"
             ],
             [
              0.7777777777777778,
              "#6ece58"
             ],
             [
              0.8888888888888888,
              "#b5de2b"
             ],
             [
              1,
              "#fde725"
             ]
            ],
            "type": "histogram2d"
           }
          ],
          "histogram2dcontour": [
           {
            "colorbar": {
             "outlinewidth": 1,
             "tickcolor": "rgb(36,36,36)",
             "ticks": "outside"
            },
            "colorscale": [
             [
              0,
              "#440154"
             ],
             [
              0.1111111111111111,
              "#482878"
             ],
             [
              0.2222222222222222,
              "#3e4989"
             ],
             [
              0.3333333333333333,
              "#31688e"
             ],
             [
              0.4444444444444444,
              "#26828e"
             ],
             [
              0.5555555555555556,
              "#1f9e89"
             ],
             [
              0.6666666666666666,
              "#35b779"
             ],
             [
              0.7777777777777778,
              "#6ece58"
             ],
             [
              0.8888888888888888,
              "#b5de2b"
             ],
             [
              1,
              "#fde725"
             ]
            ],
            "type": "histogram2dcontour"
           }
          ],
          "mesh3d": [
           {
            "colorbar": {
             "outlinewidth": 1,
             "tickcolor": "rgb(36,36,36)",
             "ticks": "outside"
            },
            "type": "mesh3d"
           }
          ],
          "parcoords": [
           {
            "line": {
             "colorbar": {
              "outlinewidth": 1,
              "tickcolor": "rgb(36,36,36)",
              "ticks": "outside"
             }
            },
            "type": "parcoords"
           }
          ],
          "pie": [
           {
            "automargin": true,
            "type": "pie"
           }
          ],
          "scatter": [
           {
            "fillpattern": {
             "fillmode": "overlay",
             "size": 10,
             "solidity": 0.2
            },
            "type": "scatter"
           }
          ],
          "scatter3d": [
           {
            "line": {
             "colorbar": {
              "outlinewidth": 1,
              "tickcolor": "rgb(36,36,36)",
              "ticks": "outside"
             }
            },
            "marker": {
             "colorbar": {
              "outlinewidth": 1,
              "tickcolor": "rgb(36,36,36)",
              "ticks": "outside"
             }
            },
            "type": "scatter3d"
           }
          ],
          "scattercarpet": [
           {
            "marker": {
             "colorbar": {
              "outlinewidth": 1,
              "tickcolor": "rgb(36,36,36)",
              "ticks": "outside"
             }
            },
            "type": "scattercarpet"
           }
          ],
          "scattergeo": [
           {
            "marker": {
             "colorbar": {
              "outlinewidth": 1,
              "tickcolor": "rgb(36,36,36)",
              "ticks": "outside"
             }
            },
            "type": "scattergeo"
           }
          ],
          "scattergl": [
           {
            "marker": {
             "colorbar": {
              "outlinewidth": 1,
              "tickcolor": "rgb(36,36,36)",
              "ticks": "outside"
             }
            },
            "type": "scattergl"
           }
          ],
          "scattermap": [
           {
            "marker": {
             "colorbar": {
              "outlinewidth": 1,
              "tickcolor": "rgb(36,36,36)",
              "ticks": "outside"
             }
            },
            "type": "scattermap"
           }
          ],
          "scattermapbox": [
           {
            "marker": {
             "colorbar": {
              "outlinewidth": 1,
              "tickcolor": "rgb(36,36,36)",
              "ticks": "outside"
             }
            },
            "type": "scattermapbox"
           }
          ],
          "scatterpolar": [
           {
            "marker": {
             "colorbar": {
              "outlinewidth": 1,
              "tickcolor": "rgb(36,36,36)",
              "ticks": "outside"
             }
            },
            "type": "scatterpolar"
           }
          ],
          "scatterpolargl": [
           {
            "marker": {
             "colorbar": {
              "outlinewidth": 1,
              "tickcolor": "rgb(36,36,36)",
              "ticks": "outside"
             }
            },
            "type": "scatterpolargl"
           }
          ],
          "scatterternary": [
           {
            "marker": {
             "colorbar": {
              "outlinewidth": 1,
              "tickcolor": "rgb(36,36,36)",
              "ticks": "outside"
             }
            },
            "type": "scatterternary"
           }
          ],
          "surface": [
           {
            "colorbar": {
             "outlinewidth": 1,
             "tickcolor": "rgb(36,36,36)",
             "ticks": "outside"
            },
            "colorscale": [
             [
              0,
              "#440154"
             ],
             [
              0.1111111111111111,
              "#482878"
             ],
             [
              0.2222222222222222,
              "#3e4989"
             ],
             [
              0.3333333333333333,
              "#31688e"
             ],
             [
              0.4444444444444444,
              "#26828e"
             ],
             [
              0.5555555555555556,
              "#1f9e89"
             ],
             [
              0.6666666666666666,
              "#35b779"
             ],
             [
              0.7777777777777778,
              "#6ece58"
             ],
             [
              0.8888888888888888,
              "#b5de2b"
             ],
             [
              1,
              "#fde725"
             ]
            ],
            "type": "surface"
           }
          ],
          "table": [
           {
            "cells": {
             "fill": {
              "color": "rgb(237,237,237)"
             },
             "line": {
              "color": "white"
             }
            },
            "header": {
             "fill": {
              "color": "rgb(217,217,217)"
             },
             "line": {
              "color": "white"
             }
            },
            "type": "table"
           }
          ]
         },
         "layout": {
          "annotationdefaults": {
           "arrowhead": 0,
           "arrowwidth": 1
          },
          "autotypenumbers": "strict",
          "coloraxis": {
           "colorbar": {
            "outlinewidth": 1,
            "tickcolor": "rgb(36,36,36)",
            "ticks": "outside"
           }
          },
          "colorscale": {
           "diverging": [
            [
             0,
             "rgb(103,0,31)"
            ],
            [
             0.1,
             "rgb(178,24,43)"
            ],
            [
             0.2,
             "rgb(214,96,77)"
            ],
            [
             0.3,
             "rgb(244,165,130)"
            ],
            [
             0.4,
             "rgb(253,219,199)"
            ],
            [
             0.5,
             "rgb(247,247,247)"
            ],
            [
             0.6,
             "rgb(209,229,240)"
            ],
            [
             0.7,
             "rgb(146,197,222)"
            ],
            [
             0.8,
             "rgb(67,147,195)"
            ],
            [
             0.9,
             "rgb(33,102,172)"
            ],
            [
             1,
             "rgb(5,48,97)"
            ]
           ],
           "sequential": [
            [
             0,
             "#440154"
            ],
            [
             0.1111111111111111,
             "#482878"
            ],
            [
             0.2222222222222222,
             "#3e4989"
            ],
            [
             0.3333333333333333,
             "#31688e"
            ],
            [
             0.4444444444444444,
             "#26828e"
            ],
            [
             0.5555555555555556,
             "#1f9e89"
            ],
            [
             0.6666666666666666,
             "#35b779"
            ],
            [
             0.7777777777777778,
             "#6ece58"
            ],
            [
             0.8888888888888888,
             "#b5de2b"
            ],
            [
             1,
             "#fde725"
            ]
           ],
           "sequentialminus": [
            [
             0,
             "#440154"
            ],
            [
             0.1111111111111111,
             "#482878"
            ],
            [
             0.2222222222222222,
             "#3e4989"
            ],
            [
             0.3333333333333333,
             "#31688e"
            ],
            [
             0.4444444444444444,
             "#26828e"
            ],
            [
             0.5555555555555556,
             "#1f9e89"
            ],
            [
             0.6666666666666666,
             "#35b779"
            ],
            [
             0.7777777777777778,
             "#6ece58"
            ],
            [
             0.8888888888888888,
             "#b5de2b"
            ],
            [
             1,
             "#fde725"
            ]
           ]
          },
          "colorway": [
           "#1F77B4",
           "#FF7F0E",
           "#2CA02C",
           "#D62728",
           "#9467BD",
           "#8C564B",
           "#E377C2",
           "#7F7F7F",
           "#BCBD22",
           "#17BECF"
          ],
          "font": {
           "color": "rgb(36,36,36)"
          },
          "geo": {
           "bgcolor": "white",
           "lakecolor": "white",
           "landcolor": "white",
           "showlakes": true,
           "showland": true,
           "subunitcolor": "white"
          },
          "hoverlabel": {
           "align": "left"
          },
          "hovermode": "closest",
          "mapbox": {
           "style": "light"
          },
          "paper_bgcolor": "white",
          "plot_bgcolor": "white",
          "polar": {
           "angularaxis": {
            "gridcolor": "rgb(232,232,232)",
            "linecolor": "rgb(36,36,36)",
            "showgrid": false,
            "showline": true,
            "ticks": "outside"
           },
           "bgcolor": "white",
           "radialaxis": {
            "gridcolor": "rgb(232,232,232)",
            "linecolor": "rgb(36,36,36)",
            "showgrid": false,
            "showline": true,
            "ticks": "outside"
           }
          },
          "scene": {
           "xaxis": {
            "backgroundcolor": "white",
            "gridcolor": "rgb(232,232,232)",
            "gridwidth": 2,
            "linecolor": "rgb(36,36,36)",
            "showbackground": true,
            "showgrid": false,
            "showline": true,
            "ticks": "outside",
            "zeroline": false,
            "zerolinecolor": "rgb(36,36,36)"
           },
           "yaxis": {
            "backgroundcolor": "white",
            "gridcolor": "rgb(232,232,232)",
            "gridwidth": 2,
            "linecolor": "rgb(36,36,36)",
            "showbackground": true,
            "showgrid": false,
            "showline": true,
            "ticks": "outside",
            "zeroline": false,
            "zerolinecolor": "rgb(36,36,36)"
           },
           "zaxis": {
            "backgroundcolor": "white",
            "gridcolor": "rgb(232,232,232)",
            "gridwidth": 2,
            "linecolor": "rgb(36,36,36)",
            "showbackground": true,
            "showgrid": false,
            "showline": true,
            "ticks": "outside",
            "zeroline": false,
            "zerolinecolor": "rgb(36,36,36)"
           }
          },
          "shapedefaults": {
           "fillcolor": "black",
           "line": {
            "width": 0
           },
           "opacity": 0.3
          },
          "ternary": {
           "aaxis": {
            "gridcolor": "rgb(232,232,232)",
            "linecolor": "rgb(36,36,36)",
            "showgrid": false,
            "showline": true,
            "ticks": "outside"
           },
           "baxis": {
            "gridcolor": "rgb(232,232,232)",
            "linecolor": "rgb(36,36,36)",
            "showgrid": false,
            "showline": true,
            "ticks": "outside"
           },
           "bgcolor": "white",
           "caxis": {
            "gridcolor": "rgb(232,232,232)",
            "linecolor": "rgb(36,36,36)",
            "showgrid": false,
            "showline": true,
            "ticks": "outside"
           }
          },
          "title": {
           "x": 0.05
          },
          "xaxis": {
           "automargin": true,
           "gridcolor": "rgb(232,232,232)",
           "linecolor": "rgb(36,36,36)",
           "showgrid": false,
           "showline": true,
           "ticks": "outside",
           "title": {
            "standoff": 15
           },
           "zeroline": false,
           "zerolinecolor": "rgb(36,36,36)"
          },
          "yaxis": {
           "automargin": true,
           "gridcolor": "rgb(232,232,232)",
           "linecolor": "rgb(36,36,36)",
           "showgrid": false,
           "showline": true,
           "ticks": "outside",
           "title": {
            "standoff": 15
           },
           "zeroline": false,
           "zerolinecolor": "rgb(36,36,36)"
          }
         }
        },
        "width": 800,
        "xaxis": {
         "anchor": "y",
         "domain": [
          0,
          1
         ],
         "dtick": 1,
         "title": {
          "text": "No. of acute beds available"
         }
        },
        "yaxis": {
         "anchor": "x",
         "domain": [
          0,
          1
         ],
         "dtick": 0.1,
         "range": [
          0,
          1
         ],
         "title": {
          "text": "Probability of delay"
         }
        }
       }
      }
     },
     "metadata": {},
     "output_type": "display_data"
    },
    {
     "data": {
      "application/vnd.plotly.v1+json": {
       "config": {
        "plotlyServerURL": "https://plot.ly"
       },
       "data": [
        {
         "hovertemplate": "beds=%{x}<br>prob_delay=%{y}<extra></extra>",
         "legendgroup": "",
         "line": {
          "color": "black",
          "dash": "solid",
          "shape": "hv"
         },
         "marker": {
          "symbol": "circle"
         },
         "mode": "lines",
         "name": "",
         "orientation": "v",
         "showlegend": false,
         "type": "scatter",
         "x": {
          "bdata": "AAECAwQFBgcICQoLDA0ODxAREhMUFRYXGBkaGw==",
          "dtype": "i1"
         },
         "xaxis": "x",
         "y": {
          "bdata": "AAAAAAAA8D+1utPqTqvrPwMKozpNDuo/VHHrBCQj6D/w+yfpgB/lP6wowwgyZOI/HbnlVh5L3z9BUUDJt9PZP9rmRLSmMtU/kAI+BBSs0D+jXQm4XPHJPwZijXLXScM/rhLQ2f1uvD9WEeTshdizP+73oW4YJKo/VW2Du3WUoD+KJdQ+uuGTP4F6+llJ6YY/FPjIaNgpeT9K6gBwpZBpPxEj6tY6eVY/uvpr4FJHRj9GEhR3FbU3Pxg/1lm0dic/VuG7l6hHED/dyFDFCSfzPu/FVdjyJvM+J+SAarCkzj4=",
          "dtype": "f8"
         },
         "yaxis": "y"
        }
       ],
       "layout": {
        "height": 450,
        "legend": {
         "tracegroupgap": 0
        },
        "margin": {
         "t": 60
        },
        "template": {
         "data": {
          "bar": [
           {
            "error_x": {
             "color": "rgb(36,36,36)"
            },
            "error_y": {
             "color": "rgb(36,36,36)"
            },
            "marker": {
             "line": {
              "color": "white",
              "width": 0.5
             },
             "pattern": {
              "fillmode": "overlay",
              "size": 10,
              "solidity": 0.2
             }
            },
            "type": "bar"
           }
          ],
          "barpolar": [
           {
            "marker": {
             "line": {
              "color": "white",
              "width": 0.5
             },
             "pattern": {
              "fillmode": "overlay",
              "size": 10,
              "solidity": 0.2
             }
            },
            "type": "barpolar"
           }
          ],
          "carpet": [
           {
            "aaxis": {
             "endlinecolor": "rgb(36,36,36)",
             "gridcolor": "white",
             "linecolor": "white",
             "minorgridcolor": "white",
             "startlinecolor": "rgb(36,36,36)"
            },
            "baxis": {
             "endlinecolor": "rgb(36,36,36)",
             "gridcolor": "white",
             "linecolor": "white",
             "minorgridcolor": "white",
             "startlinecolor": "rgb(36,36,36)"
            },
            "type": "carpet"
           }
          ],
          "choropleth": [
           {
            "colorbar": {
             "outlinewidth": 1,
             "tickcolor": "rgb(36,36,36)",
             "ticks": "outside"
            },
            "type": "choropleth"
           }
          ],
          "contour": [
           {
            "colorbar": {
             "outlinewidth": 1,
             "tickcolor": "rgb(36,36,36)",
             "ticks": "outside"
            },
            "colorscale": [
             [
              0,
              "#440154"
             ],
             [
              0.1111111111111111,
              "#482878"
             ],
             [
              0.2222222222222222,
              "#3e4989"
             ],
             [
              0.3333333333333333,
              "#31688e"
             ],
             [
              0.4444444444444444,
              "#26828e"
             ],
             [
              0.5555555555555556,
              "#1f9e89"
             ],
             [
              0.6666666666666666,
              "#35b779"
             ],
             [
              0.7777777777777778,
              "#6ece58"
             ],
             [
              0.8888888888888888,
              "#b5de2b"
             ],
             [
              1,
              "#fde725"
             ]
            ],
            "type": "contour"
           }
          ],
          "contourcarpet": [
           {
            "colorbar": {
             "outlinewidth": 1,
             "tickcolor": "rgb(36,36,36)",
             "ticks": "outside"
            },
            "type": "contourcarpet"
           }
          ],
          "heatmap": [
           {
            "colorbar": {
             "outlinewidth": 1,
             "tickcolor": "rgb(36,36,36)",
             "ticks": "outside"
            },
            "colorscale": [
             [
              0,
              "#440154"
             ],
             [
              0.1111111111111111,
              "#482878"
             ],
             [
              0.2222222222222222,
              "#3e4989"
             ],
             [
              0.3333333333333333,
              "#31688e"
             ],
             [
              0.4444444444444444,
              "#26828e"
             ],
             [
              0.5555555555555556,
              "#1f9e89"
             ],
             [
              0.6666666666666666,
              "#35b779"
             ],
             [
              0.7777777777777778,
              "#6ece58"
             ],
             [
              0.8888888888888888,
              "#b5de2b"
             ],
             [
              1,
              "#fde725"
             ]
            ],
            "type": "heatmap"
           }
          ],
          "histogram": [
           {
            "marker": {
             "line": {
              "color": "white",
              "width": 0.6
             }
            },
            "type": "histogram"
           }
          ],
          "histogram2d": [
           {
            "colorbar": {
             "outlinewidth": 1,
             "tickcolor": "rgb(36,36,36)",
             "ticks": "outside"
            },
            "colorscale": [
             [
              0,
              "#440154"
             ],
             [
              0.1111111111111111,
              "#482878"
             ],
             [
              0.2222222222222222,
              "#3e4989"
             ],
             [
              0.3333333333333333,
              "#31688e"
             ],
             [
              0.4444444444444444,
              "#26828e"
             ],
             [
              0.5555555555555556,
              "#1f9e89"
             ],
             [
              0.6666666666666666,
              "#35b779"
             ],
             [
              0.7777777777777778,
              "#6ece58"
             ],
             [
              0.8888888888888888,
              "#b5de2b"
             ],
             [
              1,
              "#fde725"
             ]
            ],
            "type": "histogram2d"
           }
          ],
          "histogram2dcontour": [
           {
            "colorbar": {
             "outlinewidth": 1,
             "tickcolor": "rgb(36,36,36)",
             "ticks": "outside"
            },
            "colorscale": [
             [
              0,
              "#440154"
             ],
             [
              0.1111111111111111,
              "#482878"
             ],
             [
              0.2222222222222222,
              "#3e4989"
             ],
             [
              0.3333333333333333,
              "#31688e"
             ],
             [
              0.4444444444444444,
              "#26828e"
             ],
             [
              0.5555555555555556,
              "#1f9e89"
             ],
             [
              0.6666666666666666,
              "#35b779"
             ],
             [
              0.7777777777777778,
              "#6ece58"
             ],
             [
              0.8888888888888888,
              "#b5de2b"
             ],
             [
              1,
              "#fde725"
             ]
            ],
            "type": "histogram2dcontour"
           }
          ],
          "mesh3d": [
           {
            "colorbar": {
             "outlinewidth": 1,
             "tickcolor": "rgb(36,36,36)",
             "ticks": "outside"
            },
            "type": "mesh3d"
           }
          ],
          "parcoords": [
           {
            "line": {
             "colorbar": {
              "outlinewidth": 1,
              "tickcolor": "rgb(36,36,36)",
              "ticks": "outside"
             }
            },
            "type": "parcoords"
           }
          ],
          "pie": [
           {
            "automargin": true,
            "type": "pie"
           }
          ],
          "scatter": [
           {
            "fillpattern": {
             "fillmode": "overlay",
             "size": 10,
             "solidity": 0.2
            },
            "type": "scatter"
           }
          ],
          "scatter3d": [
           {
            "line": {
             "colorbar": {
              "outlinewidth": 1,
              "tickcolor": "rgb(36,36,36)",
              "ticks": "outside"
             }
            },
            "marker": {
             "colorbar": {
              "outlinewidth": 1,
              "tickcolor": "rgb(36,36,36)",
              "ticks": "outside"
             }
            },
            "type": "scatter3d"
           }
          ],
          "scattercarpet": [
           {
            "marker": {
             "colorbar": {
              "outlinewidth": 1,
              "tickcolor": "rgb(36,36,36)",
              "ticks": "outside"
             }
            },
            "type": "scattercarpet"
           }
          ],
          "scattergeo": [
           {
            "marker": {
             "colorbar": {
              "outlinewidth": 1,
              "tickcolor": "rgb(36,36,36)",
              "ticks": "outside"
             }
            },
            "type": "scattergeo"
           }
          ],
          "scattergl": [
           {
            "marker": {
             "colorbar": {
              "outlinewidth": 1,
              "tickcolor": "rgb(36,36,36)",
              "ticks": "outside"
             }
            },
            "type": "scattergl"
           }
          ],
          "scattermap": [
           {
            "marker": {
             "colorbar": {
              "outlinewidth": 1,
              "tickcolor": "rgb(36,36,36)",
              "ticks": "outside"
             }
            },
            "type": "scattermap"
           }
          ],
          "scattermapbox": [
           {
            "marker": {
             "colorbar": {
              "outlinewidth": 1,
              "tickcolor": "rgb(36,36,36)",
              "ticks": "outside"
             }
            },
            "type": "scattermapbox"
           }
          ],
          "scatterpolar": [
           {
            "marker": {
             "colorbar": {
              "outlinewidth": 1,
              "tickcolor": "rgb(36,36,36)",
              "ticks": "outside"
             }
            },
            "type": "scatterpolar"
           }
          ],
          "scatterpolargl": [
           {
            "marker": {
             "colorbar": {
              "outlinewidth": 1,
              "tickcolor": "rgb(36,36,36)",
              "ticks": "outside"
             }
            },
            "type": "scatterpolargl"
           }
          ],
          "scatterternary": [
           {
            "marker": {
             "colorbar": {
              "outlinewidth": 1,
              "tickcolor": "rgb(36,36,36)",
              "ticks": "outside"
             }
            },
            "type": "scatterternary"
           }
          ],
          "surface": [
           {
            "colorbar": {
             "outlinewidth": 1,
             "tickcolor": "rgb(36,36,36)",
             "ticks": "outside"
            },
            "colorscale": [
             [
              0,
              "#440154"
             ],
             [
              0.1111111111111111,
              "#482878"
             ],
             [
              0.2222222222222222,
              "#3e4989"
             ],
             [
              0.3333333333333333,
              "#31688e"
             ],
             [
              0.4444444444444444,
              "#26828e"
             ],
             [
              0.5555555555555556,
              "#1f9e89"
             ],
             [
              0.6666666666666666,
              "#35b779"
             ],
             [
              0.7777777777777778,
              "#6ece58"
             ],
             [
              0.8888888888888888,
              "#b5de2b"
             ],
             [
              1,
              "#fde725"
             ]
            ],
            "type": "surface"
           }
          ],
          "table": [
           {
            "cells": {
             "fill": {
              "color": "rgb(237,237,237)"
             },
             "line": {
              "color": "white"
             }
            },
            "header": {
             "fill": {
              "color": "rgb(217,217,217)"
             },
             "line": {
              "color": "white"
             }
            },
            "type": "table"
           }
          ]
         },
         "layout": {
          "annotationdefaults": {
           "arrowhead": 0,
           "arrowwidth": 1
          },
          "autotypenumbers": "strict",
          "coloraxis": {
           "colorbar": {
            "outlinewidth": 1,
            "tickcolor": "rgb(36,36,36)",
            "ticks": "outside"
           }
          },
          "colorscale": {
           "diverging": [
            [
             0,
             "rgb(103,0,31)"
            ],
            [
             0.1,
             "rgb(178,24,43)"
            ],
            [
             0.2,
             "rgb(214,96,77)"
            ],
            [
             0.3,
             "rgb(244,165,130)"
            ],
            [
             0.4,
             "rgb(253,219,199)"
            ],
            [
             0.5,
             "rgb(247,247,247)"
            ],
            [
             0.6,
             "rgb(209,229,240)"
            ],
            [
             0.7,
             "rgb(146,197,222)"
            ],
            [
             0.8,
             "rgb(67,147,195)"
            ],
            [
             0.9,
             "rgb(33,102,172)"
            ],
            [
             1,
             "rgb(5,48,97)"
            ]
           ],
           "sequential": [
            [
             0,
             "#440154"
            ],
            [
             0.1111111111111111,
             "#482878"
            ],
            [
             0.2222222222222222,
             "#3e4989"
            ],
            [
             0.3333333333333333,
             "#31688e"
            ],
            [
             0.4444444444444444,
             "#26828e"
            ],
            [
             0.5555555555555556,
             "#1f9e89"
            ],
            [
             0.6666666666666666,
             "#35b779"
            ],
            [
             0.7777777777777778,
             "#6ece58"
            ],
            [
             0.8888888888888888,
             "#b5de2b"
            ],
            [
             1,
             "#fde725"
            ]
           ],
           "sequentialminus": [
            [
             0,
             "#440154"
            ],
            [
             0.1111111111111111,
             "#482878"
            ],
            [
             0.2222222222222222,
             "#3e4989"
            ],
            [
             0.3333333333333333,
             "#31688e"
            ],
            [
             0.4444444444444444,
             "#26828e"
            ],
            [
             0.5555555555555556,
             "#1f9e89"
            ],
            [
             0.6666666666666666,
             "#35b779"
            ],
            [
             0.7777777777777778,
             "#6ece58"
            ],
            [
             0.8888888888888888,
             "#b5de2b"
            ],
            [
             1,
             "#fde725"
            ]
           ]
          },
          "colorway": [
           "#1F77B4",
           "#FF7F0E",
           "#2CA02C",
           "#D62728",
           "#9467BD",
           "#8C564B",
           "#E377C2",
           "#7F7F7F",
           "#BCBD22",
           "#17BECF"
          ],
          "font": {
           "color": "rgb(36,36,36)"
          },
          "geo": {
           "bgcolor": "white",
           "lakecolor": "white",
           "landcolor": "white",
           "showlakes": true,
           "showland": true,
           "subunitcolor": "white"
          },
          "hoverlabel": {
           "align": "left"
          },
          "hovermode": "closest",
          "mapbox": {
           "style": "light"
          },
          "paper_bgcolor": "white",
          "plot_bgcolor": "white",
          "polar": {
           "angularaxis": {
            "gridcolor": "rgb(232,232,232)",
            "linecolor": "rgb(36,36,36)",
            "showgrid": false,
            "showline": true,
            "ticks": "outside"
           },
           "bgcolor": "white",
           "radialaxis": {
            "gridcolor": "rgb(232,232,232)",
            "linecolor": "rgb(36,36,36)",
            "showgrid": false,
            "showline": true,
            "ticks": "outside"
           }
          },
          "scene": {
           "xaxis": {
            "backgroundcolor": "white",
            "gridcolor": "rgb(232,232,232)",
            "gridwidth": 2,
            "linecolor": "rgb(36,36,36)",
            "showbackground": true,
            "showgrid": false,
            "showline": true,
            "ticks": "outside",
            "zeroline": false,
            "zerolinecolor": "rgb(36,36,36)"
           },
           "yaxis": {
            "backgroundcolor": "white",
            "gridcolor": "rgb(232,232,232)",
            "gridwidth": 2,
            "linecolor": "rgb(36,36,36)",
            "showbackground": true,
            "showgrid": false,
            "showline": true,
            "ticks": "outside",
            "zeroline": false,
            "zerolinecolor": "rgb(36,36,36)"
           },
           "zaxis": {
            "backgroundcolor": "white",
            "gridcolor": "rgb(232,232,232)",
            "gridwidth": 2,
            "linecolor": "rgb(36,36,36)",
            "showbackground": true,
            "showgrid": false,
            "showline": true,
            "ticks": "outside",
            "zeroline": false,
            "zerolinecolor": "rgb(36,36,36)"
           }
          },
          "shapedefaults": {
           "fillcolor": "black",
           "line": {
            "width": 0
           },
           "opacity": 0.3
          },
          "ternary": {
           "aaxis": {
            "gridcolor": "rgb(232,232,232)",
            "linecolor": "rgb(36,36,36)",
            "showgrid": false,
            "showline": true,
            "ticks": "outside"
           },
           "baxis": {
            "gridcolor": "rgb(232,232,232)",
            "linecolor": "rgb(36,36,36)",
            "showgrid": false,
            "showline": true,
            "ticks": "outside"
           },
           "bgcolor": "white",
           "caxis": {
            "gridcolor": "rgb(232,232,232)",
            "linecolor": "rgb(36,36,36)",
            "showgrid": false,
            "showline": true,
            "ticks": "outside"
           }
          },
          "title": {
           "x": 0.05
          },
          "xaxis": {
           "automargin": true,
           "gridcolor": "rgb(232,232,232)",
           "linecolor": "rgb(36,36,36)",
           "showgrid": false,
           "showline": true,
           "ticks": "outside",
           "title": {
            "standoff": 15
           },
           "zeroline": false,
           "zerolinecolor": "rgb(36,36,36)"
          },
          "yaxis": {
           "automargin": true,
           "gridcolor": "rgb(232,232,232)",
           "linecolor": "rgb(36,36,36)",
           "showgrid": false,
           "showline": true,
           "ticks": "outside",
           "title": {
            "standoff": 15
           },
           "zeroline": false,
           "zerolinecolor": "rgb(36,36,36)"
          }
         }
        },
        "width": 800,
        "xaxis": {
         "anchor": "y",
         "domain": [
          0,
          1
         ],
         "dtick": 1,
         "title": {
          "text": "No. of rehabilitation beds available"
         }
        },
        "yaxis": {
         "anchor": "x",
         "domain": [
          0,
          1
         ],
         "dtick": 0.1,
         "range": [
          0,
          1
         ],
         "title": {
          "text": "Probability of delay"
         }
        }
       }
      }
     },
     "metadata": {},
     "output_type": "display_data"
    }
   ],
   "source": [
    "plot_delay_prob(base_overall[\"asu\"], unit=\"asu\", file=\"delay_prob_asu.png\")\n",
    "plot_delay_prob(base_overall[\"rehab\"], unit=\"rehab\",\n",
    "                file=\"delay_prob_rehab.png\")"
   ]
  },
  {
   "cell_type": "markdown",
   "metadata": {},
   "source": [
    "## Scenario analysis: altering arrivals\n",
    "\n",
    "### Scenario 1\n",
    "\n",
    "**5% more admissions.** A 5% increase in admissions across all patient subgroups."
   ]
  },
  {
   "cell_type": "code",
   "execution_count": 8,
   "metadata": {},
   "outputs": [
    {
     "name": "stdout",
     "output_type": "stream",
     "text": [
      "{'stroke': 1.14, 'tia': 8.835, 'neuro': 3.42, 'other': 3.04, '_initialised': True}\n",
      "{'stroke': 20.71, 'neuro': 30.115, 'other': 27.17, '_initialised': True}\n"
     ]
    }
   ],
   "source": [
    "def alter_by_5_percent(params_dict):\n",
    "    \"\"\"\n",
    "    Helper function to reduce all attributes of a class by 5%.\n",
    "\n",
    "    Parameters\n",
    "    ----------\n",
    "    params_dict: dict\n",
    "        Dictionary of parameters.\n",
    "    \"\"\"\n",
    "    return {k: v * 0.95 for k, v in params_dict.items() if k != '_initialised'}\n",
    "\n",
    "\n",
    "# Apply 5% increase to inter-arrival parameters\n",
    "s1_param = Param(\n",
    "    asu_arrivals=ASUArrivals(**alter_by_5_percent(vars(ASUArrivals()))),\n",
    "    rehab_arrivals=RehabArrivals(**alter_by_5_percent(vars(RehabArrivals()))),\n",
    "    cores=9\n",
    ")\n",
    "\n",
    "print(vars(s1_param.asu_arrivals))\n",
    "print(vars(s1_param.rehab_arrivals))"
   ]
  },
  {
   "cell_type": "code",
   "execution_count": 9,
   "metadata": {},
   "outputs": [],
   "source": [
    "# Run the model for 150 replications\n",
    "runner = Runner(param=s1_param)\n",
    "s1_reps, s1_overall = runner.run_reps()"
   ]
  },
  {
   "cell_type": "markdown",
   "metadata": {},
   "source": [
    "### Table 2\n",
    "\n",
    "**Table 2** Likelihood of delay. Current admissions versus 5% more admissions.\n",
    "\n",
    "This table presents results from the base case and scenario 1 for acute beds 9-14 and rehab beds 10-16."
   ]
  },
  {
   "cell_type": "code",
   "execution_count": 10,
   "metadata": {},
   "outputs": [],
   "source": [
    "def make_delay_table(\n",
    "        scenario, scenario_name, base=base_overall, base_name=\"current\",\n",
    "        asu_beds=list(range(9,15)), rehab_beds=list(range(10,17))\n",
    "    ):\n",
    "    \"\"\"\n",
    "    Create table with the probability of delay and 1 in n patients delayed,\n",
    "    for the base case and a provided scenario.\n",
    "\n",
    "    Parameters\n",
    "    ----------\n",
    "    scenario: dict\n",
    "        Dictionary containing two dataframes: \"asu\" and \"rehab\". These contain\n",
    "        the overall results from a scenario run of the simulation.\n",
    "    scenario_name: str\n",
    "        Name for scenario to use in table labels.\n",
    "    base: dict\n",
    "        Dictionary containing two dataframes: \"asu\" and \"rehab\". These contain\n",
    "        the overall results from the base case run of the simulation.\n",
    "    base_name: str\n",
    "        Name for base case to use in table labels.\n",
    "    asu_beds: list\n",
    "        List of acute stroke unit (ASU) bed numbers to get results for.\n",
    "    rehab_beds: list\n",
    "        List of rehabilitation unit bed numbers to get results for.\n",
    "    \"\"\"\n",
    "    # Create list to store the ASU and rehab dataframes\n",
    "    tab_full = []\n",
    "\n",
    "    # Loop over ASU and rehab units...\n",
    "    for unit_name, unit_beds in {\"asu\": asu_beds, \"rehab\": rehab_beds}.items():\n",
    "\n",
    "        # Create list to store base case and scenario dataframes\n",
    "        tab_segment = []\n",
    "\n",
    "        # Loop over base case and scenario...\n",
    "        for scenario_name, df in {base_name: base[unit_name],\n",
    "                                  scenario_name: scenario[unit_name]}.items():\n",
    "\n",
    "            # Extract results for specified beds\n",
    "            df = df[df[\"beds\"].isin(unit_beds)][[\"beds\", \"prob_delay\"]]\n",
    "\n",
    "            # Add column with calculation of 1 in every n patients delayed\n",
    "            df[f\"1_in_n_delay_{scenario_name}\"] = (\n",
    "                round(1 / df[\"prob_delay\"])).astype(int)\n",
    "\n",
    "            # Round probability of delay to 2 d.p.\n",
    "            df[\"prob_delay\"] = round(df[\"prob_delay\"], 2)\n",
    "\n",
    "            # Rename column to be specific to scenario\n",
    "            df = df.rename(columns={\n",
    "                \"prob_delay\": f\"prob_delay_{scenario_name}\"})\n",
    "\n",
    "            # Save dataframe to list\n",
    "            tab_segment.append(df)\n",
    "\n",
    "        # Combine into single dataframe\n",
    "        full_df = pd.merge(tab_segment[0], tab_segment[1], on=\"beds\")\n",
    "\n",
    "        # Add column with unit name\n",
    "        full_df.insert(0, \"unit\", unit_name)\n",
    "\n",
    "        # Save dataframe to list\n",
    "        tab_full.append(full_df)\n",
    "\n",
    "    # Combine into a single table\n",
    "    return pd.concat(tab_full).reset_index(drop=True)"
   ]
  },
  {
   "cell_type": "code",
   "execution_count": 11,
   "metadata": {},
   "outputs": [
    {
     "data": {
      "text/html": [
       "<div>\n",
       "<style scoped>\n",
       "    .dataframe tbody tr th:only-of-type {\n",
       "        vertical-align: middle;\n",
       "    }\n",
       "\n",
       "    .dataframe tbody tr th {\n",
       "        vertical-align: top;\n",
       "    }\n",
       "\n",
       "    .dataframe thead th {\n",
       "        text-align: right;\n",
       "    }\n",
       "</style>\n",
       "<table border=\"1\" class=\"dataframe\">\n",
       "  <thead>\n",
       "    <tr style=\"text-align: right;\">\n",
       "      <th></th>\n",
       "      <th>unit</th>\n",
       "      <th>beds</th>\n",
       "      <th>prob_delay_current</th>\n",
       "      <th>1_in_n_delay_current</th>\n",
       "      <th>prob_delay_5%</th>\n",
       "      <th>1_in_n_delay_5%</th>\n",
       "    </tr>\n",
       "  </thead>\n",
       "  <tbody>\n",
       "    <tr>\n",
       "      <th>0</th>\n",
       "      <td>asu</td>\n",
       "      <td>9</td>\n",
       "      <td>0.19</td>\n",
       "      <td>5</td>\n",
       "      <td>0.21</td>\n",
       "      <td>5</td>\n",
       "    </tr>\n",
       "    <tr>\n",
       "      <th>1</th>\n",
       "      <td>asu</td>\n",
       "      <td>10</td>\n",
       "      <td>0.14</td>\n",
       "      <td>7</td>\n",
       "      <td>0.16</td>\n",
       "      <td>6</td>\n",
       "    </tr>\n",
       "    <tr>\n",
       "      <th>2</th>\n",
       "      <td>asu</td>\n",
       "      <td>11</td>\n",
       "      <td>0.09</td>\n",
       "      <td>11</td>\n",
       "      <td>0.11</td>\n",
       "      <td>9</td>\n",
       "    </tr>\n",
       "    <tr>\n",
       "      <th>3</th>\n",
       "      <td>asu</td>\n",
       "      <td>12</td>\n",
       "      <td>0.06</td>\n",
       "      <td>16</td>\n",
       "      <td>0.08</td>\n",
       "      <td>13</td>\n",
       "    </tr>\n",
       "    <tr>\n",
       "      <th>4</th>\n",
       "      <td>asu</td>\n",
       "      <td>13</td>\n",
       "      <td>0.04</td>\n",
       "      <td>26</td>\n",
       "      <td>0.05</td>\n",
       "      <td>20</td>\n",
       "    </tr>\n",
       "    <tr>\n",
       "      <th>5</th>\n",
       "      <td>asu</td>\n",
       "      <td>14</td>\n",
       "      <td>0.02</td>\n",
       "      <td>45</td>\n",
       "      <td>0.03</td>\n",
       "      <td>33</td>\n",
       "    </tr>\n",
       "    <tr>\n",
       "      <th>6</th>\n",
       "      <td>rehab</td>\n",
       "      <td>10</td>\n",
       "      <td>0.20</td>\n",
       "      <td>5</td>\n",
       "      <td>0.23</td>\n",
       "      <td>4</td>\n",
       "    </tr>\n",
       "    <tr>\n",
       "      <th>7</th>\n",
       "      <td>rehab</td>\n",
       "      <td>11</td>\n",
       "      <td>0.15</td>\n",
       "      <td>7</td>\n",
       "      <td>0.18</td>\n",
       "      <td>6</td>\n",
       "    </tr>\n",
       "    <tr>\n",
       "      <th>8</th>\n",
       "      <td>rehab</td>\n",
       "      <td>12</td>\n",
       "      <td>0.11</td>\n",
       "      <td>9</td>\n",
       "      <td>0.13</td>\n",
       "      <td>8</td>\n",
       "    </tr>\n",
       "    <tr>\n",
       "      <th>9</th>\n",
       "      <td>rehab</td>\n",
       "      <td>13</td>\n",
       "      <td>0.08</td>\n",
       "      <td>13</td>\n",
       "      <td>0.09</td>\n",
       "      <td>11</td>\n",
       "    </tr>\n",
       "    <tr>\n",
       "      <th>10</th>\n",
       "      <td>rehab</td>\n",
       "      <td>14</td>\n",
       "      <td>0.05</td>\n",
       "      <td>20</td>\n",
       "      <td>0.06</td>\n",
       "      <td>15</td>\n",
       "    </tr>\n",
       "    <tr>\n",
       "      <th>11</th>\n",
       "      <td>rehab</td>\n",
       "      <td>15</td>\n",
       "      <td>0.03</td>\n",
       "      <td>31</td>\n",
       "      <td>0.04</td>\n",
       "      <td>23</td>\n",
       "    </tr>\n",
       "    <tr>\n",
       "      <th>12</th>\n",
       "      <td>rehab</td>\n",
       "      <td>16</td>\n",
       "      <td>0.02</td>\n",
       "      <td>52</td>\n",
       "      <td>0.03</td>\n",
       "      <td>37</td>\n",
       "    </tr>\n",
       "  </tbody>\n",
       "</table>\n",
       "</div>"
      ],
      "text/plain": [
       "     unit  beds  prob_delay_current  1_in_n_delay_current  prob_delay_5%  \\\n",
       "0     asu     9                0.19                     5           0.21   \n",
       "1     asu    10                0.14                     7           0.16   \n",
       "2     asu    11                0.09                    11           0.11   \n",
       "3     asu    12                0.06                    16           0.08   \n",
       "4     asu    13                0.04                    26           0.05   \n",
       "5     asu    14                0.02                    45           0.03   \n",
       "6   rehab    10                0.20                     5           0.23   \n",
       "7   rehab    11                0.15                     7           0.18   \n",
       "8   rehab    12                0.11                     9           0.13   \n",
       "9   rehab    13                0.08                    13           0.09   \n",
       "10  rehab    14                0.05                    20           0.06   \n",
       "11  rehab    15                0.03                    31           0.04   \n",
       "12  rehab    16                0.02                    52           0.03   \n",
       "\n",
       "    1_in_n_delay_5%  \n",
       "0                 5  \n",
       "1                 6  \n",
       "2                 9  \n",
       "3                13  \n",
       "4                20  \n",
       "5                33  \n",
       "6                 4  \n",
       "7                 6  \n",
       "8                 8  \n",
       "9                11  \n",
       "10               15  \n",
       "11               23  \n",
       "12               37  "
      ]
     },
     "execution_count": 11,
     "metadata": {},
     "output_type": "execute_result"
    }
   ],
   "source": [
    "full_tab2 = make_delay_table(scenario=s1_overall, scenario_name=\"5%\")\n",
    "full_tab2"
   ]
  },
  {
   "cell_type": "markdown",
   "metadata": {},
   "source": [
    "These are some adjustments to how table is presented in article...\n",
    "\n",
    "(hiding / dropping some results)\n",
    "\n",
    "The 1 in n delay columns are **rounded to the nearest whole number**, but python doesn't allow NaN or Inf in an int column, so they provided as floats."
   ]
  },
  {
   "cell_type": "code",
   "execution_count": 12,
   "metadata": {},
   "outputs": [
    {
     "data": {
      "text/html": [
       "<div>\n",
       "<style scoped>\n",
       "    .dataframe tbody tr th:only-of-type {\n",
       "        vertical-align: middle;\n",
       "    }\n",
       "\n",
       "    .dataframe tbody tr th {\n",
       "        vertical-align: top;\n",
       "    }\n",
       "\n",
       "    .dataframe thead th {\n",
       "        text-align: right;\n",
       "    }\n",
       "</style>\n",
       "<table border=\"1\" class=\"dataframe\">\n",
       "  <thead>\n",
       "    <tr style=\"text-align: right;\">\n",
       "      <th></th>\n",
       "      <th>unit</th>\n",
       "      <th>beds</th>\n",
       "      <th>prob_delay_current</th>\n",
       "      <th>1_in_n_delay_current</th>\n",
       "      <th>prob_delay_5%</th>\n",
       "      <th>1_in_n_delay_5%</th>\n",
       "    </tr>\n",
       "  </thead>\n",
       "  <tbody>\n",
       "    <tr>\n",
       "      <th>0</th>\n",
       "      <td>asu</td>\n",
       "      <td>9</td>\n",
       "      <td>0.19</td>\n",
       "      <td>5</td>\n",
       "      <td>NaN</td>\n",
       "      <td>NaN</td>\n",
       "    </tr>\n",
       "    <tr>\n",
       "      <th>1</th>\n",
       "      <td>asu</td>\n",
       "      <td>10</td>\n",
       "      <td>0.14</td>\n",
       "      <td>7</td>\n",
       "      <td>0.16</td>\n",
       "      <td>6.0</td>\n",
       "    </tr>\n",
       "    <tr>\n",
       "      <th>2</th>\n",
       "      <td>asu</td>\n",
       "      <td>11</td>\n",
       "      <td>0.09</td>\n",
       "      <td>11</td>\n",
       "      <td>0.11</td>\n",
       "      <td>9.0</td>\n",
       "    </tr>\n",
       "    <tr>\n",
       "      <th>3</th>\n",
       "      <td>asu</td>\n",
       "      <td>12</td>\n",
       "      <td>0.06</td>\n",
       "      <td>16</td>\n",
       "      <td>0.08</td>\n",
       "      <td>13.0</td>\n",
       "    </tr>\n",
       "    <tr>\n",
       "      <th>4</th>\n",
       "      <td>asu</td>\n",
       "      <td>13</td>\n",
       "      <td>0.04</td>\n",
       "      <td>26</td>\n",
       "      <td>0.05</td>\n",
       "      <td>20.0</td>\n",
       "    </tr>\n",
       "    <tr>\n",
       "      <th>5</th>\n",
       "      <td>asu</td>\n",
       "      <td>14</td>\n",
       "      <td>0.02</td>\n",
       "      <td>45</td>\n",
       "      <td>0.03</td>\n",
       "      <td>33.0</td>\n",
       "    </tr>\n",
       "    <tr>\n",
       "      <th>6</th>\n",
       "      <td>rehab</td>\n",
       "      <td>10</td>\n",
       "      <td>0.20</td>\n",
       "      <td>5</td>\n",
       "      <td>NaN</td>\n",
       "      <td>NaN</td>\n",
       "    </tr>\n",
       "    <tr>\n",
       "      <th>8</th>\n",
       "      <td>rehab</td>\n",
       "      <td>12</td>\n",
       "      <td>0.11</td>\n",
       "      <td>9</td>\n",
       "      <td>0.13</td>\n",
       "      <td>8.0</td>\n",
       "    </tr>\n",
       "    <tr>\n",
       "      <th>9</th>\n",
       "      <td>rehab</td>\n",
       "      <td>13</td>\n",
       "      <td>0.08</td>\n",
       "      <td>13</td>\n",
       "      <td>0.09</td>\n",
       "      <td>11.0</td>\n",
       "    </tr>\n",
       "    <tr>\n",
       "      <th>10</th>\n",
       "      <td>rehab</td>\n",
       "      <td>14</td>\n",
       "      <td>0.05</td>\n",
       "      <td>20</td>\n",
       "      <td>0.06</td>\n",
       "      <td>15.0</td>\n",
       "    </tr>\n",
       "    <tr>\n",
       "      <th>11</th>\n",
       "      <td>rehab</td>\n",
       "      <td>15</td>\n",
       "      <td>0.03</td>\n",
       "      <td>31</td>\n",
       "      <td>0.04</td>\n",
       "      <td>23.0</td>\n",
       "    </tr>\n",
       "    <tr>\n",
       "      <th>12</th>\n",
       "      <td>rehab</td>\n",
       "      <td>16</td>\n",
       "      <td>0.02</td>\n",
       "      <td>52</td>\n",
       "      <td>0.03</td>\n",
       "      <td>37.0</td>\n",
       "    </tr>\n",
       "  </tbody>\n",
       "</table>\n",
       "</div>"
      ],
      "text/plain": [
       "     unit  beds  prob_delay_current  1_in_n_delay_current  prob_delay_5%  \\\n",
       "0     asu     9                0.19                     5            NaN   \n",
       "1     asu    10                0.14                     7           0.16   \n",
       "2     asu    11                0.09                    11           0.11   \n",
       "3     asu    12                0.06                    16           0.08   \n",
       "4     asu    13                0.04                    26           0.05   \n",
       "5     asu    14                0.02                    45           0.03   \n",
       "6   rehab    10                0.20                     5            NaN   \n",
       "8   rehab    12                0.11                     9           0.13   \n",
       "9   rehab    13                0.08                    13           0.09   \n",
       "10  rehab    14                0.05                    20           0.06   \n",
       "11  rehab    15                0.03                    31           0.04   \n",
       "12  rehab    16                0.02                    52           0.03   \n",
       "\n",
       "    1_in_n_delay_5%  \n",
       "0               NaN  \n",
       "1               6.0  \n",
       "2               9.0  \n",
       "3              13.0  \n",
       "4              20.0  \n",
       "5              33.0  \n",
       "6               NaN  \n",
       "8               8.0  \n",
       "9              11.0  \n",
       "10             15.0  \n",
       "11             23.0  \n",
       "12             37.0  "
      ]
     },
     "metadata": {},
     "output_type": "display_data"
    }
   ],
   "source": [
    "adj_full_tab_2 = full_tab2.copy()\n",
    "\n",
    "# Drop the result for ASU beds 9 and rehab beds 10 for the scenario\n",
    "adj_full_tab_2.loc[(adj_full_tab_2[\"unit\"] == \"asu\") &\n",
    "                   (adj_full_tab_2[\"beds\"] == 9),\n",
    "                   [\"prob_delay_5%\", \"1_in_n_delay_5%\"]] = None\n",
    "adj_full_tab_2.loc[(adj_full_tab_2[\"unit\"] == \"rehab\") &\n",
    "                   (adj_full_tab_2[\"beds\"] == 10),\n",
    "                   [\"prob_delay_5%\", \"1_in_n_delay_5%\"]] = None\n",
    "\n",
    "# Drop the result for rehab 11 beds\n",
    "adj_full_tab_2 = adj_full_tab_2[\n",
    "    ~((adj_full_tab_2[\"unit\"] == \"rehab\") & (adj_full_tab_2[\"beds\"] == 11))]\n",
    "\n",
    "# Display and save to csv\n",
    "display(adj_full_tab_2)\n",
    "adj_full_tab_2.to_csv(\n",
    "    os.path.join(OUTPUT_DIR, \"delay_scenario1.csv\"), index=False)"
   ]
  },
  {
   "cell_type": "markdown",
   "metadata": {},
   "source": [
    "### Scenario 4\n",
    "\n",
    "**No complex-neurological cases.** Complex neurological patients are excluded from the pathway in order to assess their impact on bed requirements."
   ]
  },
  {
   "cell_type": "code",
   "execution_count": 13,
   "metadata": {},
   "outputs": [],
   "source": [
    "# Set IAT very high, essentially meaning that we have no neuro arrivals\n",
    "s4_param = Param(\n",
    "    asu_arrivals=ASUArrivals(neuro = 10_000_000_000),\n",
    "    rehab_arrivals=RehabArrivals(neuro=10_000_000_000),\n",
    "    cores=9\n",
    ")"
   ]
  },
  {
   "cell_type": "code",
   "execution_count": 14,
   "metadata": {},
   "outputs": [],
   "source": [
    "# Run the model for 150 replications\n",
    "runner = Runner(param=s4_param)\n",
    "s4_reps, s4_overall = runner.run_reps()"
   ]
  },
  {
   "cell_type": "markdown",
   "metadata": {},
   "source": [
    "### Supplementary table 1\n",
    "\n",
    "**Supplementary Table 1.** Likelihood of delay. Current admissions versus No Complex neurological patients."
   ]
  },
  {
   "cell_type": "code",
   "execution_count": 15,
   "metadata": {},
   "outputs": [
    {
     "data": {
      "text/html": [
       "<div>\n",
       "<style scoped>\n",
       "    .dataframe tbody tr th:only-of-type {\n",
       "        vertical-align: middle;\n",
       "    }\n",
       "\n",
       "    .dataframe tbody tr th {\n",
       "        vertical-align: top;\n",
       "    }\n",
       "\n",
       "    .dataframe thead th {\n",
       "        text-align: right;\n",
       "    }\n",
       "</style>\n",
       "<table border=\"1\" class=\"dataframe\">\n",
       "  <thead>\n",
       "    <tr style=\"text-align: right;\">\n",
       "      <th></th>\n",
       "      <th>unit</th>\n",
       "      <th>beds</th>\n",
       "      <th>prob_delay_current</th>\n",
       "      <th>1_in_n_delay_current</th>\n",
       "      <th>prob_delay_no_complex_neuro</th>\n",
       "      <th>1_in_n_delay_no_complex_neuro</th>\n",
       "    </tr>\n",
       "  </thead>\n",
       "  <tbody>\n",
       "    <tr>\n",
       "      <th>0</th>\n",
       "      <td>asu</td>\n",
       "      <td>10</td>\n",
       "      <td>0.14</td>\n",
       "      <td>7</td>\n",
       "      <td>0.09</td>\n",
       "      <td>11</td>\n",
       "    </tr>\n",
       "    <tr>\n",
       "      <th>1</th>\n",
       "      <td>asu</td>\n",
       "      <td>11</td>\n",
       "      <td>0.09</td>\n",
       "      <td>11</td>\n",
       "      <td>0.06</td>\n",
       "      <td>18</td>\n",
       "    </tr>\n",
       "    <tr>\n",
       "      <th>2</th>\n",
       "      <td>asu</td>\n",
       "      <td>12</td>\n",
       "      <td>0.06</td>\n",
       "      <td>16</td>\n",
       "      <td>0.03</td>\n",
       "      <td>31</td>\n",
       "    </tr>\n",
       "    <tr>\n",
       "      <th>3</th>\n",
       "      <td>asu</td>\n",
       "      <td>13</td>\n",
       "      <td>0.04</td>\n",
       "      <td>26</td>\n",
       "      <td>0.02</td>\n",
       "      <td>55</td>\n",
       "    </tr>\n",
       "    <tr>\n",
       "      <th>4</th>\n",
       "      <td>asu</td>\n",
       "      <td>14</td>\n",
       "      <td>0.02</td>\n",
       "      <td>45</td>\n",
       "      <td>0.01</td>\n",
       "      <td>111</td>\n",
       "    </tr>\n",
       "    <tr>\n",
       "      <th>5</th>\n",
       "      <td>asu</td>\n",
       "      <td>15</td>\n",
       "      <td>0.01</td>\n",
       "      <td>79</td>\n",
       "      <td>0.00</td>\n",
       "      <td>225</td>\n",
       "    </tr>\n",
       "    <tr>\n",
       "      <th>6</th>\n",
       "      <td>rehab</td>\n",
       "      <td>12</td>\n",
       "      <td>0.11</td>\n",
       "      <td>9</td>\n",
       "      <td>0.05</td>\n",
       "      <td>20</td>\n",
       "    </tr>\n",
       "    <tr>\n",
       "      <th>7</th>\n",
       "      <td>rehab</td>\n",
       "      <td>13</td>\n",
       "      <td>0.08</td>\n",
       "      <td>13</td>\n",
       "      <td>0.03</td>\n",
       "      <td>32</td>\n",
       "    </tr>\n",
       "    <tr>\n",
       "      <th>8</th>\n",
       "      <td>rehab</td>\n",
       "      <td>14</td>\n",
       "      <td>0.05</td>\n",
       "      <td>20</td>\n",
       "      <td>0.02</td>\n",
       "      <td>57</td>\n",
       "    </tr>\n",
       "    <tr>\n",
       "      <th>9</th>\n",
       "      <td>rehab</td>\n",
       "      <td>15</td>\n",
       "      <td>0.03</td>\n",
       "      <td>31</td>\n",
       "      <td>0.01</td>\n",
       "      <td>101</td>\n",
       "    </tr>\n",
       "    <tr>\n",
       "      <th>10</th>\n",
       "      <td>rehab</td>\n",
       "      <td>16</td>\n",
       "      <td>0.02</td>\n",
       "      <td>52</td>\n",
       "      <td>0.00</td>\n",
       "      <td>212</td>\n",
       "    </tr>\n",
       "  </tbody>\n",
       "</table>\n",
       "</div>"
      ],
      "text/plain": [
       "     unit  beds  prob_delay_current  1_in_n_delay_current  \\\n",
       "0     asu    10                0.14                     7   \n",
       "1     asu    11                0.09                    11   \n",
       "2     asu    12                0.06                    16   \n",
       "3     asu    13                0.04                    26   \n",
       "4     asu    14                0.02                    45   \n",
       "5     asu    15                0.01                    79   \n",
       "6   rehab    12                0.11                     9   \n",
       "7   rehab    13                0.08                    13   \n",
       "8   rehab    14                0.05                    20   \n",
       "9   rehab    15                0.03                    31   \n",
       "10  rehab    16                0.02                    52   \n",
       "\n",
       "    prob_delay_no_complex_neuro  1_in_n_delay_no_complex_neuro  \n",
       "0                          0.09                             11  \n",
       "1                          0.06                             18  \n",
       "2                          0.03                             31  \n",
       "3                          0.02                             55  \n",
       "4                          0.01                            111  \n",
       "5                          0.00                            225  \n",
       "6                          0.05                             20  \n",
       "7                          0.03                             32  \n",
       "8                          0.02                             57  \n",
       "9                          0.01                            101  \n",
       "10                         0.00                            212  "
      ]
     },
     "metadata": {},
     "output_type": "display_data"
    }
   ],
   "source": [
    "# Make table\n",
    "sup_tab1 = make_delay_table(scenario=s4_overall,\n",
    "                            scenario_name=\"no_complex_neuro\",\n",
    "                            asu_beds=list(range(10,16)),\n",
    "                            rehab_beds=list(range(12,17)))\n",
    "\n",
    "# Display and save to csv\n",
    "display(sup_tab1)\n",
    "sup_tab1.to_csv(os.path.join(OUTPUT_DIR, \"delay_scenario4.csv\"), index=False)"
   ]
  },
  {
   "cell_type": "markdown",
   "metadata": {},
   "source": [
    "## Scenario analysis: pooling beds\n",
    "\n",
    "### Scenario 2\n",
    "\n",
    "Scenario 2: **Pooling of acute and rehab beds.** The acute and rehab wards are co-located at same site. Beds are pooled and can be used by either acute or rehabilitation patients. Pooling of the total bed stock of 22 is compared to the pooling of an increased bed stock of 26."
   ]
  },
  {
   "cell_type": "code",
   "execution_count": 16,
   "metadata": {},
   "outputs": [],
   "source": [
    "pooled_freq = base_overall[\"asu\"][\"freq\"] + base_overall[\"rehab\"][\"freq\"]\n",
    "\n",
    "df = pd.DataFrame(pooled_freq)\n",
    "\n",
    "# Add column with frequencies converted to proportions\n",
    "df[\"pct\"] = df[\"freq\"] / df[\"freq\"].sum()\n",
    "\n",
    "# Add column with the cumulative percentage\n",
    "df[\"c_pct\"] = df[\"pct\"].cumsum()\n",
    "\n",
    "# Calculate the probability of delay\n",
    "df[\"prob_delay\"] = df[\"pct\"] / df[\"c_pct\"]"
   ]
  },
  {
   "cell_type": "code",
   "execution_count": 17,
   "metadata": {},
   "outputs": [
    {
     "data": {
      "text/html": [
       "<div>\n",
       "<style scoped>\n",
       "    .dataframe tbody tr th:only-of-type {\n",
       "        vertical-align: middle;\n",
       "    }\n",
       "\n",
       "    .dataframe tbody tr th {\n",
       "        vertical-align: top;\n",
       "    }\n",
       "\n",
       "    .dataframe thead th {\n",
       "        text-align: right;\n",
       "    }\n",
       "</style>\n",
       "<table border=\"1\" class=\"dataframe\">\n",
       "  <thead>\n",
       "    <tr style=\"text-align: right;\">\n",
       "      <th></th>\n",
       "      <th>freq</th>\n",
       "      <th>pct</th>\n",
       "      <th>c_pct</th>\n",
       "      <th>prob_delay</th>\n",
       "    </tr>\n",
       "  </thead>\n",
       "  <tbody>\n",
       "    <tr>\n",
       "      <th>0</th>\n",
       "      <td>85</td>\n",
       "      <td>0.000155</td>\n",
       "      <td>0.000155</td>\n",
       "      <td>1.000000</td>\n",
       "    </tr>\n",
       "    <tr>\n",
       "      <th>1</th>\n",
       "      <td>685</td>\n",
       "      <td>0.001251</td>\n",
       "      <td>0.001406</td>\n",
       "      <td>0.889610</td>\n",
       "    </tr>\n",
       "    <tr>\n",
       "      <th>2</th>\n",
       "      <td>2725</td>\n",
       "      <td>0.004977</td>\n",
       "      <td>0.006384</td>\n",
       "      <td>0.779685</td>\n",
       "    </tr>\n",
       "    <tr>\n",
       "      <th>3</th>\n",
       "      <td>8284</td>\n",
       "      <td>0.015131</td>\n",
       "      <td>0.021514</td>\n",
       "      <td>0.703286</td>\n",
       "    </tr>\n",
       "    <tr>\n",
       "      <th>4</th>\n",
       "      <td>18259</td>\n",
       "      <td>0.033350</td>\n",
       "      <td>0.054864</td>\n",
       "      <td>0.607863</td>\n",
       "    </tr>\n",
       "    <tr>\n",
       "      <th>5</th>\n",
       "      <td>33119</td>\n",
       "      <td>0.060491</td>\n",
       "      <td>0.115355</td>\n",
       "      <td>0.524392</td>\n",
       "    </tr>\n",
       "    <tr>\n",
       "      <th>6</th>\n",
       "      <td>49632</td>\n",
       "      <td>0.090652</td>\n",
       "      <td>0.206007</td>\n",
       "      <td>0.440043</td>\n",
       "    </tr>\n",
       "    <tr>\n",
       "      <th>7</th>\n",
       "      <td>63488</td>\n",
       "      <td>0.115960</td>\n",
       "      <td>0.321967</td>\n",
       "      <td>0.360160</td>\n",
       "    </tr>\n",
       "    <tr>\n",
       "      <th>8</th>\n",
       "      <td>70825</td>\n",
       "      <td>0.129361</td>\n",
       "      <td>0.451328</td>\n",
       "      <td>0.286623</td>\n",
       "    </tr>\n",
       "    <tr>\n",
       "      <th>9</th>\n",
       "      <td>70328</td>\n",
       "      <td>0.128453</td>\n",
       "      <td>0.579781</td>\n",
       "      <td>0.221554</td>\n",
       "    </tr>\n",
       "    <tr>\n",
       "      <th>10</th>\n",
       "      <td>63452</td>\n",
       "      <td>0.115894</td>\n",
       "      <td>0.695675</td>\n",
       "      <td>0.166592</td>\n",
       "    </tr>\n",
       "    <tr>\n",
       "      <th>11</th>\n",
       "      <td>52102</td>\n",
       "      <td>0.095163</td>\n",
       "      <td>0.790838</td>\n",
       "      <td>0.120332</td>\n",
       "    </tr>\n",
       "    <tr>\n",
       "      <th>12</th>\n",
       "      <td>40090</td>\n",
       "      <td>0.073224</td>\n",
       "      <td>0.864062</td>\n",
       "      <td>0.084744</td>\n",
       "    </tr>\n",
       "    <tr>\n",
       "      <th>13</th>\n",
       "      <td>28720</td>\n",
       "      <td>0.052457</td>\n",
       "      <td>0.916519</td>\n",
       "      <td>0.057235</td>\n",
       "    </tr>\n",
       "    <tr>\n",
       "      <th>14</th>\n",
       "      <td>18923</td>\n",
       "      <td>0.034563</td>\n",
       "      <td>0.951081</td>\n",
       "      <td>0.036340</td>\n",
       "    </tr>\n",
       "    <tr>\n",
       "      <th>15</th>\n",
       "      <td>11917</td>\n",
       "      <td>0.021766</td>\n",
       "      <td>0.972847</td>\n",
       "      <td>0.022374</td>\n",
       "    </tr>\n",
       "    <tr>\n",
       "      <th>16</th>\n",
       "      <td>6945</td>\n",
       "      <td>0.012685</td>\n",
       "      <td>0.985532</td>\n",
       "      <td>0.012871</td>\n",
       "    </tr>\n",
       "    <tr>\n",
       "      <th>17</th>\n",
       "      <td>3933</td>\n",
       "      <td>0.007184</td>\n",
       "      <td>0.992716</td>\n",
       "      <td>0.007236</td>\n",
       "    </tr>\n",
       "    <tr>\n",
       "      <th>18</th>\n",
       "      <td>2095</td>\n",
       "      <td>0.003826</td>\n",
       "      <td>0.996542</td>\n",
       "      <td>0.003840</td>\n",
       "    </tr>\n",
       "    <tr>\n",
       "      <th>19</th>\n",
       "      <td>1028</td>\n",
       "      <td>0.001878</td>\n",
       "      <td>0.998420</td>\n",
       "      <td>0.001881</td>\n",
       "    </tr>\n",
       "    <tr>\n",
       "      <th>20</th>\n",
       "      <td>446</td>\n",
       "      <td>0.000815</td>\n",
       "      <td>0.999235</td>\n",
       "      <td>0.000815</td>\n",
       "    </tr>\n",
       "    <tr>\n",
       "      <th>21</th>\n",
       "      <td>222</td>\n",
       "      <td>0.000405</td>\n",
       "      <td>0.999640</td>\n",
       "      <td>0.000406</td>\n",
       "    </tr>\n",
       "    <tr>\n",
       "      <th>22</th>\n",
       "      <td>112</td>\n",
       "      <td>0.000205</td>\n",
       "      <td>0.999845</td>\n",
       "      <td>0.000205</td>\n",
       "    </tr>\n",
       "    <tr>\n",
       "      <th>23</th>\n",
       "      <td>53</td>\n",
       "      <td>0.000097</td>\n",
       "      <td>0.999942</td>\n",
       "      <td>0.000097</td>\n",
       "    </tr>\n",
       "    <tr>\n",
       "      <th>24</th>\n",
       "      <td>19</td>\n",
       "      <td>0.000035</td>\n",
       "      <td>0.999976</td>\n",
       "      <td>0.000035</td>\n",
       "    </tr>\n",
       "    <tr>\n",
       "      <th>25</th>\n",
       "      <td>6</td>\n",
       "      <td>0.000011</td>\n",
       "      <td>0.999987</td>\n",
       "      <td>0.000011</td>\n",
       "    </tr>\n",
       "    <tr>\n",
       "      <th>26</th>\n",
       "      <td>5</td>\n",
       "      <td>0.000009</td>\n",
       "      <td>0.999996</td>\n",
       "      <td>0.000009</td>\n",
       "    </tr>\n",
       "    <tr>\n",
       "      <th>27</th>\n",
       "      <td>2</td>\n",
       "      <td>0.000004</td>\n",
       "      <td>1.000000</td>\n",
       "      <td>0.000004</td>\n",
       "    </tr>\n",
       "  </tbody>\n",
       "</table>\n",
       "</div>"
      ],
      "text/plain": [
       "     freq       pct     c_pct  prob_delay\n",
       "0      85  0.000155  0.000155    1.000000\n",
       "1     685  0.001251  0.001406    0.889610\n",
       "2    2725  0.004977  0.006384    0.779685\n",
       "3    8284  0.015131  0.021514    0.703286\n",
       "4   18259  0.033350  0.054864    0.607863\n",
       "5   33119  0.060491  0.115355    0.524392\n",
       "6   49632  0.090652  0.206007    0.440043\n",
       "7   63488  0.115960  0.321967    0.360160\n",
       "8   70825  0.129361  0.451328    0.286623\n",
       "9   70328  0.128453  0.579781    0.221554\n",
       "10  63452  0.115894  0.695675    0.166592\n",
       "11  52102  0.095163  0.790838    0.120332\n",
       "12  40090  0.073224  0.864062    0.084744\n",
       "13  28720  0.052457  0.916519    0.057235\n",
       "14  18923  0.034563  0.951081    0.036340\n",
       "15  11917  0.021766  0.972847    0.022374\n",
       "16   6945  0.012685  0.985532    0.012871\n",
       "17   3933  0.007184  0.992716    0.007236\n",
       "18   2095  0.003826  0.996542    0.003840\n",
       "19   1028  0.001878  0.998420    0.001881\n",
       "20    446  0.000815  0.999235    0.000815\n",
       "21    222  0.000405  0.999640    0.000406\n",
       "22    112  0.000205  0.999845    0.000205\n",
       "23     53  0.000097  0.999942    0.000097\n",
       "24     19  0.000035  0.999976    0.000035\n",
       "25      6  0.000011  0.999987    0.000011\n",
       "26      5  0.000009  0.999996    0.000009\n",
       "27      2  0.000004  1.000000    0.000004"
      ]
     },
     "execution_count": 17,
     "metadata": {},
     "output_type": "execute_result"
    }
   ],
   "source": [
    "df"
   ]
  },
  {
   "cell_type": "code",
   "execution_count": 18,
   "metadata": {},
   "outputs": [
    {
     "data": {
      "text/plain": [
       "np.float64(0.0002045979741147027)"
      ]
     },
     "execution_count": 18,
     "metadata": {},
     "output_type": "execute_result"
    }
   ],
   "source": [
    "df.loc[22][\"prob_delay\"]"
   ]
  },
  {
   "cell_type": "code",
   "execution_count": 19,
   "metadata": {},
   "outputs": [
    {
     "data": {
      "text/plain": [
       "np.float64(9.132453451884755e-06)"
      ]
     },
     "execution_count": 19,
     "metadata": {},
     "output_type": "execute_result"
    }
   ],
   "source": [
    "df.loc[26][\"prob_delay\"]"
   ]
  },
  {
   "cell_type": "markdown",
   "metadata": {},
   "source": [
    "### Scenario 3\n",
    "\n",
    "Scenario 3: **Partial pooling of acute and rehab beds.** The acute and rehab wards are co-located at same site. A subset of the 26 beds are pooled and can be used by either acute or rehab patients."
   ]
  },
  {
   "cell_type": "code",
   "execution_count": 20,
   "metadata": {},
   "outputs": [],
   "source": [
    "class PooledDelay:\n",
    "    def __init__(self, base_results):\n",
    "        \"\"\"\n",
    "        Parameters\n",
    "        ----------\n",
    "        base_results: dict\n",
    "            Dictionary containing two dataframes: \"asu\" and \"rehab\". These\n",
    "            contain the overall results from the base run of the simulation.\n",
    "        \"\"\"\n",
    "        # Extract the ASU and rehab frequencies\n",
    "        self.asu = base_results[\"asu\"].set_index(\"beds\")[\"freq\"]\n",
    "        self.rehab = base_results[\"rehab\"].set_index(\"beds\")[\"freq\"]\n",
    "\n",
    "        # To store the bed counts\n",
    "        self.asu_beds = np.nan\n",
    "        self.rehab_beds = np.nan\n",
    "        self.pooled_beds = np.nan\n",
    "\n",
    "    def prob_occupancy(self, occ_freq, threshold, comparison):\n",
    "        \"\"\"\n",
    "        Calculate the probability of an occupancy based on the specified\n",
    "        comparison with a threshold value, using observed frequencies of\n",
    "        different occupancies.\n",
    "\n",
    "        Parameters\n",
    "        ----------\n",
    "        occ_freq : pd.Series\n",
    "            Frequencies of each number of beds, with the index representing the\n",
    "            occupancy.\n",
    "        min_occ : int\n",
    "            The minimum number of beds for which we want to check probability.\n",
    "        threshold : int\n",
    "            The threshold number of beds for comparison.\n",
    "        comparison : str\n",
    "            The type of comparison to perform. Options are: \"ge\" (greater than\n",
    "            or equal to, >=), \"eq\" (equal to, =), or \"lt\" (less than, <).\n",
    "\n",
    "        Returns\n",
    "        -------\n",
    "        float\n",
    "            The probability of an occupancy greater than or equal to min_occ.\n",
    "        \"\"\"\n",
    "        # Calculate total frequency\n",
    "        total_freq = occ_freq.sum()\n",
    "\n",
    "        # Calculate the frequency based on the comparison type\n",
    "        if comparison == \"ge\":\n",
    "            # Greater than or equal to\n",
    "            filtered_freq = occ_freq[occ_freq.index >= threshold].sum()\n",
    "        elif comparison == \"eq\":\n",
    "            # Equal to\n",
    "            filtered_freq = occ_freq[occ_freq.index == threshold].sum()\n",
    "        elif comparison == \"lt\":\n",
    "            # Less than\n",
    "            filtered_freq = occ_freq[occ_freq.index < threshold].sum()\n",
    "\n",
    "        # Calculate and return the probability\n",
    "        return filtered_freq / total_freq\n",
    "\n",
    "    def calculate_only_unit_overflow(self, unit):\n",
    "        \"\"\"\n",
    "        Calculate the probability of only the specified unit having delays.\n",
    "\n",
    "        Parameters\n",
    "        ----------\n",
    "        unit: str\n",
    "            Name of unit to investigate (\"asu\", \"rehab\").\n",
    "        \"\"\"\n",
    "        # Determine name of other unit, depending on which you are focussing on\n",
    "        other_unit = \"rehab\" if unit == \"asu\" else \"asu\"\n",
    "\n",
    "        # Get the counts of available beds for focus unit and other unit\n",
    "        unit_beds = getattr(self, f\"{unit}_beds\")\n",
    "        other_beds = getattr(self, f\"{other_unit}_beds\")\n",
    "\n",
    "        # Only that unit will have delays if they >= dedicated + pooled,\n",
    "        # whilst other unit < dedicated\n",
    "        p_unit = self.prob_occupancy(\n",
    "            occ_freq=getattr(self, unit),\n",
    "            threshold=unit_beds+self.pooled_beds,\n",
    "            comparison=\"ge\"\n",
    "        )\n",
    "        p_other = self.prob_occupancy(\n",
    "            occ_freq=getattr(self, other_unit),\n",
    "            threshold=other_beds,\n",
    "            comparison=\"lt\"\n",
    "        )\n",
    "        return p_unit*p_other\n",
    "\n",
    "    def get_delay_combinations(self, unit):\n",
    "        \"\"\"\n",
    "        Generates a list of dictionaries representing combinations of patients\n",
    "        that would cause delays.\n",
    "\n",
    "        This function calculates all combinations where the number of patients\n",
    "        for a specific unit exceeds its dedicated beds but stays within the\n",
    "        maximum capacity (dedicated + pooled beds).\n",
    "\n",
    "        Parameters\n",
    "        ----------\n",
    "        unit: str\n",
    "            Name of unit to investigate (\"asu\", \"rehab\").\n",
    "\n",
    "        Returns\n",
    "        -------\n",
    "        combinations: list\n",
    "            List of dictionaries containing the asu and rehab bed counts.\n",
    "        \"\"\"\n",
    "        # Determine name of other unit, depending on which you are focussing on\n",
    "        other_unit = \"rehab\" if unit == \"asu\" else \"asu\"\n",
    "\n",
    "        # Get the counts of available beds for focus unit and other unit\n",
    "        unit_beds = getattr(self, f\"{unit}_beds\")\n",
    "        other_beds = getattr(self, f\"{other_unit}_beds\")\n",
    "\n",
    "        # Find max beds for that unit\n",
    "        max_beds = unit_beds + self.pooled_beds\n",
    "\n",
    "        # Get combinations of beds which would cause a delay\n",
    "        combinations = [{unit: i, other_unit: max_beds - i + other_beds}\n",
    "                       for i in range(unit_beds, max_beds + 1)][::-1]\n",
    "\n",
    "        return combinations\n",
    "\n",
    "    def calculate_combination_probability(self, combination):\n",
    "        \"\"\"\n",
    "        Calculate the probability of a set of combinations occurring.\n",
    "\n",
    "        Parameters\n",
    "        ----------\n",
    "        combination: dict\n",
    "            Dictionary with keys \"asu\" and \"rehab\" specifying thresholds.\n",
    "            This must be that output from get_delay_combinations(), which\n",
    "            outputs them in descending order for the unit capacity, which is\n",
    "            important, as the first we check >=, and others ==.\n",
    "\n",
    "        Returns\n",
    "        -------\n",
    "        float\n",
    "            Probability of this combination occurring.\n",
    "        \"\"\"\n",
    "        # List to store results\n",
    "        probabilities = []\n",
    "\n",
    "        # Use a counter to loop through the combinations...\n",
    "        for i, combo in enumerate(combination):\n",
    "\n",
    "            # Extract the primary unit and other unit's name and thresholds\n",
    "            unit_name, other_name = combo.keys()\n",
    "            unit_threshold, other_threshold = combo.values()\n",
    "\n",
    "            # If it's the first combination, then we check unit >= threshold\n",
    "            if i == 0:\n",
    "                p_unit = self.prob_occupancy(\n",
    "                    occ_freq=getattr(self, unit_name),\n",
    "                    threshold=unit_threshold,\n",
    "                    comparison=\"ge\")\n",
    "            # For all other items, we check unit == threshold\n",
    "            else:\n",
    "                p_unit = self.prob_occupancy(\n",
    "                    occ_freq=getattr(self, unit_name),\n",
    "                    threshold=unit_threshold,\n",
    "                    comparison=\"eq\")\n",
    "\n",
    "            # The other unit will always be checking >= threshold\n",
    "            p_other = self.prob_occupancy(\n",
    "                occ_freq=getattr(self, other_name),\n",
    "                threshold=other_threshold,\n",
    "                comparison=\"ge\")\n",
    "\n",
    "            # Multiply probabilities and add to list\n",
    "            probabilities.append(p_unit*p_other)\n",
    "\n",
    "        # Return sum of list\n",
    "        return sum(probabilities)\n",
    "\n",
    "    def calculate_delay(self, asu_beds, rehab_beds, pooled_beds):\n",
    "        \"\"\"\n",
    "        Analyse a bed pooling scenario.\n",
    "\n",
    "        Parameters\n",
    "        ----------\n",
    "        asu_beds: int\n",
    "            Number of dedicated ASU beds (excluding pooled beds).\n",
    "        rehab_beds: int\n",
    "            Number of dedicated rehabilitation beds (excluding pooled beds).\n",
    "        pooled_beds: int\n",
    "            Number of beds that can be used by either unit.\n",
    "        \"\"\"\n",
    "        # Get counts of dedicated and pooled beds\n",
    "        self.asu_beds = asu_beds\n",
    "        self.rehab_beds = rehab_beds\n",
    "        self.pooled_beds = pooled_beds\n",
    "\n",
    "        # Get probability of only the ASU, or only rehab, having delays\n",
    "        p_asu_only = self.calculate_only_unit_overflow(unit=\"asu\")\n",
    "        print(f\"p_asu_only {p_asu_only}\")\n",
    "        p_rehab_only = self.calculate_only_unit_overflow(unit=\"rehab\")\n",
    "        print(f\"p_rehab_only {p_rehab_only}\")\n",
    "\n",
    "        # Find combinations of patients that would cause delays\n",
    "        asu_comb = self.get_delay_combinations(unit=\"asu\")\n",
    "        print(f\"asu combinations: {asu_comb}\")\n",
    "        rehab_comb = self.get_delay_combinations(unit=\"rehab\")\n",
    "        print(f\"rehab combinations: {rehab_comb}\")\n",
    "\n",
    "        # Convert those to probabilities\n",
    "        p_asu_comb = self.calculate_combination_probability(asu_comb)\n",
    "        p_rehab_comb = self.calculate_combination_probability(rehab_comb)\n",
    "\n",
    "        # Combine the only + combination probabilities for each unit\n",
    "        return {\"asu\": p_asu_only + p_asu_comb,\n",
    "                \"rehab\": p_rehab_only + p_rehab_comb}"
   ]
  },
  {
   "cell_type": "code",
   "execution_count": 21,
   "metadata": {},
   "outputs": [],
   "source": [
    "pooled_delay = PooledDelay(base_results=base_overall)"
   ]
  },
  {
   "cell_type": "code",
   "execution_count": 22,
   "metadata": {},
   "outputs": [
    {
     "name": "stdout",
     "output_type": "stream",
     "text": [
      "p_asu_only 0.03366690305206313\n",
      "p_rehab_only 0.10348735694418382\n",
      "asu combinations: [{'asu': 14, 'rehab': 12}, {'asu': 13, 'rehab': 13}, {'asu': 12, 'rehab': 14}]\n",
      "rehab combinations: [{'rehab': 14, 'asu': 12}, {'rehab': 13, 'asu': 13}, {'rehab': 12, 'asu': 14}]\n"
     ]
    },
    {
     "data": {
      "text/plain": [
       "{'asu': np.float64(0.060365052325014074),\n",
       " 'rehab': np.float64(0.13018550621713476)}"
      ]
     },
     "execution_count": 22,
     "metadata": {},
     "output_type": "execute_result"
    }
   ],
   "source": [
    "pooled_delay.calculate_delay(asu_beds=12, rehab_beds=12, pooled_beds=2)"
   ]
  },
  {
   "cell_type": "code",
   "execution_count": 23,
   "metadata": {},
   "outputs": [
    {
     "name": "stdout",
     "output_type": "stream",
     "text": [
      "asu 14 rehab 12 pooled 0\n",
      "p_asu_only 0.03366690305206313\n",
      "p_rehab_only 0.26561941446758824\n",
      "asu combinations: [{'asu': 14, 'rehab': 12}]\n",
      "rehab combinations: [{'rehab': 12, 'asu': 14}]\n",
      "{'asu': np.float64(0.046670319634703195), 'rehab': np.float64(0.2786228310502283)}\n",
      "------------------\n",
      "asu 11 rehab 11 pooled 4\n",
      "p_asu_only 0.01524126873084381\n",
      "p_rehab_only 0.056812888458539226\n",
      "asu combinations: [{'asu': 15, 'rehab': 11}, {'asu': 14, 'rehab': 12}, {'asu': 13, 'rehab': 13}, {'asu': 12, 'rehab': 14}, {'asu': 11, 'rehab': 15}]\n",
      "rehab combinations: [{'rehab': 15, 'asu': 11}, {'rehab': 14, 'asu': 12}, {'rehab': 13, 'asu': 13}, {'rehab': 12, 'asu': 14}, {'rehab': 11, 'asu': 15}]\n",
      "{'asu': np.float64(0.05059883634119389), 'rehab': np.float64(0.0921704560688893)}\n",
      "------------------\n",
      "asu 11 rehab 10 pooled 5\n",
      "p_asu_only 0.006042192428014429\n",
      "p_rehab_only 0.056812888458539226\n",
      "asu combinations: [{'asu': 16, 'rehab': 10}, {'asu': 15, 'rehab': 11}, {'asu': 14, 'rehab': 12}, {'asu': 13, 'rehab': 13}, {'asu': 12, 'rehab': 14}, {'asu': 11, 'rehab': 15}]\n",
      "rehab combinations: [{'rehab': 15, 'asu': 11}, {'rehab': 14, 'asu': 12}, {'rehab': 13, 'asu': 13}, {'rehab': 12, 'asu': 14}, {'rehab': 11, 'asu': 15}, {'rehab': 10, 'asu': 16}]\n",
      "{'asu': np.float64(0.042935678612205756), 'rehab': np.float64(0.09370637464273054)}\n",
      "------------------\n",
      "asu 10 rehab 10 pooled 6\n",
      "p_asu_only 0.006042192428014429\n",
      "p_rehab_only 0.028141824165467778\n",
      "asu combinations: [{'asu': 16, 'rehab': 10}, {'asu': 15, 'rehab': 11}, {'asu': 14, 'rehab': 12}, {'asu': 13, 'rehab': 13}, {'asu': 12, 'rehab': 14}, {'asu': 11, 'rehab': 15}, {'asu': 10, 'rehab': 16}]\n",
      "rehab combinations: [{'rehab': 16, 'asu': 10}, {'rehab': 15, 'asu': 11}, {'rehab': 14, 'asu': 12}, {'rehab': 13, 'asu': 13}, {'rehab': 12, 'asu': 14}, {'rehab': 11, 'asu': 15}, {'rehab': 10, 'asu': 16}]\n",
      "{'asu': np.float64(0.047448536242363594), 'rehab': np.float64(0.06954816797981694)}\n",
      "------------------\n",
      "asu 10 rehab 9 pooled 7\n",
      "p_asu_only 0.0021562354079356144\n",
      "p_rehab_only 0.028141824165467778\n",
      "asu combinations: [{'asu': 17, 'rehab': 9}, {'asu': 16, 'rehab': 10}, {'asu': 15, 'rehab': 11}, {'asu': 14, 'rehab': 12}, {'asu': 13, 'rehab': 13}, {'asu': 12, 'rehab': 14}, {'asu': 11, 'rehab': 15}, {'asu': 10, 'rehab': 16}]\n",
      "rehab combinations: [{'rehab': 16, 'asu': 10}, {'rehab': 15, 'asu': 11}, {'rehab': 14, 'asu': 12}, {'rehab': 13, 'asu': 13}, {'rehab': 12, 'asu': 14}, {'rehab': 11, 'asu': 15}, {'rehab': 10, 'asu': 16}, {'rehab': 9, 'asu': 17}]\n",
      "{'asu': np.float64(0.044322156698984594), 'rehab': np.float64(0.07030774545651676)}\n",
      "------------------\n",
      "asu 9 rehab 9 pooled 8\n",
      "p_asu_only 0.0021562354079356144\n",
      "p_rehab_only 0.012434220724338524\n",
      "asu combinations: [{'asu': 17, 'rehab': 9}, {'asu': 16, 'rehab': 10}, {'asu': 15, 'rehab': 11}, {'asu': 14, 'rehab': 12}, {'asu': 13, 'rehab': 13}, {'asu': 12, 'rehab': 14}, {'asu': 11, 'rehab': 15}, {'asu': 10, 'rehab': 16}, {'asu': 9, 'rehab': 17}]\n",
      "rehab combinations: [{'rehab': 17, 'asu': 9}, {'rehab': 16, 'asu': 10}, {'rehab': 15, 'asu': 11}, {'rehab': 14, 'asu': 12}, {'rehab': 13, 'asu': 13}, {'rehab': 12, 'asu': 14}, {'rehab': 11, 'asu': 15}, {'rehab': 10, 'asu': 16}, {'rehab': 9, 'asu': 17}]\n",
      "{'asu': np.float64(0.047299752048539444), 'rehab': np.float64(0.05757773736494235)}\n",
      "------------------\n",
      "asu 9 rehab 8 pooled 9\n",
      "p_asu_only 0.0006415995930026479\n",
      "p_rehab_only 0.012434220724338524\n",
      "asu combinations: [{'asu': 18, 'rehab': 8}, {'asu': 17, 'rehab': 9}, {'asu': 16, 'rehab': 10}, {'asu': 15, 'rehab': 11}, {'asu': 14, 'rehab': 12}, {'asu': 13, 'rehab': 13}, {'asu': 12, 'rehab': 14}, {'asu': 11, 'rehab': 15}, {'asu': 10, 'rehab': 16}, {'asu': 9, 'rehab': 17}]\n",
      "rehab combinations: [{'rehab': 17, 'asu': 9}, {'rehab': 16, 'asu': 10}, {'rehab': 15, 'asu': 11}, {'rehab': 14, 'asu': 12}, {'rehab': 13, 'asu': 13}, {'rehab': 12, 'asu': 14}, {'rehab': 11, 'asu': 15}, {'rehab': 10, 'asu': 16}, {'rehab': 9, 'asu': 17}, {'rehab': 8, 'asu': 18}]\n",
      "{'asu': np.float64(0.046102869848418514), 'rehab': np.float64(0.05789549097975438)}\n",
      "------------------\n"
     ]
    }
   ],
   "source": [
    "for beds in [(14, 12, 0), (11, 11, 4), (11, 10, 5),\n",
    "             (10, 10, 6), (10, 9, 7), (9, 9, 8), (9, 8, 9)]:\n",
    "    print(f\"asu {beds[0]} rehab {beds[1]} pooled {beds[2]}\")\n",
    "    print(pooled_delay.calculate_delay(\n",
    "        asu_beds=beds[0], rehab_beds=beds[1], pooled_beds=beds[2]))\n",
    "    print(\"------------------\")"
   ]
  },
  {
   "cell_type": "markdown",
   "metadata": {},
   "source": [
    "14 12 0 matches my base overall 14 and 12 (which it should as no pooling basically)\n",
    "\n",
    "11 11 4 matches my manual calculation below for ASU -"
   ]
  },
  {
   "cell_type": "code",
   "execution_count": 24,
   "metadata": {},
   "outputs": [
    {
     "data": {
      "text/plain": [
       "0.024341193866000005"
      ]
     },
     "execution_count": 24,
     "metadata": {},
     "output_type": "execute_result"
    }
   ],
   "source": [
    "(0.012664*(1-0.150691))+(0.012664*0.150691)+(0.022350*0.111069)+(0.038513*0.077523)+(0.061437*0.051057)+(0.094876*0.032383)"
   ]
  }
 ],
 "metadata": {
  "kernelspec": {
   "display_name": "stroke-rap-python",
   "language": "python",
   "name": "python3"
  },
  "language_info": {
   "codemirror_mode": {
    "name": "ipython",
    "version": 3
   },
   "file_extension": ".py",
   "mimetype": "text/x-python",
   "name": "python",
   "nbconvert_exporter": "python",
   "pygments_lexer": "ipython3",
   "version": "3.13.1"
  }
 },
 "nbformat": 4,
 "nbformat_minor": 2
}
