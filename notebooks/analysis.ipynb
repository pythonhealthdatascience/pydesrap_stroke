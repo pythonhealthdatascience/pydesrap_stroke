{
 "cells": [
  {
   "cell_type": "code",
   "execution_count": 1,
   "metadata": {},
   "outputs": [],
   "source": [
    "# pylint: disable=missing-module-docstring\n",
    "%load_ext autoreload\n",
    "%autoreload 1\n",
    "%aimport simulation\n",
    "\n",
    "# pylint: disable=wrong-import-position\n",
    "from simulation.parameters import Param\n",
    "from simulation.model import Model"
   ]
  },
  {
   "cell_type": "code",
   "execution_count": 2,
   "metadata": {},
   "outputs": [
    {
     "name": "stdout",
     "output_type": "stream",
     "text": [
      "Patient 1 (stroke) arrive at ASU: 1.8363299834121842.\n",
      "Patient 1 post-ASU: other\n",
      "Patient 1 LOS on ASU: 2.9630655897183673\n",
      "Patient 2 (stroke) arrive at ASU: 1.9743678169650352.\n",
      "Patient 2 post-ASU: other\n",
      "Patient 2 LOS on ASU: 4.361324607277014\n",
      "Patient 3 (other) arrive at ASU: 2.569934103240965.\n",
      "Patient 3 post-ASU: other\n",
      "Patient 3 LOS on ASU: 0.8239590978048952\n",
      "Patient 4 (stroke) arrive at ASU: 3.38794282930665.\n",
      "Patient 4 post-ASU: other\n",
      "Patient 4 LOS on ASU: 12.076046983310261\n",
      "Patient 5 (other) arrive at ASU: 3.7923395830252455.\n",
      "Patient 5 post-ASU: other\n",
      "Patient 5 LOS on ASU: 1.4868044392912665\n",
      "Patient 6 (other) arrive at ASU: 4.957702796571509.\n",
      "Patient 6 post-ASU: other\n",
      "Patient 6 LOS on ASU: 7.022685444630472\n",
      "Patient 7 (stroke) arrive at ASU: 5.9842644124165965.\n",
      "Patient 7 post-ASU: other\n",
      "Patient 7 LOS on ASU: 5.3055096912326825\n",
      "Patient 8 (stroke) arrive at ASU: 6.445098118218787.\n",
      "Patient 8 post-ASU: other\n",
      "Patient 8 LOS on ASU: 2.1315742708834655\n",
      "Patient 9 (other) arrive at ASU: 6.6520207774300815.\n",
      "Patient 9 post-ASU: other\n",
      "Patient 9 LOS on ASU: 2.066554237727511\n",
      "Patient 10 (stroke) arrive at ASU: 7.043900632615749.\n",
      "Patient 10 post-ASU: other\n",
      "Patient 10 LOS on ASU: 3.9549278442032603\n",
      "Patient 11 (stroke) arrive at ASU: 7.452473171227655.\n",
      "Patient 11 post-ASU: other\n",
      "Patient 11 LOS on ASU: 2.100209372857019\n",
      "Patient 12 (stroke) arrive at ASU: 8.59342618026359.\n",
      "Patient 12 post-ASU: other\n",
      "Patient 12 LOS on ASU: 1.3003393140678121\n",
      "Patient 13 (stroke) arrive at rehab: 8.879197835777973.\n",
      "Patient 13 post-rehab: esd\n",
      "Patient 13 LOS on rehab unit: 18.11123938169066\n",
      "Patient 14 (stroke) arrive at ASU: 9.667940702617951.\n",
      "Patient 14 post-ASU: other\n",
      "Patient 14 LOS on ASU: 1.764710131793008\n",
      "Patient 15 (other) arrive at rehab: 9.80202397507623.\n",
      "Patient 15 post-rehab: other\n",
      "Patient 15 LOS on rehab unit: 6.028109258524047\n",
      "Patient 16 (stroke) arrive at ASU: 9.96129265198861.\n",
      "Patient 16 post-ASU: other\n",
      "Patient 16 LOS on ASU: 1.2817460610130802\n",
      "Patient 17 (stroke) arrive at ASU: 9.97016696680622.\n",
      "Patient 17 post-ASU: other\n",
      "Patient 17 LOS on ASU: 3.1139359923091496\n",
      "Patient 18 (stroke) arrive at ASU: 10.476123075312099.\n",
      "Patient 18 post-ASU: other\n",
      "Patient 18 LOS on ASU: 0.6702433487052382\n",
      "Patient 19 (stroke) arrive at ASU: 11.511320121224648.\n",
      "Patient 19 post-ASU: esd\n",
      "Patient 19 LOS on ASU: 2.0139445864951386\n",
      "Patient 20 (neuro) arrive at ASU: 11.85670004691538.\n",
      "Patient 20 post-ASU: other\n",
      "Patient 20 LOS on ASU: 1.487427118513911\n",
      "Patient 21 (stroke) arrive at ASU: 12.144466902435695.\n",
      "Patient 21 post-ASU: other\n",
      "Patient 21 LOS on ASU: 11.542633259202324\n",
      "Patient 22 (tia) arrive at ASU: 13.470857817085893.\n",
      "Patient 22 post-ASU: other\n",
      "Patient 22 LOS on ASU: 0.2622706653059514\n",
      "Patient 23 (stroke) arrive at ASU: 13.921070694209979.\n",
      "Patient 23 post-ASU: other\n",
      "Patient 23 LOS on ASU: 2.006324241147333\n",
      "Patient 24 (stroke) arrive at ASU: 14.261395167818655.\n",
      "Patient 24 post-ASU: other\n",
      "Patient 24 LOS on ASU: 5.441504049316017\n",
      "Patient 25 (tia) arrive at ASU: 14.37419348578647.\n",
      "Patient 25 post-ASU: other\n",
      "Patient 25 LOS on ASU: 0.9109799311116645\n",
      "Patient 26 (neuro) arrive at ASU: 14.603970704254838.\n",
      "Patient 26 post-ASU: rehab\n",
      "Patient 26 LOS on ASU: 5.896372636551734\n",
      "Patient 27 (other) arrive at ASU: 15.574833616307146.\n",
      "Patient 27 post-ASU: other\n",
      "Patient 27 LOS on ASU: 8.743358812985813\n",
      "Patient 28 (stroke) arrive at ASU: 16.305207341437182.\n",
      "Patient 28 post-ASU: other\n",
      "Patient 28 LOS on ASU: 3.673313750287753\n",
      "Patient 29 (stroke) arrive at ASU: 17.393245485572375.\n",
      "Patient 29 post-ASU: esd\n",
      "Patient 29 LOS on ASU: 19.917316962038825\n",
      "Patient 30 (neuro) arrive at ASU: 19.11249234567026.\n",
      "Patient 30 post-ASU: other\n",
      "Patient 30 LOS on ASU: 1.7948348320627256\n",
      "Patient 31 (neuro) arrive at ASU: 19.9259105341734.\n",
      "Patient 31 post-ASU: esd\n",
      "Patient 31 LOS on ASU: 1.7357106114661192\n"
     ]
    }
   ],
   "source": [
    "model = Model(param=Param(), run_number=0)\n",
    "model.run()"
   ]
  },
  {
   "cell_type": "code",
   "execution_count": 3,
   "metadata": {},
   "outputs": [
    {
     "data": {
      "text/plain": [
       "[{'time': 0, 'asu_occupancy': 0, 'rehab_occupancy': 0},\n",
       " {'time': 1, 'asu_occupancy': 0, 'rehab_occupancy': 0},\n",
       " {'time': 2, 'asu_occupancy': 2, 'rehab_occupancy': 0},\n",
       " {'time': 3, 'asu_occupancy': 3, 'rehab_occupancy': 0},\n",
       " {'time': 4, 'asu_occupancy': 4, 'rehab_occupancy': 0},\n",
       " {'time': 5, 'asu_occupancy': 4, 'rehab_occupancy': 0},\n",
       " {'time': 6, 'asu_occupancy': 4, 'rehab_occupancy': 0},\n",
       " {'time': 7, 'asu_occupancy': 5, 'rehab_occupancy': 0},\n",
       " {'time': 8, 'asu_occupancy': 7, 'rehab_occupancy': 0},\n",
       " {'time': 9, 'asu_occupancy': 6, 'rehab_occupancy': 1},\n",
       " {'time': 10, 'asu_occupancy': 7, 'rehab_occupancy': 2},\n",
       " {'time': 11, 'asu_occupancy': 7, 'rehab_occupancy': 2},\n",
       " {'time': 12, 'asu_occupancy': 4, 'rehab_occupancy': 2},\n",
       " {'time': 13, 'asu_occupancy': 5, 'rehab_occupancy': 2},\n",
       " {'time': 14, 'asu_occupancy': 3, 'rehab_occupancy': 2},\n",
       " {'time': 15, 'asu_occupancy': 6, 'rehab_occupancy': 2},\n",
       " {'time': 16, 'asu_occupancy': 4, 'rehab_occupancy': 1},\n",
       " {'time': 17, 'asu_occupancy': 5, 'rehab_occupancy': 1},\n",
       " {'time': 18, 'asu_occupancy': 6, 'rehab_occupancy': 1},\n",
       " {'time': 19, 'asu_occupancy': 6, 'rehab_occupancy': 1}]"
      ]
     },
     "execution_count": 3,
     "metadata": {},
     "output_type": "execute_result"
    }
   ],
   "source": [
    "model.audit_list"
   ]
  }
 ],
 "metadata": {
  "kernelspec": {
   "display_name": "stroke-rap-python",
   "language": "python",
   "name": "python3"
  },
  "language_info": {
   "codemirror_mode": {
    "name": "ipython",
    "version": 3
   },
   "file_extension": ".py",
   "mimetype": "text/x-python",
   "name": "python",
   "nbconvert_exporter": "python",
   "pygments_lexer": "ipython3",
   "version": "3.13.1"
  }
 },
 "nbformat": 4,
 "nbformat_minor": 2
}
