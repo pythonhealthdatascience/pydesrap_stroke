{
 "cells": [
  {
   "cell_type": "code",
   "execution_count": 1,
   "metadata": {},
   "outputs": [],
   "source": [
    "# pylint: disable=missing-module-docstring\n",
    "%load_ext autoreload\n",
    "%autoreload 1\n",
    "%aimport simulation\n",
    "\n",
    "# pylint: disable=wrong-import-position\n",
    "from simulation.parameters import Param\n",
    "from simulation.model import Model"
   ]
  },
  {
   "cell_type": "code",
   "execution_count": 2,
   "metadata": {},
   "outputs": [
    {
     "name": "stdout",
     "output_type": "stream",
     "text": [
      "Patient 1 (stroke) arrive at ASU: 1.8363299834121842.\n",
      "Patient 1 post-ASU: other\n",
      "Patient 1 LOS on ASU: 2.9630655897183673\n",
      "Patient 2 (stroke) arrive at ASU: 1.9743678169650352.\n",
      "Patient 2 post-ASU: other\n",
      "Patient 2 LOS on ASU: 4.361324607277014\n",
      "Patient 3 (other) arrive at ASU: 2.569934103240965.\n",
      "Patient 3 post-ASU: other\n",
      "Patient 3 LOS on ASU: 0.8239590978048952\n",
      "Patient 4 (stroke) arrive at ASU: 3.38794282930665.\n",
      "Patient 4 post-ASU: other\n",
      "Patient 4 LOS on ASU: 12.076046983310261\n",
      "Patient 5 (other) arrive at ASU: 3.7923395830252455.\n",
      "Patient 5 post-ASU: other\n",
      "Patient 5 LOS on ASU: 1.4868044392912665\n",
      "Patient 6 (other) arrive at ASU: 4.957702796571509.\n",
      "Patient 6 post-ASU: other\n",
      "Patient 6 LOS on ASU: 7.022685444630472\n",
      "Patient 7 (stroke) arrive at ASU: 5.9842644124165965.\n",
      "Patient 7 post-ASU: other\n",
      "Patient 7 LOS on ASU: 5.3055096912326825\n",
      "Patient 8 (stroke) arrive at ASU: 6.445098118218787.\n",
      "Patient 8 post-ASU: other\n",
      "Patient 8 LOS on ASU: 2.1315742708834655\n",
      "Patient 9 (other) arrive at ASU: 6.6520207774300815.\n",
      "Patient 9 post-ASU: other\n",
      "Patient 9 LOS on ASU: 2.066554237727511\n",
      "Patient 10 (stroke) arrive at ASU: 7.043900632615749.\n",
      "Patient 10 post-ASU: other\n",
      "Patient 10 LOS on ASU: 3.9549278442032603\n",
      "Patient 11 (stroke) arrive at ASU: 7.452473171227655.\n",
      "Patient 11 post-ASU: other\n",
      "Patient 11 LOS on ASU: 2.100209372857019\n",
      "Patient 12 (stroke) arrive at ASU: 8.59342618026359.\n",
      "Patient 12 post-ASU: other\n",
      "Patient 12 LOS on ASU: 1.3003393140678121\n",
      "Patient 13 (stroke) arrive at rehab: 8.879197835777973.\n",
      "Patient 13 post-rehab: esd\n",
      "Patient 13 LOS on rehab unit: 18.11123938169066\n",
      "Patient 14 (stroke) arrive at ASU: 9.667940702617951.\n",
      "Patient 14 post-ASU: other\n",
      "Patient 14 LOS on ASU: 1.764710131793008\n",
      "Patient 15 (other) arrive at rehab: 9.80202397507623.\n",
      "Patient 15 post-rehab: other\n",
      "Patient 15 LOS on rehab unit: 6.028109258524047\n",
      "Patient 16 (stroke) arrive at ASU: 9.96129265198861.\n",
      "Patient 16 post-ASU: other\n",
      "Patient 16 LOS on ASU: 1.2817460610130802\n",
      "Patient 17 (stroke) arrive at ASU: 9.97016696680622.\n",
      "Patient 17 post-ASU: other\n",
      "Patient 17 LOS on ASU: 3.1139359923091496\n",
      "Patient 18 (stroke) arrive at ASU: 10.476123075312099.\n",
      "Patient 18 post-ASU: other\n",
      "Patient 18 LOS on ASU: 0.6702433487052382\n",
      "Patient 19 (stroke) arrive at ASU: 11.511320121224648.\n",
      "Patient 19 post-ASU: esd\n",
      "Patient 19 LOS on ASU: 2.0139445864951386\n",
      "Patient 20 (neuro) arrive at ASU: 11.85670004691538.\n",
      "Patient 20 post-ASU: other\n",
      "Patient 20 LOS on ASU: 1.487427118513911\n",
      "Patient 21 (stroke) arrive at ASU: 12.144466902435695.\n",
      "Patient 21 post-ASU: other\n",
      "Patient 21 LOS on ASU: 11.542633259202324\n",
      "Patient 22 (tia) arrive at ASU: 13.470857817085893.\n",
      "Patient 22 post-ASU: other\n",
      "Patient 22 LOS on ASU: 0.2622706653059514\n",
      "Patient 23 (stroke) arrive at ASU: 13.921070694209979.\n",
      "Patient 23 post-ASU: other\n",
      "Patient 23 LOS on ASU: 2.006324241147333\n",
      "Patient 24 (stroke) arrive at ASU: 14.261395167818655.\n",
      "Patient 24 post-ASU: other\n",
      "Patient 24 LOS on ASU: 5.441504049316017\n",
      "Patient 25 (tia) arrive at ASU: 14.37419348578647.\n",
      "Patient 25 post-ASU: other\n",
      "Patient 25 LOS on ASU: 0.9109799311116645\n",
      "Patient 26 (neuro) arrive at ASU: 14.603970704254838.\n",
      "Patient 26 post-ASU: rehab\n",
      "Patient 26 LOS on ASU: 5.896372636551734\n",
      "Patient 27 (other) arrive at ASU: 15.574833616307146.\n",
      "Patient 27 post-ASU: other\n",
      "Patient 27 LOS on ASU: 8.743358812985813\n",
      "Patient 28 (stroke) arrive at ASU: 16.305207341437182.\n",
      "Patient 28 post-ASU: other\n",
      "Patient 28 LOS on ASU: 3.673313750287753\n",
      "Patient 29 (stroke) arrive at ASU: 17.393245485572375.\n",
      "Patient 29 post-ASU: esd\n",
      "Patient 29 LOS on ASU: 19.917316962038825\n",
      "Patient 30 (neuro) arrive at ASU: 19.11249234567026.\n",
      "Patient 30 post-ASU: other\n",
      "Patient 30 LOS on ASU: 1.7948348320627256\n",
      "Patient 31 (neuro) arrive at ASU: 19.9259105341734.\n",
      "Patient 31 post-ASU: esd\n",
      "Patient 31 LOS on ASU: 1.7357106114661192\n"
     ]
    }
   ],
   "source": [
    "model = Model(param=Param(), run_number=0)\n",
    "model.run()"
   ]
  },
  {
   "cell_type": "code",
   "execution_count": 3,
   "metadata": {},
   "outputs": [
    {
     "data": {
      "text/plain": [
       "{'patient_id': 1,\n",
       " 'patient_type': 'stroke',\n",
       " 'asu_arrival_time': 1.8363299834121842,\n",
       " 'post_asu_destination': 'other',\n",
       " 'asu_los': 2.9630655897183673,\n",
       " 'rehab_arrival_time': nan,\n",
       " 'post_rehab_destination': nan,\n",
       " 'rehab_los': nan}"
      ]
     },
     "execution_count": 3,
     "metadata": {},
     "output_type": "execute_result"
    }
   ],
   "source": [
    "vars(model.patients[0])"
   ]
  },
  {
   "cell_type": "code",
   "execution_count": 4,
   "metadata": {},
   "outputs": [
    {
     "data": {
      "text/plain": [
       "{'patient_id': 13,\n",
       " 'patient_type': 'stroke',\n",
       " 'asu_arrival_time': nan,\n",
       " 'post_asu_destination': nan,\n",
       " 'asu_los': nan,\n",
       " 'rehab_arrival_time': 8.879197835777973,\n",
       " 'post_rehab_destination': 'esd',\n",
       " 'rehab_los': 18.11123938169066}"
      ]
     },
     "execution_count": 4,
     "metadata": {},
     "output_type": "execute_result"
    }
   ],
   "source": [
    "vars(model.patients[12])"
   ]
  },
  {
   "cell_type": "code",
   "execution_count": 5,
   "metadata": {},
   "outputs": [
    {
     "data": {
      "text/plain": [
       "{'patient_id': 26,\n",
       " 'patient_type': 'neuro',\n",
       " 'asu_arrival_time': 14.603970704254838,\n",
       " 'post_asu_destination': 'rehab',\n",
       " 'asu_los': 5.896372636551734,\n",
       " 'rehab_arrival_time': nan,\n",
       " 'post_rehab_destination': nan,\n",
       " 'rehab_los': nan}"
      ]
     },
     "execution_count": 5,
     "metadata": {},
     "output_type": "execute_result"
    }
   ],
   "source": [
    "vars(model.patients[25])"
   ]
  },
  {
   "cell_type": "markdown",
   "metadata": {},
   "source": [
    "Patient rehab details are np.nan as simulation ends before transfer - as can see if run for longer..."
   ]
  },
  {
   "cell_type": "code",
   "execution_count": 6,
   "metadata": {},
   "outputs": [
    {
     "name": "stdout",
     "output_type": "stream",
     "text": [
      "Patient 1 (stroke) arrive at ASU: 1.8363299834121842.\n",
      "Patient 1 post-ASU: other\n",
      "Patient 1 LOS on ASU: 2.9630655897183673\n",
      "Patient 2 (stroke) arrive at ASU: 1.9743678169650352.\n",
      "Patient 2 post-ASU: other\n",
      "Patient 2 LOS on ASU: 4.361324607277014\n",
      "Patient 3 (other) arrive at ASU: 2.569934103240965.\n",
      "Patient 3 post-ASU: other\n",
      "Patient 3 LOS on ASU: 0.8239590978048952\n",
      "Patient 4 (stroke) arrive at ASU: 3.38794282930665.\n",
      "Patient 4 post-ASU: other\n",
      "Patient 4 LOS on ASU: 12.076046983310261\n",
      "Patient 5 (other) arrive at ASU: 3.7923395830252455.\n",
      "Patient 5 post-ASU: other\n",
      "Patient 5 LOS on ASU: 1.4868044392912665\n",
      "Patient 6 (other) arrive at ASU: 4.957702796571509.\n",
      "Patient 6 post-ASU: other\n",
      "Patient 6 LOS on ASU: 7.022685444630472\n",
      "Patient 7 (stroke) arrive at ASU: 5.9842644124165965.\n",
      "Patient 7 post-ASU: other\n",
      "Patient 7 LOS on ASU: 5.3055096912326825\n",
      "Patient 8 (stroke) arrive at ASU: 6.445098118218787.\n",
      "Patient 8 post-ASU: other\n",
      "Patient 8 LOS on ASU: 2.1315742708834655\n",
      "Patient 9 (other) arrive at ASU: 6.6520207774300815.\n",
      "Patient 9 post-ASU: other\n",
      "Patient 9 LOS on ASU: 2.066554237727511\n",
      "Patient 10 (stroke) arrive at ASU: 7.043900632615749.\n",
      "Patient 10 post-ASU: other\n",
      "Patient 10 LOS on ASU: 3.9549278442032603\n",
      "Patient 11 (stroke) arrive at ASU: 7.452473171227655.\n",
      "Patient 11 post-ASU: other\n",
      "Patient 11 LOS on ASU: 2.100209372857019\n",
      "Patient 12 (stroke) arrive at ASU: 8.59342618026359.\n",
      "Patient 12 post-ASU: other\n",
      "Patient 12 LOS on ASU: 1.3003393140678121\n",
      "Patient 13 (stroke) arrive at rehab: 8.879197835777973.\n",
      "Patient 13 post-rehab: esd\n",
      "Patient 13 LOS on rehab unit: 18.11123938169066\n",
      "Patient 14 (stroke) arrive at ASU: 9.667940702617951.\n",
      "Patient 14 post-ASU: other\n",
      "Patient 14 LOS on ASU: 1.764710131793008\n",
      "Patient 15 (other) arrive at rehab: 9.80202397507623.\n",
      "Patient 15 post-rehab: other\n",
      "Patient 15 LOS on rehab unit: 6.028109258524047\n",
      "Patient 16 (stroke) arrive at ASU: 9.96129265198861.\n",
      "Patient 16 post-ASU: other\n",
      "Patient 16 LOS on ASU: 1.2817460610130802\n",
      "Patient 17 (stroke) arrive at ASU: 9.97016696680622.\n",
      "Patient 17 post-ASU: other\n",
      "Patient 17 LOS on ASU: 3.1139359923091496\n",
      "Patient 18 (stroke) arrive at ASU: 10.476123075312099.\n",
      "Patient 18 post-ASU: other\n",
      "Patient 18 LOS on ASU: 0.6702433487052382\n",
      "Patient 19 (stroke) arrive at ASU: 11.511320121224648.\n",
      "Patient 19 post-ASU: esd\n",
      "Patient 19 LOS on ASU: 2.0139445864951386\n",
      "Patient 20 (neuro) arrive at ASU: 11.85670004691538.\n",
      "Patient 20 post-ASU: other\n",
      "Patient 20 LOS on ASU: 1.487427118513911\n",
      "Patient 21 (stroke) arrive at ASU: 12.144466902435695.\n",
      "Patient 21 post-ASU: other\n",
      "Patient 21 LOS on ASU: 11.542633259202324\n",
      "Patient 22 (tia) arrive at ASU: 13.470857817085893.\n",
      "Patient 22 post-ASU: other\n",
      "Patient 22 LOS on ASU: 0.2622706653059514\n",
      "Patient 23 (stroke) arrive at ASU: 13.921070694209979.\n",
      "Patient 23 post-ASU: other\n",
      "Patient 23 LOS on ASU: 2.006324241147333\n",
      "Patient 24 (stroke) arrive at ASU: 14.261395167818655.\n",
      "Patient 24 post-ASU: other\n",
      "Patient 24 LOS on ASU: 5.441504049316017\n",
      "Patient 25 (tia) arrive at ASU: 14.37419348578647.\n",
      "Patient 25 post-ASU: other\n",
      "Patient 25 LOS on ASU: 0.9109799311116645\n",
      "Patient 26 (neuro) arrive at ASU: 14.603970704254838.\n",
      "Patient 26 post-ASU: rehab\n",
      "Patient 26 LOS on ASU: 5.896372636551734\n",
      "Patient 27 (other) arrive at ASU: 15.574833616307146.\n",
      "Patient 27 post-ASU: other\n",
      "Patient 27 LOS on ASU: 8.743358812985813\n",
      "Patient 28 (stroke) arrive at ASU: 16.305207341437182.\n",
      "Patient 28 post-ASU: other\n",
      "Patient 28 LOS on ASU: 3.673313750287753\n",
      "Patient 29 (stroke) arrive at ASU: 17.393245485572375.\n",
      "Patient 29 post-ASU: esd\n",
      "Patient 29 LOS on ASU: 19.917316962038825\n",
      "Patient 30 (neuro) arrive at ASU: 19.11249234567026.\n",
      "Patient 30 post-ASU: other\n",
      "Patient 30 LOS on ASU: 1.7948348320627256\n",
      "Patient 31 (neuro) arrive at ASU: 19.9259105341734.\n",
      "Patient 31 post-ASU: esd\n",
      "Patient 31 LOS on ASU: 1.7357106114661192\n",
      "Patient 26 (neuro) arrive at rehab: 20.500343340806573.\n",
      "Patient 26 post-rehab: other\n",
      "Patient 26 LOS on rehab unit: 17.657486819177436\n",
      "Patient 32 (neuro) arrive at ASU: 20.720592680957566.\n",
      "Patient 32 post-ASU: other\n",
      "Patient 32 LOS on ASU: 4.808857678935738\n",
      "Patient 33 (other) arrive at ASU: 21.850135041659534.\n",
      "Patient 33 post-ASU: other\n",
      "Patient 33 LOS on ASU: 0.532229377778856\n",
      "Patient 34 (stroke) arrive at ASU: 22.64954932184535.\n",
      "Patient 34 post-ASU: other\n",
      "Patient 34 LOS on ASU: 2.3875661586673447\n",
      "Patient 35 (stroke) arrive at ASU: 22.881037278428998.\n",
      "Patient 35 post-ASU: other\n",
      "Patient 35 LOS on ASU: 1.6413823454543968\n",
      "Patient 36 (stroke) arrive at ASU: 23.231623477347885.\n",
      "Patient 36 post-ASU: rehab\n",
      "Patient 36 LOS on ASU: 3.226462090789489\n",
      "Patient 37 (stroke) arrive at ASU: 23.26536757231082.\n",
      "Patient 37 post-ASU: other\n",
      "Patient 37 LOS on ASU: 0.8908077514539886\n",
      "Patient 38 (stroke) arrive at ASU: 24.033650798246246.\n",
      "Patient 38 post-ASU: rehab\n",
      "Patient 38 LOS on ASU: 6.804098316174472\n",
      "Patient 39 (other) arrive at ASU: 24.8868509718697.\n",
      "Patient 39 post-ASU: other\n",
      "Patient 39 LOS on ASU: 18.488846655332583\n"
     ]
    },
    {
     "data": {
      "text/plain": [
       "{'patient_id': 26,\n",
       " 'patient_type': 'neuro',\n",
       " 'asu_arrival_time': 14.603970704254838,\n",
       " 'post_asu_destination': 'rehab',\n",
       " 'asu_los': 5.896372636551734,\n",
       " 'rehab_arrival_time': 20.500343340806573,\n",
       " 'post_rehab_destination': 'other',\n",
       " 'rehab_los': 17.657486819177436}"
      ]
     },
     "execution_count": 6,
     "metadata": {},
     "output_type": "execute_result"
    }
   ],
   "source": [
    "param = Param(data_collection_period=25)\n",
    "model = Model(param=param, run_number=0)\n",
    "model.run()\n",
    "vars(model.patients[25])"
   ]
  }
 ],
 "metadata": {
  "kernelspec": {
   "display_name": "stroke-rap-python",
   "language": "python",
   "name": "python3"
  },
  "language_info": {
   "codemirror_mode": {
    "name": "ipython",
    "version": 3
   },
   "file_extension": ".py",
   "mimetype": "text/x-python",
   "name": "python",
   "nbconvert_exporter": "python",
   "pygments_lexer": "ipython3",
   "version": "3.13.1"
  }
 },
 "nbformat": 4,
 "nbformat_minor": 2
}
